{
 "cells": [
  {
   "cell_type": "code",
   "execution_count": null,
   "metadata": {},
   "outputs": [],
   "source": [
    "import matplotlib.pyplot as plt\n",
    "import numpy as np"
   ]
  },
  {
   "cell_type": "code",
   "execution_count": null,
   "metadata": {},
   "outputs": [],
   "source": [
    "# Data\n",
    "x = [1, 2, 3, 4, 5]\n",
    "y = [2, 4, 6, 8, 10]"
   ]
  },
  {
   "cell_type": "code",
   "execution_count": null,
   "metadata": {},
   "outputs": [],
   "source": [
    "# Create a line plot\n",
    "plt.title(\"Line Plot\")\n",
    "plt.xlabel(\"X-axis\")\n",
    "plt.ylabel(\"Y-axis\")\n",
    "\n",
    "plt.plot(x, y)\n",
    "\n",
    "plt.show()"
   ]
  },
  {
   "cell_type": "code",
   "execution_count": null,
   "metadata": {},
   "outputs": [],
   "source": [
    "# Data\n",
    "categories = ['A', 'B', 'C', 'D']\n",
    "values = [20, 35, 30, 25]"
   ]
  },
  {
   "cell_type": "code",
   "execution_count": null,
   "metadata": {},
   "outputs": [],
   "source": [
    "# Create a bar chart\n",
    "plt.bar(categories, values)\n",
    "\n",
    "# Customize the plot\n",
    "plt.title(\"Bar Chart\")\n",
    "plt.xlabel(\"Categories\")\n",
    "plt.ylabel(\"Values\")\n",
    "\n",
    "# Display the plot\n",
    "plt.show()"
   ]
  },
  {
   "cell_type": "code",
   "execution_count": null,
   "metadata": {},
   "outputs": [],
   "source": [
    "\n",
    "# Create a pie chart\n",
    "plt.pie(values, labels=categories, autopct='%1.1f%%')\n",
    "\n",
    "# Customize the plot\n",
    "plt.title(\"Pie Chart\")\n",
    "\n",
    "# Display the plot\n",
    "plt.show()"
   ]
  },
  {
   "cell_type": "code",
   "execution_count": null,
   "metadata": {},
   "outputs": [],
   "source": [
    "# Create a scatter plot\n",
    "plt.scatter(x, y)\n",
    "\n",
    "# Customize the plot\n",
    "plt.title(\"Scatter Plot\")\n",
    "plt.xlabel(\"X-axis\")\n",
    "plt.ylabel(\"Y-axis\")\n",
    "\n",
    "# Display the plot\n",
    "plt.show()"
   ]
  },
  {
   "cell_type": "code",
   "execution_count": null,
   "metadata": {},
   "outputs": [],
   "source": [
    "# Generate random data\n",
    "np.random.seed(42)\n",
    "data = np.random.normal(0, 1, 1000)\n",
    "\n",
    "# Create a histogram\n",
    "plt.hist(data, bins=30)\n",
    "\n",
    "# Customize the plot\n",
    "plt.title(\"Histogram\")\n",
    "plt.xlabel(\"Values\")\n",
    "plt.ylabel(\"Frequency\")\n",
    "\n",
    "# Display the plot\n",
    "plt.show()"
   ]
  },
  {
   "cell_type": "code",
   "execution_count": null,
   "metadata": {},
   "outputs": [],
   "source": [
    "\n",
    "# Generate data\n",
    "x = np.linspace(-5, 5, 100)\n",
    "y = np.linspace(-5, 5, 100)\n",
    "X, Y = np.meshgrid(x, y)\n",
    "Z = np.sin(np.sqrt(X**2 + Y**2))\n",
    "\n",
    "# Create a 3D surface plot\n",
    "fig = plt.figure()\n",
    "ax = fig.add_subplot(111, projection='3d')\n",
    "ax.plot_surface(X, Y, Z, cmap='viridis')\n",
    "\n",
    "# Customize the plot\n",
    "ax.set_title(\"3D Surface Plot\")\n",
    "ax.set_xlabel(\"X-axis\")\n",
    "ax.set_ylabel(\"Y-axis\")\n",
    "ax.set_zlabel(\"Z-axis\")\n",
    "\n",
    "# Display the plot\n",
    "plt.show()"
   ]
  },
  {
   "cell_type": "code",
   "execution_count": null,
   "metadata": {},
   "outputs": [],
   "source": [
    "# Generate random data\n",
    "np.random.seed(42)\n",
    "data = [np.random.normal(0, std, 100) for std in range(1, 5)]\n",
    "\n",
    "# Create a box plot\n",
    "plt.boxplot(data)\n",
    "\n",
    "# Customize the plot\n",
    "plt.title(\"Box Plot\")\n",
    "plt.xlabel(\"Data\")\n",
    "plt.ylabel(\"Value\")\n",
    "\n",
    "# Display the plot\n",
    "plt.show()"
   ]
  },
  {
   "cell_type": "code",
   "execution_count": null,
   "metadata": {},
   "outputs": [],
   "source": [
    "\n",
    "# Generate random data\n",
    "np.random.seed(42)\n",
    "data = np.random.rand(10, 10)\n",
    "\n",
    "# Create a heatmap\n",
    "plt.imshow(data, cmap='hot', interpolation='nearest')\n",
    "\n",
    "# Add colorbar\n",
    "plt.colorbar()\n",
    "\n",
    "# Customize the plot\n",
    "plt.title(\"Heatmap\")\n",
    "\n",
    "# Display the plot\n",
    "plt.show()"
   ]
  },
  {
   "cell_type": "code",
   "execution_count": null,
   "metadata": {},
   "outputs": [],
   "source": [
    "# Generate data\n",
    "theta = np.linspace(0, 2 * np.pi, 100)\n",
    "r = np.sin(3 * theta)\n",
    "\n",
    "# Create a polar plot\n",
    "ax = plt.subplot(111, polar=True)\n",
    "ax.plot(theta, r)\n",
    "\n",
    "# Customize the plot\n",
    "ax.set_title(\"Polar Plot\")\n",
    "\n",
    "# Display the plot\n",
    "plt.show()\n"
   ]
  },
  {
   "cell_type": "code",
   "execution_count": null,
   "metadata": {},
   "outputs": [],
   "source": [
    "\n",
    "# Generate data\n",
    "x = np.linspace(0, 10, 100)\n",
    "y1 = np.sin(x)\n",
    "y2 = np.cos(x)\n",
    "\n",
    "# Create subplots\n",
    "fig, (ax1, ax2) = plt.subplots(2, 1)\n",
    "\n",
    "# Plot data on subplots\n",
    "ax1.plot(x, y1)\n",
    "ax1.set_ylabel('Sin(x)')\n",
    "ax2.plot(x, y2)\n",
    "ax2.set_xlabel('x')\n",
    "ax2.set_ylabel('Cos(x)')\n",
    "\n",
    "# Customize the plot\n",
    "fig.suptitle('Subplots')\n",
    "\n",
    "# Adjust spacing between subplots\n",
    "fig.tight_layout()\n",
    "\n",
    "# Display the plot\n",
    "plt.show()"
   ]
  },
  {
   "cell_type": "code",
   "execution_count": null,
   "metadata": {},
   "outputs": [],
   "source": [
    "\n",
    "# Data for line plot\n",
    "x = np.linspace(0, 10, 100)\n",
    "y = np.sin(x)\n",
    "\n",
    "# Data for histogram\n",
    "data = np.random.normal(0, 1, 1000)\n",
    "\n",
    "# Create a figure with two subplots\n",
    "fig, (ax1, ax2) = plt.subplots(2, 1, sharex=True)\n",
    "\n",
    "# Plot the line plot\n",
    "ax1.plot(x, y, color='blue')\n",
    "ax1.set_ylabel('Line Plot')\n",
    "\n",
    "# Plot the histogram\n",
    "ax2.hist(data, bins=30, color='red')\n",
    "ax2.set_xlabel('Values')\n",
    "ax2.set_ylabel('Histogram')\n",
    "\n",
    "# Customize the plot\n",
    "fig.suptitle('Line Plot and Histogram')\n",
    "\n",
    "# Adjust spacing between subplots\n",
    "fig.tight_layout()\n",
    "\n",
    "# Display the plot\n",
    "plt.show()"
   ]
  },
  {
   "cell_type": "code",
   "execution_count": null,
   "metadata": {},
   "outputs": [],
   "source": [
    "# Create a figure with two subplots\n",
    "fig, (ax1, ax2) = plt.subplots(1, 2)\n",
    "\n",
    "# Plot the bar chart\n",
    "ax1.bar(categories, values, color='blue')\n",
    "ax1.set_xlabel('Categories')\n",
    "ax1.set_ylabel('Values')\n",
    "ax1.set_title('Bar Chart')\n",
    "\n",
    "# Plot the pie chart\n",
    "ax2.pie(sizes, labels=labels, autopct='%1.1f%%')\n",
    "ax2.set_title('Pie Chart')\n",
    "\n",
    "# Customize the plot\n",
    "fig.suptitle('Bar Chart and Pie Chart')\n",
    "\n",
    "# Adjust spacing between subplots\n",
    "fig.tight_layout()\n",
    "\n",
    "# Display the plot\n",
    "plt.show()\n"
   ]
  },
  {
   "cell_type": "code",
   "execution_count": null,
   "metadata": {},
   "outputs": [],
   "source": [
    "\n",
    "# Data for line plot\n",
    "x = np.arange(len(categories))\n",
    "y = [0.1, 0.4, 0.2, 0.6]\n",
    "\n",
    "# Create a figure and axes\n",
    "fig, ax1 = plt.subplots()\n",
    "\n",
    "# Plot the bar chart\n",
    "ax1.bar(x, values, color='blue', label='Bar Chart')\n",
    "\n",
    "# Customize the plot\n",
    "ax1.set_xlabel('Categories')\n",
    "ax1.set_ylabel('Values')\n",
    "ax1.set_xticks(x)\n",
    "ax1.set_xticklabels(categories)\n",
    "\n",
    "# Create a second y-axis for the line plot\n",
    "ax2 = ax1.twinx()\n",
    "\n",
    "# Plot the line plot\n",
    "ax2.plot(x, y, color='red', linestyle='--', marker='o', label='Line Plot')\n",
    "\n",
    "# Customize the plot\n",
    "ax2.set_ylabel('Line Plot')\n",
    "ax2.set_ylim([0, 1])\n",
    "\n",
    "# Combine the legends\n",
    "handles1, labels1 = ax1.get_legend_handles_labels()\n",
    "handles2, labels2 = ax2.get_legend_handles_labels()\n",
    "handles = handles1 + handles2\n",
    "labels = labels1 + labels2\n",
    "ax1.legend(handles, labels)\n",
    "\n",
    "# Display the plot\n",
    "plt.title('Bar Chart and Line Plot')\n",
    "plt.show()"
   ]
  }
 ],
 "metadata": {
  "kernelspec": {
   "display_name": "Python 3",
   "language": "python",
   "name": "python3"
  },
  "language_info": {
   "codemirror_mode": {
    "name": "ipython",
    "version": 3
   },
   "file_extension": ".py",
   "mimetype": "text/x-python",
   "name": "python",
   "nbconvert_exporter": "python",
   "pygments_lexer": "ipython3",
   "version": "3.10.6"
  },
  "orig_nbformat": 4
 },
 "nbformat": 4,
 "nbformat_minor": 2
}
