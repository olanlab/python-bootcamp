{
 "cells": [
  {
   "cell_type": "markdown",
   "metadata": {},
   "source": [
    "# Titanic\n",
    "\n",
    "ใน Notebook เราจะทำการวิเคราะห์อย่างละเอียดเกี่ยวกับผู้โดยสารผลเรือ Titanic \n",
    "\n",
    "https://www.kaggle.com/datasets/yasserh/titanic-dataset"
   ]
  },
  {
   "cell_type": "markdown",
   "metadata": {},
   "source": [
    "The sinking of the Titanic is one of the most infamous shipwrecks in history.\n",
    "\n",
    "On April 15, 1912, during her maiden voyage, the widely considered “unsinkable” RMS Titanic sank after colliding with an iceberg. Unfortunately, there weren’t enough lifeboats for everyone on board, resulting in the death of 1502 out of 2224 passengers and crew.\n",
    "\n",
    "While there was some element of luck involved in surviving, it seems some groups of people were more likely to survive than others.\n",
    "\n",
    "In this challenge, we ask you to build a predictive model that answers the question: “what sorts of people were more likely to survive?” using passenger data (ie name, age, gender, socio-economic class, etc).\n",
    "\n",
    "---\n",
    "\n",
    "การจมเรือไททานิคถือเป็นซากเรืออับปางที่โด่งดังที่สุดแห่งหนึ่งในประวัติศาสตร์\n",
    "\n",
    "เมื่อวันที่ 15 เมษายน พ.ศ. 2455 ในระหว่างการเดินทางครั้งแรก เรือ RMS Titanic ที่ถือว่า \"ไม่มีวันจม\" ได้จมลงหลังจากชนกับภูเขาน้ำแข็ง น่าเสียดายที่เรือชูชีพมีไม่เพียงพอสำหรับทุกคนบนเรือ ส่งผลให้ผู้โดยสารและลูกเรือเสียชีวิต 1,502 รายจากทั้งหมด 2,224 ราย\n",
    "\n",
    "แม้ว่าการเอาชีวิตรอดจะมีองค์ประกอบของโชคอยู่บ้าง แต่ดูเหมือนว่าคนบางกลุ่มมีแนวโน้มที่จะมีชีวิตรอดมากกว่ากลุ่มอื่นๆ\n",
    "\n",
    "In this challenge : เราขอให้คุณสร้างแบบจำลองการคาดการณ์ที่ตอบคำถาม: “คนประเภทไหนที่มีแนวโน้มที่จะอยู่รอดมากกว่า” ใช้ข้อมูลผู้โดยสาร (เช่น ชื่อ อายุ เพศ ชนชั้นทางเศรษฐกิจและสังคม ฯลฯ)"
   ]
  },
  {
   "cell_type": "code",
   "execution_count": null,
   "metadata": {},
   "outputs": [],
   "source": []
  },
  {
   "cell_type": "code",
   "execution_count": null,
   "metadata": {},
   "outputs": [],
   "source": []
  },
  {
   "cell_type": "markdown",
   "metadata": {},
   "source": [
    "## Columns \n",
    "- PassengerId : Passenger ID\n",
    "- Survived :  Survived or not: 0 = No, 1 = Yes\n",
    "- Pclass : Ticket class: 1 = 1st, 2 = 2nd, 3 = 3rd\n",
    "- Name : Name of the Passenger\n",
    "- Sex : Gender\n",
    "- Age : Age in Years\n",
    "- SibSp : No. of siblings / spouses aboard the Titanic\n",
    "- Parch : No. of parents / children aboard the Titanic\n",
    "- Ticket : Ticket number\n",
    "- Fare : Passenger fare\n",
    "- Cabin : Cabin number\n",
    "- Embarked: Port of Embarkation :C = Cherbourg, Q = Queenstown, S = Southampton"
   ]
  },
  {
   "cell_type": "code",
   "execution_count": null,
   "metadata": {},
   "outputs": [],
   "source": []
  },
  {
   "cell_type": "code",
   "execution_count": null,
   "metadata": {},
   "outputs": [],
   "source": []
  },
  {
   "cell_type": "markdown",
   "metadata": {},
   "source": [
    "แสดงข้อมูล 5 แถวแรก"
   ]
  },
  {
   "cell_type": "code",
   "execution_count": null,
   "metadata": {},
   "outputs": [],
   "source": []
  },
  {
   "cell_type": "markdown",
   "metadata": {},
   "source": [
    "แสดงข้อมูล 5 แถวสุดท้าย"
   ]
  },
  {
   "cell_type": "code",
   "execution_count": null,
   "metadata": {},
   "outputs": [],
   "source": []
  },
  {
   "cell_type": "markdown",
   "metadata": {},
   "source": [
    "หาผู้โดยสารที่มีอายุมากที่สุด 10 อันดับ"
   ]
  },
  {
   "cell_type": "code",
   "execution_count": null,
   "metadata": {},
   "outputs": [],
   "source": []
  },
  {
   "cell_type": "markdown",
   "metadata": {},
   "source": [
    "แสดงจำนวนผู้รอดชีวิตและผู้เสียชีวิต "
   ]
  },
  {
   "cell_type": "code",
   "execution_count": null,
   "metadata": {},
   "outputs": [],
   "source": []
  },
  {
   "cell_type": "markdown",
   "metadata": {},
   "source": [
    "การเปลี่ยนแปลงข้อมูลใน Columns : เปลี่ยนข้อมูลจาก 0 เป็น No และ 1 เป็น Yes"
   ]
  },
  {
   "cell_type": "code",
   "execution_count": null,
   "metadata": {},
   "outputs": [],
   "source": []
  },
  {
   "cell_type": "code",
   "execution_count": null,
   "metadata": {},
   "outputs": [],
   "source": []
  },
  {
   "cell_type": "markdown",
   "metadata": {},
   "source": [
    "แสดงจำนวนเพศชาย และ เพศหญิง "
   ]
  },
  {
   "cell_type": "code",
   "execution_count": null,
   "metadata": {},
   "outputs": [],
   "source": []
  },
  {
   "cell_type": "markdown",
   "metadata": {},
   "source": [
    "แสดงจำนวนผู้รอดชีวิตและผู้เสียชีวิต ที่เป็นเพศชาย"
   ]
  },
  {
   "cell_type": "code",
   "execution_count": null,
   "metadata": {},
   "outputs": [],
   "source": []
  },
  {
   "cell_type": "markdown",
   "metadata": {},
   "source": [
    "แสดงจำนวนผู้รอดชีวิตและผู้เสียชีวิต ที่เป็นเพศชาย"
   ]
  },
  {
   "cell_type": "code",
   "execution_count": null,
   "metadata": {},
   "outputs": [],
   "source": []
  },
  {
   "cell_type": "markdown",
   "metadata": {},
   "source": [
    "แสดงจำนวนผู้โดยสารที่ขึ้นมาจากเมืองต่างๆ "
   ]
  },
  {
   "cell_type": "code",
   "execution_count": null,
   "metadata": {},
   "outputs": [],
   "source": []
  },
  {
   "cell_type": "markdown",
   "metadata": {},
   "source": [
    "แสดงจำนวนผู้โดยการในแต่ละ Class"
   ]
  },
  {
   "cell_type": "code",
   "execution_count": null,
   "metadata": {},
   "outputs": [],
   "source": []
  },
  {
   "cell_type": "markdown",
   "metadata": {},
   "source": [
    "แสดงกราฟแท่งเปรียบเทียบจำนวนผู้โดยสาร เพศชาย และ เพศหญิง"
   ]
  },
  {
   "cell_type": "code",
   "execution_count": null,
   "metadata": {},
   "outputs": [],
   "source": []
  },
  {
   "cell_type": "markdown",
   "metadata": {},
   "source": [
    "แสดงกราฟวงกลมเปรียบเทียบจำนวนผู้โดยสาร ในแต่ละ Class"
   ]
  },
  {
   "cell_type": "code",
   "execution_count": null,
   "metadata": {},
   "outputs": [],
   "source": []
  },
  {
   "cell_type": "markdown",
   "metadata": {},
   "source": [
    "แสดงกราฟเส้นค่าเฉลี่ย อายุ กับ ค่าโดยสาร"
   ]
  },
  {
   "cell_type": "code",
   "execution_count": null,
   "metadata": {},
   "outputs": [],
   "source": []
  },
  {
   "cell_type": "code",
   "execution_count": null,
   "metadata": {},
   "outputs": [],
   "source": []
  },
  {
   "cell_type": "markdown",
   "metadata": {},
   "source": [
    "แสดงกราฟฮิสโตแกรมอายุผู้โดยสารของเรือ Titanic"
   ]
  },
  {
   "cell_type": "code",
   "execution_count": null,
   "metadata": {},
   "outputs": [],
   "source": []
  },
  {
   "cell_type": "markdown",
   "metadata": {},
   "source": [
    "แสดงกราฟฮิสโตแกรมอายุผู้โดยสาร ผู้รอดชีวิต VS ผู้เสียชีวิต"
   ]
  },
  {
   "cell_type": "code",
   "execution_count": null,
   "metadata": {},
   "outputs": [],
   "source": []
  },
  {
   "cell_type": "markdown",
   "metadata": {},
   "source": [
    "แสดงกราฟแบบจุด ความสัมพันธ์ระหว่าง อายุ กับ ค่าโดยสาร"
   ]
  },
  {
   "cell_type": "code",
   "execution_count": null,
   "metadata": {},
   "outputs": [],
   "source": []
  },
  {
   "cell_type": "markdown",
   "metadata": {},
   "source": [
    "แสดงกราฟแบบจุด ความสัมพันธ์ระหว่าง คลาส กับ ค่าโดยสาร"
   ]
  },
  {
   "cell_type": "code",
   "execution_count": null,
   "metadata": {},
   "outputs": [],
   "source": []
  },
  {
   "cell_type": "markdown",
   "metadata": {},
   "source": [
    "แสดงกราฟจุด แสดงความสัมพันธ์ คลาส ค่าโดยสาร และ ท่าเรือ"
   ]
  },
  {
   "cell_type": "code",
   "execution_count": null,
   "metadata": {},
   "outputs": [],
   "source": []
  },
  {
   "cell_type": "markdown",
   "metadata": {},
   "source": [
    "แสดงกราฟจุด แสดงความสัมพันธ์ ค่าโดยสาร ท่าเรือ และ การรอดชีวิต"
   ]
  },
  {
   "cell_type": "code",
   "execution_count": null,
   "metadata": {},
   "outputs": [],
   "source": []
  },
  {
   "cell_type": "markdown",
   "metadata": {},
   "source": [
    "แสดงกราฟจุด แสดงความสัมพันธ์ ค่าโดยสาร เพศ และ คลาส"
   ]
  },
  {
   "cell_type": "code",
   "execution_count": null,
   "metadata": {},
   "outputs": [],
   "source": []
  },
  {
   "cell_type": "markdown",
   "metadata": {},
   "source": [
    "แสดงกราฟจุด แสดงความสัมพันธ์ เพศ ค่าโดยสาร และ การรอดชีวิต"
   ]
  },
  {
   "cell_type": "code",
   "execution_count": null,
   "metadata": {},
   "outputs": [],
   "source": []
  },
  {
   "cell_type": "markdown",
   "metadata": {},
   "source": [
    "แสดงกราฟจุด แสดงความสัมพันธ์ เพศ อายุ และ การรอดชีวิต"
   ]
  },
  {
   "cell_type": "code",
   "execution_count": null,
   "metadata": {},
   "outputs": [],
   "source": []
  },
  {
   "cell_type": "markdown",
   "metadata": {},
   "source": [
    "แสดงการเปรียบเทียบการรอดชีวิตจากคลาส"
   ]
  },
  {
   "cell_type": "code",
   "execution_count": null,
   "metadata": {},
   "outputs": [],
   "source": []
  },
  {
   "cell_type": "code",
   "execution_count": null,
   "metadata": {},
   "outputs": [],
   "source": []
  },
  {
   "cell_type": "code",
   "execution_count": null,
   "metadata": {},
   "outputs": [],
   "source": []
  },
  {
   "cell_type": "markdown",
   "metadata": {},
   "source": [
    "แสดงอัตราการรอดชีวิตจากคลาส"
   ]
  },
  {
   "cell_type": "code",
   "execution_count": null,
   "metadata": {},
   "outputs": [],
   "source": []
  },
  {
   "cell_type": "code",
   "execution_count": null,
   "metadata": {},
   "outputs": [],
   "source": []
  },
  {
   "cell_type": "code",
   "execution_count": null,
   "metadata": {},
   "outputs": [],
   "source": []
  },
  {
   "cell_type": "markdown",
   "metadata": {},
   "source": [
    "แสดงกราฟแบบ Box ความสัมพันธ์ระหว่าง Sex, Age"
   ]
  },
  {
   "cell_type": "code",
   "execution_count": null,
   "metadata": {},
   "outputs": [],
   "source": []
  },
  {
   "cell_type": "markdown",
   "metadata": {},
   "source": [
    "แสดงกราฟแบบ Box ความสัมพันธ์ระหว่าง Pclass, Fare"
   ]
  },
  {
   "cell_type": "code",
   "execution_count": null,
   "metadata": {},
   "outputs": [],
   "source": []
  }
 ],
 "metadata": {
  "kernelspec": {
   "display_name": "Python 3",
   "language": "python",
   "name": "python3"
  },
  "language_info": {
   "codemirror_mode": {
    "name": "ipython",
    "version": 3
   },
   "file_extension": ".py",
   "mimetype": "text/x-python",
   "name": "python",
   "nbconvert_exporter": "python",
   "pygments_lexer": "ipython3",
   "version": "3.10.6"
  }
 },
 "nbformat": 4,
 "nbformat_minor": 2
}
