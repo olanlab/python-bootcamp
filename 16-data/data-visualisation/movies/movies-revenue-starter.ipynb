{
  "cells": [
    {
      "cell_type": "markdown",
      "metadata": {
        "id": "gltiGJhvrzaL"
      },
      "source": [
        "# Introduction\n",
        "\n",
        "Do higher film budgets lead to more box office revenue? Let's find out if there's a relationship using the movie budgets and financial performance data that I've scraped from [the-numbers.com](https://www.the-numbers.com/movie/budgets) on **May 1st, 2018**. \n",
        "\n",
        "หนังที่ใช้ทุนสร้างมากขึ้นจะมีได้รายได้จากการขายตั๋วภาพยนตร์มากขึ้นหรือไม่? มาดูว่ามีความสัมพันธ์หรือไม่ โดยใช้ข้อมูลงบประมาณภาพยนตร์และผลประกอบการทางการเงินที่ผมดึงข้อมูลจาก [the-numbers.com](https://www.the-numbers.com/movie/budgets) เมื่อวันที่ 1 พฤษภาคม 2018\n",
        "\n",
        "\n",
        "<img src=https://i.imgur.com/kq7hrEh.png>"
      ]
    },
    {
      "cell_type": "markdown",
      "metadata": {
        "id": "zkLrvlKvtdih"
      },
      "source": [
        "# Import Statements"
      ]
    },
    {
      "cell_type": "code",
      "execution_count": null,
      "metadata": {
        "id": "NpDk_q_Urroj"
      },
      "outputs": [],
      "source": [
        "import pandas as pd\n",
        "import matplotlib.pyplot as plt\n"
      ]
    },
    {
      "cell_type": "markdown",
      "metadata": {
        "id": "x5B-UDvXtnC6"
      },
      "source": [
        "# Notebook Presentation"
      ]
    },
    {
      "cell_type": "code",
      "execution_count": null,
      "metadata": {
        "id": "nM_otvWztjpT"
      },
      "outputs": [],
      "source": [
        "pd.options.display.float_format = '{:,.2f}'.format\n",
        "\n",
        "from pandas.plotting import register_matplotlib_converters\n",
        "register_matplotlib_converters()"
      ]
    },
    {
      "cell_type": "markdown",
      "metadata": {
        "id": "v-fnwNYJtthe"
      },
      "source": [
        "# Read the Data"
      ]
    },
    {
      "cell_type": "code",
      "execution_count": null,
      "metadata": {
        "id": "xhwvQQWitrf4"
      },
      "outputs": [],
      "source": [
        "data = pd.read_csv('cost_revenue_dirty.csv')"
      ]
    },
    {
      "cell_type": "markdown",
      "metadata": {
        "id": "tbg8_J5SuHhs"
      },
      "source": [
        "# Explore and Clean the Data"
      ]
    },
    {
      "cell_type": "markdown",
      "metadata": {
        "id": "xAtdcURCuL0Z"
      },
      "source": [
        "**Challenge**: Answer these questions about the dataset:\n",
        "**Challenge**: ตอบคำถามเหล่านี้เกี่ยวกับชุดข้อมูล:\n",
        "- How many rows and columns does the dataset contain?\n",
        "- ชุดข้อมูลมีกี่แถวและคอลัมน์?\n",
        "\n",
        "- Are there any NaN values present?\n",
        "- มีค่า NaN อยู่หรือไม่?\n",
        "\n",
        "- Are there any duplicate rows?\n",
        "- มีแถวที่ซ้ำกันหรือไม่?\n",
        "\n",
        "- What are the data types of the columns?\n",
        "- ประเภทของข้อมูลในคอลัมน์คืออะไร?"
      ]
    },
    {
      "cell_type": "code",
      "execution_count": null,
      "metadata": {
        "id": "PV3KLBSVTMDN"
      },
      "outputs": [],
      "source": []
    },
    {
      "cell_type": "markdown",
      "metadata": {
        "id": "v8spadDNvpVG"
      },
      "source": [
        "### Data Type Conversions"
      ]
    },
    {
      "cell_type": "markdown",
      "metadata": {
        "id": "9F8KFST4ulrd"
      },
      "source": [
        "**Challenge**: Convert the `USD_Production_Budget`, `USD_Worldwide_Gross`, and `USD_Domestic_Gross` columns to a numeric format by removing `$` signs and `,`. \n",
        "<br>\n",
        "<br>\n",
        "Note that *domestic* in this context refers to the United States.\n",
        "\n",
        "\n",
        "\n",
        "แปลงคอลัมน์ USD_Production_Budget, USD_Worldwide_Gross, และ USD_Domestic_Gross เป็นรูปแบบตัวเลขโดยการลบเครื่องหมาย $ และ , ออก\n",
        "<br>\n",
        "<br>\n",
        "Note:  *domestic* ในข้อมูลนี้หมายถึงสหรัฐอเมริกา"
      ]
    },
    {
      "cell_type": "code",
      "execution_count": null,
      "metadata": {
        "id": "BmdCbLf-TPXk"
      },
      "outputs": [],
      "source": []
    },
    {
      "cell_type": "markdown",
      "metadata": {
        "id": "cA01iJHkvWhl"
      },
      "source": [
        "**Challenge**: Convert the `Release_Date` column to a Pandas Datetime type. \n",
        "\n",
        "**Challenge**: แปลง `Release_Date` column ไปเป็น Pandas Datetime type. "
      ]
    },
    {
      "cell_type": "code",
      "execution_count": null,
      "metadata": {
        "id": "Pq1WfvRnTRU6"
      },
      "outputs": [],
      "source": []
    },
    {
      "cell_type": "markdown",
      "metadata": {
        "id": "NkwmJO3tvt5i"
      },
      "source": [
        "### Descriptive Statistics"
      ]
    },
    {
      "cell_type": "markdown",
      "metadata": {
        "id": "bnb54thrvx5r"
      },
      "source": [
        "**Challenge**: \n",
        "\n",
        "1. What is the average production budget of the films in the data set?\n",
        "2. What is the average worldwide gross revenue of films?\n",
        "3. What were the minimums for worldwide and domestic revenue?\n",
        "4. Are the bottom 25% of films actually profitable or do they lose money?\n",
        "5. What are the highest production budget and highest worldwide gross revenue of any film?\n",
        "6. How much revenue did the lowest and highest budget films make?\n",
        "\n",
        "\n",
        "---\n",
        "**Challenge**: \n",
        "\n",
        "1. ค่าเฉลี่ยของงบประมาณในการผลิตภาพยนตร์ในชุดข้อมูลคืออะไร?\n",
        "2. ค่าเฉลี่ยของรายได้จากการขายทั่วโลกของภาพยนตร์คืออะไร?\n",
        "3. ค่าขั้นต่ำของรายได้จากการขายทั่วโลกและรายได้ในประเทศ (domestic) คืออะไร?\n",
        "4. ภาพยนตร์ 25% แรกในชุดข้อมูลนั้นมีกำไรจริงหรือสูญเสียเงิน?\n",
        "5. ภาพยนตร์ที่มีงบประมาณในการผลิตสูงสุดและภาพยนตร์ที่มีรายได้จากการขายทั่วโลกสูงสุดคืออะไร?\n",
        "6. ภาพยนตร์ที่มีงบประมาณต่ำสุดและภาพยนตร์ที่มีรายได้สูงสุดได้รับเงินรายได้เท่าไร?\n"
      ]
    },
    {
      "cell_type": "code",
      "execution_count": null,
      "metadata": {
        "id": "8G5_FATFTTtb"
      },
      "outputs": [],
      "source": []
    },
    {
      "cell_type": "markdown",
      "metadata": {
        "id": "Cj-ug32JyEhp"
      },
      "source": [
        "# Investigating the Zero Revenue Films"
      ]
    },
    {
      "cell_type": "markdown",
      "metadata": {
        "id": "U9hm-pb4xTjY"
      },
      "source": [
        "**Challenge** How many films grossed $0 domestically (i.e., in the United States)? What were the highest budget films that grossed nothing?\n",
        "\n",
        "**Challenge** มีภาพยนตร์กี่เรื่องที่ไม่ได้รับรายได้ในประเทศ (domestically) คือ $0? และภาพยนตร์ที่มีงบประมาณสูงสุดแต่ไม่ได้รับรายได้เลยคืออะไร?"
      ]
    },
    {
      "cell_type": "code",
      "execution_count": null,
      "metadata": {
        "id": "MXuRYdy0TWkt"
      },
      "outputs": [],
      "source": []
    },
    {
      "cell_type": "markdown",
      "metadata": {
        "id": "mY8SAwI0x73b"
      },
      "source": [
        "**Challenge**: How many films grossed $0 worldwide? What are the highest budget films that had no revenue internationally?\n",
        "\n",
        "**Challenge**: มีภาพยนตร์กี่เรื่องที่ไม่ได้รับรายได้ทั่วโลก (worldwide) คือ $0? และภาพยนตร์ที่มีงบประมาณสูงสุดแต่ไม่ได้รับรายได้ที่ระดับนานาชาติคืออะไร?"
      ]
    },
    {
      "cell_type": "code",
      "execution_count": null,
      "metadata": {
        "id": "VpfocexxTXym"
      },
      "outputs": [],
      "source": []
    },
    {
      "cell_type": "markdown",
      "metadata": {
        "id": "eXUDzWpeyV2f"
      },
      "source": [
        "### Filtering on Multiple Conditions"
      ]
    },
    {
      "cell_type": "code",
      "execution_count": null,
      "metadata": {
        "id": "dLd3eeD9TZZ9"
      },
      "outputs": [],
      "source": []
    },
    {
      "cell_type": "markdown",
      "metadata": {
        "id": "YruPjqLVPuiB"
      },
      "source": [
        "**Challenge**: Use the [`.query()` function](https://pandas.pydata.org/pandas-docs/stable/reference/api/pandas.DataFrame.query.html) to accomplish the same thing. Create a subset for international releases that had some worldwide gross revenue, but made zero revenue in the United States. \n",
        "\n",
        "Hint: This time you'll have to use the `and` keyword.\n",
        "\n",
        "\n",
        "**Challenge**: ใช้ [`.query()` function](https://pandas.pydata.org/pandas-docs/stable/reference/api/pandas.DataFrame.query.html) เพื่อทำสิ่งเดียวกัน สร้างชุดข้อมูลย่อยสำหรับการเผยแพร่ระดับนานาชาติที่มีรายได้จากการขายทั่วโลก แต่ไม่ได้รับรายได้ในสหรัฐอเมริกา\n",
        "\n",
        "Hint: ในครั้งนี้คุณจะต้องใช้คำสั่ง  `and` "
      ]
    },
    {
      "cell_type": "code",
      "execution_count": null,
      "metadata": {
        "id": "Xvu-jTCwTavg"
      },
      "outputs": [],
      "source": []
    },
    {
      "cell_type": "markdown",
      "metadata": {
        "id": "EM-FTE4OZhfr"
      },
      "source": [
        "### Unreleased Films\n",
        "\n",
        "**Challenge**:\n",
        "* Identify which films were not released yet as of the time of data collection (May 1st, 2018).\n",
        "* How many films are included in the dataset that have not yet had a chance to be screened in the box office? \n",
        "* Create another DataFrame called data_clean that does not include these films. \n",
        "\n",
        "**Challenge**:\n",
        "\n",
        "* ระบุภาพยนตร์ที่ยังไม่เข้าฉายตามเวลาที่เก็บข้อมูล (1 พฤษภาคม 2018)\n",
        "* มีภาพยนตร์กี่เรื่องในชุดข้อมูลที่ยังไม่ได้มีโอกาสเข้าฉายในโรงภาพยนตร์?\n",
        "* สร้าง DataFrame อีกชุดที่ชื่อว่า data_clean โดยไม่รวมภาพยนตร์เหล่านี้ลงไปในชุดข้อมูล"
      ]
    },
    {
      "cell_type": "code",
      "execution_count": null,
      "metadata": {
        "id": "PIukYVY9Zpxu"
      },
      "outputs": [],
      "source": [
        "# Date of Data Collection\n",
        "scrape_date = pd.Timestamp('2018-5-1')"
      ]
    },
    {
      "cell_type": "code",
      "execution_count": null,
      "metadata": {
        "id": "OAI0VsM3Tc6v"
      },
      "outputs": [],
      "source": []
    },
    {
      "cell_type": "markdown",
      "metadata": {
        "id": "khrJcXlGZWZO"
      },
      "source": [
        "### Films that Lost Money\n",
        "\n",
        "**Challenge**: \n",
        "What is the percentage of films where the production costs exceeded the worldwide gross revenue? \n",
        "\n",
        "**Challenge**: \n",
        "เปอร์เซ็นต์ของภาพยนตร์ที่ค่าใช้จ่ายในการผลิตเกินรายได้จากการขายทั่วโลกหรือไม่?"
      ]
    },
    {
      "cell_type": "code",
      "execution_count": null,
      "metadata": {
        "id": "7uW_U9StTgvZ"
      },
      "outputs": [],
      "source": []
    },
    {
      "cell_type": "markdown",
      "metadata": {
        "id": "cfJUL3WwyiDy"
      },
      "source": [
        "# Seaborn for Data Viz: Bubble Charts"
      ]
    },
    {
      "cell_type": "code",
      "execution_count": null,
      "metadata": {
        "id": "YXa3bp1uTiSS"
      },
      "outputs": [],
      "source": []
    },
    {
      "cell_type": "markdown",
      "metadata": {
        "id": "e7NIOiL2y3en"
      },
      "source": [
        "### Plotting Movie Releases over Time\n",
        "\n",
        "**Challenge**: Try to create the following Bubble Chart:\n",
        "\n",
        "**Challenge**: สร้าง Bubble Chart ตามรูปด้านล่าง:\n",
        "\n",
        "<img src=https://i.imgur.com/8fUn9T6.png>\n",
        "\n"
      ]
    },
    {
      "cell_type": "code",
      "execution_count": null,
      "metadata": {
        "id": "OT0D-i3HTmsB"
      },
      "outputs": [],
      "source": []
    },
    {
      "cell_type": "markdown",
      "metadata": {
        "id": "r_2hFz9py84b"
      },
      "source": [
        "# Converting Years to Decades Trick\n",
        "\n",
        "**Challenge**: Create a column in `data_clean` that has the decade of the release. \n",
        "\n",
        "**Challenge**: สร้าง column ใน `data_clean` ที่ระบุทศวรรษการเผยแพร่ (decade of the release)\n",
        "\n",
        "<img src=https://i.imgur.com/0VEfagw.png width=650> \n",
        "\n",
        "Here's how: \n",
        "1. Create a [`DatetimeIndex` object](https://pandas.pydata.org/pandas-docs/stable/reference/api/pandas.DatetimeIndex.html) from the Release_Date column. \n",
        "2. Grab all the years from the `DatetimeIndex` object using the `.year` property.\n",
        "<img src=https://i.imgur.com/5m06Ach.png width=650>\n",
        "3. Use floor division `//` to convert the year data to the decades of the films.\n",
        "4. Add the decades as a `Decade` column to the `data_clean` DataFrame.\n",
        "\n",
        "\n",
        "นี่คือวิธีการ:\n",
        "1. สร้าง DatetimeIndex object จากคอลัมน์ Release_Date.\n",
        "2. เก็บข้อมูลปีทั้งหมดจาก DatetimeIndex object โดยใช้ .year property.\n",
        "3. ใช้การหารจัดเศษ // เพื่อแปลงข้อมูลปีเป็นทศวรรษของภาพยนตร์.\n",
        "4. เพิ่มทศวรรษเป็นคอลัมน์ชื่อ Decade ใน DataFrame data_clean \n"
      ]
    },
    {
      "cell_type": "code",
      "execution_count": null,
      "metadata": {
        "id": "lak08IPMTn-j"
      },
      "outputs": [],
      "source": []
    },
    {
      "cell_type": "markdown",
      "metadata": {
        "id": "q-X7NK_9zIz9"
      },
      "source": [
        "### Separate the \"old\" (before 1969) and \"New\" (1970s onwards) Films\n",
        "\n",
        "**Challenge**: Create two new DataFrames: `old_films` and `new_films`\n",
        "* `old_films` should include all the films before 1969 (up to and including 1969)\n",
        "* `new_films` should include all the films from 1970 onwards\n",
        "* How many films were released prior to 1970?\n",
        "* What was the most expensive film made prior to 1970?\n",
        "\n",
        "\n",
        "**Challenge**: สร้าง DataFrame 2 ตัว: `old_films` และ `new_films`\n",
        "* `old_films` ควรรวมภาพยนตร์ทั้งหมดก่อนปี 1969 (รวมถึงปี 1969)\n",
        "* `new_films` ควรรวมภาพยนตร์ทั้งหมดตั้งแต่ปี 1970 เป็นต้นไป\n",
        "* มีภาพยนตร์กี่เรื่องที่เผยแพร่ก่อนปี 1970?\n",
        "* ภาพยนตร์ที่ค่าใช้จ่ายสูงสุดก่อนปี 1970 คืออะไร?"
      ]
    },
    {
      "cell_type": "code",
      "execution_count": null,
      "metadata": {
        "id": "qe93nMcBTqQz"
      },
      "outputs": [],
      "source": []
    },
    {
      "cell_type": "markdown",
      "metadata": {
        "id": "msXABzF3zW7e"
      },
      "source": [
        "# Seaborn Regression Plots"
      ]
    },
    {
      "cell_type": "code",
      "execution_count": null,
      "metadata": {
        "id": "2ajPcWMJTsom"
      },
      "outputs": [],
      "source": []
    },
    {
      "cell_type": "markdown",
      "metadata": {
        "id": "6k4MeLmxWFwX"
      },
      "source": [
        "**Challenge**: Use Seaborn's `.regplot()` to show the scatter plot and linear regression line against the `new_films`. \n",
        "\n",
        "**Challenge**: ใช้ Seaborn's `.regplot()` แสดง scatter plot และ linear regression line เปรียบเทียบ `new_films`. \n",
        "<br>\n",
        "<br>\n",
        "Style the chart\n",
        "\n",
        "Style ของ chart\n",
        "\n",
        "* Put the chart on a `'darkgrid'`.\n",
        "* ใส่ chart บน `'darkgrid'`\n",
        "* Set limits on the axes so that they don't show negative values.\n",
        "* ตั้งค่าขอบเขต axes ให้ไม่แสดงค่าที่เป็นลบ\n",
        "* Label the axes on the plot \"Revenue in \\$ billions\" and \"Budget in \\$ millions\".\n",
        "* ตั้งชื่อแกน \"Revenue in \\$ billions\" และ \"Budget in \\$ millions\"\n",
        "* Provide HEX colour codes for the plot and the regression line. Make the dots dark blue (#2f4b7c) and the line orange (#ff7c43).\n",
        "* ใช้รหัสสี HEX สำหรับ plot และ regression line โดย dots เป็น dark blue (#2f4b7c) และเส้นสีส้ม orange (#ff7c43)\n",
        "\n",
        "\n",
        "\n",
        "Interpret the chart\n",
        "\n",
        "อธิบายกราฟ Chart\n",
        "\n",
        "* Do our data points for the new films align better or worse with the linear regression than for our older films?\n",
        "* ข้อมูลของภาพยนตร์ใหม่มีความสัมพันธ์ linear regression ดีกว่าหรือแย่กว่าภาพยนตร์เก่า?\n",
        "* Roughly how much would a film with a budget of $150 million make according to the regression line?\n",
        "* โดยประมาณภาพยนตร์ที่มีงบประมาณ $150 ล้านจะสร้างรายได้ประมาณเท่าไรตาม linear regression?\n",
        "\n",
        "\n"
      ]
    },
    {
      "cell_type": "code",
      "execution_count": null,
      "metadata": {
        "id": "6cOVsxqvTui2"
      },
      "outputs": [],
      "source": []
    },
    {
      "cell_type": "markdown",
      "metadata": {
        "id": "Q1SUPPMAzlVK"
      },
      "source": [
        "# Run Your Own Regression with scikit-learn\n",
        "\n",
        "$$ REV \\hat ENUE = \\theta _0 + \\theta _1 BUDGET$$"
      ]
    },
    {
      "cell_type": "code",
      "execution_count": null,
      "metadata": {
        "id": "QmX-wMMLTwBW"
      },
      "outputs": [],
      "source": []
    },
    {
      "cell_type": "markdown",
      "metadata": {
        "id": "o23E9iT1RHQ1"
      },
      "source": [
        "**Challenge**: Run a linear regression for the `old_films`. Calculate the intercept, slope and r-squared. How much of the variance in movie revenue does the linear model explain in this case?\n",
        "\n",
        "**Challenge**: รัน linear regression สำหรับ `old_films`  คำนวณ intercept, slope และ r-squared ว่าสมการเชิงเส้นอธิบายความแปรปรวนของรายได้จากภาพยนตร์ในกรณีนี้เป็นเท่าใด?\n"
      ]
    },
    {
      "cell_type": "code",
      "execution_count": null,
      "metadata": {
        "id": "Sd43DJNDT0yQ"
      },
      "outputs": [],
      "source": []
    },
    {
      "cell_type": "code",
      "execution_count": null,
      "metadata": {
        "id": "ygKsLBx5Rs7t"
      },
      "outputs": [],
      "source": []
    },
    {
      "cell_type": "markdown",
      "metadata": {
        "id": "hoD3PeG75p78"
      },
      "source": [
        "# Use Your Model to Make a Prediction\n",
        "\n",
        "We just estimated the slope and intercept! Remember that our Linear Model has the following form:\n",
        "\n",
        "เราเพิ่งประมาณค่า slope และ intercept  จำไว้ว่า Linear Model ของเรามีรูปแบบดังนี้:\n",
        "\n",
        "$$ REV \\hat ENUE = \\theta _0 + \\theta _1 BUDGET$$\n",
        "\n",
        "**Challenge**:  How much global revenue does our model estimate for a film with a budget of $350 million? \n",
        "\n",
        "**Challenge**:  Model ของเราประมาณรายได้รวมทั่วโลกเท่าใดสำหรับภาพยนตร์ที่มีงบประมาณ $350 ล้าน?"
      ]
    },
    {
      "cell_type": "code",
      "execution_count": null,
      "metadata": {
        "id": "fX4I4h5i5rgF"
      },
      "outputs": [],
      "source": []
    },
    {
      "cell_type": "code",
      "execution_count": null,
      "metadata": {
        "id": "fB2Yp8ln5qfO"
      },
      "outputs": [],
      "source": []
    }
  ],
  "metadata": {
    "colab": {
      "name": "Seaborn and Linear Regression (start).ipynb",
      "provenance": []
    },
    "kernelspec": {
      "display_name": "Python 3",
      "name": "python3"
    }
  },
  "nbformat": 4,
  "nbformat_minor": 0
}
