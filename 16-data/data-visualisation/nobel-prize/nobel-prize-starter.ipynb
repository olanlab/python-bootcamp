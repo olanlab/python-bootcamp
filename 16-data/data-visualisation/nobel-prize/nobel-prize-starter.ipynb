{
  "cells": [
    {
      "cell_type": "markdown",
      "metadata": {
        "id": "FuDxBL8UamHp"
      },
      "source": [
        "# Setup and Context"
      ]
    },
    {
      "cell_type": "markdown",
      "metadata": {
        "id": "9vYVhf9vo7LK"
      },
      "source": [
        "### Introduction\n",
        "\n",
        "On November 27, 1895, Alfred Nobel signed his last will in Paris. When it was opened after his death, the will caused a lot of controversy, as Nobel had left much of his wealth for the establishment of a prize.\n",
        "\n",
        "Alfred Nobel dictates that his entire remaining estate should be used to endow “prizes to those who, during the preceding year, have conferred the greatest benefit to humankind”.\n",
        "\n",
        "Every year the Nobel Prize is given to scientists and scholars in the categories chemistry, literature, physics, physiology or medicine, economics, and peace. \n",
        "\n",
        "<img src=https://i.imgur.com/36pCx5Q.jpg>\n",
        "\n",
        "Let's see what patterns we can find in the data of the past Nobel laureates. What can we learn about the Nobel prize and our world more generally?"
      ]
    },
    {
      "cell_type": "markdown",
      "metadata": {
        "id": "RaHW4kg0sZKP"
      },
      "source": [
        "### Upgrade plotly (only Google Colab Notebook)\n",
        "\n",
        "Google Colab may not be running the latest version of plotly. If you're working in Google Colab, uncomment the line below, run the cell, and restart your notebook server. "
      ]
    },
    {
      "cell_type": "code",
      "execution_count": 25,
      "metadata": {
        "id": "od8BRWbAsGxS"
      },
      "outputs": [],
      "source": [
        "# %pip install --upgrade plotly"
      ]
    },
    {
      "cell_type": "markdown",
      "metadata": {
        "id": "QPnGYVYyo7LK"
      },
      "source": [
        "### Import Statements"
      ]
    },
    {
      "cell_type": "code",
      "execution_count": 26,
      "metadata": {
        "id": "dCIwm0dLo7LL"
      },
      "outputs": [],
      "source": [
        "import pandas as pd\n",
        "import numpy as np\n",
        "import plotly.express as px\n",
        "import seaborn as sns\n",
        "import matplotlib.pyplot as plt"
      ]
    },
    {
      "cell_type": "markdown",
      "metadata": {
        "id": "FcJY6qfNo7LN"
      },
      "source": [
        "### Notebook Presentation"
      ]
    },
    {
      "cell_type": "code",
      "execution_count": 27,
      "metadata": {
        "id": "RjzC6BoMo7LO"
      },
      "outputs": [],
      "source": [
        "pd.options.display.float_format = '{:,.2f}'.format"
      ]
    },
    {
      "cell_type": "markdown",
      "metadata": {
        "id": "eoQ5Af4wo7LQ"
      },
      "source": [
        "### Read the Data"
      ]
    },
    {
      "cell_type": "code",
      "execution_count": 28,
      "metadata": {
        "id": "EbVGyi7Eo7LQ"
      },
      "outputs": [],
      "source": [
        "df_data = pd.read_csv('nobel_prize_data.csv')"
      ]
    },
    {
      "cell_type": "markdown",
      "metadata": {
        "id": "XZzHD-1dKKbr"
      },
      "source": [
        "Caveats: The exact birth dates for Michael Houghton, Venkatraman Ramakrishnan, and Nadia Murad are unknown. I've substituted them with mid-year estimate of July 2nd. \n"
      ]
    },
    {
      "cell_type": "markdown",
      "metadata": {
        "id": "rYlGEluAo7LS"
      },
      "source": [
        "# Data Exploration & Cleaning\n",
        "\n",
        "**Challenge**: Preliminary data exploration. \n",
        "* What is the shape of `df_data`? How many rows and columns?\n",
        "* What are the column names?\n",
        "* In which year was the Nobel prize first awarded?\n",
        "* Which year is the latest year included in the dataset?"
      ]
    },
    {
      "cell_type": "code",
      "execution_count": 29,
      "metadata": {
        "id": "4U-OQVRbFOu6"
      },
      "outputs": [
        {
          "data": {
            "text/plain": [
              "(962, 16)"
            ]
          },
          "execution_count": 29,
          "metadata": {},
          "output_type": "execute_result"
        }
      ],
      "source": [
        "df_data.shape"
      ]
    },
    {
      "cell_type": "code",
      "execution_count": null,
      "metadata": {
        "id": "Iy6cDcXAFOsV"
      },
      "outputs": [],
      "source": []
    },
    {
      "cell_type": "markdown",
      "metadata": {
        "id": "SjA1sZPPMH_Y"
      },
      "source": [
        "**Challange**: \n",
        "* Are there any duplicate values in the dataset?\n",
        "* Are there NaN values in the dataset?\n",
        "* Which columns tend to have NaN values?\n",
        "* How many NaN values are there per column? \n",
        "* Why do these columns have NaN values?  "
      ]
    },
    {
      "cell_type": "markdown",
      "metadata": {
        "id": "q1EuEZV7o7Lb"
      },
      "source": [
        "### Check for Duplicates"
      ]
    },
    {
      "cell_type": "code",
      "execution_count": 30,
      "metadata": {
        "id": "v976ftCaFRFN"
      },
      "outputs": [
        {
          "data": {
            "text/plain": [
              "True"
            ]
          },
          "execution_count": 30,
          "metadata": {},
          "output_type": "execute_result"
        }
      ],
      "source": [
        "# df_data.duplicated().values.any()\n",
        "df_data.isna().values.any()"
      ]
    },
    {
      "cell_type": "code",
      "execution_count": 31,
      "metadata": {
        "id": "gvpa0A0OFQ4z"
      },
      "outputs": [
        {
          "data": {
            "text/plain": [
              "year                       0\n",
              "category                   0\n",
              "prize                      0\n",
              "motivation                88\n",
              "prize_share                0\n",
              "laureate_type              0\n",
              "full_name                  0\n",
              "birth_date                28\n",
              "birth_city                31\n",
              "birth_country             28\n",
              "birth_country_current     28\n",
              "sex                       28\n",
              "organization_name        255\n",
              "organization_city        255\n",
              "organization_country     254\n",
              "ISO                       28\n",
              "dtype: int64"
            ]
          },
          "execution_count": 31,
          "metadata": {},
          "output_type": "execute_result"
        }
      ],
      "source": [
        "df_data.isna().sum()"
      ]
    },
    {
      "cell_type": "code",
      "execution_count": 32,
      "metadata": {},
      "outputs": [
        {
          "data": {
            "text/html": [
              "<div>\n",
              "<style scoped>\n",
              "    .dataframe tbody tr th:only-of-type {\n",
              "        vertical-align: middle;\n",
              "    }\n",
              "\n",
              "    .dataframe tbody tr th {\n",
              "        vertical-align: top;\n",
              "    }\n",
              "\n",
              "    .dataframe thead th {\n",
              "        text-align: right;\n",
              "    }\n",
              "</style>\n",
              "<table border=\"1\" class=\"dataframe\">\n",
              "  <thead>\n",
              "    <tr style=\"text-align: right;\">\n",
              "      <th></th>\n",
              "      <th>year</th>\n",
              "      <th>category</th>\n",
              "      <th>birth_date</th>\n",
              "    </tr>\n",
              "  </thead>\n",
              "  <tbody>\n",
              "    <tr>\n",
              "      <th>24</th>\n",
              "      <td>1904</td>\n",
              "      <td>Peace</td>\n",
              "      <td>NaN</td>\n",
              "    </tr>\n",
              "    <tr>\n",
              "      <th>60</th>\n",
              "      <td>1910</td>\n",
              "      <td>Peace</td>\n",
              "      <td>NaN</td>\n",
              "    </tr>\n",
              "    <tr>\n",
              "      <th>89</th>\n",
              "      <td>1917</td>\n",
              "      <td>Peace</td>\n",
              "      <td>NaN</td>\n",
              "    </tr>\n",
              "    <tr>\n",
              "      <th>200</th>\n",
              "      <td>1938</td>\n",
              "      <td>Peace</td>\n",
              "      <td>NaN</td>\n",
              "    </tr>\n",
              "    <tr>\n",
              "      <th>215</th>\n",
              "      <td>1944</td>\n",
              "      <td>Peace</td>\n",
              "      <td>NaN</td>\n",
              "    </tr>\n",
              "    <tr>\n",
              "      <th>237</th>\n",
              "      <td>1947</td>\n",
              "      <td>Peace</td>\n",
              "      <td>NaN</td>\n",
              "    </tr>\n",
              "    <tr>\n",
              "      <th>238</th>\n",
              "      <td>1947</td>\n",
              "      <td>Peace</td>\n",
              "      <td>NaN</td>\n",
              "    </tr>\n",
              "    <tr>\n",
              "      <th>283</th>\n",
              "      <td>1954</td>\n",
              "      <td>Peace</td>\n",
              "      <td>NaN</td>\n",
              "    </tr>\n",
              "    <tr>\n",
              "      <th>348</th>\n",
              "      <td>1963</td>\n",
              "      <td>Peace</td>\n",
              "      <td>NaN</td>\n",
              "    </tr>\n",
              "    <tr>\n",
              "      <th>349</th>\n",
              "      <td>1963</td>\n",
              "      <td>Peace</td>\n",
              "      <td>NaN</td>\n",
              "    </tr>\n",
              "    <tr>\n",
              "      <th>366</th>\n",
              "      <td>1965</td>\n",
              "      <td>Peace</td>\n",
              "      <td>NaN</td>\n",
              "    </tr>\n",
              "    <tr>\n",
              "      <th>399</th>\n",
              "      <td>1969</td>\n",
              "      <td>Peace</td>\n",
              "      <td>NaN</td>\n",
              "    </tr>\n",
              "    <tr>\n",
              "      <th>479</th>\n",
              "      <td>1977</td>\n",
              "      <td>Peace</td>\n",
              "      <td>NaN</td>\n",
              "    </tr>\n",
              "    <tr>\n",
              "      <th>523</th>\n",
              "      <td>1981</td>\n",
              "      <td>Peace</td>\n",
              "      <td>NaN</td>\n",
              "    </tr>\n",
              "    <tr>\n",
              "      <th>558</th>\n",
              "      <td>1985</td>\n",
              "      <td>Peace</td>\n",
              "      <td>NaN</td>\n",
              "    </tr>\n",
              "    <tr>\n",
              "      <th>588</th>\n",
              "      <td>1988</td>\n",
              "      <td>Peace</td>\n",
              "      <td>NaN</td>\n",
              "    </tr>\n",
              "    <tr>\n",
              "      <th>659</th>\n",
              "      <td>1995</td>\n",
              "      <td>Peace</td>\n",
              "      <td>NaN</td>\n",
              "    </tr>\n",
              "    <tr>\n",
              "      <th>682</th>\n",
              "      <td>1997</td>\n",
              "      <td>Peace</td>\n",
              "      <td>NaN</td>\n",
              "    </tr>\n",
              "    <tr>\n",
              "      <th>703</th>\n",
              "      <td>1999</td>\n",
              "      <td>Peace</td>\n",
              "      <td>NaN</td>\n",
              "    </tr>\n",
              "    <tr>\n",
              "      <th>730</th>\n",
              "      <td>2001</td>\n",
              "      <td>Peace</td>\n",
              "      <td>NaN</td>\n",
              "    </tr>\n",
              "    <tr>\n",
              "      <th>778</th>\n",
              "      <td>2005</td>\n",
              "      <td>Peace</td>\n",
              "      <td>NaN</td>\n",
              "    </tr>\n",
              "    <tr>\n",
              "      <th>788</th>\n",
              "      <td>2006</td>\n",
              "      <td>Peace</td>\n",
              "      <td>NaN</td>\n",
              "    </tr>\n",
              "    <tr>\n",
              "      <th>801</th>\n",
              "      <td>2007</td>\n",
              "      <td>Peace</td>\n",
              "      <td>NaN</td>\n",
              "    </tr>\n",
              "    <tr>\n",
              "      <th>860</th>\n",
              "      <td>2012</td>\n",
              "      <td>Peace</td>\n",
              "      <td>NaN</td>\n",
              "    </tr>\n",
              "    <tr>\n",
              "      <th>873</th>\n",
              "      <td>2013</td>\n",
              "      <td>Peace</td>\n",
              "      <td>NaN</td>\n",
              "    </tr>\n",
              "    <tr>\n",
              "      <th>897</th>\n",
              "      <td>2015</td>\n",
              "      <td>Peace</td>\n",
              "      <td>NaN</td>\n",
              "    </tr>\n",
              "    <tr>\n",
              "      <th>919</th>\n",
              "      <td>2017</td>\n",
              "      <td>Peace</td>\n",
              "      <td>NaN</td>\n",
              "    </tr>\n",
              "    <tr>\n",
              "      <th>958</th>\n",
              "      <td>2020</td>\n",
              "      <td>Peace</td>\n",
              "      <td>NaN</td>\n",
              "    </tr>\n",
              "  </tbody>\n",
              "</table>\n",
              "</div>"
            ],
            "text/plain": [
              "     year category birth_date\n",
              "24   1904    Peace        NaN\n",
              "60   1910    Peace        NaN\n",
              "89   1917    Peace        NaN\n",
              "200  1938    Peace        NaN\n",
              "215  1944    Peace        NaN\n",
              "237  1947    Peace        NaN\n",
              "238  1947    Peace        NaN\n",
              "283  1954    Peace        NaN\n",
              "348  1963    Peace        NaN\n",
              "349  1963    Peace        NaN\n",
              "366  1965    Peace        NaN\n",
              "399  1969    Peace        NaN\n",
              "479  1977    Peace        NaN\n",
              "523  1981    Peace        NaN\n",
              "558  1985    Peace        NaN\n",
              "588  1988    Peace        NaN\n",
              "659  1995    Peace        NaN\n",
              "682  1997    Peace        NaN\n",
              "703  1999    Peace        NaN\n",
              "730  2001    Peace        NaN\n",
              "778  2005    Peace        NaN\n",
              "788  2006    Peace        NaN\n",
              "801  2007    Peace        NaN\n",
              "860  2012    Peace        NaN\n",
              "873  2013    Peace        NaN\n",
              "897  2015    Peace        NaN\n",
              "919  2017    Peace        NaN\n",
              "958  2020    Peace        NaN"
            ]
          },
          "execution_count": 32,
          "metadata": {},
          "output_type": "execute_result"
        }
      ],
      "source": [
        "col = ['year', 'category', 'birth_date']\n",
        "df_data.loc[df_data.birth_date.isna()][col]"
      ]
    },
    {
      "cell_type": "markdown",
      "metadata": {
        "id": "w69xDtpzo7Ld"
      },
      "source": [
        "### Check for NaN Values"
      ]
    },
    {
      "cell_type": "code",
      "execution_count": null,
      "metadata": {
        "id": "HgbI5sQNFStg"
      },
      "outputs": [],
      "source": []
    },
    {
      "cell_type": "code",
      "execution_count": null,
      "metadata": {
        "id": "O2zgruevFSyV"
      },
      "outputs": [],
      "source": []
    },
    {
      "cell_type": "code",
      "execution_count": null,
      "metadata": {
        "id": "aTU9T9xnFTQY"
      },
      "outputs": [],
      "source": []
    },
    {
      "cell_type": "code",
      "execution_count": null,
      "metadata": {
        "id": "0vxjq5N1FSwG"
      },
      "outputs": [],
      "source": []
    },
    {
      "cell_type": "code",
      "execution_count": null,
      "metadata": {
        "id": "ydO2iCjBFSq7"
      },
      "outputs": [],
      "source": []
    },
    {
      "cell_type": "markdown",
      "metadata": {
        "id": "ZyG18tKXo7Lj"
      },
      "source": [
        "### Type Conversions\n",
        "\n",
        "**Challenge**: \n",
        "* Convert the `birth_date` column to Pandas `Datetime` objects\n",
        "* Add a Column called `share_pct` which has the laureates' share as a percentage in the form of a floating-point number."
      ]
    },
    {
      "cell_type": "markdown",
      "metadata": {
        "id": "tTTFo-CXo7Lk"
      },
      "source": [
        "#### Convert Year and Birth Date to Datetime"
      ]
    },
    {
      "cell_type": "code",
      "execution_count": 33,
      "metadata": {},
      "outputs": [
        {
          "data": {
            "text/html": [
              "<div>\n",
              "<style scoped>\n",
              "    .dataframe tbody tr th:only-of-type {\n",
              "        vertical-align: middle;\n",
              "    }\n",
              "\n",
              "    .dataframe tbody tr th {\n",
              "        vertical-align: top;\n",
              "    }\n",
              "\n",
              "    .dataframe thead th {\n",
              "        text-align: right;\n",
              "    }\n",
              "</style>\n",
              "<table border=\"1\" class=\"dataframe\">\n",
              "  <thead>\n",
              "    <tr style=\"text-align: right;\">\n",
              "      <th></th>\n",
              "      <th>year</th>\n",
              "      <th>category</th>\n",
              "      <th>prize</th>\n",
              "      <th>motivation</th>\n",
              "      <th>prize_share</th>\n",
              "      <th>laureate_type</th>\n",
              "      <th>full_name</th>\n",
              "      <th>birth_date</th>\n",
              "      <th>birth_city</th>\n",
              "      <th>birth_country</th>\n",
              "      <th>birth_country_current</th>\n",
              "      <th>sex</th>\n",
              "      <th>organization_name</th>\n",
              "      <th>organization_city</th>\n",
              "      <th>organization_country</th>\n",
              "      <th>ISO</th>\n",
              "    </tr>\n",
              "  </thead>\n",
              "  <tbody>\n",
              "    <tr>\n",
              "      <th>957</th>\n",
              "      <td>2020</td>\n",
              "      <td>Medicine</td>\n",
              "      <td>The Nobel Prize in Physiology or Medicine 2020</td>\n",
              "      <td>“for the discovery of Hepatitis C virus”</td>\n",
              "      <td>1/3</td>\n",
              "      <td>Individual</td>\n",
              "      <td>Michael Houghton</td>\n",
              "      <td>1949-07-02</td>\n",
              "      <td>NaN</td>\n",
              "      <td>United Kingdom</td>\n",
              "      <td>United Kingdom</td>\n",
              "      <td>Male</td>\n",
              "      <td>University of Alberta</td>\n",
              "      <td>Edmonton</td>\n",
              "      <td>Canada</td>\n",
              "      <td>GBR</td>\n",
              "    </tr>\n",
              "    <tr>\n",
              "      <th>958</th>\n",
              "      <td>2020</td>\n",
              "      <td>Peace</td>\n",
              "      <td>The Nobel Peace Prize 2020</td>\n",
              "      <td>“for its efforts to combat hunger, for its con...</td>\n",
              "      <td>1/1</td>\n",
              "      <td>Organization</td>\n",
              "      <td>World Food Programme (WFP)</td>\n",
              "      <td>NaN</td>\n",
              "      <td>NaN</td>\n",
              "      <td>NaN</td>\n",
              "      <td>NaN</td>\n",
              "      <td>NaN</td>\n",
              "      <td>NaN</td>\n",
              "      <td>NaN</td>\n",
              "      <td>NaN</td>\n",
              "      <td>NaN</td>\n",
              "    </tr>\n",
              "    <tr>\n",
              "      <th>959</th>\n",
              "      <td>2020</td>\n",
              "      <td>Physics</td>\n",
              "      <td>The Nobel Prize in Physics 2020</td>\n",
              "      <td>“for the discovery of a supermassive compact o...</td>\n",
              "      <td>1/4</td>\n",
              "      <td>Individual</td>\n",
              "      <td>Andrea Ghez</td>\n",
              "      <td>1965-06-16</td>\n",
              "      <td>New York, NY</td>\n",
              "      <td>United States of America</td>\n",
              "      <td>United States of America</td>\n",
              "      <td>Female</td>\n",
              "      <td>University of California</td>\n",
              "      <td>Berkeley, CA</td>\n",
              "      <td>United States of America</td>\n",
              "      <td>USA</td>\n",
              "    </tr>\n",
              "    <tr>\n",
              "      <th>960</th>\n",
              "      <td>2020</td>\n",
              "      <td>Physics</td>\n",
              "      <td>The Nobel Prize in Physics 2020</td>\n",
              "      <td>“for the discovery of a supermassive compact o...</td>\n",
              "      <td>1/4</td>\n",
              "      <td>Individual</td>\n",
              "      <td>Reinhard Genzel</td>\n",
              "      <td>1952-03-24</td>\n",
              "      <td>Bad Homburg vor der Höhe</td>\n",
              "      <td>Germany</td>\n",
              "      <td>Germany</td>\n",
              "      <td>Male</td>\n",
              "      <td>University of California</td>\n",
              "      <td>Los Angeles, CA</td>\n",
              "      <td>United States of America</td>\n",
              "      <td>DEU</td>\n",
              "    </tr>\n",
              "    <tr>\n",
              "      <th>961</th>\n",
              "      <td>2020</td>\n",
              "      <td>Physics</td>\n",
              "      <td>The Nobel Prize in Physics 2020</td>\n",
              "      <td>“for the discovery that black hole formation i...</td>\n",
              "      <td>1/2</td>\n",
              "      <td>Individual</td>\n",
              "      <td>Roger Penrose</td>\n",
              "      <td>1931-08-08</td>\n",
              "      <td>Colchester</td>\n",
              "      <td>United Kingdom</td>\n",
              "      <td>United Kingdom</td>\n",
              "      <td>Male</td>\n",
              "      <td>University of Oxford</td>\n",
              "      <td>Oxford</td>\n",
              "      <td>United Kingdom</td>\n",
              "      <td>GBR</td>\n",
              "    </tr>\n",
              "  </tbody>\n",
              "</table>\n",
              "</div>"
            ],
            "text/plain": [
              "     year  category                                           prize  \\\n",
              "957  2020  Medicine  The Nobel Prize in Physiology or Medicine 2020   \n",
              "958  2020     Peace                      The Nobel Peace Prize 2020   \n",
              "959  2020   Physics                 The Nobel Prize in Physics 2020   \n",
              "960  2020   Physics                 The Nobel Prize in Physics 2020   \n",
              "961  2020   Physics                 The Nobel Prize in Physics 2020   \n",
              "\n",
              "                                            motivation prize_share  \\\n",
              "957           “for the discovery of Hepatitis C virus”         1/3   \n",
              "958  “for its efforts to combat hunger, for its con...         1/1   \n",
              "959  “for the discovery of a supermassive compact o...         1/4   \n",
              "960  “for the discovery of a supermassive compact o...         1/4   \n",
              "961  “for the discovery that black hole formation i...         1/2   \n",
              "\n",
              "    laureate_type                   full_name  birth_date  \\\n",
              "957    Individual            Michael Houghton  1949-07-02   \n",
              "958  Organization  World Food Programme (WFP)         NaN   \n",
              "959    Individual                 Andrea Ghez  1965-06-16   \n",
              "960    Individual             Reinhard Genzel  1952-03-24   \n",
              "961    Individual               Roger Penrose  1931-08-08   \n",
              "\n",
              "                   birth_city             birth_country  \\\n",
              "957                       NaN            United Kingdom   \n",
              "958                       NaN                       NaN   \n",
              "959              New York, NY  United States of America   \n",
              "960  Bad Homburg vor der Höhe                   Germany   \n",
              "961                Colchester            United Kingdom   \n",
              "\n",
              "        birth_country_current     sex         organization_name  \\\n",
              "957            United Kingdom    Male     University of Alberta   \n",
              "958                       NaN     NaN                       NaN   \n",
              "959  United States of America  Female  University of California   \n",
              "960                   Germany    Male  University of California   \n",
              "961            United Kingdom    Male      University of Oxford   \n",
              "\n",
              "    organization_city      organization_country  ISO  \n",
              "957          Edmonton                    Canada  GBR  \n",
              "958               NaN                       NaN  NaN  \n",
              "959      Berkeley, CA  United States of America  USA  \n",
              "960   Los Angeles, CA  United States of America  DEU  \n",
              "961            Oxford            United Kingdom  GBR  "
            ]
          },
          "execution_count": 33,
          "metadata": {},
          "output_type": "execute_result"
        }
      ],
      "source": [
        "df_data.tail()"
      ]
    },
    {
      "cell_type": "code",
      "execution_count": 34,
      "metadata": {},
      "outputs": [
        {
          "data": {
            "text/html": [
              "<div>\n",
              "<style scoped>\n",
              "    .dataframe tbody tr th:only-of-type {\n",
              "        vertical-align: middle;\n",
              "    }\n",
              "\n",
              "    .dataframe tbody tr th {\n",
              "        vertical-align: top;\n",
              "    }\n",
              "\n",
              "    .dataframe thead th {\n",
              "        text-align: right;\n",
              "    }\n",
              "</style>\n",
              "<table border=\"1\" class=\"dataframe\">\n",
              "  <thead>\n",
              "    <tr style=\"text-align: right;\">\n",
              "      <th></th>\n",
              "      <th>year</th>\n",
              "      <th>category</th>\n",
              "      <th>prize</th>\n",
              "      <th>motivation</th>\n",
              "      <th>prize_share</th>\n",
              "      <th>laureate_type</th>\n",
              "      <th>full_name</th>\n",
              "      <th>birth_date</th>\n",
              "      <th>birth_city</th>\n",
              "      <th>birth_country</th>\n",
              "      <th>birth_country_current</th>\n",
              "      <th>sex</th>\n",
              "      <th>organization_name</th>\n",
              "      <th>organization_city</th>\n",
              "      <th>organization_country</th>\n",
              "      <th>ISO</th>\n",
              "      <th>share_pct</th>\n",
              "    </tr>\n",
              "  </thead>\n",
              "  <tbody>\n",
              "    <tr>\n",
              "      <th>0</th>\n",
              "      <td>1901</td>\n",
              "      <td>Chemistry</td>\n",
              "      <td>The Nobel Prize in Chemistry 1901</td>\n",
              "      <td>\"in recognition of the extraordinary services ...</td>\n",
              "      <td>1/1</td>\n",
              "      <td>Individual</td>\n",
              "      <td>Jacobus Henricus van 't Hoff</td>\n",
              "      <td>1852-08-30</td>\n",
              "      <td>Rotterdam</td>\n",
              "      <td>Netherlands</td>\n",
              "      <td>Netherlands</td>\n",
              "      <td>Male</td>\n",
              "      <td>Berlin University</td>\n",
              "      <td>Berlin</td>\n",
              "      <td>Germany</td>\n",
              "      <td>NLD</td>\n",
              "      <td>1.00</td>\n",
              "    </tr>\n",
              "    <tr>\n",
              "      <th>1</th>\n",
              "      <td>1901</td>\n",
              "      <td>Literature</td>\n",
              "      <td>The Nobel Prize in Literature 1901</td>\n",
              "      <td>\"in special recognition of his poetic composit...</td>\n",
              "      <td>1/1</td>\n",
              "      <td>Individual</td>\n",
              "      <td>Sully Prudhomme</td>\n",
              "      <td>1839-03-16</td>\n",
              "      <td>Paris</td>\n",
              "      <td>France</td>\n",
              "      <td>France</td>\n",
              "      <td>Male</td>\n",
              "      <td>NaN</td>\n",
              "      <td>NaN</td>\n",
              "      <td>NaN</td>\n",
              "      <td>FRA</td>\n",
              "      <td>1.00</td>\n",
              "    </tr>\n",
              "    <tr>\n",
              "      <th>2</th>\n",
              "      <td>1901</td>\n",
              "      <td>Medicine</td>\n",
              "      <td>The Nobel Prize in Physiology or Medicine 1901</td>\n",
              "      <td>\"for his work on serum therapy, especially its...</td>\n",
              "      <td>1/1</td>\n",
              "      <td>Individual</td>\n",
              "      <td>Emil Adolf von Behring</td>\n",
              "      <td>1854-03-15</td>\n",
              "      <td>Hansdorf (Lawice)</td>\n",
              "      <td>Prussia (Poland)</td>\n",
              "      <td>Poland</td>\n",
              "      <td>Male</td>\n",
              "      <td>Marburg University</td>\n",
              "      <td>Marburg</td>\n",
              "      <td>Germany</td>\n",
              "      <td>POL</td>\n",
              "      <td>1.00</td>\n",
              "    </tr>\n",
              "    <tr>\n",
              "      <th>3</th>\n",
              "      <td>1901</td>\n",
              "      <td>Peace</td>\n",
              "      <td>The Nobel Peace Prize 1901</td>\n",
              "      <td>NaN</td>\n",
              "      <td>1/2</td>\n",
              "      <td>Individual</td>\n",
              "      <td>Frédéric Passy</td>\n",
              "      <td>1822-05-20</td>\n",
              "      <td>Paris</td>\n",
              "      <td>France</td>\n",
              "      <td>France</td>\n",
              "      <td>Male</td>\n",
              "      <td>NaN</td>\n",
              "      <td>NaN</td>\n",
              "      <td>NaN</td>\n",
              "      <td>FRA</td>\n",
              "      <td>0.50</td>\n",
              "    </tr>\n",
              "    <tr>\n",
              "      <th>4</th>\n",
              "      <td>1901</td>\n",
              "      <td>Peace</td>\n",
              "      <td>The Nobel Peace Prize 1901</td>\n",
              "      <td>NaN</td>\n",
              "      <td>1/2</td>\n",
              "      <td>Individual</td>\n",
              "      <td>Jean Henry Dunant</td>\n",
              "      <td>1828-05-08</td>\n",
              "      <td>Geneva</td>\n",
              "      <td>Switzerland</td>\n",
              "      <td>Switzerland</td>\n",
              "      <td>Male</td>\n",
              "      <td>NaN</td>\n",
              "      <td>NaN</td>\n",
              "      <td>NaN</td>\n",
              "      <td>CHE</td>\n",
              "      <td>0.50</td>\n",
              "    </tr>\n",
              "    <tr>\n",
              "      <th>...</th>\n",
              "      <td>...</td>\n",
              "      <td>...</td>\n",
              "      <td>...</td>\n",
              "      <td>...</td>\n",
              "      <td>...</td>\n",
              "      <td>...</td>\n",
              "      <td>...</td>\n",
              "      <td>...</td>\n",
              "      <td>...</td>\n",
              "      <td>...</td>\n",
              "      <td>...</td>\n",
              "      <td>...</td>\n",
              "      <td>...</td>\n",
              "      <td>...</td>\n",
              "      <td>...</td>\n",
              "      <td>...</td>\n",
              "      <td>...</td>\n",
              "    </tr>\n",
              "    <tr>\n",
              "      <th>957</th>\n",
              "      <td>2020</td>\n",
              "      <td>Medicine</td>\n",
              "      <td>The Nobel Prize in Physiology or Medicine 2020</td>\n",
              "      <td>“for the discovery of Hepatitis C virus”</td>\n",
              "      <td>1/3</td>\n",
              "      <td>Individual</td>\n",
              "      <td>Michael Houghton</td>\n",
              "      <td>1949-07-02</td>\n",
              "      <td>NaN</td>\n",
              "      <td>United Kingdom</td>\n",
              "      <td>United Kingdom</td>\n",
              "      <td>Male</td>\n",
              "      <td>University of Alberta</td>\n",
              "      <td>Edmonton</td>\n",
              "      <td>Canada</td>\n",
              "      <td>GBR</td>\n",
              "      <td>0.33</td>\n",
              "    </tr>\n",
              "    <tr>\n",
              "      <th>958</th>\n",
              "      <td>2020</td>\n",
              "      <td>Peace</td>\n",
              "      <td>The Nobel Peace Prize 2020</td>\n",
              "      <td>“for its efforts to combat hunger, for its con...</td>\n",
              "      <td>1/1</td>\n",
              "      <td>Organization</td>\n",
              "      <td>World Food Programme (WFP)</td>\n",
              "      <td>NaT</td>\n",
              "      <td>NaN</td>\n",
              "      <td>NaN</td>\n",
              "      <td>NaN</td>\n",
              "      <td>NaN</td>\n",
              "      <td>NaN</td>\n",
              "      <td>NaN</td>\n",
              "      <td>NaN</td>\n",
              "      <td>NaN</td>\n",
              "      <td>1.00</td>\n",
              "    </tr>\n",
              "    <tr>\n",
              "      <th>959</th>\n",
              "      <td>2020</td>\n",
              "      <td>Physics</td>\n",
              "      <td>The Nobel Prize in Physics 2020</td>\n",
              "      <td>“for the discovery of a supermassive compact o...</td>\n",
              "      <td>1/4</td>\n",
              "      <td>Individual</td>\n",
              "      <td>Andrea Ghez</td>\n",
              "      <td>1965-06-16</td>\n",
              "      <td>New York, NY</td>\n",
              "      <td>United States of America</td>\n",
              "      <td>United States of America</td>\n",
              "      <td>Female</td>\n",
              "      <td>University of California</td>\n",
              "      <td>Berkeley, CA</td>\n",
              "      <td>United States of America</td>\n",
              "      <td>USA</td>\n",
              "      <td>0.25</td>\n",
              "    </tr>\n",
              "    <tr>\n",
              "      <th>960</th>\n",
              "      <td>2020</td>\n",
              "      <td>Physics</td>\n",
              "      <td>The Nobel Prize in Physics 2020</td>\n",
              "      <td>“for the discovery of a supermassive compact o...</td>\n",
              "      <td>1/4</td>\n",
              "      <td>Individual</td>\n",
              "      <td>Reinhard Genzel</td>\n",
              "      <td>1952-03-24</td>\n",
              "      <td>Bad Homburg vor der Höhe</td>\n",
              "      <td>Germany</td>\n",
              "      <td>Germany</td>\n",
              "      <td>Male</td>\n",
              "      <td>University of California</td>\n",
              "      <td>Los Angeles, CA</td>\n",
              "      <td>United States of America</td>\n",
              "      <td>DEU</td>\n",
              "      <td>0.25</td>\n",
              "    </tr>\n",
              "    <tr>\n",
              "      <th>961</th>\n",
              "      <td>2020</td>\n",
              "      <td>Physics</td>\n",
              "      <td>The Nobel Prize in Physics 2020</td>\n",
              "      <td>“for the discovery that black hole formation i...</td>\n",
              "      <td>1/2</td>\n",
              "      <td>Individual</td>\n",
              "      <td>Roger Penrose</td>\n",
              "      <td>1931-08-08</td>\n",
              "      <td>Colchester</td>\n",
              "      <td>United Kingdom</td>\n",
              "      <td>United Kingdom</td>\n",
              "      <td>Male</td>\n",
              "      <td>University of Oxford</td>\n",
              "      <td>Oxford</td>\n",
              "      <td>United Kingdom</td>\n",
              "      <td>GBR</td>\n",
              "      <td>0.50</td>\n",
              "    </tr>\n",
              "  </tbody>\n",
              "</table>\n",
              "<p>962 rows × 17 columns</p>\n",
              "</div>"
            ],
            "text/plain": [
              "     year    category                                           prize  \\\n",
              "0    1901   Chemistry               The Nobel Prize in Chemistry 1901   \n",
              "1    1901  Literature              The Nobel Prize in Literature 1901   \n",
              "2    1901    Medicine  The Nobel Prize in Physiology or Medicine 1901   \n",
              "3    1901       Peace                      The Nobel Peace Prize 1901   \n",
              "4    1901       Peace                      The Nobel Peace Prize 1901   \n",
              "..    ...         ...                                             ...   \n",
              "957  2020    Medicine  The Nobel Prize in Physiology or Medicine 2020   \n",
              "958  2020       Peace                      The Nobel Peace Prize 2020   \n",
              "959  2020     Physics                 The Nobel Prize in Physics 2020   \n",
              "960  2020     Physics                 The Nobel Prize in Physics 2020   \n",
              "961  2020     Physics                 The Nobel Prize in Physics 2020   \n",
              "\n",
              "                                            motivation prize_share  \\\n",
              "0    \"in recognition of the extraordinary services ...         1/1   \n",
              "1    \"in special recognition of his poetic composit...         1/1   \n",
              "2    \"for his work on serum therapy, especially its...         1/1   \n",
              "3                                                  NaN         1/2   \n",
              "4                                                  NaN         1/2   \n",
              "..                                                 ...         ...   \n",
              "957           “for the discovery of Hepatitis C virus”         1/3   \n",
              "958  “for its efforts to combat hunger, for its con...         1/1   \n",
              "959  “for the discovery of a supermassive compact o...         1/4   \n",
              "960  “for the discovery of a supermassive compact o...         1/4   \n",
              "961  “for the discovery that black hole formation i...         1/2   \n",
              "\n",
              "    laureate_type                     full_name birth_date  \\\n",
              "0      Individual  Jacobus Henricus van 't Hoff 1852-08-30   \n",
              "1      Individual               Sully Prudhomme 1839-03-16   \n",
              "2      Individual        Emil Adolf von Behring 1854-03-15   \n",
              "3      Individual                Frédéric Passy 1822-05-20   \n",
              "4      Individual             Jean Henry Dunant 1828-05-08   \n",
              "..            ...                           ...        ...   \n",
              "957    Individual              Michael Houghton 1949-07-02   \n",
              "958  Organization    World Food Programme (WFP)        NaT   \n",
              "959    Individual                   Andrea Ghez 1965-06-16   \n",
              "960    Individual               Reinhard Genzel 1952-03-24   \n",
              "961    Individual                 Roger Penrose 1931-08-08   \n",
              "\n",
              "                   birth_city             birth_country  \\\n",
              "0                   Rotterdam               Netherlands   \n",
              "1                       Paris                    France   \n",
              "2           Hansdorf (Lawice)          Prussia (Poland)   \n",
              "3                       Paris                    France   \n",
              "4                      Geneva               Switzerland   \n",
              "..                        ...                       ...   \n",
              "957                       NaN            United Kingdom   \n",
              "958                       NaN                       NaN   \n",
              "959              New York, NY  United States of America   \n",
              "960  Bad Homburg vor der Höhe                   Germany   \n",
              "961                Colchester            United Kingdom   \n",
              "\n",
              "        birth_country_current     sex         organization_name  \\\n",
              "0                 Netherlands    Male         Berlin University   \n",
              "1                      France    Male                       NaN   \n",
              "2                      Poland    Male        Marburg University   \n",
              "3                      France    Male                       NaN   \n",
              "4                 Switzerland    Male                       NaN   \n",
              "..                        ...     ...                       ...   \n",
              "957            United Kingdom    Male     University of Alberta   \n",
              "958                       NaN     NaN                       NaN   \n",
              "959  United States of America  Female  University of California   \n",
              "960                   Germany    Male  University of California   \n",
              "961            United Kingdom    Male      University of Oxford   \n",
              "\n",
              "    organization_city      organization_country  ISO  share_pct  \n",
              "0              Berlin                   Germany  NLD       1.00  \n",
              "1                 NaN                       NaN  FRA       1.00  \n",
              "2             Marburg                   Germany  POL       1.00  \n",
              "3                 NaN                       NaN  FRA       0.50  \n",
              "4                 NaN                       NaN  CHE       0.50  \n",
              "..                ...                       ...  ...        ...  \n",
              "957          Edmonton                    Canada  GBR       0.33  \n",
              "958               NaN                       NaN  NaN       1.00  \n",
              "959      Berkeley, CA  United States of America  USA       0.25  \n",
              "960   Los Angeles, CA  United States of America  DEU       0.25  \n",
              "961            Oxford            United Kingdom  GBR       0.50  \n",
              "\n",
              "[962 rows x 17 columns]"
            ]
          },
          "execution_count": 34,
          "metadata": {},
          "output_type": "execute_result"
        }
      ],
      "source": [
        "df_data.birth_date = pd.to_datetime(df_data.birth_date)\n",
        "\n",
        "str_values = df_data.prize_share.str.split('/', expand=True)\n",
        "base = pd.to_numeric(str_values[0])\n",
        "denomenator =  pd.to_numeric(str_values[1])\n",
        "df_data['share_pct'] = base / denomenator\n",
        "\n",
        "# df_data.info()\n",
        "df_data"
      ]
    },
    {
      "cell_type": "code",
      "execution_count": null,
      "metadata": {
        "id": "Jas4fWv4Fa4_"
      },
      "outputs": [],
      "source": []
    },
    {
      "cell_type": "markdown",
      "metadata": {
        "id": "i456Gr0io7Lm"
      },
      "source": [
        "#### Add a Column with the Prize Share as a Percentage"
      ]
    },
    {
      "cell_type": "code",
      "execution_count": null,
      "metadata": {
        "id": "4BNug19-FdHP"
      },
      "outputs": [],
      "source": []
    },
    {
      "cell_type": "code",
      "execution_count": null,
      "metadata": {
        "id": "RKZXiaO1Fc9v"
      },
      "outputs": [],
      "source": []
    },
    {
      "cell_type": "markdown",
      "metadata": {
        "id": "-x571TLao7Lq"
      },
      "source": [
        "# Plotly Donut Chart: Percentage of Male vs. Female Laureates"
      ]
    },
    {
      "cell_type": "markdown",
      "metadata": {
        "id": "Q5jBv1lUo7Lq"
      },
      "source": [
        "**Challenge**: Create a [donut chart using plotly](https://plotly.com/python/pie-charts/) which shows how many prizes went to men compared to how many prizes went to women. What percentage of all the prizes went to women?"
      ]
    },
    {
      "cell_type": "code",
      "execution_count": 35,
      "metadata": {
        "id": "wxTmkQd-Ff3Q"
      },
      "outputs": [
        {
          "data": {
            "application/vnd.plotly.v1+json": {
              "config": {
                "plotlyServerURL": "https://plot.ly"
              },
              "data": [
                {
                  "domain": {
                    "x": [
                      0,
                      1
                    ],
                    "y": [
                      0,
                      1
                    ]
                  },
                  "hole": 0.5,
                  "hovertemplate": "label=%{label}<br>value=%{value}<extra></extra>",
                  "labels": [
                    "Male",
                    "Female"
                  ],
                  "legendgroup": "",
                  "name": "",
                  "showlegend": true,
                  "textfont": {
                    "size": 15
                  },
                  "textinfo": "percent+label",
                  "textposition": "outside",
                  "type": "pie",
                  "values": [
                    876,
                    58
                  ]
                }
              ],
              "layout": {
                "legend": {
                  "tracegroupgap": 0
                },
                "template": {
                  "data": {
                    "bar": [
                      {
                        "error_x": {
                          "color": "#2a3f5f"
                        },
                        "error_y": {
                          "color": "#2a3f5f"
                        },
                        "marker": {
                          "line": {
                            "color": "#E5ECF6",
                            "width": 0.5
                          },
                          "pattern": {
                            "fillmode": "overlay",
                            "size": 10,
                            "solidity": 0.2
                          }
                        },
                        "type": "bar"
                      }
                    ],
                    "barpolar": [
                      {
                        "marker": {
                          "line": {
                            "color": "#E5ECF6",
                            "width": 0.5
                          },
                          "pattern": {
                            "fillmode": "overlay",
                            "size": 10,
                            "solidity": 0.2
                          }
                        },
                        "type": "barpolar"
                      }
                    ],
                    "carpet": [
                      {
                        "aaxis": {
                          "endlinecolor": "#2a3f5f",
                          "gridcolor": "white",
                          "linecolor": "white",
                          "minorgridcolor": "white",
                          "startlinecolor": "#2a3f5f"
                        },
                        "baxis": {
                          "endlinecolor": "#2a3f5f",
                          "gridcolor": "white",
                          "linecolor": "white",
                          "minorgridcolor": "white",
                          "startlinecolor": "#2a3f5f"
                        },
                        "type": "carpet"
                      }
                    ],
                    "choropleth": [
                      {
                        "colorbar": {
                          "outlinewidth": 0,
                          "ticks": ""
                        },
                        "type": "choropleth"
                      }
                    ],
                    "contour": [
                      {
                        "colorbar": {
                          "outlinewidth": 0,
                          "ticks": ""
                        },
                        "colorscale": [
                          [
                            0,
                            "#0d0887"
                          ],
                          [
                            0.1111111111111111,
                            "#46039f"
                          ],
                          [
                            0.2222222222222222,
                            "#7201a8"
                          ],
                          [
                            0.3333333333333333,
                            "#9c179e"
                          ],
                          [
                            0.4444444444444444,
                            "#bd3786"
                          ],
                          [
                            0.5555555555555556,
                            "#d8576b"
                          ],
                          [
                            0.6666666666666666,
                            "#ed7953"
                          ],
                          [
                            0.7777777777777778,
                            "#fb9f3a"
                          ],
                          [
                            0.8888888888888888,
                            "#fdca26"
                          ],
                          [
                            1,
                            "#f0f921"
                          ]
                        ],
                        "type": "contour"
                      }
                    ],
                    "contourcarpet": [
                      {
                        "colorbar": {
                          "outlinewidth": 0,
                          "ticks": ""
                        },
                        "type": "contourcarpet"
                      }
                    ],
                    "heatmap": [
                      {
                        "colorbar": {
                          "outlinewidth": 0,
                          "ticks": ""
                        },
                        "colorscale": [
                          [
                            0,
                            "#0d0887"
                          ],
                          [
                            0.1111111111111111,
                            "#46039f"
                          ],
                          [
                            0.2222222222222222,
                            "#7201a8"
                          ],
                          [
                            0.3333333333333333,
                            "#9c179e"
                          ],
                          [
                            0.4444444444444444,
                            "#bd3786"
                          ],
                          [
                            0.5555555555555556,
                            "#d8576b"
                          ],
                          [
                            0.6666666666666666,
                            "#ed7953"
                          ],
                          [
                            0.7777777777777778,
                            "#fb9f3a"
                          ],
                          [
                            0.8888888888888888,
                            "#fdca26"
                          ],
                          [
                            1,
                            "#f0f921"
                          ]
                        ],
                        "type": "heatmap"
                      }
                    ],
                    "heatmapgl": [
                      {
                        "colorbar": {
                          "outlinewidth": 0,
                          "ticks": ""
                        },
                        "colorscale": [
                          [
                            0,
                            "#0d0887"
                          ],
                          [
                            0.1111111111111111,
                            "#46039f"
                          ],
                          [
                            0.2222222222222222,
                            "#7201a8"
                          ],
                          [
                            0.3333333333333333,
                            "#9c179e"
                          ],
                          [
                            0.4444444444444444,
                            "#bd3786"
                          ],
                          [
                            0.5555555555555556,
                            "#d8576b"
                          ],
                          [
                            0.6666666666666666,
                            "#ed7953"
                          ],
                          [
                            0.7777777777777778,
                            "#fb9f3a"
                          ],
                          [
                            0.8888888888888888,
                            "#fdca26"
                          ],
                          [
                            1,
                            "#f0f921"
                          ]
                        ],
                        "type": "heatmapgl"
                      }
                    ],
                    "histogram": [
                      {
                        "marker": {
                          "pattern": {
                            "fillmode": "overlay",
                            "size": 10,
                            "solidity": 0.2
                          }
                        },
                        "type": "histogram"
                      }
                    ],
                    "histogram2d": [
                      {
                        "colorbar": {
                          "outlinewidth": 0,
                          "ticks": ""
                        },
                        "colorscale": [
                          [
                            0,
                            "#0d0887"
                          ],
                          [
                            0.1111111111111111,
                            "#46039f"
                          ],
                          [
                            0.2222222222222222,
                            "#7201a8"
                          ],
                          [
                            0.3333333333333333,
                            "#9c179e"
                          ],
                          [
                            0.4444444444444444,
                            "#bd3786"
                          ],
                          [
                            0.5555555555555556,
                            "#d8576b"
                          ],
                          [
                            0.6666666666666666,
                            "#ed7953"
                          ],
                          [
                            0.7777777777777778,
                            "#fb9f3a"
                          ],
                          [
                            0.8888888888888888,
                            "#fdca26"
                          ],
                          [
                            1,
                            "#f0f921"
                          ]
                        ],
                        "type": "histogram2d"
                      }
                    ],
                    "histogram2dcontour": [
                      {
                        "colorbar": {
                          "outlinewidth": 0,
                          "ticks": ""
                        },
                        "colorscale": [
                          [
                            0,
                            "#0d0887"
                          ],
                          [
                            0.1111111111111111,
                            "#46039f"
                          ],
                          [
                            0.2222222222222222,
                            "#7201a8"
                          ],
                          [
                            0.3333333333333333,
                            "#9c179e"
                          ],
                          [
                            0.4444444444444444,
                            "#bd3786"
                          ],
                          [
                            0.5555555555555556,
                            "#d8576b"
                          ],
                          [
                            0.6666666666666666,
                            "#ed7953"
                          ],
                          [
                            0.7777777777777778,
                            "#fb9f3a"
                          ],
                          [
                            0.8888888888888888,
                            "#fdca26"
                          ],
                          [
                            1,
                            "#f0f921"
                          ]
                        ],
                        "type": "histogram2dcontour"
                      }
                    ],
                    "mesh3d": [
                      {
                        "colorbar": {
                          "outlinewidth": 0,
                          "ticks": ""
                        },
                        "type": "mesh3d"
                      }
                    ],
                    "parcoords": [
                      {
                        "line": {
                          "colorbar": {
                            "outlinewidth": 0,
                            "ticks": ""
                          }
                        },
                        "type": "parcoords"
                      }
                    ],
                    "pie": [
                      {
                        "automargin": true,
                        "type": "pie"
                      }
                    ],
                    "scatter": [
                      {
                        "fillpattern": {
                          "fillmode": "overlay",
                          "size": 10,
                          "solidity": 0.2
                        },
                        "type": "scatter"
                      }
                    ],
                    "scatter3d": [
                      {
                        "line": {
                          "colorbar": {
                            "outlinewidth": 0,
                            "ticks": ""
                          }
                        },
                        "marker": {
                          "colorbar": {
                            "outlinewidth": 0,
                            "ticks": ""
                          }
                        },
                        "type": "scatter3d"
                      }
                    ],
                    "scattercarpet": [
                      {
                        "marker": {
                          "colorbar": {
                            "outlinewidth": 0,
                            "ticks": ""
                          }
                        },
                        "type": "scattercarpet"
                      }
                    ],
                    "scattergeo": [
                      {
                        "marker": {
                          "colorbar": {
                            "outlinewidth": 0,
                            "ticks": ""
                          }
                        },
                        "type": "scattergeo"
                      }
                    ],
                    "scattergl": [
                      {
                        "marker": {
                          "colorbar": {
                            "outlinewidth": 0,
                            "ticks": ""
                          }
                        },
                        "type": "scattergl"
                      }
                    ],
                    "scattermapbox": [
                      {
                        "marker": {
                          "colorbar": {
                            "outlinewidth": 0,
                            "ticks": ""
                          }
                        },
                        "type": "scattermapbox"
                      }
                    ],
                    "scatterpolar": [
                      {
                        "marker": {
                          "colorbar": {
                            "outlinewidth": 0,
                            "ticks": ""
                          }
                        },
                        "type": "scatterpolar"
                      }
                    ],
                    "scatterpolargl": [
                      {
                        "marker": {
                          "colorbar": {
                            "outlinewidth": 0,
                            "ticks": ""
                          }
                        },
                        "type": "scatterpolargl"
                      }
                    ],
                    "scatterternary": [
                      {
                        "marker": {
                          "colorbar": {
                            "outlinewidth": 0,
                            "ticks": ""
                          }
                        },
                        "type": "scatterternary"
                      }
                    ],
                    "surface": [
                      {
                        "colorbar": {
                          "outlinewidth": 0,
                          "ticks": ""
                        },
                        "colorscale": [
                          [
                            0,
                            "#0d0887"
                          ],
                          [
                            0.1111111111111111,
                            "#46039f"
                          ],
                          [
                            0.2222222222222222,
                            "#7201a8"
                          ],
                          [
                            0.3333333333333333,
                            "#9c179e"
                          ],
                          [
                            0.4444444444444444,
                            "#bd3786"
                          ],
                          [
                            0.5555555555555556,
                            "#d8576b"
                          ],
                          [
                            0.6666666666666666,
                            "#ed7953"
                          ],
                          [
                            0.7777777777777778,
                            "#fb9f3a"
                          ],
                          [
                            0.8888888888888888,
                            "#fdca26"
                          ],
                          [
                            1,
                            "#f0f921"
                          ]
                        ],
                        "type": "surface"
                      }
                    ],
                    "table": [
                      {
                        "cells": {
                          "fill": {
                            "color": "#EBF0F8"
                          },
                          "line": {
                            "color": "white"
                          }
                        },
                        "header": {
                          "fill": {
                            "color": "#C8D4E3"
                          },
                          "line": {
                            "color": "white"
                          }
                        },
                        "type": "table"
                      }
                    ]
                  },
                  "layout": {
                    "annotationdefaults": {
                      "arrowcolor": "#2a3f5f",
                      "arrowhead": 0,
                      "arrowwidth": 1
                    },
                    "autotypenumbers": "strict",
                    "coloraxis": {
                      "colorbar": {
                        "outlinewidth": 0,
                        "ticks": ""
                      }
                    },
                    "colorscale": {
                      "diverging": [
                        [
                          0,
                          "#8e0152"
                        ],
                        [
                          0.1,
                          "#c51b7d"
                        ],
                        [
                          0.2,
                          "#de77ae"
                        ],
                        [
                          0.3,
                          "#f1b6da"
                        ],
                        [
                          0.4,
                          "#fde0ef"
                        ],
                        [
                          0.5,
                          "#f7f7f7"
                        ],
                        [
                          0.6,
                          "#e6f5d0"
                        ],
                        [
                          0.7,
                          "#b8e186"
                        ],
                        [
                          0.8,
                          "#7fbc41"
                        ],
                        [
                          0.9,
                          "#4d9221"
                        ],
                        [
                          1,
                          "#276419"
                        ]
                      ],
                      "sequential": [
                        [
                          0,
                          "#0d0887"
                        ],
                        [
                          0.1111111111111111,
                          "#46039f"
                        ],
                        [
                          0.2222222222222222,
                          "#7201a8"
                        ],
                        [
                          0.3333333333333333,
                          "#9c179e"
                        ],
                        [
                          0.4444444444444444,
                          "#bd3786"
                        ],
                        [
                          0.5555555555555556,
                          "#d8576b"
                        ],
                        [
                          0.6666666666666666,
                          "#ed7953"
                        ],
                        [
                          0.7777777777777778,
                          "#fb9f3a"
                        ],
                        [
                          0.8888888888888888,
                          "#fdca26"
                        ],
                        [
                          1,
                          "#f0f921"
                        ]
                      ],
                      "sequentialminus": [
                        [
                          0,
                          "#0d0887"
                        ],
                        [
                          0.1111111111111111,
                          "#46039f"
                        ],
                        [
                          0.2222222222222222,
                          "#7201a8"
                        ],
                        [
                          0.3333333333333333,
                          "#9c179e"
                        ],
                        [
                          0.4444444444444444,
                          "#bd3786"
                        ],
                        [
                          0.5555555555555556,
                          "#d8576b"
                        ],
                        [
                          0.6666666666666666,
                          "#ed7953"
                        ],
                        [
                          0.7777777777777778,
                          "#fb9f3a"
                        ],
                        [
                          0.8888888888888888,
                          "#fdca26"
                        ],
                        [
                          1,
                          "#f0f921"
                        ]
                      ]
                    },
                    "colorway": [
                      "#636efa",
                      "#EF553B",
                      "#00cc96",
                      "#ab63fa",
                      "#FFA15A",
                      "#19d3f3",
                      "#FF6692",
                      "#B6E880",
                      "#FF97FF",
                      "#FECB52"
                    ],
                    "font": {
                      "color": "#2a3f5f"
                    },
                    "geo": {
                      "bgcolor": "white",
                      "lakecolor": "white",
                      "landcolor": "#E5ECF6",
                      "showlakes": true,
                      "showland": true,
                      "subunitcolor": "white"
                    },
                    "hoverlabel": {
                      "align": "left"
                    },
                    "hovermode": "closest",
                    "mapbox": {
                      "style": "light"
                    },
                    "paper_bgcolor": "white",
                    "plot_bgcolor": "#E5ECF6",
                    "polar": {
                      "angularaxis": {
                        "gridcolor": "white",
                        "linecolor": "white",
                        "ticks": ""
                      },
                      "bgcolor": "#E5ECF6",
                      "radialaxis": {
                        "gridcolor": "white",
                        "linecolor": "white",
                        "ticks": ""
                      }
                    },
                    "scene": {
                      "xaxis": {
                        "backgroundcolor": "#E5ECF6",
                        "gridcolor": "white",
                        "gridwidth": 2,
                        "linecolor": "white",
                        "showbackground": true,
                        "ticks": "",
                        "zerolinecolor": "white"
                      },
                      "yaxis": {
                        "backgroundcolor": "#E5ECF6",
                        "gridcolor": "white",
                        "gridwidth": 2,
                        "linecolor": "white",
                        "showbackground": true,
                        "ticks": "",
                        "zerolinecolor": "white"
                      },
                      "zaxis": {
                        "backgroundcolor": "#E5ECF6",
                        "gridcolor": "white",
                        "gridwidth": 2,
                        "linecolor": "white",
                        "showbackground": true,
                        "ticks": "",
                        "zerolinecolor": "white"
                      }
                    },
                    "shapedefaults": {
                      "line": {
                        "color": "#2a3f5f"
                      }
                    },
                    "ternary": {
                      "aaxis": {
                        "gridcolor": "white",
                        "linecolor": "white",
                        "ticks": ""
                      },
                      "baxis": {
                        "gridcolor": "white",
                        "linecolor": "white",
                        "ticks": ""
                      },
                      "bgcolor": "#E5ECF6",
                      "caxis": {
                        "gridcolor": "white",
                        "linecolor": "white",
                        "ticks": ""
                      }
                    },
                    "title": {
                      "x": 0.05
                    },
                    "xaxis": {
                      "automargin": true,
                      "gridcolor": "white",
                      "linecolor": "white",
                      "ticks": "",
                      "title": {
                        "standoff": 15
                      },
                      "zerolinecolor": "white",
                      "zerolinewidth": 2
                    },
                    "yaxis": {
                      "automargin": true,
                      "gridcolor": "white",
                      "linecolor": "white",
                      "ticks": "",
                      "title": {
                        "standoff": 15
                      },
                      "zerolinecolor": "white",
                      "zerolinewidth": 2
                    }
                  }
                },
                "title": {
                  "text": "Percentages Male vs Female"
                }
              }
            }
          },
          "metadata": {},
          "output_type": "display_data"
        }
      ],
      "source": [
        "df_sex = df_data.sex.value_counts()\n",
        "\n",
        "graph = px.pie(values=df_sex.values, names=df_sex.index, title=\"Percentages Male vs Female\", hole=0.5)\n",
        "graph.update_traces(textposition=\"outside\", textfont_size=15, textinfo=\"percent+label\")\n",
        "\n",
        "graph.show()\n",
        "\n"
      ]
    },
    {
      "cell_type": "code",
      "execution_count": null,
      "metadata": {
        "id": "qVJDd4uhFgGk"
      },
      "outputs": [],
      "source": []
    },
    {
      "cell_type": "markdown",
      "metadata": {
        "dc": {
          "key": "38"
        },
        "id": "dmdB0tCko7Lu",
        "run_control": {
          "frozen": true
        },
        "tags": [
          "context"
        ]
      },
      "source": [
        "# Who were the first 3 Women to Win the Nobel Prize?\n",
        "\n",
        "**Challenge**: \n",
        "* What are the names of the first 3 female Nobel laureates? \n",
        "* What did the win the prize for? \n",
        "* What do you see in their `birth_country`? Were they part of an organisation?"
      ]
    },
    {
      "cell_type": "code",
      "execution_count": 36,
      "metadata": {
        "id": "nk5h-XFcFiJp"
      },
      "outputs": [
        {
          "data": {
            "text/html": [
              "<div>\n",
              "<style scoped>\n",
              "    .dataframe tbody tr th:only-of-type {\n",
              "        vertical-align: middle;\n",
              "    }\n",
              "\n",
              "    .dataframe tbody tr th {\n",
              "        vertical-align: top;\n",
              "    }\n",
              "\n",
              "    .dataframe thead th {\n",
              "        text-align: right;\n",
              "    }\n",
              "</style>\n",
              "<table border=\"1\" class=\"dataframe\">\n",
              "  <thead>\n",
              "    <tr style=\"text-align: right;\">\n",
              "      <th></th>\n",
              "      <th>year</th>\n",
              "      <th>category</th>\n",
              "      <th>prize</th>\n",
              "      <th>motivation</th>\n",
              "      <th>prize_share</th>\n",
              "      <th>laureate_type</th>\n",
              "      <th>full_name</th>\n",
              "      <th>birth_date</th>\n",
              "      <th>birth_city</th>\n",
              "      <th>birth_country</th>\n",
              "      <th>birth_country_current</th>\n",
              "      <th>sex</th>\n",
              "      <th>organization_name</th>\n",
              "      <th>organization_city</th>\n",
              "      <th>organization_country</th>\n",
              "      <th>ISO</th>\n",
              "      <th>share_pct</th>\n",
              "    </tr>\n",
              "  </thead>\n",
              "  <tbody>\n",
              "    <tr>\n",
              "      <th>18</th>\n",
              "      <td>1903</td>\n",
              "      <td>Physics</td>\n",
              "      <td>The Nobel Prize in Physics 1903</td>\n",
              "      <td>\"in recognition of the extraordinary services ...</td>\n",
              "      <td>1/4</td>\n",
              "      <td>Individual</td>\n",
              "      <td>Marie Curie, née Sklodowska</td>\n",
              "      <td>1867-11-07</td>\n",
              "      <td>Warsaw</td>\n",
              "      <td>Russian Empire (Poland)</td>\n",
              "      <td>Poland</td>\n",
              "      <td>Female</td>\n",
              "      <td>NaN</td>\n",
              "      <td>NaN</td>\n",
              "      <td>NaN</td>\n",
              "      <td>POL</td>\n",
              "      <td>0.25</td>\n",
              "    </tr>\n",
              "    <tr>\n",
              "      <th>29</th>\n",
              "      <td>1905</td>\n",
              "      <td>Peace</td>\n",
              "      <td>The Nobel Peace Prize 1905</td>\n",
              "      <td>NaN</td>\n",
              "      <td>1/1</td>\n",
              "      <td>Individual</td>\n",
              "      <td>Baroness Bertha Sophie Felicita von Suttner, n...</td>\n",
              "      <td>1843-06-09</td>\n",
              "      <td>Prague</td>\n",
              "      <td>Austrian Empire (Czech Republic)</td>\n",
              "      <td>Czech Republic</td>\n",
              "      <td>Female</td>\n",
              "      <td>NaN</td>\n",
              "      <td>NaN</td>\n",
              "      <td>NaN</td>\n",
              "      <td>CZE</td>\n",
              "      <td>1.00</td>\n",
              "    </tr>\n",
              "    <tr>\n",
              "      <th>51</th>\n",
              "      <td>1909</td>\n",
              "      <td>Literature</td>\n",
              "      <td>The Nobel Prize in Literature 1909</td>\n",
              "      <td>\"in appreciation of the lofty idealism, vivid ...</td>\n",
              "      <td>1/1</td>\n",
              "      <td>Individual</td>\n",
              "      <td>Selma Ottilia Lovisa Lagerlöf</td>\n",
              "      <td>1858-11-20</td>\n",
              "      <td>Mårbacka</td>\n",
              "      <td>Sweden</td>\n",
              "      <td>Sweden</td>\n",
              "      <td>Female</td>\n",
              "      <td>NaN</td>\n",
              "      <td>NaN</td>\n",
              "      <td>NaN</td>\n",
              "      <td>SWE</td>\n",
              "      <td>1.00</td>\n",
              "    </tr>\n",
              "  </tbody>\n",
              "</table>\n",
              "</div>"
            ],
            "text/plain": [
              "    year    category                               prize  \\\n",
              "18  1903     Physics     The Nobel Prize in Physics 1903   \n",
              "29  1905       Peace          The Nobel Peace Prize 1905   \n",
              "51  1909  Literature  The Nobel Prize in Literature 1909   \n",
              "\n",
              "                                           motivation prize_share  \\\n",
              "18  \"in recognition of the extraordinary services ...         1/4   \n",
              "29                                                NaN         1/1   \n",
              "51  \"in appreciation of the lofty idealism, vivid ...         1/1   \n",
              "\n",
              "   laureate_type                                          full_name  \\\n",
              "18    Individual                        Marie Curie, née Sklodowska   \n",
              "29    Individual  Baroness Bertha Sophie Felicita von Suttner, n...   \n",
              "51    Individual                      Selma Ottilia Lovisa Lagerlöf   \n",
              "\n",
              "   birth_date birth_city                     birth_country  \\\n",
              "18 1867-11-07     Warsaw           Russian Empire (Poland)   \n",
              "29 1843-06-09     Prague  Austrian Empire (Czech Republic)   \n",
              "51 1858-11-20   Mårbacka                            Sweden   \n",
              "\n",
              "   birth_country_current     sex organization_name organization_city  \\\n",
              "18                Poland  Female               NaN               NaN   \n",
              "29        Czech Republic  Female               NaN               NaN   \n",
              "51                Sweden  Female               NaN               NaN   \n",
              "\n",
              "   organization_country  ISO  share_pct  \n",
              "18                  NaN  POL       0.25  \n",
              "29                  NaN  CZE       1.00  \n",
              "51                  NaN  SWE       1.00  "
            ]
          },
          "execution_count": 36,
          "metadata": {},
          "output_type": "execute_result"
        }
      ],
      "source": [
        "\n",
        "df_female = df_data[df_data.sex == 'Female']\n",
        "df_female.sort_values('year')[:3]"
      ]
    },
    {
      "cell_type": "code",
      "execution_count": null,
      "metadata": {
        "id": "fqBSGeNcFiBM"
      },
      "outputs": [],
      "source": []
    },
    {
      "cell_type": "markdown",
      "metadata": {
        "id": "dPVD_f1oo7Lw"
      },
      "source": [
        "# Find the Repeat Winners\n",
        "\n",
        "**Challenge**: Did some people get a Nobel Prize more than once? If so, who were they? "
      ]
    },
    {
      "cell_type": "code",
      "execution_count": 37,
      "metadata": {
        "id": "Qqf8_dWUFjpz"
      },
      "outputs": [
        {
          "data": {
            "text/plain": [
              "0      False\n",
              "1      False\n",
              "2      False\n",
              "3      False\n",
              "4      False\n",
              "       ...  \n",
              "957    False\n",
              "958    False\n",
              "959    False\n",
              "960    False\n",
              "961    False\n",
              "Length: 962, dtype: bool"
            ]
          },
          "execution_count": 37,
          "metadata": {},
          "output_type": "execute_result"
        }
      ],
      "source": [
        "is_winner = df_data.duplicated(subset=['full_name'],)\n",
        "is_winner"
      ]
    },
    {
      "cell_type": "code",
      "execution_count": 38,
      "metadata": {
        "id": "UuIqCxQvFjdF"
      },
      "outputs": [
        {
          "data": {
            "text/plain": [
              "6"
            ]
          },
          "execution_count": 38,
          "metadata": {},
          "output_type": "execute_result"
        }
      ],
      "source": [
        "df_data[is_winner].full_name.nunique()"
      ]
    },
    {
      "cell_type": "markdown",
      "metadata": {
        "dc": {
          "key": "45"
        },
        "id": "x5NtE05go7L1",
        "tags": [
          "sample_code"
        ]
      },
      "source": [
        "# Number of Prizes per Category\n",
        "\n",
        "**Challenge**: \n",
        "* In how many categories are prizes awarded? \n",
        "* Create a plotly bar chart with the number of prizes awarded by category. \n",
        "* Use the color scale called `Aggrnyl` to colour the chart, but don't show a color axis.\n",
        "* Which category has the most number of prizes awarded? \n",
        "* Which category has the fewest number of prizes awarded? "
      ]
    },
    {
      "cell_type": "code",
      "execution_count": 39,
      "metadata": {
        "id": "EjwqH7bxFm10"
      },
      "outputs": [
        {
          "data": {
            "application/vnd.plotly.v1+json": {
              "config": {
                "plotlyServerURL": "https://plot.ly"
              },
              "data": [
                {
                  "alignmentgroup": "True",
                  "hovertemplate": "x=%{x}<br>y=%{y}<br>color=%{marker.color}<extra></extra>",
                  "legendgroup": "",
                  "marker": {
                    "color": [
                      222,
                      216,
                      186,
                      135,
                      117,
                      86
                    ],
                    "coloraxis": "coloraxis",
                    "pattern": {
                      "shape": ""
                    }
                  },
                  "name": "",
                  "offsetgroup": "",
                  "orientation": "v",
                  "showlegend": false,
                  "textposition": "auto",
                  "type": "bar",
                  "x": [
                    "Medicine",
                    "Physics",
                    "Chemistry",
                    "Peace",
                    "Literature",
                    "Economics"
                  ],
                  "xaxis": "x",
                  "y": [
                    222,
                    216,
                    186,
                    135,
                    117,
                    86
                  ],
                  "yaxis": "y"
                }
              ],
              "layout": {
                "barmode": "relative",
                "coloraxis": {
                  "colorbar": {
                    "title": {
                      "text": "color"
                    }
                  },
                  "colorscale": [
                    [
                      0,
                      "#e2d9e2"
                    ],
                    [
                      0.1111111111111111,
                      "#9ebbc9"
                    ],
                    [
                      0.2222222222222222,
                      "#6785be"
                    ],
                    [
                      0.3333333333333333,
                      "#5e43a5"
                    ],
                    [
                      0.4444444444444444,
                      "#421257"
                    ],
                    [
                      0.5555555555555556,
                      "#471340"
                    ],
                    [
                      0.6666666666666666,
                      "#8e2c50"
                    ],
                    [
                      0.7777777777777778,
                      "#ba6657"
                    ],
                    [
                      0.8888888888888888,
                      "#ceac94"
                    ],
                    [
                      1,
                      "#e2d9e2"
                    ]
                  ],
                  "showscale": true
                },
                "legend": {
                  "tracegroupgap": 0
                },
                "template": {
                  "data": {
                    "bar": [
                      {
                        "error_x": {
                          "color": "#2a3f5f"
                        },
                        "error_y": {
                          "color": "#2a3f5f"
                        },
                        "marker": {
                          "line": {
                            "color": "#E5ECF6",
                            "width": 0.5
                          },
                          "pattern": {
                            "fillmode": "overlay",
                            "size": 10,
                            "solidity": 0.2
                          }
                        },
                        "type": "bar"
                      }
                    ],
                    "barpolar": [
                      {
                        "marker": {
                          "line": {
                            "color": "#E5ECF6",
                            "width": 0.5
                          },
                          "pattern": {
                            "fillmode": "overlay",
                            "size": 10,
                            "solidity": 0.2
                          }
                        },
                        "type": "barpolar"
                      }
                    ],
                    "carpet": [
                      {
                        "aaxis": {
                          "endlinecolor": "#2a3f5f",
                          "gridcolor": "white",
                          "linecolor": "white",
                          "minorgridcolor": "white",
                          "startlinecolor": "#2a3f5f"
                        },
                        "baxis": {
                          "endlinecolor": "#2a3f5f",
                          "gridcolor": "white",
                          "linecolor": "white",
                          "minorgridcolor": "white",
                          "startlinecolor": "#2a3f5f"
                        },
                        "type": "carpet"
                      }
                    ],
                    "choropleth": [
                      {
                        "colorbar": {
                          "outlinewidth": 0,
                          "ticks": ""
                        },
                        "type": "choropleth"
                      }
                    ],
                    "contour": [
                      {
                        "colorbar": {
                          "outlinewidth": 0,
                          "ticks": ""
                        },
                        "colorscale": [
                          [
                            0,
                            "#0d0887"
                          ],
                          [
                            0.1111111111111111,
                            "#46039f"
                          ],
                          [
                            0.2222222222222222,
                            "#7201a8"
                          ],
                          [
                            0.3333333333333333,
                            "#9c179e"
                          ],
                          [
                            0.4444444444444444,
                            "#bd3786"
                          ],
                          [
                            0.5555555555555556,
                            "#d8576b"
                          ],
                          [
                            0.6666666666666666,
                            "#ed7953"
                          ],
                          [
                            0.7777777777777778,
                            "#fb9f3a"
                          ],
                          [
                            0.8888888888888888,
                            "#fdca26"
                          ],
                          [
                            1,
                            "#f0f921"
                          ]
                        ],
                        "type": "contour"
                      }
                    ],
                    "contourcarpet": [
                      {
                        "colorbar": {
                          "outlinewidth": 0,
                          "ticks": ""
                        },
                        "type": "contourcarpet"
                      }
                    ],
                    "heatmap": [
                      {
                        "colorbar": {
                          "outlinewidth": 0,
                          "ticks": ""
                        },
                        "colorscale": [
                          [
                            0,
                            "#0d0887"
                          ],
                          [
                            0.1111111111111111,
                            "#46039f"
                          ],
                          [
                            0.2222222222222222,
                            "#7201a8"
                          ],
                          [
                            0.3333333333333333,
                            "#9c179e"
                          ],
                          [
                            0.4444444444444444,
                            "#bd3786"
                          ],
                          [
                            0.5555555555555556,
                            "#d8576b"
                          ],
                          [
                            0.6666666666666666,
                            "#ed7953"
                          ],
                          [
                            0.7777777777777778,
                            "#fb9f3a"
                          ],
                          [
                            0.8888888888888888,
                            "#fdca26"
                          ],
                          [
                            1,
                            "#f0f921"
                          ]
                        ],
                        "type": "heatmap"
                      }
                    ],
                    "heatmapgl": [
                      {
                        "colorbar": {
                          "outlinewidth": 0,
                          "ticks": ""
                        },
                        "colorscale": [
                          [
                            0,
                            "#0d0887"
                          ],
                          [
                            0.1111111111111111,
                            "#46039f"
                          ],
                          [
                            0.2222222222222222,
                            "#7201a8"
                          ],
                          [
                            0.3333333333333333,
                            "#9c179e"
                          ],
                          [
                            0.4444444444444444,
                            "#bd3786"
                          ],
                          [
                            0.5555555555555556,
                            "#d8576b"
                          ],
                          [
                            0.6666666666666666,
                            "#ed7953"
                          ],
                          [
                            0.7777777777777778,
                            "#fb9f3a"
                          ],
                          [
                            0.8888888888888888,
                            "#fdca26"
                          ],
                          [
                            1,
                            "#f0f921"
                          ]
                        ],
                        "type": "heatmapgl"
                      }
                    ],
                    "histogram": [
                      {
                        "marker": {
                          "pattern": {
                            "fillmode": "overlay",
                            "size": 10,
                            "solidity": 0.2
                          }
                        },
                        "type": "histogram"
                      }
                    ],
                    "histogram2d": [
                      {
                        "colorbar": {
                          "outlinewidth": 0,
                          "ticks": ""
                        },
                        "colorscale": [
                          [
                            0,
                            "#0d0887"
                          ],
                          [
                            0.1111111111111111,
                            "#46039f"
                          ],
                          [
                            0.2222222222222222,
                            "#7201a8"
                          ],
                          [
                            0.3333333333333333,
                            "#9c179e"
                          ],
                          [
                            0.4444444444444444,
                            "#bd3786"
                          ],
                          [
                            0.5555555555555556,
                            "#d8576b"
                          ],
                          [
                            0.6666666666666666,
                            "#ed7953"
                          ],
                          [
                            0.7777777777777778,
                            "#fb9f3a"
                          ],
                          [
                            0.8888888888888888,
                            "#fdca26"
                          ],
                          [
                            1,
                            "#f0f921"
                          ]
                        ],
                        "type": "histogram2d"
                      }
                    ],
                    "histogram2dcontour": [
                      {
                        "colorbar": {
                          "outlinewidth": 0,
                          "ticks": ""
                        },
                        "colorscale": [
                          [
                            0,
                            "#0d0887"
                          ],
                          [
                            0.1111111111111111,
                            "#46039f"
                          ],
                          [
                            0.2222222222222222,
                            "#7201a8"
                          ],
                          [
                            0.3333333333333333,
                            "#9c179e"
                          ],
                          [
                            0.4444444444444444,
                            "#bd3786"
                          ],
                          [
                            0.5555555555555556,
                            "#d8576b"
                          ],
                          [
                            0.6666666666666666,
                            "#ed7953"
                          ],
                          [
                            0.7777777777777778,
                            "#fb9f3a"
                          ],
                          [
                            0.8888888888888888,
                            "#fdca26"
                          ],
                          [
                            1,
                            "#f0f921"
                          ]
                        ],
                        "type": "histogram2dcontour"
                      }
                    ],
                    "mesh3d": [
                      {
                        "colorbar": {
                          "outlinewidth": 0,
                          "ticks": ""
                        },
                        "type": "mesh3d"
                      }
                    ],
                    "parcoords": [
                      {
                        "line": {
                          "colorbar": {
                            "outlinewidth": 0,
                            "ticks": ""
                          }
                        },
                        "type": "parcoords"
                      }
                    ],
                    "pie": [
                      {
                        "automargin": true,
                        "type": "pie"
                      }
                    ],
                    "scatter": [
                      {
                        "fillpattern": {
                          "fillmode": "overlay",
                          "size": 10,
                          "solidity": 0.2
                        },
                        "type": "scatter"
                      }
                    ],
                    "scatter3d": [
                      {
                        "line": {
                          "colorbar": {
                            "outlinewidth": 0,
                            "ticks": ""
                          }
                        },
                        "marker": {
                          "colorbar": {
                            "outlinewidth": 0,
                            "ticks": ""
                          }
                        },
                        "type": "scatter3d"
                      }
                    ],
                    "scattercarpet": [
                      {
                        "marker": {
                          "colorbar": {
                            "outlinewidth": 0,
                            "ticks": ""
                          }
                        },
                        "type": "scattercarpet"
                      }
                    ],
                    "scattergeo": [
                      {
                        "marker": {
                          "colorbar": {
                            "outlinewidth": 0,
                            "ticks": ""
                          }
                        },
                        "type": "scattergeo"
                      }
                    ],
                    "scattergl": [
                      {
                        "marker": {
                          "colorbar": {
                            "outlinewidth": 0,
                            "ticks": ""
                          }
                        },
                        "type": "scattergl"
                      }
                    ],
                    "scattermapbox": [
                      {
                        "marker": {
                          "colorbar": {
                            "outlinewidth": 0,
                            "ticks": ""
                          }
                        },
                        "type": "scattermapbox"
                      }
                    ],
                    "scatterpolar": [
                      {
                        "marker": {
                          "colorbar": {
                            "outlinewidth": 0,
                            "ticks": ""
                          }
                        },
                        "type": "scatterpolar"
                      }
                    ],
                    "scatterpolargl": [
                      {
                        "marker": {
                          "colorbar": {
                            "outlinewidth": 0,
                            "ticks": ""
                          }
                        },
                        "type": "scatterpolargl"
                      }
                    ],
                    "scatterternary": [
                      {
                        "marker": {
                          "colorbar": {
                            "outlinewidth": 0,
                            "ticks": ""
                          }
                        },
                        "type": "scatterternary"
                      }
                    ],
                    "surface": [
                      {
                        "colorbar": {
                          "outlinewidth": 0,
                          "ticks": ""
                        },
                        "colorscale": [
                          [
                            0,
                            "#0d0887"
                          ],
                          [
                            0.1111111111111111,
                            "#46039f"
                          ],
                          [
                            0.2222222222222222,
                            "#7201a8"
                          ],
                          [
                            0.3333333333333333,
                            "#9c179e"
                          ],
                          [
                            0.4444444444444444,
                            "#bd3786"
                          ],
                          [
                            0.5555555555555556,
                            "#d8576b"
                          ],
                          [
                            0.6666666666666666,
                            "#ed7953"
                          ],
                          [
                            0.7777777777777778,
                            "#fb9f3a"
                          ],
                          [
                            0.8888888888888888,
                            "#fdca26"
                          ],
                          [
                            1,
                            "#f0f921"
                          ]
                        ],
                        "type": "surface"
                      }
                    ],
                    "table": [
                      {
                        "cells": {
                          "fill": {
                            "color": "#EBF0F8"
                          },
                          "line": {
                            "color": "white"
                          }
                        },
                        "header": {
                          "fill": {
                            "color": "#C8D4E3"
                          },
                          "line": {
                            "color": "white"
                          }
                        },
                        "type": "table"
                      }
                    ]
                  },
                  "layout": {
                    "annotationdefaults": {
                      "arrowcolor": "#2a3f5f",
                      "arrowhead": 0,
                      "arrowwidth": 1
                    },
                    "autotypenumbers": "strict",
                    "coloraxis": {
                      "colorbar": {
                        "outlinewidth": 0,
                        "ticks": ""
                      }
                    },
                    "colorscale": {
                      "diverging": [
                        [
                          0,
                          "#8e0152"
                        ],
                        [
                          0.1,
                          "#c51b7d"
                        ],
                        [
                          0.2,
                          "#de77ae"
                        ],
                        [
                          0.3,
                          "#f1b6da"
                        ],
                        [
                          0.4,
                          "#fde0ef"
                        ],
                        [
                          0.5,
                          "#f7f7f7"
                        ],
                        [
                          0.6,
                          "#e6f5d0"
                        ],
                        [
                          0.7,
                          "#b8e186"
                        ],
                        [
                          0.8,
                          "#7fbc41"
                        ],
                        [
                          0.9,
                          "#4d9221"
                        ],
                        [
                          1,
                          "#276419"
                        ]
                      ],
                      "sequential": [
                        [
                          0,
                          "#0d0887"
                        ],
                        [
                          0.1111111111111111,
                          "#46039f"
                        ],
                        [
                          0.2222222222222222,
                          "#7201a8"
                        ],
                        [
                          0.3333333333333333,
                          "#9c179e"
                        ],
                        [
                          0.4444444444444444,
                          "#bd3786"
                        ],
                        [
                          0.5555555555555556,
                          "#d8576b"
                        ],
                        [
                          0.6666666666666666,
                          "#ed7953"
                        ],
                        [
                          0.7777777777777778,
                          "#fb9f3a"
                        ],
                        [
                          0.8888888888888888,
                          "#fdca26"
                        ],
                        [
                          1,
                          "#f0f921"
                        ]
                      ],
                      "sequentialminus": [
                        [
                          0,
                          "#0d0887"
                        ],
                        [
                          0.1111111111111111,
                          "#46039f"
                        ],
                        [
                          0.2222222222222222,
                          "#7201a8"
                        ],
                        [
                          0.3333333333333333,
                          "#9c179e"
                        ],
                        [
                          0.4444444444444444,
                          "#bd3786"
                        ],
                        [
                          0.5555555555555556,
                          "#d8576b"
                        ],
                        [
                          0.6666666666666666,
                          "#ed7953"
                        ],
                        [
                          0.7777777777777778,
                          "#fb9f3a"
                        ],
                        [
                          0.8888888888888888,
                          "#fdca26"
                        ],
                        [
                          1,
                          "#f0f921"
                        ]
                      ]
                    },
                    "colorway": [
                      "#636efa",
                      "#EF553B",
                      "#00cc96",
                      "#ab63fa",
                      "#FFA15A",
                      "#19d3f3",
                      "#FF6692",
                      "#B6E880",
                      "#FF97FF",
                      "#FECB52"
                    ],
                    "font": {
                      "color": "#2a3f5f"
                    },
                    "geo": {
                      "bgcolor": "white",
                      "lakecolor": "white",
                      "landcolor": "#E5ECF6",
                      "showlakes": true,
                      "showland": true,
                      "subunitcolor": "white"
                    },
                    "hoverlabel": {
                      "align": "left"
                    },
                    "hovermode": "closest",
                    "mapbox": {
                      "style": "light"
                    },
                    "paper_bgcolor": "white",
                    "plot_bgcolor": "#E5ECF6",
                    "polar": {
                      "angularaxis": {
                        "gridcolor": "white",
                        "linecolor": "white",
                        "ticks": ""
                      },
                      "bgcolor": "#E5ECF6",
                      "radialaxis": {
                        "gridcolor": "white",
                        "linecolor": "white",
                        "ticks": ""
                      }
                    },
                    "scene": {
                      "xaxis": {
                        "backgroundcolor": "#E5ECF6",
                        "gridcolor": "white",
                        "gridwidth": 2,
                        "linecolor": "white",
                        "showbackground": true,
                        "ticks": "",
                        "zerolinecolor": "white"
                      },
                      "yaxis": {
                        "backgroundcolor": "#E5ECF6",
                        "gridcolor": "white",
                        "gridwidth": 2,
                        "linecolor": "white",
                        "showbackground": true,
                        "ticks": "",
                        "zerolinecolor": "white"
                      },
                      "zaxis": {
                        "backgroundcolor": "#E5ECF6",
                        "gridcolor": "white",
                        "gridwidth": 2,
                        "linecolor": "white",
                        "showbackground": true,
                        "ticks": "",
                        "zerolinecolor": "white"
                      }
                    },
                    "shapedefaults": {
                      "line": {
                        "color": "#2a3f5f"
                      }
                    },
                    "ternary": {
                      "aaxis": {
                        "gridcolor": "white",
                        "linecolor": "white",
                        "ticks": ""
                      },
                      "baxis": {
                        "gridcolor": "white",
                        "linecolor": "white",
                        "ticks": ""
                      },
                      "bgcolor": "#E5ECF6",
                      "caxis": {
                        "gridcolor": "white",
                        "linecolor": "white",
                        "ticks": ""
                      }
                    },
                    "title": {
                      "x": 0.05
                    },
                    "xaxis": {
                      "automargin": true,
                      "gridcolor": "white",
                      "linecolor": "white",
                      "ticks": "",
                      "title": {
                        "standoff": 15
                      },
                      "zerolinecolor": "white",
                      "zerolinewidth": 2
                    },
                    "yaxis": {
                      "automargin": true,
                      "gridcolor": "white",
                      "linecolor": "white",
                      "ticks": "",
                      "title": {
                        "standoff": 15
                      },
                      "zerolinecolor": "white",
                      "zerolinewidth": 2
                    }
                  }
                },
                "title": {
                  "text": "Prize Categories"
                },
                "xaxis": {
                  "anchor": "y",
                  "domain": [
                    0,
                    1
                  ],
                  "title": {
                    "text": "Category"
                  }
                },
                "yaxis": {
                  "anchor": "x",
                  "domain": [
                    0,
                    1
                  ],
                  "title": {
                    "text": "Number of Prizes"
                  }
                }
              }
            }
          },
          "metadata": {},
          "output_type": "display_data"
        }
      ],
      "source": [
        "prize_categories = df_data.category.value_counts()\n",
        "\n",
        "graph_bar = px.bar(\n",
        "    x=prize_categories.index, \n",
        "    y=prize_categories.values,\n",
        "    color=prize_categories.values,\n",
        "    color_continuous_scale='twilight',\n",
        "    title=\"Prize Categories\"\n",
        ")\n",
        "\n",
        "graph_bar.update_layout(xaxis_title=\"Category\", yaxis_title=\"Number of Prizes\", coloraxis_showscale=True)\n",
        "\n",
        "graph_bar.show()"
      ]
    },
    {
      "cell_type": "code",
      "execution_count": null,
      "metadata": {
        "id": "BhweS8X1FmuL"
      },
      "outputs": [],
      "source": []
    },
    {
      "cell_type": "code",
      "execution_count": null,
      "metadata": {
        "id": "MDvvaUHiFoSS"
      },
      "outputs": [],
      "source": []
    },
    {
      "cell_type": "markdown",
      "metadata": {
        "id": "nlISAxfXo7L5"
      },
      "source": [
        "**Challenge**: \n",
        "* When was the first prize in the field of Economics awarded?\n",
        "* Who did the prize go to?"
      ]
    },
    {
      "cell_type": "code",
      "execution_count": 40,
      "metadata": {},
      "outputs": [
        {
          "data": {
            "text/html": [
              "<div>\n",
              "<style scoped>\n",
              "    .dataframe tbody tr th:only-of-type {\n",
              "        vertical-align: middle;\n",
              "    }\n",
              "\n",
              "    .dataframe tbody tr th {\n",
              "        vertical-align: top;\n",
              "    }\n",
              "\n",
              "    .dataframe thead th {\n",
              "        text-align: right;\n",
              "    }\n",
              "</style>\n",
              "<table border=\"1\" class=\"dataframe\">\n",
              "  <thead>\n",
              "    <tr style=\"text-align: right;\">\n",
              "      <th></th>\n",
              "      <th>year</th>\n",
              "      <th>category</th>\n",
              "      <th>prize</th>\n",
              "      <th>motivation</th>\n",
              "      <th>prize_share</th>\n",
              "      <th>laureate_type</th>\n",
              "      <th>full_name</th>\n",
              "      <th>birth_date</th>\n",
              "      <th>birth_city</th>\n",
              "      <th>birth_country</th>\n",
              "      <th>birth_country_current</th>\n",
              "      <th>sex</th>\n",
              "      <th>organization_name</th>\n",
              "      <th>organization_city</th>\n",
              "      <th>organization_country</th>\n",
              "      <th>ISO</th>\n",
              "      <th>share_pct</th>\n",
              "    </tr>\n",
              "  </thead>\n",
              "  <tbody>\n",
              "    <tr>\n",
              "      <th>249</th>\n",
              "      <td>1949</td>\n",
              "      <td>Physics</td>\n",
              "      <td>The Nobel Prize in Physics 1949</td>\n",
              "      <td>\"for his prediction of the existence of mesons...</td>\n",
              "      <td>1/1</td>\n",
              "      <td>Individual</td>\n",
              "      <td>Hideki Yukawa</td>\n",
              "      <td>1907-01-23</td>\n",
              "      <td>Tokyo</td>\n",
              "      <td>Japan</td>\n",
              "      <td>Japan</td>\n",
              "      <td>Male</td>\n",
              "      <td>Kyoto University</td>\n",
              "      <td>Kyoto</td>\n",
              "      <td>Japan</td>\n",
              "      <td>JPN</td>\n",
              "      <td>1.00</td>\n",
              "    </tr>\n",
              "    <tr>\n",
              "      <th>369</th>\n",
              "      <td>1965</td>\n",
              "      <td>Physics</td>\n",
              "      <td>The Nobel Prize in Physics 1965</td>\n",
              "      <td>\"for their fundamental work in quantum electro...</td>\n",
              "      <td>1/3</td>\n",
              "      <td>Individual</td>\n",
              "      <td>Sin-Itiro Tomonaga</td>\n",
              "      <td>1906-03-31</td>\n",
              "      <td>Kyoto</td>\n",
              "      <td>Japan</td>\n",
              "      <td>Japan</td>\n",
              "      <td>Male</td>\n",
              "      <td>Tokyo University of Education</td>\n",
              "      <td>Tokyo</td>\n",
              "      <td>Japan</td>\n",
              "      <td>JPN</td>\n",
              "      <td>0.33</td>\n",
              "    </tr>\n",
              "    <tr>\n",
              "      <th>385</th>\n",
              "      <td>1968</td>\n",
              "      <td>Literature</td>\n",
              "      <td>The Nobel Prize in Literature 1968</td>\n",
              "      <td>\"for his narrative mastery, which with great s...</td>\n",
              "      <td>1/1</td>\n",
              "      <td>Individual</td>\n",
              "      <td>Yasunari Kawabata</td>\n",
              "      <td>1899-06-11</td>\n",
              "      <td>Osaka</td>\n",
              "      <td>Japan</td>\n",
              "      <td>Japan</td>\n",
              "      <td>Male</td>\n",
              "      <td>NaN</td>\n",
              "      <td>NaN</td>\n",
              "      <td>NaN</td>\n",
              "      <td>JPN</td>\n",
              "      <td>1.00</td>\n",
              "    </tr>\n",
              "    <tr>\n",
              "      <th>438</th>\n",
              "      <td>1973</td>\n",
              "      <td>Physics</td>\n",
              "      <td>The Nobel Prize in Physics 1973</td>\n",
              "      <td>\"for their experimental discoveries regarding ...</td>\n",
              "      <td>1/4</td>\n",
              "      <td>Individual</td>\n",
              "      <td>Leo Esaki</td>\n",
              "      <td>1925-03-12</td>\n",
              "      <td>Osaka</td>\n",
              "      <td>Japan</td>\n",
              "      <td>Japan</td>\n",
              "      <td>Male</td>\n",
              "      <td>IBM Thomas J. Watson Research Center</td>\n",
              "      <td>Yorktown Heights, NY</td>\n",
              "      <td>United States of America</td>\n",
              "      <td>JPN</td>\n",
              "      <td>0.25</td>\n",
              "    </tr>\n",
              "    <tr>\n",
              "      <th>447</th>\n",
              "      <td>1974</td>\n",
              "      <td>Peace</td>\n",
              "      <td>The Nobel Peace Prize 1974</td>\n",
              "      <td>NaN</td>\n",
              "      <td>1/2</td>\n",
              "      <td>Individual</td>\n",
              "      <td>Eisaku Sato</td>\n",
              "      <td>1901-03-27</td>\n",
              "      <td>Tabuse</td>\n",
              "      <td>Japan</td>\n",
              "      <td>Japan</td>\n",
              "      <td>Male</td>\n",
              "      <td>NaN</td>\n",
              "      <td>NaN</td>\n",
              "      <td>NaN</td>\n",
              "      <td>JPN</td>\n",
              "      <td>0.50</td>\n",
              "    </tr>\n",
              "    <tr>\n",
              "      <th>516</th>\n",
              "      <td>1981</td>\n",
              "      <td>Chemistry</td>\n",
              "      <td>The Nobel Prize in Chemistry 1981</td>\n",
              "      <td>\"for their theories, developed independently, ...</td>\n",
              "      <td>1/2</td>\n",
              "      <td>Individual</td>\n",
              "      <td>Kenichi Fukui</td>\n",
              "      <td>1918-10-04</td>\n",
              "      <td>Nara</td>\n",
              "      <td>Japan</td>\n",
              "      <td>Japan</td>\n",
              "      <td>Male</td>\n",
              "      <td>Kyoto University</td>\n",
              "      <td>Kyoto</td>\n",
              "      <td>Japan</td>\n",
              "      <td>JPN</td>\n",
              "      <td>0.50</td>\n",
              "    </tr>\n",
              "    <tr>\n",
              "      <th>576</th>\n",
              "      <td>1987</td>\n",
              "      <td>Medicine</td>\n",
              "      <td>The Nobel Prize in Physiology or Medicine 1987</td>\n",
              "      <td>\"for his discovery of the genetic principle fo...</td>\n",
              "      <td>1/1</td>\n",
              "      <td>Individual</td>\n",
              "      <td>Susumu Tonegawa</td>\n",
              "      <td>1939-09-06</td>\n",
              "      <td>Nagoya</td>\n",
              "      <td>Japan</td>\n",
              "      <td>Japan</td>\n",
              "      <td>Male</td>\n",
              "      <td>Massachusetts Institute of Technology (MIT)</td>\n",
              "      <td>Cambridge, MA</td>\n",
              "      <td>United States of America</td>\n",
              "      <td>JPN</td>\n",
              "      <td>1.00</td>\n",
              "    </tr>\n",
              "    <tr>\n",
              "      <th>642</th>\n",
              "      <td>1994</td>\n",
              "      <td>Literature</td>\n",
              "      <td>The Nobel Prize in Literature 1994</td>\n",
              "      <td>\"who with poetic force creates an imagined wor...</td>\n",
              "      <td>1/1</td>\n",
              "      <td>Individual</td>\n",
              "      <td>Kenzaburo Oe</td>\n",
              "      <td>1935-01-31</td>\n",
              "      <td>Uchiko</td>\n",
              "      <td>Japan</td>\n",
              "      <td>Japan</td>\n",
              "      <td>Male</td>\n",
              "      <td>NaN</td>\n",
              "      <td>NaN</td>\n",
              "      <td>NaN</td>\n",
              "      <td>JPN</td>\n",
              "      <td>1.00</td>\n",
              "    </tr>\n",
              "    <tr>\n",
              "      <th>708</th>\n",
              "      <td>2000</td>\n",
              "      <td>Chemistry</td>\n",
              "      <td>The Nobel Prize in Chemistry 2000</td>\n",
              "      <td>\"for the discovery and development of conducti...</td>\n",
              "      <td>1/3</td>\n",
              "      <td>Individual</td>\n",
              "      <td>Hideki Shirakawa</td>\n",
              "      <td>1936-08-20</td>\n",
              "      <td>Tokyo</td>\n",
              "      <td>Japan</td>\n",
              "      <td>Japan</td>\n",
              "      <td>Male</td>\n",
              "      <td>University of Tsukuba</td>\n",
              "      <td>Tokyo</td>\n",
              "      <td>Japan</td>\n",
              "      <td>JPN</td>\n",
              "      <td>0.33</td>\n",
              "    </tr>\n",
              "    <tr>\n",
              "      <th>720</th>\n",
              "      <td>2001</td>\n",
              "      <td>Chemistry</td>\n",
              "      <td>The Nobel Prize in Chemistry 2001</td>\n",
              "      <td>\"for their work on chirally catalysed hydrogen...</td>\n",
              "      <td>1/4</td>\n",
              "      <td>Individual</td>\n",
              "      <td>Ryoji Noyori</td>\n",
              "      <td>1938-09-03</td>\n",
              "      <td>Kobe</td>\n",
              "      <td>Japan</td>\n",
              "      <td>Japan</td>\n",
              "      <td>Male</td>\n",
              "      <td>Nagoya University</td>\n",
              "      <td>Nagoya</td>\n",
              "      <td>Japan</td>\n",
              "      <td>JPN</td>\n",
              "      <td>0.25</td>\n",
              "    </tr>\n",
              "    <tr>\n",
              "      <th>735</th>\n",
              "      <td>2002</td>\n",
              "      <td>Chemistry</td>\n",
              "      <td>The Nobel Prize in Chemistry 2002</td>\n",
              "      <td>\"for their development of soft desorption ioni...</td>\n",
              "      <td>1/4</td>\n",
              "      <td>Individual</td>\n",
              "      <td>Koichi Tanaka</td>\n",
              "      <td>1959-08-03</td>\n",
              "      <td>Toyama City</td>\n",
              "      <td>Japan</td>\n",
              "      <td>Japan</td>\n",
              "      <td>Male</td>\n",
              "      <td>Shimadzu Corp.</td>\n",
              "      <td>Kyoto</td>\n",
              "      <td>Japan</td>\n",
              "      <td>JPN</td>\n",
              "      <td>0.25</td>\n",
              "    </tr>\n",
              "    <tr>\n",
              "      <th>744</th>\n",
              "      <td>2002</td>\n",
              "      <td>Physics</td>\n",
              "      <td>The Nobel Prize in Physics 2002</td>\n",
              "      <td>\"for pioneering contributions to astrophysics,...</td>\n",
              "      <td>1/4</td>\n",
              "      <td>Individual</td>\n",
              "      <td>Masatoshi Koshiba</td>\n",
              "      <td>1926-09-19</td>\n",
              "      <td>Toyohashi</td>\n",
              "      <td>Japan</td>\n",
              "      <td>Japan</td>\n",
              "      <td>Male</td>\n",
              "      <td>University of Tokyo</td>\n",
              "      <td>Tokyo</td>\n",
              "      <td>Japan</td>\n",
              "      <td>JPN</td>\n",
              "      <td>0.25</td>\n",
              "    </tr>\n",
              "    <tr>\n",
              "      <th>815</th>\n",
              "      <td>2008</td>\n",
              "      <td>Physics</td>\n",
              "      <td>The Nobel Prize in Physics 2008</td>\n",
              "      <td>\"for the discovery of the mechanism of spontan...</td>\n",
              "      <td>1/2</td>\n",
              "      <td>Individual</td>\n",
              "      <td>Yoichiro Nambu</td>\n",
              "      <td>1921-01-18</td>\n",
              "      <td>Tokyo</td>\n",
              "      <td>Japan</td>\n",
              "      <td>Japan</td>\n",
              "      <td>Male</td>\n",
              "      <td>University of Chicago</td>\n",
              "      <td>Chicago, IL</td>\n",
              "      <td>United States of America</td>\n",
              "      <td>JPN</td>\n",
              "      <td>0.50</td>\n",
              "    </tr>\n",
              "    <tr>\n",
              "      <th>814</th>\n",
              "      <td>2008</td>\n",
              "      <td>Physics</td>\n",
              "      <td>The Nobel Prize in Physics 2008</td>\n",
              "      <td>\"for the discovery of the origin of the broken...</td>\n",
              "      <td>1/4</td>\n",
              "      <td>Individual</td>\n",
              "      <td>Toshihide Maskawa</td>\n",
              "      <td>1940-02-07</td>\n",
              "      <td>Nagoya</td>\n",
              "      <td>Japan</td>\n",
              "      <td>Japan</td>\n",
              "      <td>Male</td>\n",
              "      <td>Kyoto Sangyo University</td>\n",
              "      <td>Kyoto</td>\n",
              "      <td>Japan</td>\n",
              "      <td>JPN</td>\n",
              "      <td>0.25</td>\n",
              "    </tr>\n",
              "    <tr>\n",
              "      <th>813</th>\n",
              "      <td>2008</td>\n",
              "      <td>Physics</td>\n",
              "      <td>The Nobel Prize in Physics 2008</td>\n",
              "      <td>\"for the discovery of the origin of the broken...</td>\n",
              "      <td>1/4</td>\n",
              "      <td>Individual</td>\n",
              "      <td>Makoto Kobayashi</td>\n",
              "      <td>1944-04-07</td>\n",
              "      <td>Nagoya</td>\n",
              "      <td>Japan</td>\n",
              "      <td>Japan</td>\n",
              "      <td>Male</td>\n",
              "      <td>High Energy Accelerator Research Organization ...</td>\n",
              "      <td>Tsukuba</td>\n",
              "      <td>Japan</td>\n",
              "      <td>JPN</td>\n",
              "      <td>0.25</td>\n",
              "    </tr>\n",
              "    <tr>\n",
              "      <th>805</th>\n",
              "      <td>2008</td>\n",
              "      <td>Chemistry</td>\n",
              "      <td>The Nobel Prize in Chemistry 2008</td>\n",
              "      <td>\"for the discovery and development of the gree...</td>\n",
              "      <td>1/3</td>\n",
              "      <td>Individual</td>\n",
              "      <td>Osamu Shimomura</td>\n",
              "      <td>1928-08-27</td>\n",
              "      <td>Kyoto</td>\n",
              "      <td>Japan</td>\n",
              "      <td>Japan</td>\n",
              "      <td>Male</td>\n",
              "      <td>Marine Biological Laboratory (MBL)</td>\n",
              "      <td>Woods Hole, MA</td>\n",
              "      <td>United States of America</td>\n",
              "      <td>JPN</td>\n",
              "      <td>0.33</td>\n",
              "    </tr>\n",
              "    <tr>\n",
              "      <th>829</th>\n",
              "      <td>2010</td>\n",
              "      <td>Chemistry</td>\n",
              "      <td>The Nobel Prize in Chemistry 2010</td>\n",
              "      <td>\"for palladium-catalyzed cross couplings in or...</td>\n",
              "      <td>1/3</td>\n",
              "      <td>Individual</td>\n",
              "      <td>Akira Suzuki</td>\n",
              "      <td>1930-09-12</td>\n",
              "      <td>Mukawa</td>\n",
              "      <td>Japan</td>\n",
              "      <td>Japan</td>\n",
              "      <td>Male</td>\n",
              "      <td>Hokkaido University</td>\n",
              "      <td>Sapporo</td>\n",
              "      <td>Japan</td>\n",
              "      <td>JPN</td>\n",
              "      <td>0.33</td>\n",
              "    </tr>\n",
              "    <tr>\n",
              "      <th>858</th>\n",
              "      <td>2012</td>\n",
              "      <td>Medicine</td>\n",
              "      <td>The Nobel Prize in Physiology or Medicine 2012</td>\n",
              "      <td>\"for the discovery that mature cells can be re...</td>\n",
              "      <td>1/2</td>\n",
              "      <td>Individual</td>\n",
              "      <td>Shinya Yamanaka</td>\n",
              "      <td>1962-09-04</td>\n",
              "      <td>Osaka</td>\n",
              "      <td>Japan</td>\n",
              "      <td>Japan</td>\n",
              "      <td>Male</td>\n",
              "      <td>Kyoto University</td>\n",
              "      <td>Kyoto</td>\n",
              "      <td>Japan</td>\n",
              "      <td>JPN</td>\n",
              "      <td>0.50</td>\n",
              "    </tr>\n",
              "    <tr>\n",
              "      <th>886</th>\n",
              "      <td>2014</td>\n",
              "      <td>Physics</td>\n",
              "      <td>The Nobel Prize in Physics 2014</td>\n",
              "      <td>\"for the invention of efficient blue light-emi...</td>\n",
              "      <td>1/3</td>\n",
              "      <td>Individual</td>\n",
              "      <td>Hiroshi Amano</td>\n",
              "      <td>1960-09-11</td>\n",
              "      <td>Hamamatsu</td>\n",
              "      <td>Japan</td>\n",
              "      <td>Japan</td>\n",
              "      <td>Male</td>\n",
              "      <td>Nagoya University</td>\n",
              "      <td>Nagoya</td>\n",
              "      <td>Japan</td>\n",
              "      <td>JPN</td>\n",
              "      <td>0.33</td>\n",
              "    </tr>\n",
              "    <tr>\n",
              "      <th>887</th>\n",
              "      <td>2014</td>\n",
              "      <td>Physics</td>\n",
              "      <td>The Nobel Prize in Physics 2014</td>\n",
              "      <td>\"for the invention of efficient blue light-emi...</td>\n",
              "      <td>1/3</td>\n",
              "      <td>Individual</td>\n",
              "      <td>Isamu Akasaki</td>\n",
              "      <td>1929-01-30</td>\n",
              "      <td>Chiran</td>\n",
              "      <td>Japan</td>\n",
              "      <td>Japan</td>\n",
              "      <td>Male</td>\n",
              "      <td>Meijo University</td>\n",
              "      <td>Nagoya</td>\n",
              "      <td>Japan</td>\n",
              "      <td>JPN</td>\n",
              "      <td>0.33</td>\n",
              "    </tr>\n",
              "    <tr>\n",
              "      <th>888</th>\n",
              "      <td>2014</td>\n",
              "      <td>Physics</td>\n",
              "      <td>The Nobel Prize in Physics 2014</td>\n",
              "      <td>\"for the invention of efficient blue light-emi...</td>\n",
              "      <td>1/3</td>\n",
              "      <td>Individual</td>\n",
              "      <td>Shuji Nakamura</td>\n",
              "      <td>1954-05-22</td>\n",
              "      <td>Ikata</td>\n",
              "      <td>Japan</td>\n",
              "      <td>Japan</td>\n",
              "      <td>Male</td>\n",
              "      <td>University of California</td>\n",
              "      <td>Santa Barbara, CA</td>\n",
              "      <td>United States of America</td>\n",
              "      <td>JPN</td>\n",
              "      <td>0.33</td>\n",
              "    </tr>\n",
              "    <tr>\n",
              "      <th>894</th>\n",
              "      <td>2015</td>\n",
              "      <td>Medicine</td>\n",
              "      <td>The Nobel Prize in Physiology or Medicine 2015</td>\n",
              "      <td>\"for their discoveries concerning a novel ther...</td>\n",
              "      <td>1/4</td>\n",
              "      <td>Individual</td>\n",
              "      <td>Satoshi Ōmura</td>\n",
              "      <td>1935-07-12</td>\n",
              "      <td>Yamanashi Prefecture</td>\n",
              "      <td>Japan</td>\n",
              "      <td>Japan</td>\n",
              "      <td>Male</td>\n",
              "      <td>Kitasato University</td>\n",
              "      <td>Tokyo</td>\n",
              "      <td>Japan</td>\n",
              "      <td>JPN</td>\n",
              "      <td>0.25</td>\n",
              "    </tr>\n",
              "    <tr>\n",
              "      <th>899</th>\n",
              "      <td>2015</td>\n",
              "      <td>Physics</td>\n",
              "      <td>The Nobel Prize in Physics 2015</td>\n",
              "      <td>\"for the discovery of neutrino oscillations, w...</td>\n",
              "      <td>1/2</td>\n",
              "      <td>Individual</td>\n",
              "      <td>Takaaki Kajita</td>\n",
              "      <td>1959-03-09</td>\n",
              "      <td>Higashimatsuyama</td>\n",
              "      <td>Japan</td>\n",
              "      <td>Japan</td>\n",
              "      <td>Male</td>\n",
              "      <td>University of Tokyo</td>\n",
              "      <td>Kashiwa</td>\n",
              "      <td>Japan</td>\n",
              "      <td>JPN</td>\n",
              "      <td>0.50</td>\n",
              "    </tr>\n",
              "    <tr>\n",
              "      <th>906</th>\n",
              "      <td>2016</td>\n",
              "      <td>Medicine</td>\n",
              "      <td>The Nobel Prize in Physiology or Medicine 2016</td>\n",
              "      <td>\"for his discoveries of mechanisms for autophagy\"</td>\n",
              "      <td>1/1</td>\n",
              "      <td>Individual</td>\n",
              "      <td>Yoshinori Ohsumi</td>\n",
              "      <td>1945-02-09</td>\n",
              "      <td>Fukuoka</td>\n",
              "      <td>Japan</td>\n",
              "      <td>Japan</td>\n",
              "      <td>Male</td>\n",
              "      <td>Tokyo Institute of Technology</td>\n",
              "      <td>Tokyo</td>\n",
              "      <td>Japan</td>\n",
              "      <td>JPN</td>\n",
              "      <td>1.00</td>\n",
              "    </tr>\n",
              "    <tr>\n",
              "      <th>915</th>\n",
              "      <td>2017</td>\n",
              "      <td>Literature</td>\n",
              "      <td>The Nobel Prize in Literature 2017</td>\n",
              "      <td>“who, in novels of great emotional force, has ...</td>\n",
              "      <td>1/1</td>\n",
              "      <td>Individual</td>\n",
              "      <td>Kazuo Ishiguro</td>\n",
              "      <td>1954-11-08</td>\n",
              "      <td>Nagasaki</td>\n",
              "      <td>Japan</td>\n",
              "      <td>Japan</td>\n",
              "      <td>Male</td>\n",
              "      <td>NaN</td>\n",
              "      <td>NaN</td>\n",
              "      <td>NaN</td>\n",
              "      <td>JPN</td>\n",
              "      <td>1.00</td>\n",
              "    </tr>\n",
              "    <tr>\n",
              "      <th>930</th>\n",
              "      <td>2018</td>\n",
              "      <td>Medicine</td>\n",
              "      <td>The Nobel Prize in Physiology or Medicine 2018</td>\n",
              "      <td>“for their discovery of cancer therapy by inhi...</td>\n",
              "      <td>1/2</td>\n",
              "      <td>Individual</td>\n",
              "      <td>Tasuku Honjo</td>\n",
              "      <td>1942-01-27</td>\n",
              "      <td>Kyoto</td>\n",
              "      <td>Japan</td>\n",
              "      <td>Japan</td>\n",
              "      <td>Male</td>\n",
              "      <td>Kyoto University</td>\n",
              "      <td>Kyoto</td>\n",
              "      <td>Japan</td>\n",
              "      <td>JPN</td>\n",
              "      <td>0.50</td>\n",
              "    </tr>\n",
              "    <tr>\n",
              "      <th>936</th>\n",
              "      <td>2019</td>\n",
              "      <td>Chemistry</td>\n",
              "      <td>The Nobel Prize in Chemistry 2019</td>\n",
              "      <td>“for the development of lithium-ion batteries”</td>\n",
              "      <td>1/3</td>\n",
              "      <td>Individual</td>\n",
              "      <td>Akira Yoshino</td>\n",
              "      <td>1948-01-30</td>\n",
              "      <td>Suita</td>\n",
              "      <td>Japan</td>\n",
              "      <td>Japan</td>\n",
              "      <td>Male</td>\n",
              "      <td>Asahi Kasei Corporation</td>\n",
              "      <td>Tokyo</td>\n",
              "      <td>Japan</td>\n",
              "      <td>JPN</td>\n",
              "      <td>0.33</td>\n",
              "    </tr>\n",
              "  </tbody>\n",
              "</table>\n",
              "</div>"
            ],
            "text/plain": [
              "     year    category                                           prize  \\\n",
              "249  1949     Physics                 The Nobel Prize in Physics 1949   \n",
              "369  1965     Physics                 The Nobel Prize in Physics 1965   \n",
              "385  1968  Literature              The Nobel Prize in Literature 1968   \n",
              "438  1973     Physics                 The Nobel Prize in Physics 1973   \n",
              "447  1974       Peace                      The Nobel Peace Prize 1974   \n",
              "516  1981   Chemistry               The Nobel Prize in Chemistry 1981   \n",
              "576  1987    Medicine  The Nobel Prize in Physiology or Medicine 1987   \n",
              "642  1994  Literature              The Nobel Prize in Literature 1994   \n",
              "708  2000   Chemistry               The Nobel Prize in Chemistry 2000   \n",
              "720  2001   Chemistry               The Nobel Prize in Chemistry 2001   \n",
              "735  2002   Chemistry               The Nobel Prize in Chemistry 2002   \n",
              "744  2002     Physics                 The Nobel Prize in Physics 2002   \n",
              "815  2008     Physics                 The Nobel Prize in Physics 2008   \n",
              "814  2008     Physics                 The Nobel Prize in Physics 2008   \n",
              "813  2008     Physics                 The Nobel Prize in Physics 2008   \n",
              "805  2008   Chemistry               The Nobel Prize in Chemistry 2008   \n",
              "829  2010   Chemistry               The Nobel Prize in Chemistry 2010   \n",
              "858  2012    Medicine  The Nobel Prize in Physiology or Medicine 2012   \n",
              "886  2014     Physics                 The Nobel Prize in Physics 2014   \n",
              "887  2014     Physics                 The Nobel Prize in Physics 2014   \n",
              "888  2014     Physics                 The Nobel Prize in Physics 2014   \n",
              "894  2015    Medicine  The Nobel Prize in Physiology or Medicine 2015   \n",
              "899  2015     Physics                 The Nobel Prize in Physics 2015   \n",
              "906  2016    Medicine  The Nobel Prize in Physiology or Medicine 2016   \n",
              "915  2017  Literature              The Nobel Prize in Literature 2017   \n",
              "930  2018    Medicine  The Nobel Prize in Physiology or Medicine 2018   \n",
              "936  2019   Chemistry               The Nobel Prize in Chemistry 2019   \n",
              "\n",
              "                                            motivation prize_share  \\\n",
              "249  \"for his prediction of the existence of mesons...         1/1   \n",
              "369  \"for their fundamental work in quantum electro...         1/3   \n",
              "385  \"for his narrative mastery, which with great s...         1/1   \n",
              "438  \"for their experimental discoveries regarding ...         1/4   \n",
              "447                                                NaN         1/2   \n",
              "516  \"for their theories, developed independently, ...         1/2   \n",
              "576  \"for his discovery of the genetic principle fo...         1/1   \n",
              "642  \"who with poetic force creates an imagined wor...         1/1   \n",
              "708  \"for the discovery and development of conducti...         1/3   \n",
              "720  \"for their work on chirally catalysed hydrogen...         1/4   \n",
              "735  \"for their development of soft desorption ioni...         1/4   \n",
              "744  \"for pioneering contributions to astrophysics,...         1/4   \n",
              "815  \"for the discovery of the mechanism of spontan...         1/2   \n",
              "814  \"for the discovery of the origin of the broken...         1/4   \n",
              "813  \"for the discovery of the origin of the broken...         1/4   \n",
              "805  \"for the discovery and development of the gree...         1/3   \n",
              "829  \"for palladium-catalyzed cross couplings in or...         1/3   \n",
              "858  \"for the discovery that mature cells can be re...         1/2   \n",
              "886  \"for the invention of efficient blue light-emi...         1/3   \n",
              "887  \"for the invention of efficient blue light-emi...         1/3   \n",
              "888  \"for the invention of efficient blue light-emi...         1/3   \n",
              "894  \"for their discoveries concerning a novel ther...         1/4   \n",
              "899  \"for the discovery of neutrino oscillations, w...         1/2   \n",
              "906  \"for his discoveries of mechanisms for autophagy\"         1/1   \n",
              "915  “who, in novels of great emotional force, has ...         1/1   \n",
              "930  “for their discovery of cancer therapy by inhi...         1/2   \n",
              "936     “for the development of lithium-ion batteries”         1/3   \n",
              "\n",
              "    laureate_type           full_name birth_date            birth_city  \\\n",
              "249    Individual       Hideki Yukawa 1907-01-23                 Tokyo   \n",
              "369    Individual  Sin-Itiro Tomonaga 1906-03-31                 Kyoto   \n",
              "385    Individual   Yasunari Kawabata 1899-06-11                 Osaka   \n",
              "438    Individual           Leo Esaki 1925-03-12                 Osaka   \n",
              "447    Individual         Eisaku Sato 1901-03-27                Tabuse   \n",
              "516    Individual       Kenichi Fukui 1918-10-04                  Nara   \n",
              "576    Individual     Susumu Tonegawa 1939-09-06                Nagoya   \n",
              "642    Individual        Kenzaburo Oe 1935-01-31                Uchiko   \n",
              "708    Individual    Hideki Shirakawa 1936-08-20                 Tokyo   \n",
              "720    Individual        Ryoji Noyori 1938-09-03                  Kobe   \n",
              "735    Individual       Koichi Tanaka 1959-08-03           Toyama City   \n",
              "744    Individual   Masatoshi Koshiba 1926-09-19             Toyohashi   \n",
              "815    Individual      Yoichiro Nambu 1921-01-18                 Tokyo   \n",
              "814    Individual   Toshihide Maskawa 1940-02-07                Nagoya   \n",
              "813    Individual    Makoto Kobayashi 1944-04-07                Nagoya   \n",
              "805    Individual     Osamu Shimomura 1928-08-27                 Kyoto   \n",
              "829    Individual        Akira Suzuki 1930-09-12                Mukawa   \n",
              "858    Individual     Shinya Yamanaka 1962-09-04                 Osaka   \n",
              "886    Individual       Hiroshi Amano 1960-09-11             Hamamatsu   \n",
              "887    Individual       Isamu Akasaki 1929-01-30                Chiran   \n",
              "888    Individual      Shuji Nakamura 1954-05-22                 Ikata   \n",
              "894    Individual       Satoshi Ōmura 1935-07-12  Yamanashi Prefecture   \n",
              "899    Individual      Takaaki Kajita 1959-03-09      Higashimatsuyama   \n",
              "906    Individual    Yoshinori Ohsumi 1945-02-09               Fukuoka   \n",
              "915    Individual      Kazuo Ishiguro 1954-11-08              Nagasaki   \n",
              "930    Individual        Tasuku Honjo 1942-01-27                 Kyoto   \n",
              "936    Individual       Akira Yoshino 1948-01-30                 Suita   \n",
              "\n",
              "    birth_country birth_country_current   sex  \\\n",
              "249         Japan                 Japan  Male   \n",
              "369         Japan                 Japan  Male   \n",
              "385         Japan                 Japan  Male   \n",
              "438         Japan                 Japan  Male   \n",
              "447         Japan                 Japan  Male   \n",
              "516         Japan                 Japan  Male   \n",
              "576         Japan                 Japan  Male   \n",
              "642         Japan                 Japan  Male   \n",
              "708         Japan                 Japan  Male   \n",
              "720         Japan                 Japan  Male   \n",
              "735         Japan                 Japan  Male   \n",
              "744         Japan                 Japan  Male   \n",
              "815         Japan                 Japan  Male   \n",
              "814         Japan                 Japan  Male   \n",
              "813         Japan                 Japan  Male   \n",
              "805         Japan                 Japan  Male   \n",
              "829         Japan                 Japan  Male   \n",
              "858         Japan                 Japan  Male   \n",
              "886         Japan                 Japan  Male   \n",
              "887         Japan                 Japan  Male   \n",
              "888         Japan                 Japan  Male   \n",
              "894         Japan                 Japan  Male   \n",
              "899         Japan                 Japan  Male   \n",
              "906         Japan                 Japan  Male   \n",
              "915         Japan                 Japan  Male   \n",
              "930         Japan                 Japan  Male   \n",
              "936         Japan                 Japan  Male   \n",
              "\n",
              "                                     organization_name     organization_city  \\\n",
              "249                                   Kyoto University                 Kyoto   \n",
              "369                      Tokyo University of Education                 Tokyo   \n",
              "385                                                NaN                   NaN   \n",
              "438               IBM Thomas J. Watson Research Center  Yorktown Heights, NY   \n",
              "447                                                NaN                   NaN   \n",
              "516                                   Kyoto University                 Kyoto   \n",
              "576        Massachusetts Institute of Technology (MIT)         Cambridge, MA   \n",
              "642                                                NaN                   NaN   \n",
              "708                              University of Tsukuba                 Tokyo   \n",
              "720                                  Nagoya University                Nagoya   \n",
              "735                                     Shimadzu Corp.                 Kyoto   \n",
              "744                                University of Tokyo                 Tokyo   \n",
              "815                              University of Chicago           Chicago, IL   \n",
              "814                            Kyoto Sangyo University                 Kyoto   \n",
              "813  High Energy Accelerator Research Organization ...               Tsukuba   \n",
              "805                 Marine Biological Laboratory (MBL)        Woods Hole, MA   \n",
              "829                                Hokkaido University               Sapporo   \n",
              "858                                   Kyoto University                 Kyoto   \n",
              "886                                  Nagoya University                Nagoya   \n",
              "887                                   Meijo University                Nagoya   \n",
              "888                           University of California     Santa Barbara, CA   \n",
              "894                                Kitasato University                 Tokyo   \n",
              "899                                University of Tokyo               Kashiwa   \n",
              "906                      Tokyo Institute of Technology                 Tokyo   \n",
              "915                                                NaN                   NaN   \n",
              "930                                   Kyoto University                 Kyoto   \n",
              "936                            Asahi Kasei Corporation                 Tokyo   \n",
              "\n",
              "         organization_country  ISO  share_pct  \n",
              "249                     Japan  JPN       1.00  \n",
              "369                     Japan  JPN       0.33  \n",
              "385                       NaN  JPN       1.00  \n",
              "438  United States of America  JPN       0.25  \n",
              "447                       NaN  JPN       0.50  \n",
              "516                     Japan  JPN       0.50  \n",
              "576  United States of America  JPN       1.00  \n",
              "642                       NaN  JPN       1.00  \n",
              "708                     Japan  JPN       0.33  \n",
              "720                     Japan  JPN       0.25  \n",
              "735                     Japan  JPN       0.25  \n",
              "744                     Japan  JPN       0.25  \n",
              "815  United States of America  JPN       0.50  \n",
              "814                     Japan  JPN       0.25  \n",
              "813                     Japan  JPN       0.25  \n",
              "805  United States of America  JPN       0.33  \n",
              "829                     Japan  JPN       0.33  \n",
              "858                     Japan  JPN       0.50  \n",
              "886                     Japan  JPN       0.33  \n",
              "887                     Japan  JPN       0.33  \n",
              "888  United States of America  JPN       0.33  \n",
              "894                     Japan  JPN       0.25  \n",
              "899                     Japan  JPN       0.50  \n",
              "906                     Japan  JPN       1.00  \n",
              "915                       NaN  JPN       1.00  \n",
              "930                     Japan  JPN       0.50  \n",
              "936                     Japan  JPN       0.33  "
            ]
          },
          "execution_count": 40,
          "metadata": {},
          "output_type": "execute_result"
        }
      ],
      "source": [
        "df_data[df_data.birth_country == 'Japan'].sort_values('year')"
      ]
    },
    {
      "cell_type": "code",
      "execution_count": 41,
      "metadata": {
        "id": "ndzQ8lz6FpSG"
      },
      "outputs": [
        {
          "data": {
            "text/html": [
              "<div>\n",
              "<style scoped>\n",
              "    .dataframe tbody tr th:only-of-type {\n",
              "        vertical-align: middle;\n",
              "    }\n",
              "\n",
              "    .dataframe tbody tr th {\n",
              "        vertical-align: top;\n",
              "    }\n",
              "\n",
              "    .dataframe thead th {\n",
              "        text-align: right;\n",
              "    }\n",
              "</style>\n",
              "<table border=\"1\" class=\"dataframe\">\n",
              "  <thead>\n",
              "    <tr style=\"text-align: right;\">\n",
              "      <th></th>\n",
              "      <th>year</th>\n",
              "      <th>category</th>\n",
              "      <th>prize</th>\n",
              "      <th>motivation</th>\n",
              "      <th>prize_share</th>\n",
              "      <th>laureate_type</th>\n",
              "      <th>full_name</th>\n",
              "      <th>birth_date</th>\n",
              "      <th>birth_city</th>\n",
              "      <th>birth_country</th>\n",
              "      <th>birth_country_current</th>\n",
              "      <th>sex</th>\n",
              "      <th>organization_name</th>\n",
              "      <th>organization_city</th>\n",
              "      <th>organization_country</th>\n",
              "      <th>ISO</th>\n",
              "      <th>share_pct</th>\n",
              "    </tr>\n",
              "  </thead>\n",
              "  <tbody>\n",
              "    <tr>\n",
              "      <th>393</th>\n",
              "      <td>1969</td>\n",
              "      <td>Economics</td>\n",
              "      <td>The Sveriges Riksbank Prize in Economic Scienc...</td>\n",
              "      <td>\"for having developed and applied dynamic mode...</td>\n",
              "      <td>1/2</td>\n",
              "      <td>Individual</td>\n",
              "      <td>Jan Tinbergen</td>\n",
              "      <td>1903-04-12</td>\n",
              "      <td>the Hague</td>\n",
              "      <td>Netherlands</td>\n",
              "      <td>Netherlands</td>\n",
              "      <td>Male</td>\n",
              "      <td>The Netherlands School of Economics</td>\n",
              "      <td>Rotterdam</td>\n",
              "      <td>Netherlands</td>\n",
              "      <td>NLD</td>\n",
              "      <td>0.50</td>\n",
              "    </tr>\n",
              "    <tr>\n",
              "      <th>394</th>\n",
              "      <td>1969</td>\n",
              "      <td>Economics</td>\n",
              "      <td>The Sveriges Riksbank Prize in Economic Scienc...</td>\n",
              "      <td>\"for having developed and applied dynamic mode...</td>\n",
              "      <td>1/2</td>\n",
              "      <td>Individual</td>\n",
              "      <td>Ragnar Frisch</td>\n",
              "      <td>1895-03-03</td>\n",
              "      <td>Oslo</td>\n",
              "      <td>Norway</td>\n",
              "      <td>Norway</td>\n",
              "      <td>Male</td>\n",
              "      <td>University of Oslo</td>\n",
              "      <td>Oslo</td>\n",
              "      <td>Norway</td>\n",
              "      <td>NOR</td>\n",
              "      <td>0.50</td>\n",
              "    </tr>\n",
              "    <tr>\n",
              "      <th>402</th>\n",
              "      <td>1970</td>\n",
              "      <td>Economics</td>\n",
              "      <td>The Sveriges Riksbank Prize in Economic Scienc...</td>\n",
              "      <td>\"for the scientific work through which he has ...</td>\n",
              "      <td>1/1</td>\n",
              "      <td>Individual</td>\n",
              "      <td>Paul A. Samuelson</td>\n",
              "      <td>1915-05-15</td>\n",
              "      <td>Gary, IN</td>\n",
              "      <td>United States of America</td>\n",
              "      <td>United States of America</td>\n",
              "      <td>Male</td>\n",
              "      <td>Massachusetts Institute of Technology (MIT)</td>\n",
              "      <td>Cambridge, MA</td>\n",
              "      <td>United States of America</td>\n",
              "      <td>USA</td>\n",
              "      <td>1.00</td>\n",
              "    </tr>\n",
              "    <tr>\n",
              "      <th>411</th>\n",
              "      <td>1971</td>\n",
              "      <td>Economics</td>\n",
              "      <td>The Sveriges Riksbank Prize in Economic Scienc...</td>\n",
              "      <td>\"for his empirically founded interpretation of...</td>\n",
              "      <td>1/1</td>\n",
              "      <td>Individual</td>\n",
              "      <td>Simon Kuznets</td>\n",
              "      <td>1901-04-30</td>\n",
              "      <td>Pinsk</td>\n",
              "      <td>Russian Empire (Belarus)</td>\n",
              "      <td>Belarus</td>\n",
              "      <td>Male</td>\n",
              "      <td>Harvard University</td>\n",
              "      <td>Cambridge, MA</td>\n",
              "      <td>United States of America</td>\n",
              "      <td>BLR</td>\n",
              "      <td>1.00</td>\n",
              "    </tr>\n",
              "    <tr>\n",
              "      <th>419</th>\n",
              "      <td>1972</td>\n",
              "      <td>Economics</td>\n",
              "      <td>The Sveriges Riksbank Prize in Economic Scienc...</td>\n",
              "      <td>\"for their pioneering contributions to general...</td>\n",
              "      <td>1/2</td>\n",
              "      <td>Individual</td>\n",
              "      <td>John R. Hicks</td>\n",
              "      <td>1904-04-08</td>\n",
              "      <td>Warwick</td>\n",
              "      <td>United Kingdom</td>\n",
              "      <td>United Kingdom</td>\n",
              "      <td>Male</td>\n",
              "      <td>University of Oxford</td>\n",
              "      <td>Oxford</td>\n",
              "      <td>United Kingdom</td>\n",
              "      <td>GBR</td>\n",
              "      <td>0.50</td>\n",
              "    </tr>\n",
              "    <tr>\n",
              "      <th>...</th>\n",
              "      <td>...</td>\n",
              "      <td>...</td>\n",
              "      <td>...</td>\n",
              "      <td>...</td>\n",
              "      <td>...</td>\n",
              "      <td>...</td>\n",
              "      <td>...</td>\n",
              "      <td>...</td>\n",
              "      <td>...</td>\n",
              "      <td>...</td>\n",
              "      <td>...</td>\n",
              "      <td>...</td>\n",
              "      <td>...</td>\n",
              "      <td>...</td>\n",
              "      <td>...</td>\n",
              "      <td>...</td>\n",
              "      <td>...</td>\n",
              "    </tr>\n",
              "    <tr>\n",
              "      <th>939</th>\n",
              "      <td>2019</td>\n",
              "      <td>Economics</td>\n",
              "      <td>The Sveriges Riksbank Prize in Economic Scienc...</td>\n",
              "      <td>“for their experimental approach to alleviatin...</td>\n",
              "      <td>1/3</td>\n",
              "      <td>Individual</td>\n",
              "      <td>Abhijit Banerjee</td>\n",
              "      <td>1961-02-21</td>\n",
              "      <td>Mumbai</td>\n",
              "      <td>India</td>\n",
              "      <td>India</td>\n",
              "      <td>Male</td>\n",
              "      <td>Massachusetts Institute of Technology (MIT)</td>\n",
              "      <td>Cambridge, MA</td>\n",
              "      <td>United States of America</td>\n",
              "      <td>IND</td>\n",
              "      <td>0.33</td>\n",
              "    </tr>\n",
              "    <tr>\n",
              "      <th>940</th>\n",
              "      <td>2019</td>\n",
              "      <td>Economics</td>\n",
              "      <td>The Sveriges Riksbank Prize in Economic Scienc...</td>\n",
              "      <td>“for their experimental approach to alleviatin...</td>\n",
              "      <td>1/3</td>\n",
              "      <td>Individual</td>\n",
              "      <td>Esther Duflo</td>\n",
              "      <td>1972-10-25</td>\n",
              "      <td>Paris</td>\n",
              "      <td>France</td>\n",
              "      <td>France</td>\n",
              "      <td>Female</td>\n",
              "      <td>Massachusetts Institute of Technology (MIT)</td>\n",
              "      <td>Cambridge, MA</td>\n",
              "      <td>United States of America</td>\n",
              "      <td>FRA</td>\n",
              "      <td>0.33</td>\n",
              "    </tr>\n",
              "    <tr>\n",
              "      <th>941</th>\n",
              "      <td>2019</td>\n",
              "      <td>Economics</td>\n",
              "      <td>The Sveriges Riksbank Prize in Economic Scienc...</td>\n",
              "      <td>“for their experimental approach to alleviatin...</td>\n",
              "      <td>1/3</td>\n",
              "      <td>Individual</td>\n",
              "      <td>Michael Kremer</td>\n",
              "      <td>1964-11-12</td>\n",
              "      <td>New York, NY</td>\n",
              "      <td>United States of America</td>\n",
              "      <td>United States of America</td>\n",
              "      <td>Male</td>\n",
              "      <td>Harvard University</td>\n",
              "      <td>Cambridge, MA</td>\n",
              "      <td>United States of America</td>\n",
              "      <td>USA</td>\n",
              "      <td>0.33</td>\n",
              "    </tr>\n",
              "    <tr>\n",
              "      <th>952</th>\n",
              "      <td>2020</td>\n",
              "      <td>Economics</td>\n",
              "      <td>The Sveriges Riksbank Prize in Economic Scienc...</td>\n",
              "      <td>“for improvements to auction theory and invent...</td>\n",
              "      <td>1/2</td>\n",
              "      <td>Individual</td>\n",
              "      <td>Paul R. Milgrom</td>\n",
              "      <td>1948-04-20</td>\n",
              "      <td>Detroit, MI</td>\n",
              "      <td>United States of America</td>\n",
              "      <td>United States of America</td>\n",
              "      <td>Male</td>\n",
              "      <td>Stanford University</td>\n",
              "      <td>Stanford, CA</td>\n",
              "      <td>United States of America</td>\n",
              "      <td>USA</td>\n",
              "      <td>0.50</td>\n",
              "    </tr>\n",
              "    <tr>\n",
              "      <th>953</th>\n",
              "      <td>2020</td>\n",
              "      <td>Economics</td>\n",
              "      <td>The Sveriges Riksbank Prize in Economic Scienc...</td>\n",
              "      <td>“for improvements to auction theory and invent...</td>\n",
              "      <td>1/2</td>\n",
              "      <td>Individual</td>\n",
              "      <td>Robert B. Wilson</td>\n",
              "      <td>1937-05-16</td>\n",
              "      <td>Geneva, NE</td>\n",
              "      <td>United States of America</td>\n",
              "      <td>United States of America</td>\n",
              "      <td>Male</td>\n",
              "      <td>Stanford University</td>\n",
              "      <td>Stanford, CA</td>\n",
              "      <td>United States of America</td>\n",
              "      <td>USA</td>\n",
              "      <td>0.50</td>\n",
              "    </tr>\n",
              "  </tbody>\n",
              "</table>\n",
              "<p>86 rows × 17 columns</p>\n",
              "</div>"
            ],
            "text/plain": [
              "     year   category                                              prize  \\\n",
              "393  1969  Economics  The Sveriges Riksbank Prize in Economic Scienc...   \n",
              "394  1969  Economics  The Sveriges Riksbank Prize in Economic Scienc...   \n",
              "402  1970  Economics  The Sveriges Riksbank Prize in Economic Scienc...   \n",
              "411  1971  Economics  The Sveriges Riksbank Prize in Economic Scienc...   \n",
              "419  1972  Economics  The Sveriges Riksbank Prize in Economic Scienc...   \n",
              "..    ...        ...                                                ...   \n",
              "939  2019  Economics  The Sveriges Riksbank Prize in Economic Scienc...   \n",
              "940  2019  Economics  The Sveriges Riksbank Prize in Economic Scienc...   \n",
              "941  2019  Economics  The Sveriges Riksbank Prize in Economic Scienc...   \n",
              "952  2020  Economics  The Sveriges Riksbank Prize in Economic Scienc...   \n",
              "953  2020  Economics  The Sveriges Riksbank Prize in Economic Scienc...   \n",
              "\n",
              "                                            motivation prize_share  \\\n",
              "393  \"for having developed and applied dynamic mode...         1/2   \n",
              "394  \"for having developed and applied dynamic mode...         1/2   \n",
              "402  \"for the scientific work through which he has ...         1/1   \n",
              "411  \"for his empirically founded interpretation of...         1/1   \n",
              "419  \"for their pioneering contributions to general...         1/2   \n",
              "..                                                 ...         ...   \n",
              "939  “for their experimental approach to alleviatin...         1/3   \n",
              "940  “for their experimental approach to alleviatin...         1/3   \n",
              "941  “for their experimental approach to alleviatin...         1/3   \n",
              "952  “for improvements to auction theory and invent...         1/2   \n",
              "953  “for improvements to auction theory and invent...         1/2   \n",
              "\n",
              "    laureate_type          full_name birth_date    birth_city  \\\n",
              "393    Individual      Jan Tinbergen 1903-04-12     the Hague   \n",
              "394    Individual      Ragnar Frisch 1895-03-03          Oslo   \n",
              "402    Individual  Paul A. Samuelson 1915-05-15      Gary, IN   \n",
              "411    Individual      Simon Kuznets 1901-04-30         Pinsk   \n",
              "419    Individual      John R. Hicks 1904-04-08       Warwick   \n",
              "..            ...                ...        ...           ...   \n",
              "939    Individual   Abhijit Banerjee 1961-02-21        Mumbai   \n",
              "940    Individual       Esther Duflo 1972-10-25         Paris   \n",
              "941    Individual     Michael Kremer 1964-11-12  New York, NY   \n",
              "952    Individual    Paul R. Milgrom 1948-04-20   Detroit, MI   \n",
              "953    Individual   Robert B. Wilson 1937-05-16    Geneva, NE   \n",
              "\n",
              "                birth_country     birth_country_current     sex  \\\n",
              "393               Netherlands               Netherlands    Male   \n",
              "394                    Norway                    Norway    Male   \n",
              "402  United States of America  United States of America    Male   \n",
              "411  Russian Empire (Belarus)                   Belarus    Male   \n",
              "419            United Kingdom            United Kingdom    Male   \n",
              "..                        ...                       ...     ...   \n",
              "939                     India                     India    Male   \n",
              "940                    France                    France  Female   \n",
              "941  United States of America  United States of America    Male   \n",
              "952  United States of America  United States of America    Male   \n",
              "953  United States of America  United States of America    Male   \n",
              "\n",
              "                               organization_name organization_city  \\\n",
              "393          The Netherlands School of Economics         Rotterdam   \n",
              "394                           University of Oslo              Oslo   \n",
              "402  Massachusetts Institute of Technology (MIT)     Cambridge, MA   \n",
              "411                           Harvard University     Cambridge, MA   \n",
              "419                         University of Oxford            Oxford   \n",
              "..                                           ...               ...   \n",
              "939  Massachusetts Institute of Technology (MIT)     Cambridge, MA   \n",
              "940  Massachusetts Institute of Technology (MIT)     Cambridge, MA   \n",
              "941                           Harvard University     Cambridge, MA   \n",
              "952                          Stanford University      Stanford, CA   \n",
              "953                          Stanford University      Stanford, CA   \n",
              "\n",
              "         organization_country  ISO  share_pct  \n",
              "393               Netherlands  NLD       0.50  \n",
              "394                    Norway  NOR       0.50  \n",
              "402  United States of America  USA       1.00  \n",
              "411  United States of America  BLR       1.00  \n",
              "419            United Kingdom  GBR       0.50  \n",
              "..                        ...  ...        ...  \n",
              "939  United States of America  IND       0.33  \n",
              "940  United States of America  FRA       0.33  \n",
              "941  United States of America  USA       0.33  \n",
              "952  United States of America  USA       0.50  \n",
              "953  United States of America  USA       0.50  \n",
              "\n",
              "[86 rows x 17 columns]"
            ]
          },
          "execution_count": 41,
          "metadata": {},
          "output_type": "execute_result"
        }
      ],
      "source": [
        "df_data[df_data.category == 'Economics'].sort_values('year')"
      ]
    },
    {
      "cell_type": "code",
      "execution_count": null,
      "metadata": {
        "id": "_7X079YUFpgn"
      },
      "outputs": [],
      "source": []
    },
    {
      "cell_type": "code",
      "execution_count": null,
      "metadata": {
        "id": "QFcoPbA8FpVK"
      },
      "outputs": [],
      "source": []
    },
    {
      "cell_type": "markdown",
      "metadata": {
        "dc": {
          "key": "31"
        },
        "id": "COqMa0fIo7L7",
        "run_control": {
          "frozen": true
        },
        "tags": [
          "context"
        ]
      },
      "source": [
        "# Male and Female Winners by Category\n",
        "\n",
        "**Challenge**: Create a [plotly bar chart](https://plotly.com/python/bar-charts/) that shows the split between men and women by category. \n",
        "* Hover over the bar chart. How many prizes went to women in Literature compared to Physics?\n",
        "\n",
        "<img src=https://i.imgur.com/od8TfOp.png width=650>"
      ]
    },
    {
      "cell_type": "code",
      "execution_count": 42,
      "metadata": {
        "id": "5rm03TQmFrlk"
      },
      "outputs": [
        {
          "data": {
            "text/html": [
              "<div>\n",
              "<style scoped>\n",
              "    .dataframe tbody tr th:only-of-type {\n",
              "        vertical-align: middle;\n",
              "    }\n",
              "\n",
              "    .dataframe tbody tr th {\n",
              "        vertical-align: top;\n",
              "    }\n",
              "\n",
              "    .dataframe thead th {\n",
              "        text-align: right;\n",
              "    }\n",
              "</style>\n",
              "<table border=\"1\" class=\"dataframe\">\n",
              "  <thead>\n",
              "    <tr style=\"text-align: right;\">\n",
              "      <th></th>\n",
              "      <th>category</th>\n",
              "      <th>sex</th>\n",
              "      <th>prize</th>\n",
              "    </tr>\n",
              "  </thead>\n",
              "  <tbody>\n",
              "    <tr>\n",
              "      <th>11</th>\n",
              "      <td>Physics</td>\n",
              "      <td>Male</td>\n",
              "      <td>212</td>\n",
              "    </tr>\n",
              "    <tr>\n",
              "      <th>7</th>\n",
              "      <td>Medicine</td>\n",
              "      <td>Male</td>\n",
              "      <td>210</td>\n",
              "    </tr>\n",
              "    <tr>\n",
              "      <th>1</th>\n",
              "      <td>Chemistry</td>\n",
              "      <td>Male</td>\n",
              "      <td>179</td>\n",
              "    </tr>\n",
              "    <tr>\n",
              "      <th>5</th>\n",
              "      <td>Literature</td>\n",
              "      <td>Male</td>\n",
              "      <td>101</td>\n",
              "    </tr>\n",
              "    <tr>\n",
              "      <th>9</th>\n",
              "      <td>Peace</td>\n",
              "      <td>Male</td>\n",
              "      <td>90</td>\n",
              "    </tr>\n",
              "    <tr>\n",
              "      <th>3</th>\n",
              "      <td>Economics</td>\n",
              "      <td>Male</td>\n",
              "      <td>84</td>\n",
              "    </tr>\n",
              "    <tr>\n",
              "      <th>8</th>\n",
              "      <td>Peace</td>\n",
              "      <td>Female</td>\n",
              "      <td>17</td>\n",
              "    </tr>\n",
              "    <tr>\n",
              "      <th>4</th>\n",
              "      <td>Literature</td>\n",
              "      <td>Female</td>\n",
              "      <td>16</td>\n",
              "    </tr>\n",
              "    <tr>\n",
              "      <th>6</th>\n",
              "      <td>Medicine</td>\n",
              "      <td>Female</td>\n",
              "      <td>12</td>\n",
              "    </tr>\n",
              "    <tr>\n",
              "      <th>0</th>\n",
              "      <td>Chemistry</td>\n",
              "      <td>Female</td>\n",
              "      <td>7</td>\n",
              "    </tr>\n",
              "    <tr>\n",
              "      <th>10</th>\n",
              "      <td>Physics</td>\n",
              "      <td>Female</td>\n",
              "      <td>4</td>\n",
              "    </tr>\n",
              "    <tr>\n",
              "      <th>2</th>\n",
              "      <td>Economics</td>\n",
              "      <td>Female</td>\n",
              "      <td>2</td>\n",
              "    </tr>\n",
              "  </tbody>\n",
              "</table>\n",
              "</div>"
            ],
            "text/plain": [
              "      category     sex  prize\n",
              "11     Physics    Male    212\n",
              "7     Medicine    Male    210\n",
              "1    Chemistry    Male    179\n",
              "5   Literature    Male    101\n",
              "9        Peace    Male     90\n",
              "3    Economics    Male     84\n",
              "8        Peace  Female     17\n",
              "4   Literature  Female     16\n",
              "6     Medicine  Female     12\n",
              "0    Chemistry  Female      7\n",
              "10     Physics  Female      4\n",
              "2    Economics  Female      2"
            ]
          },
          "execution_count": 42,
          "metadata": {},
          "output_type": "execute_result"
        }
      ],
      "source": [
        "cat_sex = df_data.groupby(['category', 'sex'], as_index=False).agg({'prize' : pd.Series.count})\n",
        "cat_sex = cat_sex.sort_values('prize', ascending=False)\n",
        "cat_sex"
      ]
    },
    {
      "cell_type": "code",
      "execution_count": 43,
      "metadata": {
        "id": "XTrMUbBmFroT"
      },
      "outputs": [
        {
          "data": {
            "application/vnd.plotly.v1+json": {
              "config": {
                "plotlyServerURL": "https://plot.ly"
              },
              "data": [
                {
                  "alignmentgroup": "True",
                  "hovertemplate": "color=Male<br>x=%{x}<br>y=%{y}<extra></extra>",
                  "legendgroup": "Male",
                  "marker": {
                    "color": "#636efa",
                    "pattern": {
                      "shape": ""
                    }
                  },
                  "name": "Male",
                  "offsetgroup": "Male",
                  "orientation": "v",
                  "showlegend": true,
                  "textposition": "auto",
                  "type": "bar",
                  "x": [
                    "Physics",
                    "Medicine",
                    "Chemistry",
                    "Literature",
                    "Peace",
                    "Economics"
                  ],
                  "xaxis": "x",
                  "y": [
                    212,
                    210,
                    179,
                    101,
                    90,
                    84
                  ],
                  "yaxis": "y"
                },
                {
                  "alignmentgroup": "True",
                  "hovertemplate": "color=Female<br>x=%{x}<br>y=%{y}<extra></extra>",
                  "legendgroup": "Female",
                  "marker": {
                    "color": "#EF553B",
                    "pattern": {
                      "shape": ""
                    }
                  },
                  "name": "Female",
                  "offsetgroup": "Female",
                  "orientation": "v",
                  "showlegend": true,
                  "textposition": "auto",
                  "type": "bar",
                  "x": [
                    "Peace",
                    "Literature",
                    "Medicine",
                    "Chemistry",
                    "Physics",
                    "Economics"
                  ],
                  "xaxis": "x",
                  "y": [
                    17,
                    16,
                    12,
                    7,
                    4,
                    2
                  ],
                  "yaxis": "y"
                }
              ],
              "layout": {
                "barmode": "relative",
                "legend": {
                  "title": {
                    "text": "color"
                  },
                  "tracegroupgap": 0
                },
                "template": {
                  "data": {
                    "bar": [
                      {
                        "error_x": {
                          "color": "#2a3f5f"
                        },
                        "error_y": {
                          "color": "#2a3f5f"
                        },
                        "marker": {
                          "line": {
                            "color": "#E5ECF6",
                            "width": 0.5
                          },
                          "pattern": {
                            "fillmode": "overlay",
                            "size": 10,
                            "solidity": 0.2
                          }
                        },
                        "type": "bar"
                      }
                    ],
                    "barpolar": [
                      {
                        "marker": {
                          "line": {
                            "color": "#E5ECF6",
                            "width": 0.5
                          },
                          "pattern": {
                            "fillmode": "overlay",
                            "size": 10,
                            "solidity": 0.2
                          }
                        },
                        "type": "barpolar"
                      }
                    ],
                    "carpet": [
                      {
                        "aaxis": {
                          "endlinecolor": "#2a3f5f",
                          "gridcolor": "white",
                          "linecolor": "white",
                          "minorgridcolor": "white",
                          "startlinecolor": "#2a3f5f"
                        },
                        "baxis": {
                          "endlinecolor": "#2a3f5f",
                          "gridcolor": "white",
                          "linecolor": "white",
                          "minorgridcolor": "white",
                          "startlinecolor": "#2a3f5f"
                        },
                        "type": "carpet"
                      }
                    ],
                    "choropleth": [
                      {
                        "colorbar": {
                          "outlinewidth": 0,
                          "ticks": ""
                        },
                        "type": "choropleth"
                      }
                    ],
                    "contour": [
                      {
                        "colorbar": {
                          "outlinewidth": 0,
                          "ticks": ""
                        },
                        "colorscale": [
                          [
                            0,
                            "#0d0887"
                          ],
                          [
                            0.1111111111111111,
                            "#46039f"
                          ],
                          [
                            0.2222222222222222,
                            "#7201a8"
                          ],
                          [
                            0.3333333333333333,
                            "#9c179e"
                          ],
                          [
                            0.4444444444444444,
                            "#bd3786"
                          ],
                          [
                            0.5555555555555556,
                            "#d8576b"
                          ],
                          [
                            0.6666666666666666,
                            "#ed7953"
                          ],
                          [
                            0.7777777777777778,
                            "#fb9f3a"
                          ],
                          [
                            0.8888888888888888,
                            "#fdca26"
                          ],
                          [
                            1,
                            "#f0f921"
                          ]
                        ],
                        "type": "contour"
                      }
                    ],
                    "contourcarpet": [
                      {
                        "colorbar": {
                          "outlinewidth": 0,
                          "ticks": ""
                        },
                        "type": "contourcarpet"
                      }
                    ],
                    "heatmap": [
                      {
                        "colorbar": {
                          "outlinewidth": 0,
                          "ticks": ""
                        },
                        "colorscale": [
                          [
                            0,
                            "#0d0887"
                          ],
                          [
                            0.1111111111111111,
                            "#46039f"
                          ],
                          [
                            0.2222222222222222,
                            "#7201a8"
                          ],
                          [
                            0.3333333333333333,
                            "#9c179e"
                          ],
                          [
                            0.4444444444444444,
                            "#bd3786"
                          ],
                          [
                            0.5555555555555556,
                            "#d8576b"
                          ],
                          [
                            0.6666666666666666,
                            "#ed7953"
                          ],
                          [
                            0.7777777777777778,
                            "#fb9f3a"
                          ],
                          [
                            0.8888888888888888,
                            "#fdca26"
                          ],
                          [
                            1,
                            "#f0f921"
                          ]
                        ],
                        "type": "heatmap"
                      }
                    ],
                    "heatmapgl": [
                      {
                        "colorbar": {
                          "outlinewidth": 0,
                          "ticks": ""
                        },
                        "colorscale": [
                          [
                            0,
                            "#0d0887"
                          ],
                          [
                            0.1111111111111111,
                            "#46039f"
                          ],
                          [
                            0.2222222222222222,
                            "#7201a8"
                          ],
                          [
                            0.3333333333333333,
                            "#9c179e"
                          ],
                          [
                            0.4444444444444444,
                            "#bd3786"
                          ],
                          [
                            0.5555555555555556,
                            "#d8576b"
                          ],
                          [
                            0.6666666666666666,
                            "#ed7953"
                          ],
                          [
                            0.7777777777777778,
                            "#fb9f3a"
                          ],
                          [
                            0.8888888888888888,
                            "#fdca26"
                          ],
                          [
                            1,
                            "#f0f921"
                          ]
                        ],
                        "type": "heatmapgl"
                      }
                    ],
                    "histogram": [
                      {
                        "marker": {
                          "pattern": {
                            "fillmode": "overlay",
                            "size": 10,
                            "solidity": 0.2
                          }
                        },
                        "type": "histogram"
                      }
                    ],
                    "histogram2d": [
                      {
                        "colorbar": {
                          "outlinewidth": 0,
                          "ticks": ""
                        },
                        "colorscale": [
                          [
                            0,
                            "#0d0887"
                          ],
                          [
                            0.1111111111111111,
                            "#46039f"
                          ],
                          [
                            0.2222222222222222,
                            "#7201a8"
                          ],
                          [
                            0.3333333333333333,
                            "#9c179e"
                          ],
                          [
                            0.4444444444444444,
                            "#bd3786"
                          ],
                          [
                            0.5555555555555556,
                            "#d8576b"
                          ],
                          [
                            0.6666666666666666,
                            "#ed7953"
                          ],
                          [
                            0.7777777777777778,
                            "#fb9f3a"
                          ],
                          [
                            0.8888888888888888,
                            "#fdca26"
                          ],
                          [
                            1,
                            "#f0f921"
                          ]
                        ],
                        "type": "histogram2d"
                      }
                    ],
                    "histogram2dcontour": [
                      {
                        "colorbar": {
                          "outlinewidth": 0,
                          "ticks": ""
                        },
                        "colorscale": [
                          [
                            0,
                            "#0d0887"
                          ],
                          [
                            0.1111111111111111,
                            "#46039f"
                          ],
                          [
                            0.2222222222222222,
                            "#7201a8"
                          ],
                          [
                            0.3333333333333333,
                            "#9c179e"
                          ],
                          [
                            0.4444444444444444,
                            "#bd3786"
                          ],
                          [
                            0.5555555555555556,
                            "#d8576b"
                          ],
                          [
                            0.6666666666666666,
                            "#ed7953"
                          ],
                          [
                            0.7777777777777778,
                            "#fb9f3a"
                          ],
                          [
                            0.8888888888888888,
                            "#fdca26"
                          ],
                          [
                            1,
                            "#f0f921"
                          ]
                        ],
                        "type": "histogram2dcontour"
                      }
                    ],
                    "mesh3d": [
                      {
                        "colorbar": {
                          "outlinewidth": 0,
                          "ticks": ""
                        },
                        "type": "mesh3d"
                      }
                    ],
                    "parcoords": [
                      {
                        "line": {
                          "colorbar": {
                            "outlinewidth": 0,
                            "ticks": ""
                          }
                        },
                        "type": "parcoords"
                      }
                    ],
                    "pie": [
                      {
                        "automargin": true,
                        "type": "pie"
                      }
                    ],
                    "scatter": [
                      {
                        "fillpattern": {
                          "fillmode": "overlay",
                          "size": 10,
                          "solidity": 0.2
                        },
                        "type": "scatter"
                      }
                    ],
                    "scatter3d": [
                      {
                        "line": {
                          "colorbar": {
                            "outlinewidth": 0,
                            "ticks": ""
                          }
                        },
                        "marker": {
                          "colorbar": {
                            "outlinewidth": 0,
                            "ticks": ""
                          }
                        },
                        "type": "scatter3d"
                      }
                    ],
                    "scattercarpet": [
                      {
                        "marker": {
                          "colorbar": {
                            "outlinewidth": 0,
                            "ticks": ""
                          }
                        },
                        "type": "scattercarpet"
                      }
                    ],
                    "scattergeo": [
                      {
                        "marker": {
                          "colorbar": {
                            "outlinewidth": 0,
                            "ticks": ""
                          }
                        },
                        "type": "scattergeo"
                      }
                    ],
                    "scattergl": [
                      {
                        "marker": {
                          "colorbar": {
                            "outlinewidth": 0,
                            "ticks": ""
                          }
                        },
                        "type": "scattergl"
                      }
                    ],
                    "scattermapbox": [
                      {
                        "marker": {
                          "colorbar": {
                            "outlinewidth": 0,
                            "ticks": ""
                          }
                        },
                        "type": "scattermapbox"
                      }
                    ],
                    "scatterpolar": [
                      {
                        "marker": {
                          "colorbar": {
                            "outlinewidth": 0,
                            "ticks": ""
                          }
                        },
                        "type": "scatterpolar"
                      }
                    ],
                    "scatterpolargl": [
                      {
                        "marker": {
                          "colorbar": {
                            "outlinewidth": 0,
                            "ticks": ""
                          }
                        },
                        "type": "scatterpolargl"
                      }
                    ],
                    "scatterternary": [
                      {
                        "marker": {
                          "colorbar": {
                            "outlinewidth": 0,
                            "ticks": ""
                          }
                        },
                        "type": "scatterternary"
                      }
                    ],
                    "surface": [
                      {
                        "colorbar": {
                          "outlinewidth": 0,
                          "ticks": ""
                        },
                        "colorscale": [
                          [
                            0,
                            "#0d0887"
                          ],
                          [
                            0.1111111111111111,
                            "#46039f"
                          ],
                          [
                            0.2222222222222222,
                            "#7201a8"
                          ],
                          [
                            0.3333333333333333,
                            "#9c179e"
                          ],
                          [
                            0.4444444444444444,
                            "#bd3786"
                          ],
                          [
                            0.5555555555555556,
                            "#d8576b"
                          ],
                          [
                            0.6666666666666666,
                            "#ed7953"
                          ],
                          [
                            0.7777777777777778,
                            "#fb9f3a"
                          ],
                          [
                            0.8888888888888888,
                            "#fdca26"
                          ],
                          [
                            1,
                            "#f0f921"
                          ]
                        ],
                        "type": "surface"
                      }
                    ],
                    "table": [
                      {
                        "cells": {
                          "fill": {
                            "color": "#EBF0F8"
                          },
                          "line": {
                            "color": "white"
                          }
                        },
                        "header": {
                          "fill": {
                            "color": "#C8D4E3"
                          },
                          "line": {
                            "color": "white"
                          }
                        },
                        "type": "table"
                      }
                    ]
                  },
                  "layout": {
                    "annotationdefaults": {
                      "arrowcolor": "#2a3f5f",
                      "arrowhead": 0,
                      "arrowwidth": 1
                    },
                    "autotypenumbers": "strict",
                    "coloraxis": {
                      "colorbar": {
                        "outlinewidth": 0,
                        "ticks": ""
                      }
                    },
                    "colorscale": {
                      "diverging": [
                        [
                          0,
                          "#8e0152"
                        ],
                        [
                          0.1,
                          "#c51b7d"
                        ],
                        [
                          0.2,
                          "#de77ae"
                        ],
                        [
                          0.3,
                          "#f1b6da"
                        ],
                        [
                          0.4,
                          "#fde0ef"
                        ],
                        [
                          0.5,
                          "#f7f7f7"
                        ],
                        [
                          0.6,
                          "#e6f5d0"
                        ],
                        [
                          0.7,
                          "#b8e186"
                        ],
                        [
                          0.8,
                          "#7fbc41"
                        ],
                        [
                          0.9,
                          "#4d9221"
                        ],
                        [
                          1,
                          "#276419"
                        ]
                      ],
                      "sequential": [
                        [
                          0,
                          "#0d0887"
                        ],
                        [
                          0.1111111111111111,
                          "#46039f"
                        ],
                        [
                          0.2222222222222222,
                          "#7201a8"
                        ],
                        [
                          0.3333333333333333,
                          "#9c179e"
                        ],
                        [
                          0.4444444444444444,
                          "#bd3786"
                        ],
                        [
                          0.5555555555555556,
                          "#d8576b"
                        ],
                        [
                          0.6666666666666666,
                          "#ed7953"
                        ],
                        [
                          0.7777777777777778,
                          "#fb9f3a"
                        ],
                        [
                          0.8888888888888888,
                          "#fdca26"
                        ],
                        [
                          1,
                          "#f0f921"
                        ]
                      ],
                      "sequentialminus": [
                        [
                          0,
                          "#0d0887"
                        ],
                        [
                          0.1111111111111111,
                          "#46039f"
                        ],
                        [
                          0.2222222222222222,
                          "#7201a8"
                        ],
                        [
                          0.3333333333333333,
                          "#9c179e"
                        ],
                        [
                          0.4444444444444444,
                          "#bd3786"
                        ],
                        [
                          0.5555555555555556,
                          "#d8576b"
                        ],
                        [
                          0.6666666666666666,
                          "#ed7953"
                        ],
                        [
                          0.7777777777777778,
                          "#fb9f3a"
                        ],
                        [
                          0.8888888888888888,
                          "#fdca26"
                        ],
                        [
                          1,
                          "#f0f921"
                        ]
                      ]
                    },
                    "colorway": [
                      "#636efa",
                      "#EF553B",
                      "#00cc96",
                      "#ab63fa",
                      "#FFA15A",
                      "#19d3f3",
                      "#FF6692",
                      "#B6E880",
                      "#FF97FF",
                      "#FECB52"
                    ],
                    "font": {
                      "color": "#2a3f5f"
                    },
                    "geo": {
                      "bgcolor": "white",
                      "lakecolor": "white",
                      "landcolor": "#E5ECF6",
                      "showlakes": true,
                      "showland": true,
                      "subunitcolor": "white"
                    },
                    "hoverlabel": {
                      "align": "left"
                    },
                    "hovermode": "closest",
                    "mapbox": {
                      "style": "light"
                    },
                    "paper_bgcolor": "white",
                    "plot_bgcolor": "#E5ECF6",
                    "polar": {
                      "angularaxis": {
                        "gridcolor": "white",
                        "linecolor": "white",
                        "ticks": ""
                      },
                      "bgcolor": "#E5ECF6",
                      "radialaxis": {
                        "gridcolor": "white",
                        "linecolor": "white",
                        "ticks": ""
                      }
                    },
                    "scene": {
                      "xaxis": {
                        "backgroundcolor": "#E5ECF6",
                        "gridcolor": "white",
                        "gridwidth": 2,
                        "linecolor": "white",
                        "showbackground": true,
                        "ticks": "",
                        "zerolinecolor": "white"
                      },
                      "yaxis": {
                        "backgroundcolor": "#E5ECF6",
                        "gridcolor": "white",
                        "gridwidth": 2,
                        "linecolor": "white",
                        "showbackground": true,
                        "ticks": "",
                        "zerolinecolor": "white"
                      },
                      "zaxis": {
                        "backgroundcolor": "#E5ECF6",
                        "gridcolor": "white",
                        "gridwidth": 2,
                        "linecolor": "white",
                        "showbackground": true,
                        "ticks": "",
                        "zerolinecolor": "white"
                      }
                    },
                    "shapedefaults": {
                      "line": {
                        "color": "#2a3f5f"
                      }
                    },
                    "ternary": {
                      "aaxis": {
                        "gridcolor": "white",
                        "linecolor": "white",
                        "ticks": ""
                      },
                      "baxis": {
                        "gridcolor": "white",
                        "linecolor": "white",
                        "ticks": ""
                      },
                      "bgcolor": "#E5ECF6",
                      "caxis": {
                        "gridcolor": "white",
                        "linecolor": "white",
                        "ticks": ""
                      }
                    },
                    "title": {
                      "x": 0.05
                    },
                    "xaxis": {
                      "automargin": true,
                      "gridcolor": "white",
                      "linecolor": "white",
                      "ticks": "",
                      "title": {
                        "standoff": 15
                      },
                      "zerolinecolor": "white",
                      "zerolinewidth": 2
                    },
                    "yaxis": {
                      "automargin": true,
                      "gridcolor": "white",
                      "linecolor": "white",
                      "ticks": "",
                      "title": {
                        "standoff": 15
                      },
                      "zerolinecolor": "white",
                      "zerolinewidth": 2
                    }
                  }
                },
                "title": {
                  "text": "Prize Categories"
                },
                "xaxis": {
                  "anchor": "y",
                  "domain": [
                    0,
                    1
                  ],
                  "title": {
                    "text": "Category"
                  }
                },
                "yaxis": {
                  "anchor": "x",
                  "domain": [
                    0,
                    1
                  ],
                  "title": {
                    "text": "Number of Prizes"
                  }
                }
              }
            }
          },
          "metadata": {},
          "output_type": "display_data"
        }
      ],
      "source": [
        "graph_bar = px.bar(\n",
        "    x=cat_sex.category,\n",
        "    y=cat_sex.prize,\n",
        "    color=cat_sex.sex,\n",
        "    title=\"Prize Categories\"\n",
        ")\n",
        "\n",
        "graph_bar.update_layout(xaxis_title=\"Category\", yaxis_title=\"Number of Prizes\")\n",
        "\n",
        "graph_bar.show()"
      ]
    },
    {
      "cell_type": "code",
      "execution_count": null,
      "metadata": {
        "id": "epWwbAi4FreH"
      },
      "outputs": [],
      "source": []
    },
    {
      "cell_type": "markdown",
      "metadata": {
        "id": "CpHaV-ZDo7MD"
      },
      "source": [
        "# Number of Prizes Awarded Over Time\n",
        "\n",
        "**Challenge**: Are more prizes awarded recently than when the prize was first created? Show the trend in awards visually. \n",
        "* Count the number of prizes awarded every year. \n",
        "* Create a 5 year rolling average of the number of prizes (Hint: see previous lessons analysing Google Trends).\n",
        "* Using Matplotlib superimpose the rolling average on a scatter plot.\n",
        "* Show a tick mark on the x-axis for every 5 years from 1900 to 2020. (Hint: you'll need to use NumPy). \n",
        "\n",
        "<img src=https://i.imgur.com/4jqYuWC.png width=650>\n",
        "\n",
        "* Use the [named colours](https://matplotlib.org/3.1.0/gallery/color/named_colors.html) to draw the data points in `dogerblue` while the rolling average is coloured in `crimson`. \n",
        "\n",
        "<img src=https://i.imgur.com/u3RlcJn.png width=350>\n",
        "\n",
        "* Looking at the chart, did the first and second world wars have an impact on the number of prizes being given out? \n",
        "* What could be the reason for the trend in the chart?\n"
      ]
    },
    {
      "cell_type": "code",
      "execution_count": 44,
      "metadata": {
        "id": "gD316Xp5Ftsj"
      },
      "outputs": [
        {
          "data": {
            "text/plain": [
              "year\n",
              "1901     6\n",
              "1902     7\n",
              "1903     7\n",
              "1904     6\n",
              "1905     5\n",
              "        ..\n",
              "2016    11\n",
              "2017    12\n",
              "2018    13\n",
              "2019    14\n",
              "2020    12\n",
              "Name: prize, Length: 117, dtype: int64"
            ]
          },
          "execution_count": 44,
          "metadata": {},
          "output_type": "execute_result"
        }
      ],
      "source": [
        "prize_year = df_data.groupby('year').count().prize\n",
        "prize_year"
      ]
    },
    {
      "cell_type": "code",
      "execution_count": 54,
      "metadata": {
        "id": "Jjm3G7VHFtx1"
      },
      "outputs": [
        {
          "data": {
            "text/plain": [
              "year\n",
              "1901     NaN\n",
              "1902     NaN\n",
              "1903     NaN\n",
              "1904     NaN\n",
              "1905    6.20\n",
              "        ... \n",
              "2016   11.60\n",
              "2017   12.00\n",
              "2018   12.00\n",
              "2019   12.20\n",
              "2020   12.40\n",
              "Name: prize, Length: 117, dtype: float64"
            ]
          },
          "execution_count": 54,
          "metadata": {},
          "output_type": "execute_result"
        }
      ],
      "source": [
        "prize_year_avg = prize_year.rolling(window=5).mean()\n",
        "prize_year_avg"
      ]
    },
    {
      "cell_type": "code",
      "execution_count": 55,
      "metadata": {
        "id": "NgVzgknLFtvP"
      },
      "outputs": [
        {
          "data": {
            "image/png": "[encoded data removed]",
            "text/plain": [
              "<Figure size 640x480 with 1 Axes>"
            ]
          },
          "metadata": {},
          "output_type": "display_data"
        }
      ],
      "source": [
        "plt.scatter(x=prize_year.index, y=prize_year.values)\n",
        "plt.plot(prize_year_avg.index, prize_year_avg.values, c=\"red\")\n",
        "plt.show()"
      ]
    },
    {
      "cell_type": "code",
      "execution_count": null,
      "metadata": {
        "id": "mWQImXL3FtkO"
      },
      "outputs": [],
      "source": []
    },
    {
      "cell_type": "markdown",
      "metadata": {
        "id": "gZWAAkdJo7MJ"
      },
      "source": [
        "# Are More Prizes Shared Than Before?\n",
        "\n",
        "**Challenge**: Investigate if more prizes are shared than before. \n",
        "\n",
        "* Calculate the average prize share of the winners on a year by year basis.\n",
        "* Calculate the 5 year rolling average of the percentage share.\n",
        "* Copy-paste the cell from the chart you created above.\n",
        "* Modify the code to add a secondary axis to your Matplotlib chart.\n",
        "* Plot the rolling average of the prize share on this chart. \n",
        "* See if you can invert the secondary y-axis to make the relationship even more clear. "
      ]
    },
    {
      "cell_type": "code",
      "execution_count": 53,
      "metadata": {
        "id": "If8-ZFoOFwph"
      },
      "outputs": [
        {
          "data": {
            "text/html": [
              "<div>\n",
              "<style scoped>\n",
              "    .dataframe tbody tr th:only-of-type {\n",
              "        vertical-align: middle;\n",
              "    }\n",
              "\n",
              "    .dataframe tbody tr th {\n",
              "        vertical-align: top;\n",
              "    }\n",
              "\n",
              "    .dataframe thead th {\n",
              "        text-align: right;\n",
              "    }\n",
              "</style>\n",
              "<table border=\"1\" class=\"dataframe\">\n",
              "  <thead>\n",
              "    <tr style=\"text-align: right;\">\n",
              "      <th></th>\n",
              "      <th>share_pct</th>\n",
              "    </tr>\n",
              "    <tr>\n",
              "      <th>year</th>\n",
              "      <th></th>\n",
              "    </tr>\n",
              "  </thead>\n",
              "  <tbody>\n",
              "    <tr>\n",
              "      <th>1901</th>\n",
              "      <td>NaN</td>\n",
              "    </tr>\n",
              "    <tr>\n",
              "      <th>1902</th>\n",
              "      <td>NaN</td>\n",
              "    </tr>\n",
              "    <tr>\n",
              "      <th>1903</th>\n",
              "      <td>NaN</td>\n",
              "    </tr>\n",
              "    <tr>\n",
              "      <th>1904</th>\n",
              "      <td>NaN</td>\n",
              "    </tr>\n",
              "    <tr>\n",
              "      <th>1905</th>\n",
              "      <td>0.82</td>\n",
              "    </tr>\n",
              "    <tr>\n",
              "      <th>...</th>\n",
              "      <td>...</td>\n",
              "    </tr>\n",
              "    <tr>\n",
              "      <th>2016</th>\n",
              "      <td>0.52</td>\n",
              "    </tr>\n",
              "    <tr>\n",
              "      <th>2017</th>\n",
              "      <td>0.50</td>\n",
              "    </tr>\n",
              "    <tr>\n",
              "      <th>2018</th>\n",
              "      <td>0.50</td>\n",
              "    </tr>\n",
              "    <tr>\n",
              "      <th>2019</th>\n",
              "      <td>0.50</td>\n",
              "    </tr>\n",
              "    <tr>\n",
              "      <th>2020</th>\n",
              "      <td>0.49</td>\n",
              "    </tr>\n",
              "  </tbody>\n",
              "</table>\n",
              "<p>117 rows × 1 columns</p>\n",
              "</div>"
            ],
            "text/plain": [
              "      share_pct\n",
              "year           \n",
              "1901        NaN\n",
              "1902        NaN\n",
              "1903        NaN\n",
              "1904        NaN\n",
              "1905       0.82\n",
              "...         ...\n",
              "2016       0.52\n",
              "2017       0.50\n",
              "2018       0.50\n",
              "2019       0.50\n",
              "2020       0.49\n",
              "\n",
              "[117 rows x 1 columns]"
            ]
          },
          "execution_count": 53,
          "metadata": {},
          "output_type": "execute_result"
        }
      ],
      "source": [
        "# df_data.head(1)\n",
        "yearly_avg = df_data.groupby(by='year').agg({'share_pct': pd.Series.mean})\n",
        "rolling_avg = yearly_avg.rolling(window=5).mean()\n",
        "# rolling_avg"
      ]
    },
    {
      "cell_type": "code",
      "execution_count": 59,
      "metadata": {
        "id": "QRen05_6Fw0y"
      },
      "outputs": [
        {
          "data": {
            "image/png": "[encoded data removed]",
            "text/plain": [
              "<Figure size 640x480 with 2 Axes>"
            ]
          },
          "metadata": {},
          "output_type": "display_data"
        }
      ],
      "source": [
        "# plt.scatter(x=prize_year.index, y=prize_year.values)\n",
        "# plt.plot(prize_year_avg.index, prize_year_avg.values, c=\"red\")\n",
        "# plt.show()\n",
        "\n",
        "ax1 = plt.gca()\n",
        "ax2 = ax1.twinx()\n",
        "ax1.set_xlim(1900, 2020)\n",
        "\n",
        "ax2.invert_yaxis()\n",
        "\n",
        "ax1.scatter(x=prize_year.index, y=prize_year.values)\n",
        "ax1.plot(prize_year_avg.index, prize_year_avg.values, c=\"red\")\n",
        "ax2.plot(prize_year.index, rolling_avg.values, c=\"grey\")\n",
        "\n",
        "plt.show()"
      ]
    },
    {
      "cell_type": "code",
      "execution_count": null,
      "metadata": {
        "id": "4kLSGNPkFxPd"
      },
      "outputs": [],
      "source": []
    },
    {
      "cell_type": "code",
      "execution_count": null,
      "metadata": {
        "id": "nPBzjo_gFwsb"
      },
      "outputs": [],
      "source": []
    },
    {
      "cell_type": "code",
      "execution_count": null,
      "metadata": {
        "id": "207bX8O7Fwih"
      },
      "outputs": [],
      "source": []
    },
    {
      "cell_type": "markdown",
      "metadata": {
        "dc": {
          "key": "3"
        },
        "id": "L32lWu0Oo7MM",
        "run_control": {
          "frozen": true
        },
        "tags": [
          "context"
        ]
      },
      "source": [
        "# The Countries with the Most Nobel Prizes"
      ]
    },
    {
      "cell_type": "markdown",
      "metadata": {
        "id": "UipIHU54o7MN"
      },
      "source": [
        "**Challenge**: \n",
        "* Create a Pandas DataFrame called `top20_countries` that has the two columns. The `prize` column should contain the total number of prizes won. \n",
        "\n",
        "<img src=https://i.imgur.com/6HM8rfB.png width=350>\n",
        "\n",
        "* Is it best to use `birth_country`, `birth_country_current` or `organization_country`? \n",
        "* What are some potential problems when using `birth_country` or any of the others? Which column is the least problematic? \n",
        "* Then use plotly to create a horizontal bar chart showing the number of prizes won by each country. Here's what you're after:\n",
        "\n",
        "<img src=https://i.imgur.com/agcJdRS.png width=750>\n",
        "\n",
        "* What is the ranking for the top 20 countries in terms of the number of prizes?"
      ]
    },
    {
      "cell_type": "code",
      "execution_count": 69,
      "metadata": {
        "id": "cscYI4BvFzjC"
      },
      "outputs": [
        {
          "data": {
            "text/html": [
              "<div>\n",
              "<style scoped>\n",
              "    .dataframe tbody tr th:only-of-type {\n",
              "        vertical-align: middle;\n",
              "    }\n",
              "\n",
              "    .dataframe tbody tr th {\n",
              "        vertical-align: top;\n",
              "    }\n",
              "\n",
              "    .dataframe thead th {\n",
              "        text-align: right;\n",
              "    }\n",
              "</style>\n",
              "<table border=\"1\" class=\"dataframe\">\n",
              "  <thead>\n",
              "    <tr style=\"text-align: right;\">\n",
              "      <th></th>\n",
              "      <th>birth_country_current</th>\n",
              "      <th>prize</th>\n",
              "    </tr>\n",
              "  </thead>\n",
              "  <tbody>\n",
              "    <tr>\n",
              "      <th>7</th>\n",
              "      <td>Belgium</td>\n",
              "      <td>9</td>\n",
              "    </tr>\n",
              "    <tr>\n",
              "      <th>31</th>\n",
              "      <td>Hungary</td>\n",
              "      <td>9</td>\n",
              "    </tr>\n",
              "    <tr>\n",
              "      <th>33</th>\n",
              "      <td>India</td>\n",
              "      <td>9</td>\n",
              "    </tr>\n",
              "    <tr>\n",
              "      <th>2</th>\n",
              "      <td>Australia</td>\n",
              "      <td>10</td>\n",
              "    </tr>\n",
              "    <tr>\n",
              "      <th>20</th>\n",
              "      <td>Denmark</td>\n",
              "      <td>12</td>\n",
              "    </tr>\n",
              "    <tr>\n",
              "      <th>54</th>\n",
              "      <td>Norway</td>\n",
              "      <td>12</td>\n",
              "    </tr>\n",
              "    <tr>\n",
              "      <th>13</th>\n",
              "      <td>China</td>\n",
              "      <td>12</td>\n",
              "    </tr>\n",
              "    <tr>\n",
              "      <th>51</th>\n",
              "      <td>Netherlands</td>\n",
              "      <td>18</td>\n",
              "    </tr>\n",
              "    <tr>\n",
              "      <th>3</th>\n",
              "      <td>Austria</td>\n",
              "      <td>18</td>\n",
              "    </tr>\n",
              "    <tr>\n",
              "      <th>39</th>\n",
              "      <td>Italy</td>\n",
              "      <td>19</td>\n",
              "    </tr>\n",
              "    <tr>\n",
              "      <th>68</th>\n",
              "      <td>Switzerland</td>\n",
              "      <td>19</td>\n",
              "    </tr>\n",
              "    <tr>\n",
              "      <th>11</th>\n",
              "      <td>Canada</td>\n",
              "      <td>20</td>\n",
              "    </tr>\n",
              "    <tr>\n",
              "      <th>61</th>\n",
              "      <td>Russia</td>\n",
              "      <td>26</td>\n",
              "    </tr>\n",
              "    <tr>\n",
              "      <th>40</th>\n",
              "      <td>Japan</td>\n",
              "      <td>27</td>\n",
              "    </tr>\n",
              "    <tr>\n",
              "      <th>57</th>\n",
              "      <td>Poland</td>\n",
              "      <td>27</td>\n",
              "    </tr>\n",
              "    <tr>\n",
              "      <th>67</th>\n",
              "      <td>Sweden</td>\n",
              "      <td>29</td>\n",
              "    </tr>\n",
              "    <tr>\n",
              "      <th>25</th>\n",
              "      <td>France</td>\n",
              "      <td>57</td>\n",
              "    </tr>\n",
              "    <tr>\n",
              "      <th>26</th>\n",
              "      <td>Germany</td>\n",
              "      <td>84</td>\n",
              "    </tr>\n",
              "    <tr>\n",
              "      <th>73</th>\n",
              "      <td>United Kingdom</td>\n",
              "      <td>105</td>\n",
              "    </tr>\n",
              "    <tr>\n",
              "      <th>74</th>\n",
              "      <td>United States of America</td>\n",
              "      <td>281</td>\n",
              "    </tr>\n",
              "  </tbody>\n",
              "</table>\n",
              "</div>"
            ],
            "text/plain": [
              "       birth_country_current  prize\n",
              "7                    Belgium      9\n",
              "31                   Hungary      9\n",
              "33                     India      9\n",
              "2                  Australia     10\n",
              "20                   Denmark     12\n",
              "54                    Norway     12\n",
              "13                     China     12\n",
              "51               Netherlands     18\n",
              "3                    Austria     18\n",
              "39                     Italy     19\n",
              "68               Switzerland     19\n",
              "11                    Canada     20\n",
              "61                    Russia     26\n",
              "40                     Japan     27\n",
              "57                    Poland     27\n",
              "67                    Sweden     29\n",
              "25                    France     57\n",
              "26                   Germany     84\n",
              "73            United Kingdom    105\n",
              "74  United States of America    281"
            ]
          },
          "execution_count": 69,
          "metadata": {},
          "output_type": "execute_result"
        }
      ],
      "source": [
        "top20_countries = df_data.groupby(['birth_country_current'], as_index=False).agg({'prize' : pd.Series.count})\n",
        "\n",
        "# top20_countries.sort_values(by='prize', inplace=True)\n",
        "top20_countries.sort_values(by='prize', inplace=True)\n",
        "\n",
        "top20_countries = top20_countries[-20:]\n",
        "top20_countries\n"
      ]
    },
    {
      "cell_type": "code",
      "execution_count": 74,
      "metadata": {
        "id": "Zl2rqcVKFz9P"
      },
      "outputs": [
        {
          "data": {
            "application/vnd.plotly.v1+json": {
              "config": {
                "plotlyServerURL": "https://plot.ly"
              },
              "data": [
                {
                  "alignmentgroup": "True",
                  "hovertemplate": "x=%{x}<br>y=%{y}<br>color=%{marker.color}<extra></extra>",
                  "legendgroup": "",
                  "marker": {
                    "color": [
                      9,
                      9,
                      9,
                      10,
                      12,
                      12,
                      12,
                      18,
                      18,
                      19,
                      19,
                      20,
                      26,
                      27,
                      27,
                      29,
                      57,
                      84,
                      105,
                      281
                    ],
                    "coloraxis": "coloraxis",
                    "pattern": {
                      "shape": ""
                    }
                  },
                  "name": "",
                  "offsetgroup": "",
                  "orientation": "h",
                  "showlegend": false,
                  "textposition": "auto",
                  "type": "bar",
                  "x": [
                    9,
                    9,
                    9,
                    10,
                    12,
                    12,
                    12,
                    18,
                    18,
                    19,
                    19,
                    20,
                    26,
                    27,
                    27,
                    29,
                    57,
                    84,
                    105,
                    281
                  ],
                  "xaxis": "x",
                  "y": [
                    "Belgium",
                    "Hungary",
                    "India",
                    "Australia",
                    "Denmark",
                    "Norway",
                    "China",
                    "Netherlands",
                    "Austria",
                    "Italy",
                    "Switzerland",
                    "Canada",
                    "Russia",
                    "Japan",
                    "Poland",
                    "Sweden",
                    "France",
                    "Germany",
                    "United Kingdom",
                    "United States of America"
                  ],
                  "yaxis": "y"
                }
              ],
              "layout": {
                "barmode": "relative",
                "coloraxis": {
                  "colorbar": {
                    "title": {
                      "text": "color"
                    }
                  },
                  "colorscale": [
                    [
                      0,
                      "#0d0887"
                    ],
                    [
                      0.1111111111111111,
                      "#46039f"
                    ],
                    [
                      0.2222222222222222,
                      "#7201a8"
                    ],
                    [
                      0.3333333333333333,
                      "#9c179e"
                    ],
                    [
                      0.4444444444444444,
                      "#bd3786"
                    ],
                    [
                      0.5555555555555556,
                      "#d8576b"
                    ],
                    [
                      0.6666666666666666,
                      "#ed7953"
                    ],
                    [
                      0.7777777777777778,
                      "#fb9f3a"
                    ],
                    [
                      0.8888888888888888,
                      "#fdca26"
                    ],
                    [
                      1,
                      "#f0f921"
                    ]
                  ]
                },
                "legend": {
                  "tracegroupgap": 0
                },
                "margin": {
                  "t": 60
                },
                "template": {
                  "data": {
                    "bar": [
                      {
                        "error_x": {
                          "color": "#2a3f5f"
                        },
                        "error_y": {
                          "color": "#2a3f5f"
                        },
                        "marker": {
                          "line": {
                            "color": "#E5ECF6",
                            "width": 0.5
                          },
                          "pattern": {
                            "fillmode": "overlay",
                            "size": 10,
                            "solidity": 0.2
                          }
                        },
                        "type": "bar"
                      }
                    ],
                    "barpolar": [
                      {
                        "marker": {
                          "line": {
                            "color": "#E5ECF6",
                            "width": 0.5
                          },
                          "pattern": {
                            "fillmode": "overlay",
                            "size": 10,
                            "solidity": 0.2
                          }
                        },
                        "type": "barpolar"
                      }
                    ],
                    "carpet": [
                      {
                        "aaxis": {
                          "endlinecolor": "#2a3f5f",
                          "gridcolor": "white",
                          "linecolor": "white",
                          "minorgridcolor": "white",
                          "startlinecolor": "#2a3f5f"
                        },
                        "baxis": {
                          "endlinecolor": "#2a3f5f",
                          "gridcolor": "white",
                          "linecolor": "white",
                          "minorgridcolor": "white",
                          "startlinecolor": "#2a3f5f"
                        },
                        "type": "carpet"
                      }
                    ],
                    "choropleth": [
                      {
                        "colorbar": {
                          "outlinewidth": 0,
                          "ticks": ""
                        },
                        "type": "choropleth"
                      }
                    ],
                    "contour": [
                      {
                        "colorbar": {
                          "outlinewidth": 0,
                          "ticks": ""
                        },
                        "colorscale": [
                          [
                            0,
                            "#0d0887"
                          ],
                          [
                            0.1111111111111111,
                            "#46039f"
                          ],
                          [
                            0.2222222222222222,
                            "#7201a8"
                          ],
                          [
                            0.3333333333333333,
                            "#9c179e"
                          ],
                          [
                            0.4444444444444444,
                            "#bd3786"
                          ],
                          [
                            0.5555555555555556,
                            "#d8576b"
                          ],
                          [
                            0.6666666666666666,
                            "#ed7953"
                          ],
                          [
                            0.7777777777777778,
                            "#fb9f3a"
                          ],
                          [
                            0.8888888888888888,
                            "#fdca26"
                          ],
                          [
                            1,
                            "#f0f921"
                          ]
                        ],
                        "type": "contour"
                      }
                    ],
                    "contourcarpet": [
                      {
                        "colorbar": {
                          "outlinewidth": 0,
                          "ticks": ""
                        },
                        "type": "contourcarpet"
                      }
                    ],
                    "heatmap": [
                      {
                        "colorbar": {
                          "outlinewidth": 0,
                          "ticks": ""
                        },
                        "colorscale": [
                          [
                            0,
                            "#0d0887"
                          ],
                          [
                            0.1111111111111111,
                            "#46039f"
                          ],
                          [
                            0.2222222222222222,
                            "#7201a8"
                          ],
                          [
                            0.3333333333333333,
                            "#9c179e"
                          ],
                          [
                            0.4444444444444444,
                            "#bd3786"
                          ],
                          [
                            0.5555555555555556,
                            "#d8576b"
                          ],
                          [
                            0.6666666666666666,
                            "#ed7953"
                          ],
                          [
                            0.7777777777777778,
                            "#fb9f3a"
                          ],
                          [
                            0.8888888888888888,
                            "#fdca26"
                          ],
                          [
                            1,
                            "#f0f921"
                          ]
                        ],
                        "type": "heatmap"
                      }
                    ],
                    "heatmapgl": [
                      {
                        "colorbar": {
                          "outlinewidth": 0,
                          "ticks": ""
                        },
                        "colorscale": [
                          [
                            0,
                            "#0d0887"
                          ],
                          [
                            0.1111111111111111,
                            "#46039f"
                          ],
                          [
                            0.2222222222222222,
                            "#7201a8"
                          ],
                          [
                            0.3333333333333333,
                            "#9c179e"
                          ],
                          [
                            0.4444444444444444,
                            "#bd3786"
                          ],
                          [
                            0.5555555555555556,
                            "#d8576b"
                          ],
                          [
                            0.6666666666666666,
                            "#ed7953"
                          ],
                          [
                            0.7777777777777778,
                            "#fb9f3a"
                          ],
                          [
                            0.8888888888888888,
                            "#fdca26"
                          ],
                          [
                            1,
                            "#f0f921"
                          ]
                        ],
                        "type": "heatmapgl"
                      }
                    ],
                    "histogram": [
                      {
                        "marker": {
                          "pattern": {
                            "fillmode": "overlay",
                            "size": 10,
                            "solidity": 0.2
                          }
                        },
                        "type": "histogram"
                      }
                    ],
                    "histogram2d": [
                      {
                        "colorbar": {
                          "outlinewidth": 0,
                          "ticks": ""
                        },
                        "colorscale": [
                          [
                            0,
                            "#0d0887"
                          ],
                          [
                            0.1111111111111111,
                            "#46039f"
                          ],
                          [
                            0.2222222222222222,
                            "#7201a8"
                          ],
                          [
                            0.3333333333333333,
                            "#9c179e"
                          ],
                          [
                            0.4444444444444444,
                            "#bd3786"
                          ],
                          [
                            0.5555555555555556,
                            "#d8576b"
                          ],
                          [
                            0.6666666666666666,
                            "#ed7953"
                          ],
                          [
                            0.7777777777777778,
                            "#fb9f3a"
                          ],
                          [
                            0.8888888888888888,
                            "#fdca26"
                          ],
                          [
                            1,
                            "#f0f921"
                          ]
                        ],
                        "type": "histogram2d"
                      }
                    ],
                    "histogram2dcontour": [
                      {
                        "colorbar": {
                          "outlinewidth": 0,
                          "ticks": ""
                        },
                        "colorscale": [
                          [
                            0,
                            "#0d0887"
                          ],
                          [
                            0.1111111111111111,
                            "#46039f"
                          ],
                          [
                            0.2222222222222222,
                            "#7201a8"
                          ],
                          [
                            0.3333333333333333,
                            "#9c179e"
                          ],
                          [
                            0.4444444444444444,
                            "#bd3786"
                          ],
                          [
                            0.5555555555555556,
                            "#d8576b"
                          ],
                          [
                            0.6666666666666666,
                            "#ed7953"
                          ],
                          [
                            0.7777777777777778,
                            "#fb9f3a"
                          ],
                          [
                            0.8888888888888888,
                            "#fdca26"
                          ],
                          [
                            1,
                            "#f0f921"
                          ]
                        ],
                        "type": "histogram2dcontour"
                      }
                    ],
                    "mesh3d": [
                      {
                        "colorbar": {
                          "outlinewidth": 0,
                          "ticks": ""
                        },
                        "type": "mesh3d"
                      }
                    ],
                    "parcoords": [
                      {
                        "line": {
                          "colorbar": {
                            "outlinewidth": 0,
                            "ticks": ""
                          }
                        },
                        "type": "parcoords"
                      }
                    ],
                    "pie": [
                      {
                        "automargin": true,
                        "type": "pie"
                      }
                    ],
                    "scatter": [
                      {
                        "fillpattern": {
                          "fillmode": "overlay",
                          "size": 10,
                          "solidity": 0.2
                        },
                        "type": "scatter"
                      }
                    ],
                    "scatter3d": [
                      {
                        "line": {
                          "colorbar": {
                            "outlinewidth": 0,
                            "ticks": ""
                          }
                        },
                        "marker": {
                          "colorbar": {
                            "outlinewidth": 0,
                            "ticks": ""
                          }
                        },
                        "type": "scatter3d"
                      }
                    ],
                    "scattercarpet": [
                      {
                        "marker": {
                          "colorbar": {
                            "outlinewidth": 0,
                            "ticks": ""
                          }
                        },
                        "type": "scattercarpet"
                      }
                    ],
                    "scattergeo": [
                      {
                        "marker": {
                          "colorbar": {
                            "outlinewidth": 0,
                            "ticks": ""
                          }
                        },
                        "type": "scattergeo"
                      }
                    ],
                    "scattergl": [
                      {
                        "marker": {
                          "colorbar": {
                            "outlinewidth": 0,
                            "ticks": ""
                          }
                        },
                        "type": "scattergl"
                      }
                    ],
                    "scattermapbox": [
                      {
                        "marker": {
                          "colorbar": {
                            "outlinewidth": 0,
                            "ticks": ""
                          }
                        },
                        "type": "scattermapbox"
                      }
                    ],
                    "scatterpolar": [
                      {
                        "marker": {
                          "colorbar": {
                            "outlinewidth": 0,
                            "ticks": ""
                          }
                        },
                        "type": "scatterpolar"
                      }
                    ],
                    "scatterpolargl": [
                      {
                        "marker": {
                          "colorbar": {
                            "outlinewidth": 0,
                            "ticks": ""
                          }
                        },
                        "type": "scatterpolargl"
                      }
                    ],
                    "scatterternary": [
                      {
                        "marker": {
                          "colorbar": {
                            "outlinewidth": 0,
                            "ticks": ""
                          }
                        },
                        "type": "scatterternary"
                      }
                    ],
                    "surface": [
                      {
                        "colorbar": {
                          "outlinewidth": 0,
                          "ticks": ""
                        },
                        "colorscale": [
                          [
                            0,
                            "#0d0887"
                          ],
                          [
                            0.1111111111111111,
                            "#46039f"
                          ],
                          [
                            0.2222222222222222,
                            "#7201a8"
                          ],
                          [
                            0.3333333333333333,
                            "#9c179e"
                          ],
                          [
                            0.4444444444444444,
                            "#bd3786"
                          ],
                          [
                            0.5555555555555556,
                            "#d8576b"
                          ],
                          [
                            0.6666666666666666,
                            "#ed7953"
                          ],
                          [
                            0.7777777777777778,
                            "#fb9f3a"
                          ],
                          [
                            0.8888888888888888,
                            "#fdca26"
                          ],
                          [
                            1,
                            "#f0f921"
                          ]
                        ],
                        "type": "surface"
                      }
                    ],
                    "table": [
                      {
                        "cells": {
                          "fill": {
                            "color": "#EBF0F8"
                          },
                          "line": {
                            "color": "white"
                          }
                        },
                        "header": {
                          "fill": {
                            "color": "#C8D4E3"
                          },
                          "line": {
                            "color": "white"
                          }
                        },
                        "type": "table"
                      }
                    ]
                  },
                  "layout": {
                    "annotationdefaults": {
                      "arrowcolor": "#2a3f5f",
                      "arrowhead": 0,
                      "arrowwidth": 1
                    },
                    "autotypenumbers": "strict",
                    "coloraxis": {
                      "colorbar": {
                        "outlinewidth": 0,
                        "ticks": ""
                      }
                    },
                    "colorscale": {
                      "diverging": [
                        [
                          0,
                          "#8e0152"
                        ],
                        [
                          0.1,
                          "#c51b7d"
                        ],
                        [
                          0.2,
                          "#de77ae"
                        ],
                        [
                          0.3,
                          "#f1b6da"
                        ],
                        [
                          0.4,
                          "#fde0ef"
                        ],
                        [
                          0.5,
                          "#f7f7f7"
                        ],
                        [
                          0.6,
                          "#e6f5d0"
                        ],
                        [
                          0.7,
                          "#b8e186"
                        ],
                        [
                          0.8,
                          "#7fbc41"
                        ],
                        [
                          0.9,
                          "#4d9221"
                        ],
                        [
                          1,
                          "#276419"
                        ]
                      ],
                      "sequential": [
                        [
                          0,
                          "#0d0887"
                        ],
                        [
                          0.1111111111111111,
                          "#46039f"
                        ],
                        [
                          0.2222222222222222,
                          "#7201a8"
                        ],
                        [
                          0.3333333333333333,
                          "#9c179e"
                        ],
                        [
                          0.4444444444444444,
                          "#bd3786"
                        ],
                        [
                          0.5555555555555556,
                          "#d8576b"
                        ],
                        [
                          0.6666666666666666,
                          "#ed7953"
                        ],
                        [
                          0.7777777777777778,
                          "#fb9f3a"
                        ],
                        [
                          0.8888888888888888,
                          "#fdca26"
                        ],
                        [
                          1,
                          "#f0f921"
                        ]
                      ],
                      "sequentialminus": [
                        [
                          0,
                          "#0d0887"
                        ],
                        [
                          0.1111111111111111,
                          "#46039f"
                        ],
                        [
                          0.2222222222222222,
                          "#7201a8"
                        ],
                        [
                          0.3333333333333333,
                          "#9c179e"
                        ],
                        [
                          0.4444444444444444,
                          "#bd3786"
                        ],
                        [
                          0.5555555555555556,
                          "#d8576b"
                        ],
                        [
                          0.6666666666666666,
                          "#ed7953"
                        ],
                        [
                          0.7777777777777778,
                          "#fb9f3a"
                        ],
                        [
                          0.8888888888888888,
                          "#fdca26"
                        ],
                        [
                          1,
                          "#f0f921"
                        ]
                      ]
                    },
                    "colorway": [
                      "#636efa",
                      "#EF553B",
                      "#00cc96",
                      "#ab63fa",
                      "#FFA15A",
                      "#19d3f3",
                      "#FF6692",
                      "#B6E880",
                      "#FF97FF",
                      "#FECB52"
                    ],
                    "font": {
                      "color": "#2a3f5f"
                    },
                    "geo": {
                      "bgcolor": "white",
                      "lakecolor": "white",
                      "landcolor": "#E5ECF6",
                      "showlakes": true,
                      "showland": true,
                      "subunitcolor": "white"
                    },
                    "hoverlabel": {
                      "align": "left"
                    },
                    "hovermode": "closest",
                    "mapbox": {
                      "style": "light"
                    },
                    "paper_bgcolor": "white",
                    "plot_bgcolor": "#E5ECF6",
                    "polar": {
                      "angularaxis": {
                        "gridcolor": "white",
                        "linecolor": "white",
                        "ticks": ""
                      },
                      "bgcolor": "#E5ECF6",
                      "radialaxis": {
                        "gridcolor": "white",
                        "linecolor": "white",
                        "ticks": ""
                      }
                    },
                    "scene": {
                      "xaxis": {
                        "backgroundcolor": "#E5ECF6",
                        "gridcolor": "white",
                        "gridwidth": 2,
                        "linecolor": "white",
                        "showbackground": true,
                        "ticks": "",
                        "zerolinecolor": "white"
                      },
                      "yaxis": {
                        "backgroundcolor": "#E5ECF6",
                        "gridcolor": "white",
                        "gridwidth": 2,
                        "linecolor": "white",
                        "showbackground": true,
                        "ticks": "",
                        "zerolinecolor": "white"
                      },
                      "zaxis": {
                        "backgroundcolor": "#E5ECF6",
                        "gridcolor": "white",
                        "gridwidth": 2,
                        "linecolor": "white",
                        "showbackground": true,
                        "ticks": "",
                        "zerolinecolor": "white"
                      }
                    },
                    "shapedefaults": {
                      "line": {
                        "color": "#2a3f5f"
                      }
                    },
                    "ternary": {
                      "aaxis": {
                        "gridcolor": "white",
                        "linecolor": "white",
                        "ticks": ""
                      },
                      "baxis": {
                        "gridcolor": "white",
                        "linecolor": "white",
                        "ticks": ""
                      },
                      "bgcolor": "#E5ECF6",
                      "caxis": {
                        "gridcolor": "white",
                        "linecolor": "white",
                        "ticks": ""
                      }
                    },
                    "title": {
                      "x": 0.05
                    },
                    "xaxis": {
                      "automargin": true,
                      "gridcolor": "white",
                      "linecolor": "white",
                      "ticks": "",
                      "title": {
                        "standoff": 15
                      },
                      "zerolinecolor": "white",
                      "zerolinewidth": 2
                    },
                    "yaxis": {
                      "automargin": true,
                      "gridcolor": "white",
                      "linecolor": "white",
                      "ticks": "",
                      "title": {
                        "standoff": 15
                      },
                      "zerolinecolor": "white",
                      "zerolinewidth": 2
                    }
                  }
                },
                "xaxis": {
                  "anchor": "y",
                  "domain": [
                    0,
                    1
                  ],
                  "title": {
                    "text": "Number of Prizes"
                  }
                },
                "yaxis": {
                  "anchor": "x",
                  "domain": [
                    0,
                    1
                  ],
                  "title": {
                    "text": "Country"
                  }
                }
              }
            }
          },
          "metadata": {},
          "output_type": "display_data"
        }
      ],
      "source": [
        "h_bar = px.bar(\n",
        "                x=top20_countries.prize, y=top20_countries.birth_country_current,\n",
        "                orientation=\"h\",\n",
        "                color=top20_countries.prize,\n",
        "                \n",
        "        )\n",
        "\n",
        "h_bar.update_layout(xaxis_title=\"Number of Prizes\", yaxis_title=\"Country\")\n",
        "h_bar.show()"
      ]
    },
    {
      "cell_type": "code",
      "execution_count": null,
      "metadata": {
        "id": "ivVVhHa1F20p"
      },
      "outputs": [],
      "source": []
    },
    {
      "cell_type": "code",
      "execution_count": null,
      "metadata": {
        "id": "eAFgX9_2Fz2W"
      },
      "outputs": [],
      "source": []
    },
    {
      "cell_type": "code",
      "execution_count": null,
      "metadata": {
        "id": "botUfiYDFzbL"
      },
      "outputs": [],
      "source": []
    },
    {
      "cell_type": "markdown",
      "metadata": {
        "id": "uNTvKsrzo7MR"
      },
      "source": [
        "# Use a Choropleth Map to Show the Number of Prizes Won by Country\n",
        "\n",
        "* Create this choropleth map using [the plotly documentation](https://plotly.com/python/choropleth-maps/):\n",
        "\n",
        "<img src=https://i.imgur.com/s4lqYZH.png>\n",
        "\n",
        "* Experiment with [plotly's available colours](https://plotly.com/python/builtin-colorscales/). I quite like the sequential colour `matter` on this map. \n",
        "\n",
        "Hint: You'll need to use a 3 letter country code for each country. \n"
      ]
    },
    {
      "cell_type": "code",
      "execution_count": 81,
      "metadata": {
        "id": "2YT8MN4sF4Hs"
      },
      "outputs": [
        {
          "data": {
            "application/vnd.plotly.v1+json": {
              "config": {
                "plotlyServerURL": "https://plot.ly"
              },
              "data": [
                {
                  "coloraxis": "coloraxis",
                  "geo": "geo",
                  "hovertemplate": "ISO=%{location}<br>prize=%{z}<extra></extra>",
                  "locations": [
                    "DZA",
                    "ARG",
                    "AUS",
                    "AUT",
                    "AZE",
                    "BGD",
                    "BLR",
                    "BEL",
                    "BIH",
                    "BRA",
                    "BGR",
                    "CAN",
                    "CHL",
                    "CHN",
                    "COL",
                    "CRI",
                    "HRV",
                    "CYP",
                    "CZE",
                    "COD",
                    "DNK",
                    "DOM",
                    "EGY",
                    "ETH",
                    "FIN",
                    "FRA",
                    "DEU",
                    "GHA",
                    "GRC",
                    "GLP",
                    "GTM",
                    "HUN",
                    "ISL",
                    "IND",
                    "IDN",
                    "IRN",
                    "IRQ",
                    "IRL",
                    "ISR",
                    "ITA",
                    "JPN",
                    "KEN",
                    "KOR",
                    "LVA",
                    "LBR",
                    "LTU",
                    "LUX",
                    "MDG",
                    "MEX",
                    "MAR",
                    "MMR",
                    "NLD",
                    "NZL",
                    "NGA",
                    "NOR",
                    "PAK",
                    "PER",
                    "POL",
                    "PRT",
                    "MKD",
                    "ROU",
                    "RUS",
                    "LCA",
                    "SVK",
                    "SVN",
                    "ZAF",
                    "ESP",
                    "SWE",
                    "CHE",
                    "SYR",
                    "TON",
                    "TUR",
                    "UKR",
                    "GBR",
                    "USA",
                    "VEN",
                    "VNM",
                    "YEM",
                    "ZWE"
                  ],
                  "name": "",
                  "type": "choropleth",
                  "z": [
                    2,
                    4,
                    10,
                    18,
                    1,
                    1,
                    4,
                    9,
                    2,
                    1,
                    1,
                    20,
                    2,
                    12,
                    2,
                    1,
                    1,
                    1,
                    6,
                    1,
                    12,
                    2,
                    6,
                    1,
                    5,
                    57,
                    84,
                    1,
                    1,
                    1,
                    2,
                    9,
                    1,
                    9,
                    1,
                    2,
                    1,
                    5,
                    6,
                    19,
                    27,
                    1,
                    2,
                    1,
                    2,
                    3,
                    2,
                    1,
                    3,
                    1,
                    1,
                    18,
                    3,
                    1,
                    12,
                    3,
                    1,
                    27,
                    2,
                    1,
                    4,
                    26,
                    2,
                    1,
                    1,
                    9,
                    7,
                    29,
                    19,
                    1,
                    1,
                    3,
                    5,
                    105,
                    281,
                    1,
                    1,
                    1,
                    1
                  ]
                }
              ],
              "layout": {
                "coloraxis": {
                  "colorbar": {
                    "title": {
                      "text": "prize"
                    }
                  },
                  "colorscale": [
                    [
                      0,
                      "rgb(253, 237, 176)"
                    ],
                    [
                      0.09090909090909091,
                      "rgb(250, 205, 145)"
                    ],
                    [
                      0.18181818181818182,
                      "rgb(246, 173, 119)"
                    ],
                    [
                      0.2727272727272727,
                      "rgb(240, 142, 98)"
                    ],
                    [
                      0.36363636363636365,
                      "rgb(231, 109, 84)"
                    ],
                    [
                      0.45454545454545453,
                      "rgb(216, 80, 83)"
                    ],
                    [
                      0.5454545454545454,
                      "rgb(195, 56, 90)"
                    ],
                    [
                      0.6363636363636364,
                      "rgb(168, 40, 96)"
                    ],
                    [
                      0.7272727272727273,
                      "rgb(138, 29, 99)"
                    ],
                    [
                      0.8181818181818182,
                      "rgb(107, 24, 93)"
                    ],
                    [
                      0.9090909090909091,
                      "rgb(76, 21, 80)"
                    ],
                    [
                      1,
                      "rgb(47, 15, 61)"
                    ]
                  ]
                },
                "geo": {
                  "center": {},
                  "domain": {
                    "x": [
                      0,
                      1
                    ],
                    "y": [
                      0,
                      1
                    ]
                  }
                },
                "legend": {
                  "tracegroupgap": 0
                },
                "margin": {
                  "t": 60
                },
                "template": {
                  "data": {
                    "bar": [
                      {
                        "error_x": {
                          "color": "#2a3f5f"
                        },
                        "error_y": {
                          "color": "#2a3f5f"
                        },
                        "marker": {
                          "line": {
                            "color": "#E5ECF6",
                            "width": 0.5
                          },
                          "pattern": {
                            "fillmode": "overlay",
                            "size": 10,
                            "solidity": 0.2
                          }
                        },
                        "type": "bar"
                      }
                    ],
                    "barpolar": [
                      {
                        "marker": {
                          "line": {
                            "color": "#E5ECF6",
                            "width": 0.5
                          },
                          "pattern": {
                            "fillmode": "overlay",
                            "size": 10,
                            "solidity": 0.2
                          }
                        },
                        "type": "barpolar"
                      }
                    ],
                    "carpet": [
                      {
                        "aaxis": {
                          "endlinecolor": "#2a3f5f",
                          "gridcolor": "white",
                          "linecolor": "white",
                          "minorgridcolor": "white",
                          "startlinecolor": "#2a3f5f"
                        },
                        "baxis": {
                          "endlinecolor": "#2a3f5f",
                          "gridcolor": "white",
                          "linecolor": "white",
                          "minorgridcolor": "white",
                          "startlinecolor": "#2a3f5f"
                        },
                        "type": "carpet"
                      }
                    ],
                    "choropleth": [
                      {
                        "colorbar": {
                          "outlinewidth": 0,
                          "ticks": ""
                        },
                        "type": "choropleth"
                      }
                    ],
                    "contour": [
                      {
                        "colorbar": {
                          "outlinewidth": 0,
                          "ticks": ""
                        },
                        "colorscale": [
                          [
                            0,
                            "#0d0887"
                          ],
                          [
                            0.1111111111111111,
                            "#46039f"
                          ],
                          [
                            0.2222222222222222,
                            "#7201a8"
                          ],
                          [
                            0.3333333333333333,
                            "#9c179e"
                          ],
                          [
                            0.4444444444444444,
                            "#bd3786"
                          ],
                          [
                            0.5555555555555556,
                            "#d8576b"
                          ],
                          [
                            0.6666666666666666,
                            "#ed7953"
                          ],
                          [
                            0.7777777777777778,
                            "#fb9f3a"
                          ],
                          [
                            0.8888888888888888,
                            "#fdca26"
                          ],
                          [
                            1,
                            "#f0f921"
                          ]
                        ],
                        "type": "contour"
                      }
                    ],
                    "contourcarpet": [
                      {
                        "colorbar": {
                          "outlinewidth": 0,
                          "ticks": ""
                        },
                        "type": "contourcarpet"
                      }
                    ],
                    "heatmap": [
                      {
                        "colorbar": {
                          "outlinewidth": 0,
                          "ticks": ""
                        },
                        "colorscale": [
                          [
                            0,
                            "#0d0887"
                          ],
                          [
                            0.1111111111111111,
                            "#46039f"
                          ],
                          [
                            0.2222222222222222,
                            "#7201a8"
                          ],
                          [
                            0.3333333333333333,
                            "#9c179e"
                          ],
                          [
                            0.4444444444444444,
                            "#bd3786"
                          ],
                          [
                            0.5555555555555556,
                            "#d8576b"
                          ],
                          [
                            0.6666666666666666,
                            "#ed7953"
                          ],
                          [
                            0.7777777777777778,
                            "#fb9f3a"
                          ],
                          [
                            0.8888888888888888,
                            "#fdca26"
                          ],
                          [
                            1,
                            "#f0f921"
                          ]
                        ],
                        "type": "heatmap"
                      }
                    ],
                    "heatmapgl": [
                      {
                        "colorbar": {
                          "outlinewidth": 0,
                          "ticks": ""
                        },
                        "colorscale": [
                          [
                            0,
                            "#0d0887"
                          ],
                          [
                            0.1111111111111111,
                            "#46039f"
                          ],
                          [
                            0.2222222222222222,
                            "#7201a8"
                          ],
                          [
                            0.3333333333333333,
                            "#9c179e"
                          ],
                          [
                            0.4444444444444444,
                            "#bd3786"
                          ],
                          [
                            0.5555555555555556,
                            "#d8576b"
                          ],
                          [
                            0.6666666666666666,
                            "#ed7953"
                          ],
                          [
                            0.7777777777777778,
                            "#fb9f3a"
                          ],
                          [
                            0.8888888888888888,
                            "#fdca26"
                          ],
                          [
                            1,
                            "#f0f921"
                          ]
                        ],
                        "type": "heatmapgl"
                      }
                    ],
                    "histogram": [
                      {
                        "marker": {
                          "pattern": {
                            "fillmode": "overlay",
                            "size": 10,
                            "solidity": 0.2
                          }
                        },
                        "type": "histogram"
                      }
                    ],
                    "histogram2d": [
                      {
                        "colorbar": {
                          "outlinewidth": 0,
                          "ticks": ""
                        },
                        "colorscale": [
                          [
                            0,
                            "#0d0887"
                          ],
                          [
                            0.1111111111111111,
                            "#46039f"
                          ],
                          [
                            0.2222222222222222,
                            "#7201a8"
                          ],
                          [
                            0.3333333333333333,
                            "#9c179e"
                          ],
                          [
                            0.4444444444444444,
                            "#bd3786"
                          ],
                          [
                            0.5555555555555556,
                            "#d8576b"
                          ],
                          [
                            0.6666666666666666,
                            "#ed7953"
                          ],
                          [
                            0.7777777777777778,
                            "#fb9f3a"
                          ],
                          [
                            0.8888888888888888,
                            "#fdca26"
                          ],
                          [
                            1,
                            "#f0f921"
                          ]
                        ],
                        "type": "histogram2d"
                      }
                    ],
                    "histogram2dcontour": [
                      {
                        "colorbar": {
                          "outlinewidth": 0,
                          "ticks": ""
                        },
                        "colorscale": [
                          [
                            0,
                            "#0d0887"
                          ],
                          [
                            0.1111111111111111,
                            "#46039f"
                          ],
                          [
                            0.2222222222222222,
                            "#7201a8"
                          ],
                          [
                            0.3333333333333333,
                            "#9c179e"
                          ],
                          [
                            0.4444444444444444,
                            "#bd3786"
                          ],
                          [
                            0.5555555555555556,
                            "#d8576b"
                          ],
                          [
                            0.6666666666666666,
                            "#ed7953"
                          ],
                          [
                            0.7777777777777778,
                            "#fb9f3a"
                          ],
                          [
                            0.8888888888888888,
                            "#fdca26"
                          ],
                          [
                            1,
                            "#f0f921"
                          ]
                        ],
                        "type": "histogram2dcontour"
                      }
                    ],
                    "mesh3d": [
                      {
                        "colorbar": {
                          "outlinewidth": 0,
                          "ticks": ""
                        },
                        "type": "mesh3d"
                      }
                    ],
                    "parcoords": [
                      {
                        "line": {
                          "colorbar": {
                            "outlinewidth": 0,
                            "ticks": ""
                          }
                        },
                        "type": "parcoords"
                      }
                    ],
                    "pie": [
                      {
                        "automargin": true,
                        "type": "pie"
                      }
                    ],
                    "scatter": [
                      {
                        "fillpattern": {
                          "fillmode": "overlay",
                          "size": 10,
                          "solidity": 0.2
                        },
                        "type": "scatter"
                      }
                    ],
                    "scatter3d": [
                      {
                        "line": {
                          "colorbar": {
                            "outlinewidth": 0,
                            "ticks": ""
                          }
                        },
                        "marker": {
                          "colorbar": {
                            "outlinewidth": 0,
                            "ticks": ""
                          }
                        },
                        "type": "scatter3d"
                      }
                    ],
                    "scattercarpet": [
                      {
                        "marker": {
                          "colorbar": {
                            "outlinewidth": 0,
                            "ticks": ""
                          }
                        },
                        "type": "scattercarpet"
                      }
                    ],
                    "scattergeo": [
                      {
                        "marker": {
                          "colorbar": {
                            "outlinewidth": 0,
                            "ticks": ""
                          }
                        },
                        "type": "scattergeo"
                      }
                    ],
                    "scattergl": [
                      {
                        "marker": {
                          "colorbar": {
                            "outlinewidth": 0,
                            "ticks": ""
                          }
                        },
                        "type": "scattergl"
                      }
                    ],
                    "scattermapbox": [
                      {
                        "marker": {
                          "colorbar": {
                            "outlinewidth": 0,
                            "ticks": ""
                          }
                        },
                        "type": "scattermapbox"
                      }
                    ],
                    "scatterpolar": [
                      {
                        "marker": {
                          "colorbar": {
                            "outlinewidth": 0,
                            "ticks": ""
                          }
                        },
                        "type": "scatterpolar"
                      }
                    ],
                    "scatterpolargl": [
                      {
                        "marker": {
                          "colorbar": {
                            "outlinewidth": 0,
                            "ticks": ""
                          }
                        },
                        "type": "scatterpolargl"
                      }
                    ],
                    "scatterternary": [
                      {
                        "marker": {
                          "colorbar": {
                            "outlinewidth": 0,
                            "ticks": ""
                          }
                        },
                        "type": "scatterternary"
                      }
                    ],
                    "surface": [
                      {
                        "colorbar": {
                          "outlinewidth": 0,
                          "ticks": ""
                        },
                        "colorscale": [
                          [
                            0,
                            "#0d0887"
                          ],
                          [
                            0.1111111111111111,
                            "#46039f"
                          ],
                          [
                            0.2222222222222222,
                            "#7201a8"
                          ],
                          [
                            0.3333333333333333,
                            "#9c179e"
                          ],
                          [
                            0.4444444444444444,
                            "#bd3786"
                          ],
                          [
                            0.5555555555555556,
                            "#d8576b"
                          ],
                          [
                            0.6666666666666666,
                            "#ed7953"
                          ],
                          [
                            0.7777777777777778,
                            "#fb9f3a"
                          ],
                          [
                            0.8888888888888888,
                            "#fdca26"
                          ],
                          [
                            1,
                            "#f0f921"
                          ]
                        ],
                        "type": "surface"
                      }
                    ],
                    "table": [
                      {
                        "cells": {
                          "fill": {
                            "color": "#EBF0F8"
                          },
                          "line": {
                            "color": "white"
                          }
                        },
                        "header": {
                          "fill": {
                            "color": "#C8D4E3"
                          },
                          "line": {
                            "color": "white"
                          }
                        },
                        "type": "table"
                      }
                    ]
                  },
                  "layout": {
                    "annotationdefaults": {
                      "arrowcolor": "#2a3f5f",
                      "arrowhead": 0,
                      "arrowwidth": 1
                    },
                    "autotypenumbers": "strict",
                    "coloraxis": {
                      "colorbar": {
                        "outlinewidth": 0,
                        "ticks": ""
                      }
                    },
                    "colorscale": {
                      "diverging": [
                        [
                          0,
                          "#8e0152"
                        ],
                        [
                          0.1,
                          "#c51b7d"
                        ],
                        [
                          0.2,
                          "#de77ae"
                        ],
                        [
                          0.3,
                          "#f1b6da"
                        ],
                        [
                          0.4,
                          "#fde0ef"
                        ],
                        [
                          0.5,
                          "#f7f7f7"
                        ],
                        [
                          0.6,
                          "#e6f5d0"
                        ],
                        [
                          0.7,
                          "#b8e186"
                        ],
                        [
                          0.8,
                          "#7fbc41"
                        ],
                        [
                          0.9,
                          "#4d9221"
                        ],
                        [
                          1,
                          "#276419"
                        ]
                      ],
                      "sequential": [
                        [
                          0,
                          "#0d0887"
                        ],
                        [
                          0.1111111111111111,
                          "#46039f"
                        ],
                        [
                          0.2222222222222222,
                          "#7201a8"
                        ],
                        [
                          0.3333333333333333,
                          "#9c179e"
                        ],
                        [
                          0.4444444444444444,
                          "#bd3786"
                        ],
                        [
                          0.5555555555555556,
                          "#d8576b"
                        ],
                        [
                          0.6666666666666666,
                          "#ed7953"
                        ],
                        [
                          0.7777777777777778,
                          "#fb9f3a"
                        ],
                        [
                          0.8888888888888888,
                          "#fdca26"
                        ],
                        [
                          1,
                          "#f0f921"
                        ]
                      ],
                      "sequentialminus": [
                        [
                          0,
                          "#0d0887"
                        ],
                        [
                          0.1111111111111111,
                          "#46039f"
                        ],
                        [
                          0.2222222222222222,
                          "#7201a8"
                        ],
                        [
                          0.3333333333333333,
                          "#9c179e"
                        ],
                        [
                          0.4444444444444444,
                          "#bd3786"
                        ],
                        [
                          0.5555555555555556,
                          "#d8576b"
                        ],
                        [
                          0.6666666666666666,
                          "#ed7953"
                        ],
                        [
                          0.7777777777777778,
                          "#fb9f3a"
                        ],
                        [
                          0.8888888888888888,
                          "#fdca26"
                        ],
                        [
                          1,
                          "#f0f921"
                        ]
                      ]
                    },
                    "colorway": [
                      "#636efa",
                      "#EF553B",
                      "#00cc96",
                      "#ab63fa",
                      "#FFA15A",
                      "#19d3f3",
                      "#FF6692",
                      "#B6E880",
                      "#FF97FF",
                      "#FECB52"
                    ],
                    "font": {
                      "color": "#2a3f5f"
                    },
                    "geo": {
                      "bgcolor": "white",
                      "lakecolor": "white",
                      "landcolor": "#E5ECF6",
                      "showlakes": true,
                      "showland": true,
                      "subunitcolor": "white"
                    },
                    "hoverlabel": {
                      "align": "left"
                    },
                    "hovermode": "closest",
                    "mapbox": {
                      "style": "light"
                    },
                    "paper_bgcolor": "white",
                    "plot_bgcolor": "#E5ECF6",
                    "polar": {
                      "angularaxis": {
                        "gridcolor": "white",
                        "linecolor": "white",
                        "ticks": ""
                      },
                      "bgcolor": "#E5ECF6",
                      "radialaxis": {
                        "gridcolor": "white",
                        "linecolor": "white",
                        "ticks": ""
                      }
                    },
                    "scene": {
                      "xaxis": {
                        "backgroundcolor": "#E5ECF6",
                        "gridcolor": "white",
                        "gridwidth": 2,
                        "linecolor": "white",
                        "showbackground": true,
                        "ticks": "",
                        "zerolinecolor": "white"
                      },
                      "yaxis": {
                        "backgroundcolor": "#E5ECF6",
                        "gridcolor": "white",
                        "gridwidth": 2,
                        "linecolor": "white",
                        "showbackground": true,
                        "ticks": "",
                        "zerolinecolor": "white"
                      },
                      "zaxis": {
                        "backgroundcolor": "#E5ECF6",
                        "gridcolor": "white",
                        "gridwidth": 2,
                        "linecolor": "white",
                        "showbackground": true,
                        "ticks": "",
                        "zerolinecolor": "white"
                      }
                    },
                    "shapedefaults": {
                      "line": {
                        "color": "#2a3f5f"
                      }
                    },
                    "ternary": {
                      "aaxis": {
                        "gridcolor": "white",
                        "linecolor": "white",
                        "ticks": ""
                      },
                      "baxis": {
                        "gridcolor": "white",
                        "linecolor": "white",
                        "ticks": ""
                      },
                      "bgcolor": "#E5ECF6",
                      "caxis": {
                        "gridcolor": "white",
                        "linecolor": "white",
                        "ticks": ""
                      }
                    },
                    "title": {
                      "x": 0.05
                    },
                    "xaxis": {
                      "automargin": true,
                      "gridcolor": "white",
                      "linecolor": "white",
                      "ticks": "",
                      "title": {
                        "standoff": 15
                      },
                      "zerolinecolor": "white",
                      "zerolinewidth": 2
                    },
                    "yaxis": {
                      "automargin": true,
                      "gridcolor": "white",
                      "linecolor": "white",
                      "ticks": "",
                      "title": {
                        "standoff": 15
                      },
                      "zerolinecolor": "white",
                      "zerolinewidth": 2
                    }
                  }
                }
              }
            }
          },
          "metadata": {},
          "output_type": "display_data"
        }
      ],
      "source": [
        "# df_data.head(1)\n",
        "\n",
        "map_countries = df_data.groupby(['birth_country_current', 'ISO'], as_index=False).agg({'prize': pd.Series.count})\n",
        "map_countries.sort_values('prize', ascending=False)\n",
        "\n",
        "# df_data\n",
        "\n",
        "map_graph = px.choropleth(map_countries, locations=\"ISO\", color=\"prize\", color_continuous_scale=px.colors.sequential.matter)\n",
        "\n",
        "map_graph.show()"
      ]
    },
    {
      "cell_type": "code",
      "execution_count": null,
      "metadata": {
        "id": "4O5jNBUYF4pD"
      },
      "outputs": [],
      "source": []
    },
    {
      "cell_type": "code",
      "execution_count": null,
      "metadata": {
        "id": "18QSc3EzF43z"
      },
      "outputs": [],
      "source": []
    },
    {
      "cell_type": "code",
      "execution_count": null,
      "metadata": {
        "id": "GIiWUNoGF4ga"
      },
      "outputs": [],
      "source": []
    },
    {
      "cell_type": "code",
      "execution_count": null,
      "metadata": {
        "id": "B7CgFAhiF3wv"
      },
      "outputs": [],
      "source": []
    },
    {
      "cell_type": "markdown",
      "metadata": {
        "id": "hNB-HUw0o7MU"
      },
      "source": [
        "# In Which Categories are the Different Countries Winning Prizes? \n",
        "\n",
        "**Challenge**: See if you can divide up the plotly bar chart you created above to show the which categories made up the total number of prizes. Here's what you're aiming for:\n",
        "\n",
        "<img src=https://i.imgur.com/iGaIKCL.png>\n",
        "\n",
        "* In which category are Germany and Japan the weakest compared to the United States?\n",
        "* In which category does Germany have more prizes than the UK?\n",
        "* In which categories does France have more prizes than Germany?\n",
        "* Which category makes up most of Australia's nobel prizes?\n",
        "* Which category makes up half of the prizes in the Netherlands?\n",
        "* Does the United States have more prizes in Economics than all of France? What about in Physics or Medicine?\n",
        "\n",
        "\n",
        "The hard part is preparing the data for this chart! \n",
        "\n",
        "\n",
        "*Hint*: Take a two-step approach. The first step is grouping the data by country and category. Then you can create a DataFrame that looks something like this:\n",
        "\n",
        "<img src=https://i.imgur.com/VKjzKa1.png width=450>\n"
      ]
    },
    {
      "cell_type": "code",
      "execution_count": 83,
      "metadata": {
        "id": "_BuNdpmEF7wR"
      },
      "outputs": [
        {
          "data": {
            "text/html": [
              "<div>\n",
              "<style scoped>\n",
              "    .dataframe tbody tr th:only-of-type {\n",
              "        vertical-align: middle;\n",
              "    }\n",
              "\n",
              "    .dataframe tbody tr th {\n",
              "        vertical-align: top;\n",
              "    }\n",
              "\n",
              "    .dataframe thead th {\n",
              "        text-align: right;\n",
              "    }\n",
              "</style>\n",
              "<table border=\"1\" class=\"dataframe\">\n",
              "  <thead>\n",
              "    <tr style=\"text-align: right;\">\n",
              "      <th></th>\n",
              "      <th>birth_country_current</th>\n",
              "      <th>category</th>\n",
              "      <th>prize</th>\n",
              "    </tr>\n",
              "  </thead>\n",
              "  <tbody>\n",
              "    <tr>\n",
              "      <th>204</th>\n",
              "      <td>United States of America</td>\n",
              "      <td>Medicine</td>\n",
              "      <td>78</td>\n",
              "    </tr>\n",
              "    <tr>\n",
              "      <th>206</th>\n",
              "      <td>United States of America</td>\n",
              "      <td>Physics</td>\n",
              "      <td>70</td>\n",
              "    </tr>\n",
              "    <tr>\n",
              "      <th>201</th>\n",
              "      <td>United States of America</td>\n",
              "      <td>Chemistry</td>\n",
              "      <td>55</td>\n",
              "    </tr>\n",
              "    <tr>\n",
              "      <th>202</th>\n",
              "      <td>United States of America</td>\n",
              "      <td>Economics</td>\n",
              "      <td>49</td>\n",
              "    </tr>\n",
              "    <tr>\n",
              "      <th>198</th>\n",
              "      <td>United Kingdom</td>\n",
              "      <td>Medicine</td>\n",
              "      <td>28</td>\n",
              "    </tr>\n",
              "    <tr>\n",
              "      <th>...</th>\n",
              "      <td>...</td>\n",
              "      <td>...</td>\n",
              "      <td>...</td>\n",
              "    </tr>\n",
              "    <tr>\n",
              "      <th>97</th>\n",
              "      <td>Iraq</td>\n",
              "      <td>Peace</td>\n",
              "      <td>1</td>\n",
              "    </tr>\n",
              "    <tr>\n",
              "      <th>99</th>\n",
              "      <td>Ireland</td>\n",
              "      <td>Medicine</td>\n",
              "      <td>1</td>\n",
              "    </tr>\n",
              "    <tr>\n",
              "      <th>100</th>\n",
              "      <td>Ireland</td>\n",
              "      <td>Physics</td>\n",
              "      <td>1</td>\n",
              "    </tr>\n",
              "    <tr>\n",
              "      <th>102</th>\n",
              "      <td>Israel</td>\n",
              "      <td>Economics</td>\n",
              "      <td>1</td>\n",
              "    </tr>\n",
              "    <tr>\n",
              "      <th>210</th>\n",
              "      <td>Zimbabwe</td>\n",
              "      <td>Peace</td>\n",
              "      <td>1</td>\n",
              "    </tr>\n",
              "  </tbody>\n",
              "</table>\n",
              "<p>211 rows × 3 columns</p>\n",
              "</div>"
            ],
            "text/plain": [
              "        birth_country_current   category  prize\n",
              "204  United States of America   Medicine     78\n",
              "206  United States of America    Physics     70\n",
              "201  United States of America  Chemistry     55\n",
              "202  United States of America  Economics     49\n",
              "198            United Kingdom   Medicine     28\n",
              "..                        ...        ...    ...\n",
              "97                       Iraq      Peace      1\n",
              "99                    Ireland   Medicine      1\n",
              "100                   Ireland    Physics      1\n",
              "102                    Israel  Economics      1\n",
              "210                  Zimbabwe      Peace      1\n",
              "\n",
              "[211 rows x 3 columns]"
            ]
          },
          "execution_count": 83,
          "metadata": {},
          "output_type": "execute_result"
        }
      ],
      "source": [
        "cat_by_country = df_data.groupby(['birth_country_current', 'category'], as_index=False).agg({'prize' : pd.Series.count})\n",
        "cat_by_country.sort_values(by='prize', ascending=False, inplace=True)\n",
        "\n",
        "\n",
        "\n",
        "\n"
      ]
    },
    {
      "cell_type": "code",
      "execution_count": 89,
      "metadata": {
        "id": "l5eYtGIXF8Mn"
      },
      "outputs": [
        {
          "data": {
            "text/html": [
              "<div>\n",
              "<style scoped>\n",
              "    .dataframe tbody tr th:only-of-type {\n",
              "        vertical-align: middle;\n",
              "    }\n",
              "\n",
              "    .dataframe tbody tr th {\n",
              "        vertical-align: top;\n",
              "    }\n",
              "\n",
              "    .dataframe thead th {\n",
              "        text-align: right;\n",
              "    }\n",
              "</style>\n",
              "<table border=\"1\" class=\"dataframe\">\n",
              "  <thead>\n",
              "    <tr style=\"text-align: right;\">\n",
              "      <th></th>\n",
              "      <th>birth_country_current</th>\n",
              "      <th>category</th>\n",
              "      <th>cat_prize</th>\n",
              "      <th>total_prize</th>\n",
              "    </tr>\n",
              "  </thead>\n",
              "  <tbody>\n",
              "    <tr>\n",
              "      <th>109</th>\n",
              "      <td>India</td>\n",
              "      <td>Physics</td>\n",
              "      <td>1</td>\n",
              "      <td>9</td>\n",
              "    </tr>\n",
              "    <tr>\n",
              "      <th>108</th>\n",
              "      <td>India</td>\n",
              "      <td>Peace</td>\n",
              "      <td>1</td>\n",
              "      <td>9</td>\n",
              "    </tr>\n",
              "    <tr>\n",
              "      <th>88</th>\n",
              "      <td>Belgium</td>\n",
              "      <td>Peace</td>\n",
              "      <td>3</td>\n",
              "      <td>9</td>\n",
              "    </tr>\n",
              "    <tr>\n",
              "      <th>89</th>\n",
              "      <td>Belgium</td>\n",
              "      <td>Medicine</td>\n",
              "      <td>3</td>\n",
              "      <td>9</td>\n",
              "    </tr>\n",
              "    <tr>\n",
              "      <th>90</th>\n",
              "      <td>Belgium</td>\n",
              "      <td>Chemistry</td>\n",
              "      <td>1</td>\n",
              "      <td>9</td>\n",
              "    </tr>\n",
              "    <tr>\n",
              "      <th>...</th>\n",
              "      <td>...</td>\n",
              "      <td>...</td>\n",
              "      <td>...</td>\n",
              "      <td>...</td>\n",
              "    </tr>\n",
              "    <tr>\n",
              "      <th>4</th>\n",
              "      <td>United States of America</td>\n",
              "      <td>Peace</td>\n",
              "      <td>19</td>\n",
              "      <td>281</td>\n",
              "    </tr>\n",
              "    <tr>\n",
              "      <th>3</th>\n",
              "      <td>United States of America</td>\n",
              "      <td>Economics</td>\n",
              "      <td>49</td>\n",
              "      <td>281</td>\n",
              "    </tr>\n",
              "    <tr>\n",
              "      <th>2</th>\n",
              "      <td>United States of America</td>\n",
              "      <td>Chemistry</td>\n",
              "      <td>55</td>\n",
              "      <td>281</td>\n",
              "    </tr>\n",
              "    <tr>\n",
              "      <th>1</th>\n",
              "      <td>United States of America</td>\n",
              "      <td>Physics</td>\n",
              "      <td>70</td>\n",
              "      <td>281</td>\n",
              "    </tr>\n",
              "    <tr>\n",
              "      <th>0</th>\n",
              "      <td>United States of America</td>\n",
              "      <td>Medicine</td>\n",
              "      <td>78</td>\n",
              "      <td>281</td>\n",
              "    </tr>\n",
              "  </tbody>\n",
              "</table>\n",
              "<p>110 rows × 4 columns</p>\n",
              "</div>"
            ],
            "text/plain": [
              "        birth_country_current   category  cat_prize  total_prize\n",
              "109                     India    Physics          1            9\n",
              "108                     India      Peace          1            9\n",
              "88                    Belgium      Peace          3            9\n",
              "89                    Belgium   Medicine          3            9\n",
              "90                    Belgium  Chemistry          1            9\n",
              "..                        ...        ...        ...          ...\n",
              "4    United States of America      Peace         19          281\n",
              "3    United States of America  Economics         49          281\n",
              "2    United States of America  Chemistry         55          281\n",
              "1    United States of America    Physics         70          281\n",
              "0    United States of America   Medicine         78          281\n",
              "\n",
              "[110 rows x 4 columns]"
            ]
          },
          "execution_count": 89,
          "metadata": {},
          "output_type": "execute_result"
        }
      ],
      "source": [
        "df_country_cat = pd.merge(cat_by_country, top20_countries, on='birth_country_current')\n",
        "df_country_cat.columns = ['birth_country_current', 'category', 'cat_prize', 'total_prize']\n",
        "\n",
        "df_country_cat.sort_values(by='total_prize', ascending=True, inplace=True)\n",
        "\n",
        "df_country_cat"
      ]
    },
    {
      "cell_type": "code",
      "execution_count": 90,
      "metadata": {
        "id": "AJO038bkF8YK"
      },
      "outputs": [
        {
          "data": {
            "application/vnd.plotly.v1+json": {
              "config": {
                "plotlyServerURL": "https://plot.ly"
              },
              "data": [
                {
                  "alignmentgroup": "True",
                  "hovertemplate": "color=Physics<br>x=%{x}<br>y=%{y}<extra></extra>",
                  "legendgroup": "Physics",
                  "marker": {
                    "color": "#636efa",
                    "pattern": {
                      "shape": ""
                    }
                  },
                  "name": "Physics",
                  "offsetgroup": "Physics",
                  "orientation": "h",
                  "showlegend": true,
                  "textposition": "auto",
                  "type": "bar",
                  "x": [
                    1,
                    1,
                    2,
                    2,
                    5,
                    2,
                    1,
                    3,
                    9,
                    6,
                    5,
                    6,
                    10,
                    8,
                    11,
                    4,
                    10,
                    26,
                    24,
                    70
                  ],
                  "xaxis": "x",
                  "y": [
                    "India",
                    "Belgium",
                    "Hungary",
                    "Australia",
                    "China",
                    "Denmark",
                    "Norway",
                    "Austria",
                    "Netherlands",
                    "Switzerland",
                    "Italy",
                    "Canada",
                    "Russia",
                    "Poland",
                    "Japan",
                    "Sweden",
                    "France",
                    "Germany",
                    "United Kingdom",
                    "United States of America"
                  ],
                  "yaxis": "y"
                },
                {
                  "alignmentgroup": "True",
                  "hovertemplate": "color=Peace<br>x=%{x}<br>y=%{y}<extra></extra>",
                  "legendgroup": "Peace",
                  "marker": {
                    "color": "#EF553B",
                    "pattern": {
                      "shape": ""
                    }
                  },
                  "name": "Peace",
                  "offsetgroup": "Peace",
                  "orientation": "h",
                  "showlegend": true,
                  "textposition": "auto",
                  "type": "bar",
                  "x": [
                    1,
                    3,
                    2,
                    1,
                    2,
                    1,
                    1,
                    1,
                    3,
                    1,
                    2,
                    1,
                    2,
                    5,
                    10,
                    5,
                    11,
                    19
                  ],
                  "xaxis": "x",
                  "y": [
                    "India",
                    "Belgium",
                    "China",
                    "Denmark",
                    "Norway",
                    "Austria",
                    "Netherlands",
                    "Italy",
                    "Switzerland",
                    "Canada",
                    "Russia",
                    "Japan",
                    "Poland",
                    "Sweden",
                    "France",
                    "Germany",
                    "United Kingdom",
                    "United States of America"
                  ],
                  "yaxis": "y"
                },
                {
                  "alignmentgroup": "True",
                  "hovertemplate": "color=Medicine<br>x=%{x}<br>y=%{y}<extra></extra>",
                  "legendgroup": "Medicine",
                  "marker": {
                    "color": "#00cc96",
                    "pattern": {
                      "shape": ""
                    }
                  },
                  "name": "Medicine",
                  "offsetgroup": "Medicine",
                  "orientation": "h",
                  "showlegend": true,
                  "textposition": "auto",
                  "type": "bar",
                  "x": [
                    3,
                    2,
                    2,
                    7,
                    4,
                    2,
                    2,
                    6,
                    2,
                    6,
                    5,
                    4,
                    2,
                    6,
                    5,
                    7,
                    12,
                    18,
                    28,
                    78
                  ],
                  "xaxis": "x",
                  "y": [
                    "Belgium",
                    "Hungary",
                    "India",
                    "Australia",
                    "Denmark",
                    "China",
                    "Norway",
                    "Austria",
                    "Netherlands",
                    "Switzerland",
                    "Italy",
                    "Canada",
                    "Russia",
                    "Poland",
                    "Japan",
                    "Sweden",
                    "France",
                    "Germany",
                    "United Kingdom",
                    "United States of America"
                  ],
                  "yaxis": "y"
                },
                {
                  "alignmentgroup": "True",
                  "hovertemplate": "color=Chemistry<br>x=%{x}<br>y=%{y}<extra></extra>",
                  "legendgroup": "Chemistry",
                  "marker": {
                    "color": "#ab63fa",
                    "pattern": {
                      "shape": ""
                    }
                  },
                  "name": "Chemistry",
                  "offsetgroup": "Chemistry",
                  "orientation": "h",
                  "showlegend": true,
                  "textposition": "auto",
                  "type": "bar",
                  "x": [
                    1,
                    3,
                    1,
                    1,
                    1,
                    1,
                    2,
                    5,
                    4,
                    1,
                    3,
                    4,
                    4,
                    7,
                    4,
                    4,
                    10,
                    26,
                    27,
                    55
                  ],
                  "xaxis": "x",
                  "y": [
                    "Belgium",
                    "Hungary",
                    "India",
                    "Australia",
                    "China",
                    "Denmark",
                    "Norway",
                    "Austria",
                    "Netherlands",
                    "Italy",
                    "Switzerland",
                    "Canada",
                    "Russia",
                    "Japan",
                    "Poland",
                    "Sweden",
                    "France",
                    "Germany",
                    "United Kingdom",
                    "United States of America"
                  ],
                  "yaxis": "y"
                },
                {
                  "alignmentgroup": "True",
                  "hovertemplate": "color=Literature<br>x=%{x}<br>y=%{y}<extra></extra>",
                  "legendgroup": "Literature",
                  "marker": {
                    "color": "#FFA15A",
                    "pattern": {
                      "shape": ""
                    }
                  },
                  "name": "Literature",
                  "offsetgroup": "Literature",
                  "orientation": "h",
                  "showlegend": true,
                  "textposition": "auto",
                  "type": "bar",
                  "x": [
                    1,
                    1,
                    2,
                    2,
                    2,
                    4,
                    2,
                    1,
                    6,
                    2,
                    5,
                    3,
                    6,
                    7,
                    11,
                    8,
                    7,
                    10
                  ],
                  "xaxis": "x",
                  "y": [
                    "Belgium",
                    "Hungary",
                    "India",
                    "Norway",
                    "China",
                    "Denmark",
                    "Austria",
                    "Switzerland",
                    "Italy",
                    "Canada",
                    "Russia",
                    "Japan",
                    "Poland",
                    "Sweden",
                    "France",
                    "Germany",
                    "United Kingdom",
                    "United States of America"
                  ],
                  "yaxis": "y"
                },
                {
                  "alignmentgroup": "True",
                  "hovertemplate": "color=Economics<br>x=%{x}<br>y=%{y}<extra></extra>",
                  "legendgroup": "Economics",
                  "marker": {
                    "color": "#19d3f3",
                    "pattern": {
                      "shape": ""
                    }
                  },
                  "name": "Economics",
                  "offsetgroup": "Economics",
                  "orientation": "h",
                  "showlegend": true,
                  "textposition": "auto",
                  "type": "bar",
                  "x": [
                    1,
                    2,
                    3,
                    1,
                    2,
                    1,
                    3,
                    3,
                    1,
                    2,
                    4,
                    1,
                    8,
                    49
                  ],
                  "xaxis": "x",
                  "y": [
                    "Hungary",
                    "India",
                    "Norway",
                    "Austria",
                    "Netherlands",
                    "Italy",
                    "Canada",
                    "Russia",
                    "Poland",
                    "Sweden",
                    "France",
                    "Germany",
                    "United Kingdom",
                    "United States of America"
                  ],
                  "yaxis": "y"
                }
              ],
              "layout": {
                "barmode": "relative",
                "legend": {
                  "title": {
                    "text": "color"
                  },
                  "tracegroupgap": 0
                },
                "margin": {
                  "t": 60
                },
                "template": {
                  "data": {
                    "bar": [
                      {
                        "error_x": {
                          "color": "#2a3f5f"
                        },
                        "error_y": {
                          "color": "#2a3f5f"
                        },
                        "marker": {
                          "line": {
                            "color": "#E5ECF6",
                            "width": 0.5
                          },
                          "pattern": {
                            "fillmode": "overlay",
                            "size": 10,
                            "solidity": 0.2
                          }
                        },
                        "type": "bar"
                      }
                    ],
                    "barpolar": [
                      {
                        "marker": {
                          "line": {
                            "color": "#E5ECF6",
                            "width": 0.5
                          },
                          "pattern": {
                            "fillmode": "overlay",
                            "size": 10,
                            "solidity": 0.2
                          }
                        },
                        "type": "barpolar"
                      }
                    ],
                    "carpet": [
                      {
                        "aaxis": {
                          "endlinecolor": "#2a3f5f",
                          "gridcolor": "white",
                          "linecolor": "white",
                          "minorgridcolor": "white",
                          "startlinecolor": "#2a3f5f"
                        },
                        "baxis": {
                          "endlinecolor": "#2a3f5f",
                          "gridcolor": "white",
                          "linecolor": "white",
                          "minorgridcolor": "white",
                          "startlinecolor": "#2a3f5f"
                        },
                        "type": "carpet"
                      }
                    ],
                    "choropleth": [
                      {
                        "colorbar": {
                          "outlinewidth": 0,
                          "ticks": ""
                        },
                        "type": "choropleth"
                      }
                    ],
                    "contour": [
                      {
                        "colorbar": {
                          "outlinewidth": 0,
                          "ticks": ""
                        },
                        "colorscale": [
                          [
                            0,
                            "#0d0887"
                          ],
                          [
                            0.1111111111111111,
                            "#46039f"
                          ],
                          [
                            0.2222222222222222,
                            "#7201a8"
                          ],
                          [
                            0.3333333333333333,
                            "#9c179e"
                          ],
                          [
                            0.4444444444444444,
                            "#bd3786"
                          ],
                          [
                            0.5555555555555556,
                            "#d8576b"
                          ],
                          [
                            0.6666666666666666,
                            "#ed7953"
                          ],
                          [
                            0.7777777777777778,
                            "#fb9f3a"
                          ],
                          [
                            0.8888888888888888,
                            "#fdca26"
                          ],
                          [
                            1,
                            "#f0f921"
                          ]
                        ],
                        "type": "contour"
                      }
                    ],
                    "contourcarpet": [
                      {
                        "colorbar": {
                          "outlinewidth": 0,
                          "ticks": ""
                        },
                        "type": "contourcarpet"
                      }
                    ],
                    "heatmap": [
                      {
                        "colorbar": {
                          "outlinewidth": 0,
                          "ticks": ""
                        },
                        "colorscale": [
                          [
                            0,
                            "#0d0887"
                          ],
                          [
                            0.1111111111111111,
                            "#46039f"
                          ],
                          [
                            0.2222222222222222,
                            "#7201a8"
                          ],
                          [
                            0.3333333333333333,
                            "#9c179e"
                          ],
                          [
                            0.4444444444444444,
                            "#bd3786"
                          ],
                          [
                            0.5555555555555556,
                            "#d8576b"
                          ],
                          [
                            0.6666666666666666,
                            "#ed7953"
                          ],
                          [
                            0.7777777777777778,
                            "#fb9f3a"
                          ],
                          [
                            0.8888888888888888,
                            "#fdca26"
                          ],
                          [
                            1,
                            "#f0f921"
                          ]
                        ],
                        "type": "heatmap"
                      }
                    ],
                    "heatmapgl": [
                      {
                        "colorbar": {
                          "outlinewidth": 0,
                          "ticks": ""
                        },
                        "colorscale": [
                          [
                            0,
                            "#0d0887"
                          ],
                          [
                            0.1111111111111111,
                            "#46039f"
                          ],
                          [
                            0.2222222222222222,
                            "#7201a8"
                          ],
                          [
                            0.3333333333333333,
                            "#9c179e"
                          ],
                          [
                            0.4444444444444444,
                            "#bd3786"
                          ],
                          [
                            0.5555555555555556,
                            "#d8576b"
                          ],
                          [
                            0.6666666666666666,
                            "#ed7953"
                          ],
                          [
                            0.7777777777777778,
                            "#fb9f3a"
                          ],
                          [
                            0.8888888888888888,
                            "#fdca26"
                          ],
                          [
                            1,
                            "#f0f921"
                          ]
                        ],
                        "type": "heatmapgl"
                      }
                    ],
                    "histogram": [
                      {
                        "marker": {
                          "pattern": {
                            "fillmode": "overlay",
                            "size": 10,
                            "solidity": 0.2
                          }
                        },
                        "type": "histogram"
                      }
                    ],
                    "histogram2d": [
                      {
                        "colorbar": {
                          "outlinewidth": 0,
                          "ticks": ""
                        },
                        "colorscale": [
                          [
                            0,
                            "#0d0887"
                          ],
                          [
                            0.1111111111111111,
                            "#46039f"
                          ],
                          [
                            0.2222222222222222,
                            "#7201a8"
                          ],
                          [
                            0.3333333333333333,
                            "#9c179e"
                          ],
                          [
                            0.4444444444444444,
                            "#bd3786"
                          ],
                          [
                            0.5555555555555556,
                            "#d8576b"
                          ],
                          [
                            0.6666666666666666,
                            "#ed7953"
                          ],
                          [
                            0.7777777777777778,
                            "#fb9f3a"
                          ],
                          [
                            0.8888888888888888,
                            "#fdca26"
                          ],
                          [
                            1,
                            "#f0f921"
                          ]
                        ],
                        "type": "histogram2d"
                      }
                    ],
                    "histogram2dcontour": [
                      {
                        "colorbar": {
                          "outlinewidth": 0,
                          "ticks": ""
                        },
                        "colorscale": [
                          [
                            0,
                            "#0d0887"
                          ],
                          [
                            0.1111111111111111,
                            "#46039f"
                          ],
                          [
                            0.2222222222222222,
                            "#7201a8"
                          ],
                          [
                            0.3333333333333333,
                            "#9c179e"
                          ],
                          [
                            0.4444444444444444,
                            "#bd3786"
                          ],
                          [
                            0.5555555555555556,
                            "#d8576b"
                          ],
                          [
                            0.6666666666666666,
                            "#ed7953"
                          ],
                          [
                            0.7777777777777778,
                            "#fb9f3a"
                          ],
                          [
                            0.8888888888888888,
                            "#fdca26"
                          ],
                          [
                            1,
                            "#f0f921"
                          ]
                        ],
                        "type": "histogram2dcontour"
                      }
                    ],
                    "mesh3d": [
                      {
                        "colorbar": {
                          "outlinewidth": 0,
                          "ticks": ""
                        },
                        "type": "mesh3d"
                      }
                    ],
                    "parcoords": [
                      {
                        "line": {
                          "colorbar": {
                            "outlinewidth": 0,
                            "ticks": ""
                          }
                        },
                        "type": "parcoords"
                      }
                    ],
                    "pie": [
                      {
                        "automargin": true,
                        "type": "pie"
                      }
                    ],
                    "scatter": [
                      {
                        "fillpattern": {
                          "fillmode": "overlay",
                          "size": 10,
                          "solidity": 0.2
                        },
                        "type": "scatter"
                      }
                    ],
                    "scatter3d": [
                      {
                        "line": {
                          "colorbar": {
                            "outlinewidth": 0,
                            "ticks": ""
                          }
                        },
                        "marker": {
                          "colorbar": {
                            "outlinewidth": 0,
                            "ticks": ""
                          }
                        },
                        "type": "scatter3d"
                      }
                    ],
                    "scattercarpet": [
                      {
                        "marker": {
                          "colorbar": {
                            "outlinewidth": 0,
                            "ticks": ""
                          }
                        },
                        "type": "scattercarpet"
                      }
                    ],
                    "scattergeo": [
                      {
                        "marker": {
                          "colorbar": {
                            "outlinewidth": 0,
                            "ticks": ""
                          }
                        },
                        "type": "scattergeo"
                      }
                    ],
                    "scattergl": [
                      {
                        "marker": {
                          "colorbar": {
                            "outlinewidth": 0,
                            "ticks": ""
                          }
                        },
                        "type": "scattergl"
                      }
                    ],
                    "scattermapbox": [
                      {
                        "marker": {
                          "colorbar": {
                            "outlinewidth": 0,
                            "ticks": ""
                          }
                        },
                        "type": "scattermapbox"
                      }
                    ],
                    "scatterpolar": [
                      {
                        "marker": {
                          "colorbar": {
                            "outlinewidth": 0,
                            "ticks": ""
                          }
                        },
                        "type": "scatterpolar"
                      }
                    ],
                    "scatterpolargl": [
                      {
                        "marker": {
                          "colorbar": {
                            "outlinewidth": 0,
                            "ticks": ""
                          }
                        },
                        "type": "scatterpolargl"
                      }
                    ],
                    "scatterternary": [
                      {
                        "marker": {
                          "colorbar": {
                            "outlinewidth": 0,
                            "ticks": ""
                          }
                        },
                        "type": "scatterternary"
                      }
                    ],
                    "surface": [
                      {
                        "colorbar": {
                          "outlinewidth": 0,
                          "ticks": ""
                        },
                        "colorscale": [
                          [
                            0,
                            "#0d0887"
                          ],
                          [
                            0.1111111111111111,
                            "#46039f"
                          ],
                          [
                            0.2222222222222222,
                            "#7201a8"
                          ],
                          [
                            0.3333333333333333,
                            "#9c179e"
                          ],
                          [
                            0.4444444444444444,
                            "#bd3786"
                          ],
                          [
                            0.5555555555555556,
                            "#d8576b"
                          ],
                          [
                            0.6666666666666666,
                            "#ed7953"
                          ],
                          [
                            0.7777777777777778,
                            "#fb9f3a"
                          ],
                          [
                            0.8888888888888888,
                            "#fdca26"
                          ],
                          [
                            1,
                            "#f0f921"
                          ]
                        ],
                        "type": "surface"
                      }
                    ],
                    "table": [
                      {
                        "cells": {
                          "fill": {
                            "color": "#EBF0F8"
                          },
                          "line": {
                            "color": "white"
                          }
                        },
                        "header": {
                          "fill": {
                            "color": "#C8D4E3"
                          },
                          "line": {
                            "color": "white"
                          }
                        },
                        "type": "table"
                      }
                    ]
                  },
                  "layout": {
                    "annotationdefaults": {
                      "arrowcolor": "#2a3f5f",
                      "arrowhead": 0,
                      "arrowwidth": 1
                    },
                    "autotypenumbers": "strict",
                    "coloraxis": {
                      "colorbar": {
                        "outlinewidth": 0,
                        "ticks": ""
                      }
                    },
                    "colorscale": {
                      "diverging": [
                        [
                          0,
                          "#8e0152"
                        ],
                        [
                          0.1,
                          "#c51b7d"
                        ],
                        [
                          0.2,
                          "#de77ae"
                        ],
                        [
                          0.3,
                          "#f1b6da"
                        ],
                        [
                          0.4,
                          "#fde0ef"
                        ],
                        [
                          0.5,
                          "#f7f7f7"
                        ],
                        [
                          0.6,
                          "#e6f5d0"
                        ],
                        [
                          0.7,
                          "#b8e186"
                        ],
                        [
                          0.8,
                          "#7fbc41"
                        ],
                        [
                          0.9,
                          "#4d9221"
                        ],
                        [
                          1,
                          "#276419"
                        ]
                      ],
                      "sequential": [
                        [
                          0,
                          "#0d0887"
                        ],
                        [
                          0.1111111111111111,
                          "#46039f"
                        ],
                        [
                          0.2222222222222222,
                          "#7201a8"
                        ],
                        [
                          0.3333333333333333,
                          "#9c179e"
                        ],
                        [
                          0.4444444444444444,
                          "#bd3786"
                        ],
                        [
                          0.5555555555555556,
                          "#d8576b"
                        ],
                        [
                          0.6666666666666666,
                          "#ed7953"
                        ],
                        [
                          0.7777777777777778,
                          "#fb9f3a"
                        ],
                        [
                          0.8888888888888888,
                          "#fdca26"
                        ],
                        [
                          1,
                          "#f0f921"
                        ]
                      ],
                      "sequentialminus": [
                        [
                          0,
                          "#0d0887"
                        ],
                        [
                          0.1111111111111111,
                          "#46039f"
                        ],
                        [
                          0.2222222222222222,
                          "#7201a8"
                        ],
                        [
                          0.3333333333333333,
                          "#9c179e"
                        ],
                        [
                          0.4444444444444444,
                          "#bd3786"
                        ],
                        [
                          0.5555555555555556,
                          "#d8576b"
                        ],
                        [
                          0.6666666666666666,
                          "#ed7953"
                        ],
                        [
                          0.7777777777777778,
                          "#fb9f3a"
                        ],
                        [
                          0.8888888888888888,
                          "#fdca26"
                        ],
                        [
                          1,
                          "#f0f921"
                        ]
                      ]
                    },
                    "colorway": [
                      "#636efa",
                      "#EF553B",
                      "#00cc96",
                      "#ab63fa",
                      "#FFA15A",
                      "#19d3f3",
                      "#FF6692",
                      "#B6E880",
                      "#FF97FF",
                      "#FECB52"
                    ],
                    "font": {
                      "color": "#2a3f5f"
                    },
                    "geo": {
                      "bgcolor": "white",
                      "lakecolor": "white",
                      "landcolor": "#E5ECF6",
                      "showlakes": true,
                      "showland": true,
                      "subunitcolor": "white"
                    },
                    "hoverlabel": {
                      "align": "left"
                    },
                    "hovermode": "closest",
                    "mapbox": {
                      "style": "light"
                    },
                    "paper_bgcolor": "white",
                    "plot_bgcolor": "#E5ECF6",
                    "polar": {
                      "angularaxis": {
                        "gridcolor": "white",
                        "linecolor": "white",
                        "ticks": ""
                      },
                      "bgcolor": "#E5ECF6",
                      "radialaxis": {
                        "gridcolor": "white",
                        "linecolor": "white",
                        "ticks": ""
                      }
                    },
                    "scene": {
                      "xaxis": {
                        "backgroundcolor": "#E5ECF6",
                        "gridcolor": "white",
                        "gridwidth": 2,
                        "linecolor": "white",
                        "showbackground": true,
                        "ticks": "",
                        "zerolinecolor": "white"
                      },
                      "yaxis": {
                        "backgroundcolor": "#E5ECF6",
                        "gridcolor": "white",
                        "gridwidth": 2,
                        "linecolor": "white",
                        "showbackground": true,
                        "ticks": "",
                        "zerolinecolor": "white"
                      },
                      "zaxis": {
                        "backgroundcolor": "#E5ECF6",
                        "gridcolor": "white",
                        "gridwidth": 2,
                        "linecolor": "white",
                        "showbackground": true,
                        "ticks": "",
                        "zerolinecolor": "white"
                      }
                    },
                    "shapedefaults": {
                      "line": {
                        "color": "#2a3f5f"
                      }
                    },
                    "ternary": {
                      "aaxis": {
                        "gridcolor": "white",
                        "linecolor": "white",
                        "ticks": ""
                      },
                      "baxis": {
                        "gridcolor": "white",
                        "linecolor": "white",
                        "ticks": ""
                      },
                      "bgcolor": "#E5ECF6",
                      "caxis": {
                        "gridcolor": "white",
                        "linecolor": "white",
                        "ticks": ""
                      }
                    },
                    "title": {
                      "x": 0.05
                    },
                    "xaxis": {
                      "automargin": true,
                      "gridcolor": "white",
                      "linecolor": "white",
                      "ticks": "",
                      "title": {
                        "standoff": 15
                      },
                      "zerolinecolor": "white",
                      "zerolinewidth": 2
                    },
                    "yaxis": {
                      "automargin": true,
                      "gridcolor": "white",
                      "linecolor": "white",
                      "ticks": "",
                      "title": {
                        "standoff": 15
                      },
                      "zerolinecolor": "white",
                      "zerolinewidth": 2
                    }
                  }
                },
                "xaxis": {
                  "anchor": "y",
                  "domain": [
                    0,
                    1
                  ],
                  "title": {
                    "text": "x"
                  }
                },
                "yaxis": {
                  "anchor": "x",
                  "domain": [
                    0,
                    1
                  ],
                  "title": {
                    "text": "y"
                  }
                }
              }
            }
          },
          "metadata": {},
          "output_type": "display_data"
        }
      ],
      "source": [
        "country_cat_graph = px.bar(\n",
        "        x=df_country_cat.cat_prize,\n",
        "        y=df_country_cat.birth_country_current,\n",
        "        orientation='h',\n",
        "        color=df_country_cat.category\n",
        "    )\n",
        "country_cat_graph.show()"
      ]
    },
    {
      "cell_type": "code",
      "execution_count": null,
      "metadata": {
        "id": "8H2OTr_OF8Jh"
      },
      "outputs": [],
      "source": []
    },
    {
      "cell_type": "code",
      "execution_count": null,
      "metadata": {
        "id": "ZTbCsyRKF7yx"
      },
      "outputs": [],
      "source": []
    },
    {
      "cell_type": "code",
      "execution_count": null,
      "metadata": {
        "id": "DhE2gyZhF7oQ"
      },
      "outputs": [],
      "source": []
    },
    {
      "cell_type": "markdown",
      "metadata": {
        "dc": {
          "key": "10"
        },
        "id": "Ic-LN14bo7Mb",
        "run_control": {
          "frozen": true
        },
        "tags": [
          "context"
        ]
      },
      "source": [
        "### Number of Prizes Won by Each Country Over Time\n",
        "\n",
        "* When did the United States eclipse every other country in terms of the number of prizes won? \n",
        "* Which country or countries were leading previously?\n",
        "* Calculate the cumulative number of prizes won by each country in every year. Again, use the `birth_country_current` of the winner to calculate this. \n",
        "* Create a [plotly line chart](https://plotly.com/python/line-charts/) where each country is a coloured line. "
      ]
    },
    {
      "cell_type": "code",
      "execution_count": null,
      "metadata": {
        "id": "VA7NVxrwF-1d"
      },
      "outputs": [],
      "source": []
    },
    {
      "cell_type": "code",
      "execution_count": null,
      "metadata": {
        "id": "_IWG-gi0F_O4"
      },
      "outputs": [],
      "source": []
    },
    {
      "cell_type": "code",
      "execution_count": null,
      "metadata": {
        "id": "4wj1M8NpF_dq"
      },
      "outputs": [],
      "source": []
    },
    {
      "cell_type": "code",
      "execution_count": null,
      "metadata": {
        "id": "ncYD0dKCF_IK"
      },
      "outputs": [],
      "source": []
    },
    {
      "cell_type": "code",
      "execution_count": null,
      "metadata": {
        "id": "7tnA9YoOF_1L"
      },
      "outputs": [],
      "source": []
    },
    {
      "cell_type": "code",
      "execution_count": null,
      "metadata": {
        "id": "F6B7oCPTF-sV"
      },
      "outputs": [],
      "source": []
    },
    {
      "cell_type": "markdown",
      "metadata": {
        "id": "J7WUUZpUo7Mj"
      },
      "source": [
        "# What are the Top Research Organisations?\n",
        "\n",
        "**Challenge**: Create a bar chart showing the organisations affiliated with the Nobel laureates. It should looks something like this:\n",
        "\n",
        "<img src=https://i.imgur.com/zZihj2p.png width=600>\n",
        "\n",
        "* Which organisations make up the top 20?\n",
        "* How many Nobel prize winners are affiliated with the University of Chicago and Harvard University?"
      ]
    },
    {
      "cell_type": "code",
      "execution_count": 92,
      "metadata": {
        "id": "2jdCXcqcGCxL"
      },
      "outputs": [
        {
          "data": {
            "text/html": [
              "<div>\n",
              "<style scoped>\n",
              "    .dataframe tbody tr th:only-of-type {\n",
              "        vertical-align: middle;\n",
              "    }\n",
              "\n",
              "    .dataframe tbody tr th {\n",
              "        vertical-align: top;\n",
              "    }\n",
              "\n",
              "    .dataframe thead th {\n",
              "        text-align: right;\n",
              "    }\n",
              "</style>\n",
              "<table border=\"1\" class=\"dataframe\">\n",
              "  <thead>\n",
              "    <tr style=\"text-align: right;\">\n",
              "      <th></th>\n",
              "      <th>year</th>\n",
              "      <th>category</th>\n",
              "      <th>prize</th>\n",
              "      <th>motivation</th>\n",
              "      <th>prize_share</th>\n",
              "      <th>laureate_type</th>\n",
              "      <th>full_name</th>\n",
              "      <th>birth_date</th>\n",
              "      <th>birth_city</th>\n",
              "      <th>birth_country</th>\n",
              "      <th>birth_country_current</th>\n",
              "      <th>sex</th>\n",
              "      <th>organization_name</th>\n",
              "      <th>organization_city</th>\n",
              "      <th>organization_country</th>\n",
              "      <th>ISO</th>\n",
              "      <th>share_pct</th>\n",
              "    </tr>\n",
              "  </thead>\n",
              "  <tbody>\n",
              "    <tr>\n",
              "      <th>0</th>\n",
              "      <td>1901</td>\n",
              "      <td>Chemistry</td>\n",
              "      <td>The Nobel Prize in Chemistry 1901</td>\n",
              "      <td>\"in recognition of the extraordinary services ...</td>\n",
              "      <td>1/1</td>\n",
              "      <td>Individual</td>\n",
              "      <td>Jacobus Henricus van 't Hoff</td>\n",
              "      <td>1852-08-30</td>\n",
              "      <td>Rotterdam</td>\n",
              "      <td>Netherlands</td>\n",
              "      <td>Netherlands</td>\n",
              "      <td>Male</td>\n",
              "      <td>Berlin University</td>\n",
              "      <td>Berlin</td>\n",
              "      <td>Germany</td>\n",
              "      <td>NLD</td>\n",
              "      <td>1.00</td>\n",
              "    </tr>\n",
              "  </tbody>\n",
              "</table>\n",
              "</div>"
            ],
            "text/plain": [
              "   year   category                              prize  \\\n",
              "0  1901  Chemistry  The Nobel Prize in Chemistry 1901   \n",
              "\n",
              "                                          motivation prize_share  \\\n",
              "0  \"in recognition of the extraordinary services ...         1/1   \n",
              "\n",
              "  laureate_type                     full_name birth_date birth_city  \\\n",
              "0    Individual  Jacobus Henricus van 't Hoff 1852-08-30  Rotterdam   \n",
              "\n",
              "  birth_country birth_country_current   sex  organization_name  \\\n",
              "0   Netherlands           Netherlands  Male  Berlin University   \n",
              "\n",
              "  organization_city organization_country  ISO  share_pct  \n",
              "0            Berlin              Germany  NLD       1.00  "
            ]
          },
          "execution_count": 92,
          "metadata": {},
          "output_type": "execute_result"
        }
      ],
      "source": [
        "df_data.head(1)"
      ]
    },
    {
      "cell_type": "code",
      "execution_count": null,
      "metadata": {
        "id": "Db3Zll65GDQd"
      },
      "outputs": [],
      "source": []
    },
    {
      "cell_type": "code",
      "execution_count": null,
      "metadata": {
        "id": "rRDeI_jjGDII"
      },
      "outputs": [],
      "source": []
    },
    {
      "cell_type": "code",
      "execution_count": null,
      "metadata": {
        "id": "zH4Bko6UGEc3"
      },
      "outputs": [],
      "source": []
    },
    {
      "cell_type": "code",
      "execution_count": null,
      "metadata": {
        "id": "C_wDWepRGCpL"
      },
      "outputs": [],
      "source": []
    },
    {
      "cell_type": "markdown",
      "metadata": {
        "id": "d9AXIRyNo7Mp"
      },
      "source": [
        "# Which Cities Make the Most Discoveries? \n",
        "\n",
        "Where do major discoveries take place?  \n",
        "\n",
        "**Challenge**: \n",
        "* Create another plotly bar chart graphing the top 20 organisation cities of the research institutions associated with a Nobel laureate. \n",
        "* Where is the number one hotspot for discoveries in the world?\n",
        "* Which city in Europe has had the most discoveries?"
      ]
    },
    {
      "cell_type": "code",
      "execution_count": null,
      "metadata": {
        "id": "sHYI5FLAGFRh"
      },
      "outputs": [],
      "source": []
    },
    {
      "cell_type": "code",
      "execution_count": null,
      "metadata": {
        "id": "rsI7xC0sGFOb"
      },
      "outputs": [],
      "source": []
    },
    {
      "cell_type": "markdown",
      "metadata": {
        "id": "R6UQrcixo7Mm"
      },
      "source": [
        "# Where are Nobel Laureates Born? Chart the Laureate Birth Cities \n",
        "\n",
        "**Challenge**: \n",
        "* Create a plotly bar chart graphing the top 20 birth cities of Nobel laureates. \n",
        "* Use a named colour scale called `Plasma` for the chart.\n",
        "* What percentage of the United States prizes came from Nobel laureates born in New York? \n",
        "* How many Nobel laureates were born in London, Paris and Vienna? \n",
        "* Out of the top 5 cities, how many are in the United States?\n"
      ]
    },
    {
      "cell_type": "code",
      "execution_count": null,
      "metadata": {
        "id": "JukPm21GGG9i"
      },
      "outputs": [],
      "source": []
    },
    {
      "cell_type": "code",
      "execution_count": null,
      "metadata": {
        "id": "t14pn2kxGG2C"
      },
      "outputs": [],
      "source": []
    },
    {
      "cell_type": "markdown",
      "metadata": {
        "id": "YN6KxT5oo7Mq"
      },
      "source": [
        "# Plotly Sunburst Chart: Combine Country, City, and Organisation\n",
        "\n",
        "**Challenge**: \n",
        "\n",
        "* Create a DataFrame that groups the number of prizes by organisation. \n",
        "* Then use the [plotly documentation to create a sunburst chart](https://plotly.com/python/sunburst-charts/)\n",
        "* Click around in your chart, what do you notice about Germany and France? \n",
        "\n",
        "\n",
        "Here's what you're aiming for:\n",
        "\n",
        "<img src=https://i.imgur.com/cemX4m5.png width=300>\n",
        "\n"
      ]
    },
    {
      "cell_type": "code",
      "execution_count": 98,
      "metadata": {
        "id": "jGOx7MxCGI20"
      },
      "outputs": [
        {
          "data": {
            "text/html": [
              "<div>\n",
              "<style scoped>\n",
              "    .dataframe tbody tr th:only-of-type {\n",
              "        vertical-align: middle;\n",
              "    }\n",
              "\n",
              "    .dataframe tbody tr th {\n",
              "        vertical-align: top;\n",
              "    }\n",
              "\n",
              "    .dataframe thead th {\n",
              "        text-align: right;\n",
              "    }\n",
              "</style>\n",
              "<table border=\"1\" class=\"dataframe\">\n",
              "  <thead>\n",
              "    <tr style=\"text-align: right;\">\n",
              "      <th></th>\n",
              "      <th>organization_country</th>\n",
              "      <th>organization_city</th>\n",
              "      <th>organization_name</th>\n",
              "      <th>prize</th>\n",
              "    </tr>\n",
              "  </thead>\n",
              "  <tbody>\n",
              "    <tr>\n",
              "      <th>205</th>\n",
              "      <td>United States of America</td>\n",
              "      <td>Cambridge, MA</td>\n",
              "      <td>Harvard University</td>\n",
              "      <td>29</td>\n",
              "    </tr>\n",
              "    <tr>\n",
              "      <th>280</th>\n",
              "      <td>United States of America</td>\n",
              "      <td>Stanford, CA</td>\n",
              "      <td>Stanford University</td>\n",
              "      <td>23</td>\n",
              "    </tr>\n",
              "    <tr>\n",
              "      <th>206</th>\n",
              "      <td>United States of America</td>\n",
              "      <td>Cambridge, MA</td>\n",
              "      <td>Massachusetts Institute of Technology (MIT)</td>\n",
              "      <td>21</td>\n",
              "    </tr>\n",
              "    <tr>\n",
              "      <th>209</th>\n",
              "      <td>United States of America</td>\n",
              "      <td>Chicago, IL</td>\n",
              "      <td>University of Chicago</td>\n",
              "      <td>20</td>\n",
              "    </tr>\n",
              "    <tr>\n",
              "      <th>195</th>\n",
              "      <td>United States of America</td>\n",
              "      <td>Berkeley, CA</td>\n",
              "      <td>University of California</td>\n",
              "      <td>19</td>\n",
              "    </tr>\n",
              "    <tr>\n",
              "      <th>...</th>\n",
              "      <td>...</td>\n",
              "      <td>...</td>\n",
              "      <td>...</td>\n",
              "      <td>...</td>\n",
              "    </tr>\n",
              "    <tr>\n",
              "      <th>110</th>\n",
              "      <td>Japan</td>\n",
              "      <td>Sapporo</td>\n",
              "      <td>Hokkaido University</td>\n",
              "      <td>1</td>\n",
              "    </tr>\n",
              "    <tr>\n",
              "      <th>111</th>\n",
              "      <td>Japan</td>\n",
              "      <td>Tokyo</td>\n",
              "      <td>Asahi Kasei Corporation</td>\n",
              "      <td>1</td>\n",
              "    </tr>\n",
              "    <tr>\n",
              "      <th>112</th>\n",
              "      <td>Japan</td>\n",
              "      <td>Tokyo</td>\n",
              "      <td>Kitasato University</td>\n",
              "      <td>1</td>\n",
              "    </tr>\n",
              "    <tr>\n",
              "      <th>113</th>\n",
              "      <td>Japan</td>\n",
              "      <td>Tokyo</td>\n",
              "      <td>Tokyo Institute of Technology</td>\n",
              "      <td>1</td>\n",
              "    </tr>\n",
              "    <tr>\n",
              "      <th>290</th>\n",
              "      <td>United States of America</td>\n",
              "      <td>Yorktown Heights, NY</td>\n",
              "      <td>IBM Thomas J. Watson Research Center</td>\n",
              "      <td>1</td>\n",
              "    </tr>\n",
              "  </tbody>\n",
              "</table>\n",
              "<p>291 rows × 4 columns</p>\n",
              "</div>"
            ],
            "text/plain": [
              "         organization_country     organization_city  \\\n",
              "205  United States of America         Cambridge, MA   \n",
              "280  United States of America          Stanford, CA   \n",
              "206  United States of America         Cambridge, MA   \n",
              "209  United States of America           Chicago, IL   \n",
              "195  United States of America          Berkeley, CA   \n",
              "..                        ...                   ...   \n",
              "110                     Japan               Sapporo   \n",
              "111                     Japan                 Tokyo   \n",
              "112                     Japan                 Tokyo   \n",
              "113                     Japan                 Tokyo   \n",
              "290  United States of America  Yorktown Heights, NY   \n",
              "\n",
              "                               organization_name  prize  \n",
              "205                           Harvard University     29  \n",
              "280                          Stanford University     23  \n",
              "206  Massachusetts Institute of Technology (MIT)     21  \n",
              "209                        University of Chicago     20  \n",
              "195                     University of California     19  \n",
              "..                                           ...    ...  \n",
              "110                          Hokkaido University      1  \n",
              "111                      Asahi Kasei Corporation      1  \n",
              "112                          Kitasato University      1  \n",
              "113                Tokyo Institute of Technology      1  \n",
              "290         IBM Thomas J. Watson Research Center      1  \n",
              "\n",
              "[291 rows x 4 columns]"
            ]
          },
          "execution_count": 98,
          "metadata": {},
          "output_type": "execute_result"
        }
      ],
      "source": [
        "df_data.head(1)\n",
        "\n",
        "sunburst = df_data.groupby(['organization_country', 'organization_city', 'organization_name'], as_index=False).agg({'prize' : pd.Series.count})\n",
        "sunburst.sort_values('prize', ascending=False, inplace=True)\n",
        "\n",
        "sunburst"
      ]
    },
    {
      "cell_type": "code",
      "execution_count": 99,
      "metadata": {
        "id": "l1DPxFgRGJBg"
      },
      "outputs": [
        {
          "data": {
            "application/vnd.plotly.v1+json": {
              "config": {
                "plotlyServerURL": "https://plot.ly"
              },
              "data": [
                {
                  "branchvalues": "total",
                  "domain": {
                    "x": [
                      0,
                      1
                    ],
                    "y": [
                      0,
                      1
                    ]
                  },
                  "hovertemplate": "labels=%{label}<br>prize=%{value}<br>parent=%{parent}<br>id=%{id}<extra></extra>",
                  "ids": [
                    "Russia/St. Petersburg/A.F. Ioffe Physico-Technical Institute",
                    "Denmark/Aarhus/Aarhus University",
                    "Russia/Moscow/Academy of Sciences",
                    "Netherlands/Amsterdam/Amsterdam University",
                    "United States of America/Argonne, IL/Argonne National Laboratory",
                    "United States of America/Tempe, AZ/Arizona State University",
                    "Japan/Tokyo/Asahi Kasei Corporation",
                    "United States of America/Washington, DC/Associated Universities Inc.",
                    "United Kingdom/Harwell, Berkshire/Atomic Energy Research Establishment",
                    "Australia/Canberra/Australian National University",
                    "Australia/Weston Creek/Australian National University",
                    "Switzerland/Basel/Basel Institute for Immunology",
                    "Switzerland/Basel/Basel University",
                    "United States of America/Holmdel, NJ/Bell Laboratories",
                    "United States of America/Murray Hill, NJ/Bell Laboratories",
                    "United States of America/New York, NY/Bell Laboratories",
                    "Germany/Berlin/Berlin University",
                    "Switzerland/Berne/Berne University",
                    "United States of America/New York, NY/Binghamton University State University of New York",
                    "Switzerland/Basel/Biozentrum der Universität",
                    "United Kingdom/Birmingham/Birmingham University",
                    "United States of America/Waltham MA/Brandeis University",
                    "United States of America/Boston, MA/Brigham and Women's Hospital",
                    "United Kingdom/Bristol/Bristol University",
                    "United States of America/Providence, RI/Brown University",
                    "Belgium/Brussels/Brussels University",
                    "France/Sèvres/Bureau International des Poids et Mesures (International Bureau of Weights and Measures)",
                    "Switzerland/Geneva/CERN",
                    "India/Calcutta/Calcutta University",
                    "United States of America/Pasadena, CA/California Institute of Technology (Caltech)",
                    "United Kingdom/Cardiff/Cardiff University",
                    "United States of America/New York, NY/Carnegie Institution of Washington",
                    "United States of America/Pittsburgh, PA/Carnegie Mellon University",
                    "United States of America/Fairfax, VA/Center for Study of Public Choice",
                    "United Kingdom/London/Central Research Laboratories, EMI",
                    "United States of America/Boston, MA/Children's Medical Center",
                    "China/Beijing/China Academy of Traditional Chinese Medicine",
                    "United States of America/New York, NY/City University of New York",
                    "United States of America/Cold Spring Harbor, NY/Cold Spring Harbor Laboratory",
                    "France/Paris/Collège de France",
                    "Germany/Cologne/Cologne University",
                    "United States of America/New York, NY/Columbia University",
                    "Denmark/Copenhagen/Copenhagen University",
                    "United States of America/Ithaca, NY/Cornell University",
                    "United Kingdom/London/Department of Scientific and Industrial Research",
                    "United States of America/Mountain View, CA/Digital Pathways, Inc.",
                    "United States of America/Madison, NJ/Drew University",
                    "United States of America/Wilmington, DE/Du Pont",
                    "United Kingdom/Edinburgh/Edinburgh University",
                    "Switzerland/Zurich/Eidgenössische Technische Hochschule (Swiss Federal Institute of Technology)",
                    "United States of America/Batavia, IL/Fermi National Accelerator Laboratory",
                    "Denmark/Copenhagen/Finsen Medical Light Institute",
                    "Germany/J&uuml;lich/Forschungszentrum J&uuml;lich",
                    "United Kingdom/Hertfordshire/Francis Crick Institute",
                    "Germany/Frankfurt-on-the-Main/Frankfurt-on-the-Main University",
                    "United States of America/Seattle, WA/Fred Hutchinson Cancer Research Center",
                    "Germany/Berlin-Dahlem/Fritz-Haber-Institut",
                    "Germany/Berlin/Fritz-Haber-Institut der Max-Planck-Gesellschaft",
                    "United States of America/Schenectady, NY/General Electric Company",
                    "United States of America/Fairfax, VA/George Mason University",
                    "Germany/Heidelberg/German Cancer Research Center",
                    "Belgium/Ghent/Ghent University",
                    "United Kingdom/Bodmin/Glynn Research Laboratories",
                    "Germany/Göttingen/Goettingen University",
                    "Austria/Graz/Graz University",
                    "Germany/Greifswald/Greifswald University",
                    "Netherlands/Groningen/Groningen University",
                    "United Kingdom/Cambridge/Gurdon Institute",
                    "Sweden/Gothenburg/Göteborg University",
                    "Germany/Halle/Halle University",
                    "United States of America/Boston, MA/Harvard Medical School",
                    "United States of America/Cambridge, MA/Harvard University",
                    "Japan/Tsukuba/High Energy Accelerator Research Organization (KEK)",
                    "Japan/Sapporo/Hokkaido University",
                    "United States of America/Chevy Chase/Howard Hughes Medical Institute",
                    "United States of America/Durham, NC/Howard Hughes Medical Institute",
                    "United States of America/Yorktown Heights, NY/IBM Thomas J. Watson Research Center",
                    "Switzerland/Rüschlikon/IBM Zurich Research Laboratory",
                    "United Kingdom/London/Imperial Cancer Research Fund",
                    "United Kingdom/London/Imperial College",
                    "United States of America/Bloomington, IN/Indiana University",
                    "Austria/Innsbruck/Innsbruck University",
                    "France/Rueil-Malmaison/Institut Français du Pétrole",
                    "France/Paris/Institut Pasteur",
                    "Tunisia/Tunis/Institut Pasteur",
                    "France/Paris/Institut du Radium",
                    "United States of America/Princeton, NJ/Institute for Advanced Study",
                    "Argentina/Buenos Aires/Institute for Biochemical Research",
                    "Russia/Moscow/Institute for Chemical Physics of the Academy of Sciences of the USSR",
                    "Germany/Berlin/Institute for Infectious Diseases",
                    "Italy/Rome/Institute of Cell Biology of the C.N.R.",
                    "United Kingdom/Cambridge/Institute of Physical Chemistry",
                    "Italy/Milan/Institute of Technology",
                    "Argentina/Buenos Aires/Instituto de Biologia y Medicina Experimental (Institute for Biology and Experimental Medicine)",
                    "Italy/Trieste/International Centre for Theoretical Physics",
                    "Italy/Rome/Istituto Superiore di Sanità (Chief Institute of Public Health)",
                    "United States of America/Bar Harbor, ME/Jackson Laboratory",
                    "United States of America/Ashburn, VA/Janelia Research Campus, Howard Hughes Medical Institute",
                    "United States of America/Baltimore, MD/Johns Hopkins University",
                    "Sweden/Stockholm/Karolinska Institutet",
                    "Germany/Kiel/Kiel University",
                    "Japan/Tokyo/Kitasato University",
                    "Austria/Altenberg; Grünau im Almtal/Konrad-Lorenz-Institut der Österreichischen Akademie der Wissen­schaften, Forschungsstelle für Ethologie",
                    "Japan/Kyoto/Kyoto Sangyo University",
                    "Japan/Kyoto/Kyoto University",
                    "United States of America/New York, NY/Laboratories of the Division of Medicine and Public Health, Rockefeller Foundation",
                    "Switzerland/Basel/Laboratorium der Farben-Fabriken J.R. Geigy A.G. (Laboratory of the J.R. Geigy Dye-Factory Co.)",
                    "Germany/Berlin/Landwirtschaftliche Hochschule (Agricultural College)",
                    "United States of America/Berkeley, CA/Lawrence Berkeley National Laboratory",
                    "Netherlands/Leiden/Leiden University",
                    "Germany/Leipzig/Leipzig University",
                    "United Kingdom/Liverpool/Liverpool University",
                    "United Kingdom/London/London School of Economics and Political Science",
                    "United Kingdom/London/London University",
                    "United States of America/Greenwich, CT/Long Term Capital Management",
                    "United Kingdom/Cambridge/MRC Laboratory of Molecular Biology",
                    "Spain/Madrid/Madrid University",
                    "Germany/Mainz/Mainz University",
                    "Germany/Marburg/Marburg University",
                    "United Kingdom/London/Marconi Wireless Telegraph Co. Ltd.",
                    "United States of America/Woods Hole, MA/Marine Biological Laboratory (MBL)",
                    "United States of America/Cambridge, MA/Massachusetts Institute of Technology (MIT)",
                    "Germany/Berlin/Max-Planck Institut",
                    "Germany/Berlin-Dahlem/Max-Planck Institut",
                    "Germany/Heidelberg/Max-Planck Institut",
                    "Germany/Berlin/Max-Planck-Institut",
                    "Germany/Frankfurt-on-the-Main/Max-Planck-Institut",
                    "Germany/Garching/Max-Planck-Institut",
                    "Germany/Göttingen/Max-Planck-Institut",
                    "Germany/Heidelberg/Max-Planck-Institut",
                    "Germany/Mainz/Max-Planck-Institut",
                    "Germany/Martinsried/Max-Planck-Institut",
                    "Germany/Munich/Max-Planck-Institut",
                    "Germany/Mülheim/Ruhr/Max-Planck-Institut",
                    "Germany/Stuttgart/Max-Planck-Institut",
                    "Germany/Tübingen/Max-Planck-Institut",
                    "United States of America/Rochester, MN/Mayo Clinic",
                    "Canada/Hamilton, Ontario/McMaster University",
                    "Japan/Nagoya/Meijo University",
                    "Russia/St. Petersburg/Military Medical Academy",
                    "Germany/Munich/Munich University",
                    "Germany/Munster/Munster University",
                    "United States of America/Greenbelt, MD/NASA Goddard Space Flight Center",
                    "Australia/Nedlands/NHMRC Helicobacter pylori Research Laboratory, QEII Medical Centre",
                    "Japan/Nagoya/Nagoya University",
                    "France/Nancy/Nancy University",
                    "United Kingdom/London/National Institute for Medical Research",
                    "United States of America/Research Triangle Park, NC/National Institute of Environmental Health Sciences",
                    "United States of America/Boulder, CO/National Institute of Standards and Technology",
                    "United States of America/Gaithersburg, MD/National Institute of Standards and Technology",
                    "United States of America/Bethesda, MD/National Institutes of Health",
                    "Canada/Ottawa/National Research Council of Canada",
                    "United States of America/Beverly, MA/New England Biolabs",
                    "United States of America/New York, NY/New York University",
                    "Denmark/Copenhagen/Niels Bohr Institute",
                    "Denmark/Copenhagen/Nordita",
                    "United States of America/Evanston, IL/Northwestern University",
                    "Norway/Trondheim/Norwegian University of Science and Technology (NTNU)",
                    "Russia/Moscow/P.N. Lebedev Physical Institute",
                    "United States of America/San Francisco, CA/Parker Institute for Cancer Immunotherapy",
                    "Italy/Pavia/Pavia University",
                    "Czech Republic/Prague/Polarographic Institute of the Czechoslovak Academy of Science",
                    "Denmark/Copenhagen/Polytechnic Institute",
                    "United States of America/Princeton, NJ/Princeton University",
                    "United States of America/West Lafayette, IN/Purdue University",
                    "Canada/Kingston/Queen's University",
                    "Germany/Bonn/Rheinische Friedrich-Wilhelms-Universität",
                    "United States of America/Houston, TX/Rice University",
                    "United States of America/New York, NY/Rockefeller Institute for Medical Research",
                    "United States of America/Princeton, NJ/Rockefeller Institute for Medical Research",
                    "United States of America/New York, NY/Rockefeller University",
                    "Italy/Rome/Rome University",
                    "United Kingdom/Bucksburn (Scotland)/Rowett Research Institute",
                    "Sweden/Stockholm/Royal Institute of Technology",
                    "United Kingdom/London/Royal Institution of Great Britain",
                    "United States of America/New Brunswick, NJ/Rutgers University",
                    "United States of America/New York, NY/SUNY Health Science Center",
                    "United States of America/St. Louis, MO/Saint Louis University",
                    "United States of America/Mountain View, CA/Semiconductor Laboratory of Beckman Instruments, Inc.",
                    "United Kingdom/Sheffield/Sheffield University",
                    "Japan/Kyoto/Shimadzu Corp.",
                    "France/Paris/Sorbonne University",
                    "United States of America/Memphis, TN/St. Jude Children's Research Hospital",
                    "United Kingdom/Harlow/Standard Telecommunication Laboratories",
                    "United States of America/Stanford, CA/Stanford Linear Accelerator Center",
                    "United States of America/Stanford, CA/Stanford University",
                    "Sweden/Stockholm/Stockholm School of Economics",
                    "Sweden/Stockholm/Stockholm University",
                    "France/Strasbourg/Strasbourg University",
                    "Sweden/Lidingö-Stockholm/Swedish Gas-Accumulator Co.",
                    "Hungary/Szeged/Szeged University",
                    "Germany/Munich/Technical University",
                    "Israel/Haifa/Technion - Israel Institute of Technology",
                    "Germany/Munich/Technische Hochschule (Institute of Technology)",
                    "United States of America/Dallas, TX/Texas Instruments",
                    "United States of America/Philadelphia, PA/The Institute for Cancer Research",
                    "United States of America/Buffalo, NY/The Medical Foundation of Buffalo",
                    "United States of America/Berkeley, CA/The Molecular Sciences Institute",
                    "Netherlands/Rotterdam/The Netherlands School of Economics",
                    "United States of America/San Diego, CA/The Salk Institute",
                    "United States of America/La Jolla, CA/The Scripps Research Institute",
                    "United Kingdom/Beckenham/The Wellcome Research Laboratories",
                    "United Kingdom/Cambridge/The Wellcome Trust Sanger Institute",
                    "Japan/Tokyo/Tokyo Institute of Technology",
                    "Japan/Tokyo/Tokyo University of Education",
                    "France/Toulouse/Toulouse School of Economics (TSE)",
                    "France/Toulouse/Toulouse University",
                    "Ireland/Dublin/Trinity College",
                    "United States of America/Medford, MA/Tufts University",
                    "United States of America/Washington, DC/US Naval Research Laboratory",
                    "United Kingdom/Liverpool/University College London",
                    "United Kingdom/London/University College London",
                    "Canada/Edmonton/University of Alberta",
                    "Germany/Bonn/University of Bonn",
                    "Canada/Vancouver/University of British Columbia",
                    "United States of America/Berkeley, CA/University of California",
                    "United States of America/Irvine, CA/University of California",
                    "United States of America/Los Angeles, CA/University of California",
                    "United States of America/San Diego, CA/University of California",
                    "United States of America/San Francisco, CA/University of California",
                    "United States of America/Santa Barbara, CA/University of California",
                    "United Kingdom/Cambridge/University of Cambridge",
                    "United States of America/Chicago, IL/University of Chicago",
                    "United States of America/Boulder, CO/University of Colorado",
                    "United Kingdom/Edinburgh/University of Edinburgh",
                    "Germany/Breisgau/University of Freiburg",
                    "Switzerland/Geneva/University of Geneva",
                    "France/Grenoble/University of Grenoble",
                    "Netherlands/Groningen/University of Groningen",
                    "Germany/Heidelberg/University of Heidelberg",
                    "Finland/Helsinki/University of Helsinki",
                    "United States of America/Urbana, IL/University of Illinois",
                    "Israel/Jerusalem/University of Jerusalem, Center for Rationality",
                    "Switzerland/Lausanne/University of Lausanne",
                    "Portugal/Lisbon/University of Lisbon",
                    "United States of America/Maine ME/University of Maine",
                    "United Kingdom/Manchester/University of Manchester",
                    "United States of America/College Park, MD/University of Maryland, Department of Economics and School of Public Policy",
                    "United States of America/Worcester, MA/University of Massachusetts Medical School",
                    "United States of America/Minneapolis, MN/University of Minnesota",
                    "United States of America/Columbia/University of Missouri",
                    "Russia/Moscow/University of Moscow",
                    "United States of America/Chapel Hill, NC/University of North Carolina",
                    "United Kingdom/Nottingham/University of Nottingham, School of Physics and Astronomy",
                    "Norway/Oslo/University of Oslo",
                    "United Kingdom/Oxford/University of Oxford",
                    "United States of America/Philadelphia, PA/University of Pennsylvania",
                    "United States of America/Rochester, NY/University of Rochester",
                    "United States of America/Los Angeles, CA/University of Southern California",
                    "France/Strasbourg/University of Strasbourg",
                    "United Kingdom/Brighton/University of Sussex",
                    "United States of America/Austin TX/University of Texas",
                    "United States of America/Houston, TX/University of Texas",
                    "United States of America/Dallas, TX/University of Texas Southwestern Medical Center at Dallas",
                    "Japan/Kashiwa/University of Tokyo",
                    "Japan/Tokyo/University of Tokyo",
                    "Canada/Toronto/University of Toronto",
                    "Japan/Tokyo/University of Tsukuba",
                    "United States of America/Salt Lake City, UT/University of Utah",
                    "United States of America/Seattle, WA/University of Washington",
                    "Canada/Waterloo/University of Waterloo",
                    "United States of America/Madison, WI/University of Wisconsin",
                    "Switzerland/Zurich/University of Zurich",
                    "Belgium/Louvain/Université Catholique de Louvain",
                    "Belgium/Brussels/Université Libre de Bruxelles",
                    "France/Strasbourg/Université Louis Pasteur",
                    "France/Orsay/Université Paris-Saclay",
                    "France/Paris/Université de Paris, Laboratoire Immuno-Hématologie",
                    "France/Strasbourg/Université de Strasbourg",
                    "Sweden/Uppsala/Uppsala University",
                    "Netherlands/Utrecht/Utrecht University",
                    "United States of America/Nashville, TN/Vanderbilt University",
                    "United States of America/New Orleans, LA/Veterans Administration Hospital",
                    "United States of America/New York, NY/Veterans Administration Hospital",
                    "United Kingdom/Manchester/Victoria University",
                    "Austria/Vienna/Vienna University",
                    "United States of America/Richmond, VA/Virginia Commonwealth University",
                    "Australia/Melbourne/Walter and Eliza Hall Institute for Medical Research",
                    "United States of America/St. Louis, MO/Washington University",
                    "Israel/Rehovot/Weizmann Institute of Science",
                    "United States of America/Research Triangle Park, NC/Wellcome Research Laboratories",
                    "United States of America/Cleveland, OH/Western Reserve University",
                    "France/Paris/World Foundation for AIDS Research and Prevention",
                    "Germany/Würzburg/Würzburg University",
                    "United States of America/New Haven, CT/Yale University",
                    "France/Paris/École Nationale Supérieur des Mines de Paris",
                    "France/Paris/École Normale Supérieure",
                    "France/Palaiseau/École Polytechnique",
                    "France/Paris/École Polytechnique",
                    "France/Paris/École Supérieure de Physique et Chimie",
                    "France/Paris/École municipale de physique et de chimie industrielles (Municipal School of Industrial Physics and Chemistry)",
                    "Denmark/Aarhus",
                    "Austria/Altenberg; Grünau im Almtal",
                    "Netherlands/Amsterdam",
                    "United States of America/Argonne, IL",
                    "United States of America/Ashburn, VA",
                    "United States of America/Austin TX",
                    "United States of America/Baltimore, MD",
                    "United States of America/Bar Harbor, ME",
                    "Switzerland/Basel",
                    "United States of America/Batavia, IL",
                    "United Kingdom/Beckenham",
                    "China/Beijing",
                    "United States of America/Berkeley, CA",
                    "Germany/Berlin",
                    "Germany/Berlin-Dahlem",
                    "Switzerland/Berne",
                    "United States of America/Bethesda, MD",
                    "United States of America/Beverly, MA",
                    "United Kingdom/Birmingham",
                    "United States of America/Bloomington, IN",
                    "United Kingdom/Bodmin",
                    "Germany/Bonn",
                    "United States of America/Boston, MA",
                    "United States of America/Boulder, CO",
                    "Germany/Breisgau",
                    "United Kingdom/Brighton",
                    "United Kingdom/Bristol",
                    "Belgium/Brussels",
                    "United Kingdom/Bucksburn (Scotland)",
                    "Argentina/Buenos Aires",
                    "United States of America/Buffalo, NY",
                    "India/Calcutta",
                    "United Kingdom/Cambridge",
                    "United States of America/Cambridge, MA",
                    "Australia/Canberra",
                    "United Kingdom/Cardiff",
                    "United States of America/Chapel Hill, NC",
                    "United States of America/Chevy Chase",
                    "United States of America/Chicago, IL",
                    "United States of America/Cleveland, OH",
                    "United States of America/Cold Spring Harbor, NY",
                    "United States of America/College Park, MD",
                    "Germany/Cologne",
                    "United States of America/Columbia",
                    "Denmark/Copenhagen",
                    "United States of America/Dallas, TX",
                    "Ireland/Dublin",
                    "United States of America/Durham, NC",
                    "United Kingdom/Edinburgh",
                    "Canada/Edmonton",
                    "United States of America/Evanston, IL",
                    "United States of America/Fairfax, VA",
                    "Germany/Frankfurt-on-the-Main",
                    "United States of America/Gaithersburg, MD",
                    "Germany/Garching",
                    "Switzerland/Geneva",
                    "Belgium/Ghent",
                    "Sweden/Gothenburg",
                    "Austria/Graz",
                    "United States of America/Greenbelt, MD",
                    "United States of America/Greenwich, CT",
                    "Germany/Greifswald",
                    "France/Grenoble",
                    "Netherlands/Groningen",
                    "Germany/Göttingen",
                    "Israel/Haifa",
                    "Germany/Halle",
                    "Canada/Hamilton, Ontario",
                    "United Kingdom/Harlow",
                    "United Kingdom/Harwell, Berkshire",
                    "Germany/Heidelberg",
                    "Finland/Helsinki",
                    "United Kingdom/Hertfordshire",
                    "United States of America/Holmdel, NJ",
                    "United States of America/Houston, TX",
                    "Austria/Innsbruck",
                    "United States of America/Irvine, CA",
                    "United States of America/Ithaca, NY",
                    "Germany/J&uuml;lich",
                    "Israel/Jerusalem",
                    "Japan/Kashiwa",
                    "Germany/Kiel",
                    "Canada/Kingston",
                    "Japan/Kyoto",
                    "United States of America/La Jolla, CA",
                    "Switzerland/Lausanne",
                    "Netherlands/Leiden",
                    "Germany/Leipzig",
                    "Sweden/Lidingö-Stockholm",
                    "Portugal/Lisbon",
                    "United Kingdom/Liverpool",
                    "United Kingdom/London",
                    "United States of America/Los Angeles, CA",
                    "Belgium/Louvain",
                    "United States of America/Madison, NJ",
                    "United States of America/Madison, WI",
                    "Spain/Madrid",
                    "United States of America/Maine ME",
                    "Germany/Mainz",
                    "United Kingdom/Manchester",
                    "Germany/Marburg",
                    "Germany/Martinsried",
                    "United States of America/Medford, MA",
                    "Australia/Melbourne",
                    "United States of America/Memphis, TN",
                    "Italy/Milan",
                    "United States of America/Minneapolis, MN",
                    "Russia/Moscow",
                    "United States of America/Mountain View, CA",
                    "Germany/Munich",
                    "Germany/Munster",
                    "United States of America/Murray Hill, NJ",
                    "Germany/Mülheim/Ruhr",
                    "Japan/Nagoya",
                    "France/Nancy",
                    "United States of America/Nashville, TN",
                    "Australia/Nedlands",
                    "United States of America/New Brunswick, NJ",
                    "United States of America/New Haven, CT",
                    "United States of America/New Orleans, LA",
                    "United States of America/New York, NY",
                    "United Kingdom/Nottingham",
                    "France/Orsay",
                    "Norway/Oslo",
                    "Canada/Ottawa",
                    "United Kingdom/Oxford",
                    "France/Palaiseau",
                    "France/Paris",
                    "United States of America/Pasadena, CA",
                    "Italy/Pavia",
                    "United States of America/Philadelphia, PA",
                    "United States of America/Pittsburgh, PA",
                    "Czech Republic/Prague",
                    "United States of America/Princeton, NJ",
                    "United States of America/Providence, RI",
                    "Israel/Rehovot",
                    "United States of America/Research Triangle Park, NC",
                    "United States of America/Richmond, VA",
                    "United States of America/Rochester, MN",
                    "United States of America/Rochester, NY",
                    "Italy/Rome",
                    "Netherlands/Rotterdam",
                    "France/Rueil-Malmaison",
                    "Switzerland/Rüschlikon",
                    "United States of America/Salt Lake City, UT",
                    "United States of America/San Diego, CA",
                    "United States of America/San Francisco, CA",
                    "United States of America/Santa Barbara, CA",
                    "Japan/Sapporo",
                    "United States of America/Schenectady, NY",
                    "United States of America/Seattle, WA",
                    "United Kingdom/Sheffield",
                    "United States of America/St. Louis, MO",
                    "Russia/St. Petersburg",
                    "United States of America/Stanford, CA",
                    "Sweden/Stockholm",
                    "France/Strasbourg",
                    "Germany/Stuttgart",
                    "Hungary/Szeged",
                    "France/Sèvres",
                    "United States of America/Tempe, AZ",
                    "Japan/Tokyo",
                    "Canada/Toronto",
                    "France/Toulouse",
                    "Italy/Trieste",
                    "Norway/Trondheim",
                    "Japan/Tsukuba",
                    "Tunisia/Tunis",
                    "Germany/Tübingen",
                    "Sweden/Uppsala",
                    "United States of America/Urbana, IL",
                    "Netherlands/Utrecht",
                    "Canada/Vancouver",
                    "Austria/Vienna",
                    "United States of America/Waltham MA",
                    "United States of America/Washington, DC",
                    "Canada/Waterloo",
                    "United States of America/West Lafayette, IN",
                    "Australia/Weston Creek",
                    "United States of America/Wilmington, DE",
                    "United States of America/Woods Hole, MA",
                    "United States of America/Worcester, MA",
                    "Germany/Würzburg",
                    "United States of America/Yorktown Heights, NY",
                    "Switzerland/Zurich",
                    "Argentina",
                    "Australia",
                    "Austria",
                    "Belgium",
                    "Canada",
                    "China",
                    "Czech Republic",
                    "Denmark",
                    "Finland",
                    "France",
                    "Germany",
                    "Hungary",
                    "India",
                    "Ireland",
                    "Israel",
                    "Italy",
                    "Japan",
                    "Netherlands",
                    "Norway",
                    "Portugal",
                    "Russia",
                    "Spain",
                    "Sweden",
                    "Switzerland",
                    "Tunisia",
                    "United Kingdom",
                    "United States of America"
                  ],
                  "labels": [
                    "A.F. Ioffe Physico-Technical Institute",
                    "Aarhus University",
                    "Academy of Sciences",
                    "Amsterdam University",
                    "Argonne National Laboratory",
                    "Arizona State University",
                    "Asahi Kasei Corporation",
                    "Associated Universities Inc.",
                    "Atomic Energy Research Establishment",
                    "Australian National University",
                    "Australian National University",
                    "Basel Institute for Immunology",
                    "Basel University",
                    "Bell Laboratories",
                    "Bell Laboratories",
                    "Bell Laboratories",
                    "Berlin University",
                    "Berne University",
                    "Binghamton University State University of New York",
                    "Biozentrum der Universität",
                    "Birmingham University",
                    "Brandeis University",
                    "Brigham and Women's Hospital",
                    "Bristol University",
                    "Brown University",
                    "Brussels University",
                    "Bureau International des Poids et Mesures (International Bureau of Weights and Measures)",
                    "CERN",
                    "Calcutta University",
                    "California Institute of Technology (Caltech)",
                    "Cardiff University",
                    "Carnegie Institution of Washington",
                    "Carnegie Mellon University",
                    "Center for Study of Public Choice",
                    "Central Research Laboratories, EMI",
                    "Children's Medical Center",
                    "China Academy of Traditional Chinese Medicine",
                    "City University of New York",
                    "Cold Spring Harbor Laboratory",
                    "Collège de France",
                    "Cologne University",
                    "Columbia University",
                    "Copenhagen University",
                    "Cornell University",
                    "Department of Scientific and Industrial Research",
                    "Digital Pathways, Inc.",
                    "Drew University",
                    "Du Pont",
                    "Edinburgh University",
                    "Eidgenössische Technische Hochschule (Swiss Federal Institute of Technology)",
                    "Fermi National Accelerator Laboratory",
                    "Finsen Medical Light Institute",
                    "Forschungszentrum J&uuml;lich",
                    "Francis Crick Institute",
                    "Frankfurt-on-the-Main University",
                    "Fred Hutchinson Cancer Research Center",
                    "Fritz-Haber-Institut",
                    "Fritz-Haber-Institut der Max-Planck-Gesellschaft",
                    "General Electric Company",
                    "George Mason University",
                    "German Cancer Research Center",
                    "Ghent University",
                    "Glynn Research Laboratories",
                    "Goettingen University",
                    "Graz University",
                    "Greifswald University",
                    "Groningen University",
                    "Gurdon Institute",
                    "Göteborg University",
                    "Halle University",
                    "Harvard Medical School",
                    "Harvard University",
                    "High Energy Accelerator Research Organization (KEK)",
                    "Hokkaido University",
                    "Howard Hughes Medical Institute",
                    "Howard Hughes Medical Institute",
                    "IBM Thomas J. Watson Research Center",
                    "IBM Zurich Research Laboratory",
                    "Imperial Cancer Research Fund",
                    "Imperial College",
                    "Indiana University",
                    "Innsbruck University",
                    "Institut Français du Pétrole",
                    "Institut Pasteur",
                    "Institut Pasteur",
                    "Institut du Radium",
                    "Institute for Advanced Study",
                    "Institute for Biochemical Research",
                    "Institute for Chemical Physics of the Academy of Sciences of the USSR",
                    "Institute for Infectious Diseases",
                    "Institute of Cell Biology of the C.N.R.",
                    "Institute of Physical Chemistry",
                    "Institute of Technology",
                    "Instituto de Biologia y Medicina Experimental (Institute for Biology and Experimental Medicine)",
                    "International Centre for Theoretical Physics",
                    "Istituto Superiore di Sanità (Chief Institute of Public Health)",
                    "Jackson Laboratory",
                    "Janelia Research Campus, Howard Hughes Medical Institute",
                    "Johns Hopkins University",
                    "Karolinska Institutet",
                    "Kiel University",
                    "Kitasato University",
                    "Konrad-Lorenz-Institut der Österreichischen Akademie der Wissen­schaften, Forschungsstelle für Ethologie",
                    "Kyoto Sangyo University",
                    "Kyoto University",
                    "Laboratories of the Division of Medicine and Public Health, Rockefeller Foundation",
                    "Laboratorium der Farben-Fabriken J.R. Geigy A.G. (Laboratory of the J.R. Geigy Dye-Factory Co.)",
                    "Landwirtschaftliche Hochschule (Agricultural College)",
                    "Lawrence Berkeley National Laboratory",
                    "Leiden University",
                    "Leipzig University",
                    "Liverpool University",
                    "London School of Economics and Political Science",
                    "London University",
                    "Long Term Capital Management",
                    "MRC Laboratory of Molecular Biology",
                    "Madrid University",
                    "Mainz University",
                    "Marburg University",
                    "Marconi Wireless Telegraph Co. Ltd.",
                    "Marine Biological Laboratory (MBL)",
                    "Massachusetts Institute of Technology (MIT)",
                    "Max-Planck Institut",
                    "Max-Planck Institut",
                    "Max-Planck Institut",
                    "Max-Planck-Institut",
                    "Max-Planck-Institut",
                    "Max-Planck-Institut",
                    "Max-Planck-Institut",
                    "Max-Planck-Institut",
                    "Max-Planck-Institut",
                    "Max-Planck-Institut",
                    "Max-Planck-Institut",
                    "Max-Planck-Institut",
                    "Max-Planck-Institut",
                    "Max-Planck-Institut",
                    "Mayo Clinic",
                    "McMaster University",
                    "Meijo University",
                    "Military Medical Academy",
                    "Munich University",
                    "Munster University",
                    "NASA Goddard Space Flight Center",
                    "NHMRC Helicobacter pylori Research Laboratory, QEII Medical Centre",
                    "Nagoya University",
                    "Nancy University",
                    "National Institute for Medical Research",
                    "National Institute of Environmental Health Sciences",
                    "National Institute of Standards and Technology",
                    "National Institute of Standards and Technology",
                    "National Institutes of Health",
                    "National Research Council of Canada",
                    "New England Biolabs",
                    "New York University",
                    "Niels Bohr Institute",
                    "Nordita",
                    "Northwestern University",
                    "Norwegian University of Science and Technology (NTNU)",
                    "P.N. Lebedev Physical Institute",
                    "Parker Institute for Cancer Immunotherapy",
                    "Pavia University",
                    "Polarographic Institute of the Czechoslovak Academy of Science",
                    "Polytechnic Institute",
                    "Princeton University",
                    "Purdue University",
                    "Queen's University",
                    "Rheinische Friedrich-Wilhelms-Universität",
                    "Rice University",
                    "Rockefeller Institute for Medical Research",
                    "Rockefeller Institute for Medical Research",
                    "Rockefeller University",
                    "Rome University",
                    "Rowett Research Institute",
                    "Royal Institute of Technology",
                    "Royal Institution of Great Britain",
                    "Rutgers University",
                    "SUNY Health Science Center",
                    "Saint Louis University",
                    "Semiconductor Laboratory of Beckman Instruments, Inc.",
                    "Sheffield University",
                    "Shimadzu Corp.",
                    "Sorbonne University",
                    "St. Jude Children's Research Hospital",
                    "Standard Telecommunication Laboratories",
                    "Stanford Linear Accelerator Center",
                    "Stanford University",
                    "Stockholm School of Economics",
                    "Stockholm University",
                    "Strasbourg University",
                    "Swedish Gas-Accumulator Co.",
                    "Szeged University",
                    "Technical University",
                    "Technion - Israel Institute of Technology",
                    "Technische Hochschule (Institute of Technology)",
                    "Texas Instruments",
                    "The Institute for Cancer Research",
                    "The Medical Foundation of Buffalo",
                    "The Molecular Sciences Institute",
                    "The Netherlands School of Economics",
                    "The Salk Institute",
                    "The Scripps Research Institute",
                    "The Wellcome Research Laboratories",
                    "The Wellcome Trust Sanger Institute",
                    "Tokyo Institute of Technology",
                    "Tokyo University of Education",
                    "Toulouse School of Economics (TSE)",
                    "Toulouse University",
                    "Trinity College",
                    "Tufts University",
                    "US Naval Research Laboratory",
                    "University College London",
                    "University College London",
                    "University of Alberta",
                    "University of Bonn",
                    "University of British Columbia",
                    "University of California",
                    "University of California",
                    "University of California",
                    "University of California",
                    "University of California",
                    "University of California",
                    "University of Cambridge",
                    "University of Chicago",
                    "University of Colorado",
                    "University of Edinburgh",
                    "University of Freiburg",
                    "University of Geneva",
                    "University of Grenoble",
                    "University of Groningen",
                    "University of Heidelberg",
                    "University of Helsinki",
                    "University of Illinois",
                    "University of Jerusalem, Center for Rationality",
                    "University of Lausanne",
                    "University of Lisbon",
                    "University of Maine",
                    "University of Manchester",
                    "University of Maryland, Department of Economics and School of Public Policy",
                    "University of Massachusetts Medical School",
                    "University of Minnesota",
                    "University of Missouri",
                    "University of Moscow",
                    "University of North Carolina",
                    "University of Nottingham, School of Physics and Astronomy",
                    "University of Oslo",
                    "University of Oxford",
                    "University of Pennsylvania",
                    "University of Rochester",
                    "University of Southern California",
                    "University of Strasbourg",
                    "University of Sussex",
                    "University of Texas",
                    "University of Texas",
                    "University of Texas Southwestern Medical Center at Dallas",
                    "University of Tokyo",
                    "University of Tokyo",
                    "University of Toronto",
                    "University of Tsukuba",
                    "University of Utah",
                    "University of Washington",
                    "University of Waterloo",
                    "University of Wisconsin",
                    "University of Zurich",
                    "Université Catholique de Louvain",
                    "Université Libre de Bruxelles",
                    "Université Louis Pasteur",
                    "Université Paris-Saclay",
                    "Université de Paris, Laboratoire Immuno-Hématologie",
                    "Université de Strasbourg",
                    "Uppsala University",
                    "Utrecht University",
                    "Vanderbilt University",
                    "Veterans Administration Hospital",
                    "Veterans Administration Hospital",
                    "Victoria University",
                    "Vienna University",
                    "Virginia Commonwealth University",
                    "Walter and Eliza Hall Institute for Medical Research",
                    "Washington University",
                    "Weizmann Institute of Science",
                    "Wellcome Research Laboratories",
                    "Western Reserve University",
                    "World Foundation for AIDS Research and Prevention",
                    "Würzburg University",
                    "Yale University",
                    "École Nationale Supérieur des Mines de Paris",
                    "École Normale Supérieure",
                    "École Polytechnique",
                    "École Polytechnique",
                    "École Supérieure de Physique et Chimie",
                    "École municipale de physique et de chimie industrielles (Municipal School of Industrial Physics and Chemistry)",
                    "Aarhus",
                    "Altenberg; Grünau im Almtal",
                    "Amsterdam",
                    "Argonne, IL",
                    "Ashburn, VA",
                    "Austin TX",
                    "Baltimore, MD",
                    "Bar Harbor, ME",
                    "Basel",
                    "Batavia, IL",
                    "Beckenham",
                    "Beijing",
                    "Berkeley, CA",
                    "Berlin",
                    "Berlin-Dahlem",
                    "Berne",
                    "Bethesda, MD",
                    "Beverly, MA",
                    "Birmingham",
                    "Bloomington, IN",
                    "Bodmin",
                    "Bonn",
                    "Boston, MA",
                    "Boulder, CO",
                    "Breisgau",
                    "Brighton",
                    "Bristol",
                    "Brussels",
                    "Bucksburn (Scotland)",
                    "Buenos Aires",
                    "Buffalo, NY",
                    "Calcutta",
                    "Cambridge",
                    "Cambridge, MA",
                    "Canberra",
                    "Cardiff",
                    "Chapel Hill, NC",
                    "Chevy Chase",
                    "Chicago, IL",
                    "Cleveland, OH",
                    "Cold Spring Harbor, NY",
                    "College Park, MD",
                    "Cologne",
                    "Columbia",
                    "Copenhagen",
                    "Dallas, TX",
                    "Dublin",
                    "Durham, NC",
                    "Edinburgh",
                    "Edmonton",
                    "Evanston, IL",
                    "Fairfax, VA",
                    "Frankfurt-on-the-Main",
                    "Gaithersburg, MD",
                    "Garching",
                    "Geneva",
                    "Ghent",
                    "Gothenburg",
                    "Graz",
                    "Greenbelt, MD",
                    "Greenwich, CT",
                    "Greifswald",
                    "Grenoble",
                    "Groningen",
                    "Göttingen",
                    "Haifa",
                    "Halle",
                    "Hamilton, Ontario",
                    "Harlow",
                    "Harwell, Berkshire",
                    "Heidelberg",
                    "Helsinki",
                    "Hertfordshire",
                    "Holmdel, NJ",
                    "Houston, TX",
                    "Innsbruck",
                    "Irvine, CA",
                    "Ithaca, NY",
                    "J&uuml;lich",
                    "Jerusalem",
                    "Kashiwa",
                    "Kiel",
                    "Kingston",
                    "Kyoto",
                    "La Jolla, CA",
                    "Lausanne",
                    "Leiden",
                    "Leipzig",
                    "Lidingö-Stockholm",
                    "Lisbon",
                    "Liverpool",
                    "London",
                    "Los Angeles, CA",
                    "Louvain",
                    "Madison, NJ",
                    "Madison, WI",
                    "Madrid",
                    "Maine ME",
                    "Mainz",
                    "Manchester",
                    "Marburg",
                    "Martinsried",
                    "Medford, MA",
                    "Melbourne",
                    "Memphis, TN",
                    "Milan",
                    "Minneapolis, MN",
                    "Moscow",
                    "Mountain View, CA",
                    "Munich",
                    "Munster",
                    "Murray Hill, NJ",
                    "Mülheim/Ruhr",
                    "Nagoya",
                    "Nancy",
                    "Nashville, TN",
                    "Nedlands",
                    "New Brunswick, NJ",
                    "New Haven, CT",
                    "New Orleans, LA",
                    "New York, NY",
                    "Nottingham",
                    "Orsay",
                    "Oslo",
                    "Ottawa",
                    "Oxford",
                    "Palaiseau",
                    "Paris",
                    "Pasadena, CA",
                    "Pavia",
                    "Philadelphia, PA",
                    "Pittsburgh, PA",
                    "Prague",
                    "Princeton, NJ",
                    "Providence, RI",
                    "Rehovot",
                    "Research Triangle Park, NC",
                    "Richmond, VA",
                    "Rochester, MN",
                    "Rochester, NY",
                    "Rome",
                    "Rotterdam",
                    "Rueil-Malmaison",
                    "Rüschlikon",
                    "Salt Lake City, UT",
                    "San Diego, CA",
                    "San Francisco, CA",
                    "Santa Barbara, CA",
                    "Sapporo",
                    "Schenectady, NY",
                    "Seattle, WA",
                    "Sheffield",
                    "St. Louis, MO",
                    "St. Petersburg",
                    "Stanford, CA",
                    "Stockholm",
                    "Strasbourg",
                    "Stuttgart",
                    "Szeged",
                    "Sèvres",
                    "Tempe, AZ",
                    "Tokyo",
                    "Toronto",
                    "Toulouse",
                    "Trieste",
                    "Trondheim",
                    "Tsukuba",
                    "Tunis",
                    "Tübingen",
                    "Uppsala",
                    "Urbana, IL",
                    "Utrecht",
                    "Vancouver",
                    "Vienna",
                    "Waltham MA",
                    "Washington, DC",
                    "Waterloo",
                    "West Lafayette, IN",
                    "Weston Creek",
                    "Wilmington, DE",
                    "Woods Hole, MA",
                    "Worcester, MA",
                    "Würzburg",
                    "Yorktown Heights, NY",
                    "Zurich",
                    "Argentina",
                    "Australia",
                    "Austria",
                    "Belgium",
                    "Canada",
                    "China",
                    "Czech Republic",
                    "Denmark",
                    "Finland",
                    "France",
                    "Germany",
                    "Hungary",
                    "India",
                    "Ireland",
                    "Israel",
                    "Italy",
                    "Japan",
                    "Netherlands",
                    "Norway",
                    "Portugal",
                    "Russia",
                    "Spain",
                    "Sweden",
                    "Switzerland",
                    "Tunisia",
                    "United Kingdom",
                    "United States of America"
                  ],
                  "name": "",
                  "parents": [
                    "Russia/St. Petersburg",
                    "Denmark/Aarhus",
                    "Russia/Moscow",
                    "Netherlands/Amsterdam",
                    "United States of America/Argonne, IL",
                    "United States of America/Tempe, AZ",
                    "Japan/Tokyo",
                    "United States of America/Washington, DC",
                    "United Kingdom/Harwell, Berkshire",
                    "Australia/Canberra",
                    "Australia/Weston Creek",
                    "Switzerland/Basel",
                    "Switzerland/Basel",
                    "United States of America/Holmdel, NJ",
                    "United States of America/Murray Hill, NJ",
                    "United States of America/New York, NY",
                    "Germany/Berlin",
                    "Switzerland/Berne",
                    "United States of America/New York, NY",
                    "Switzerland/Basel",
                    "United Kingdom/Birmingham",
                    "United States of America/Waltham MA",
                    "United States of America/Boston, MA",
                    "United Kingdom/Bristol",
                    "United States of America/Providence, RI",
                    "Belgium/Brussels",
                    "France/Sèvres",
                    "Switzerland/Geneva",
                    "India/Calcutta",
                    "United States of America/Pasadena, CA",
                    "United Kingdom/Cardiff",
                    "United States of America/New York, NY",
                    "United States of America/Pittsburgh, PA",
                    "United States of America/Fairfax, VA",
                    "United Kingdom/London",
                    "United States of America/Boston, MA",
                    "China/Beijing",
                    "United States of America/New York, NY",
                    "United States of America/Cold Spring Harbor, NY",
                    "France/Paris",
                    "Germany/Cologne",
                    "United States of America/New York, NY",
                    "Denmark/Copenhagen",
                    "United States of America/Ithaca, NY",
                    "United Kingdom/London",
                    "United States of America/Mountain View, CA",
                    "United States of America/Madison, NJ",
                    "United States of America/Wilmington, DE",
                    "United Kingdom/Edinburgh",
                    "Switzerland/Zurich",
                    "United States of America/Batavia, IL",
                    "Denmark/Copenhagen",
                    "Germany/J&uuml;lich",
                    "United Kingdom/Hertfordshire",
                    "Germany/Frankfurt-on-the-Main",
                    "United States of America/Seattle, WA",
                    "Germany/Berlin-Dahlem",
                    "Germany/Berlin",
                    "United States of America/Schenectady, NY",
                    "United States of America/Fairfax, VA",
                    "Germany/Heidelberg",
                    "Belgium/Ghent",
                    "United Kingdom/Bodmin",
                    "Germany/Göttingen",
                    "Austria/Graz",
                    "Germany/Greifswald",
                    "Netherlands/Groningen",
                    "United Kingdom/Cambridge",
                    "Sweden/Gothenburg",
                    "Germany/Halle",
                    "United States of America/Boston, MA",
                    "United States of America/Cambridge, MA",
                    "Japan/Tsukuba",
                    "Japan/Sapporo",
                    "United States of America/Chevy Chase",
                    "United States of America/Durham, NC",
                    "United States of America/Yorktown Heights, NY",
                    "Switzerland/Rüschlikon",
                    "United Kingdom/London",
                    "United Kingdom/London",
                    "United States of America/Bloomington, IN",
                    "Austria/Innsbruck",
                    "France/Rueil-Malmaison",
                    "France/Paris",
                    "Tunisia/Tunis",
                    "France/Paris",
                    "United States of America/Princeton, NJ",
                    "Argentina/Buenos Aires",
                    "Russia/Moscow",
                    "Germany/Berlin",
                    "Italy/Rome",
                    "United Kingdom/Cambridge",
                    "Italy/Milan",
                    "Argentina/Buenos Aires",
                    "Italy/Trieste",
                    "Italy/Rome",
                    "United States of America/Bar Harbor, ME",
                    "United States of America/Ashburn, VA",
                    "United States of America/Baltimore, MD",
                    "Sweden/Stockholm",
                    "Germany/Kiel",
                    "Japan/Tokyo",
                    "Austria/Altenberg; Grünau im Almtal",
                    "Japan/Kyoto",
                    "Japan/Kyoto",
                    "United States of America/New York, NY",
                    "Switzerland/Basel",
                    "Germany/Berlin",
                    "United States of America/Berkeley, CA",
                    "Netherlands/Leiden",
                    "Germany/Leipzig",
                    "United Kingdom/Liverpool",
                    "United Kingdom/London",
                    "United Kingdom/London",
                    "United States of America/Greenwich, CT",
                    "United Kingdom/Cambridge",
                    "Spain/Madrid",
                    "Germany/Mainz",
                    "Germany/Marburg",
                    "United Kingdom/London",
                    "United States of America/Woods Hole, MA",
                    "United States of America/Cambridge, MA",
                    "Germany/Berlin",
                    "Germany/Berlin-Dahlem",
                    "Germany/Heidelberg",
                    "Germany/Berlin",
                    "Germany/Frankfurt-on-the-Main",
                    "Germany/Garching",
                    "Germany/Göttingen",
                    "Germany/Heidelberg",
                    "Germany/Mainz",
                    "Germany/Martinsried",
                    "Germany/Munich",
                    "Germany/Mülheim/Ruhr",
                    "Germany/Stuttgart",
                    "Germany/Tübingen",
                    "United States of America/Rochester, MN",
                    "Canada/Hamilton, Ontario",
                    "Japan/Nagoya",
                    "Russia/St. Petersburg",
                    "Germany/Munich",
                    "Germany/Munster",
                    "United States of America/Greenbelt, MD",
                    "Australia/Nedlands",
                    "Japan/Nagoya",
                    "France/Nancy",
                    "United Kingdom/London",
                    "United States of America/Research Triangle Park, NC",
                    "United States of America/Boulder, CO",
                    "United States of America/Gaithersburg, MD",
                    "United States of America/Bethesda, MD",
                    "Canada/Ottawa",
                    "United States of America/Beverly, MA",
                    "United States of America/New York, NY",
                    "Denmark/Copenhagen",
                    "Denmark/Copenhagen",
                    "United States of America/Evanston, IL",
                    "Norway/Trondheim",
                    "Russia/Moscow",
                    "United States of America/San Francisco, CA",
                    "Italy/Pavia",
                    "Czech Republic/Prague",
                    "Denmark/Copenhagen",
                    "United States of America/Princeton, NJ",
                    "United States of America/West Lafayette, IN",
                    "Canada/Kingston",
                    "Germany/Bonn",
                    "United States of America/Houston, TX",
                    "United States of America/New York, NY",
                    "United States of America/Princeton, NJ",
                    "United States of America/New York, NY",
                    "Italy/Rome",
                    "United Kingdom/Bucksburn (Scotland)",
                    "Sweden/Stockholm",
                    "United Kingdom/London",
                    "United States of America/New Brunswick, NJ",
                    "United States of America/New York, NY",
                    "United States of America/St. Louis, MO",
                    "United States of America/Mountain View, CA",
                    "United Kingdom/Sheffield",
                    "Japan/Kyoto",
                    "France/Paris",
                    "United States of America/Memphis, TN",
                    "United Kingdom/Harlow",
                    "United States of America/Stanford, CA",
                    "United States of America/Stanford, CA",
                    "Sweden/Stockholm",
                    "Sweden/Stockholm",
                    "France/Strasbourg",
                    "Sweden/Lidingö-Stockholm",
                    "Hungary/Szeged",
                    "Germany/Munich",
                    "Israel/Haifa",
                    "Germany/Munich",
                    "United States of America/Dallas, TX",
                    "United States of America/Philadelphia, PA",
                    "United States of America/Buffalo, NY",
                    "United States of America/Berkeley, CA",
                    "Netherlands/Rotterdam",
                    "United States of America/San Diego, CA",
                    "United States of America/La Jolla, CA",
                    "United Kingdom/Beckenham",
                    "United Kingdom/Cambridge",
                    "Japan/Tokyo",
                    "Japan/Tokyo",
                    "France/Toulouse",
                    "France/Toulouse",
                    "Ireland/Dublin",
                    "United States of America/Medford, MA",
                    "United States of America/Washington, DC",
                    "United Kingdom/Liverpool",
                    "United Kingdom/London",
                    "Canada/Edmonton",
                    "Germany/Bonn",
                    "Canada/Vancouver",
                    "United States of America/Berkeley, CA",
                    "United States of America/Irvine, CA",
                    "United States of America/Los Angeles, CA",
                    "United States of America/San Diego, CA",
                    "United States of America/San Francisco, CA",
                    "United States of America/Santa Barbara, CA",
                    "United Kingdom/Cambridge",
                    "United States of America/Chicago, IL",
                    "United States of America/Boulder, CO",
                    "United Kingdom/Edinburgh",
                    "Germany/Breisgau",
                    "Switzerland/Geneva",
                    "France/Grenoble",
                    "Netherlands/Groningen",
                    "Germany/Heidelberg",
                    "Finland/Helsinki",
                    "United States of America/Urbana, IL",
                    "Israel/Jerusalem",
                    "Switzerland/Lausanne",
                    "Portugal/Lisbon",
                    "United States of America/Maine ME",
                    "United Kingdom/Manchester",
                    "United States of America/College Park, MD",
                    "United States of America/Worcester, MA",
                    "United States of America/Minneapolis, MN",
                    "United States of America/Columbia",
                    "Russia/Moscow",
                    "United States of America/Chapel Hill, NC",
                    "United Kingdom/Nottingham",
                    "Norway/Oslo",
                    "United Kingdom/Oxford",
                    "United States of America/Philadelphia, PA",
                    "United States of America/Rochester, NY",
                    "United States of America/Los Angeles, CA",
                    "France/Strasbourg",
                    "United Kingdom/Brighton",
                    "United States of America/Austin TX",
                    "United States of America/Houston, TX",
                    "United States of America/Dallas, TX",
                    "Japan/Kashiwa",
                    "Japan/Tokyo",
                    "Canada/Toronto",
                    "Japan/Tokyo",
                    "United States of America/Salt Lake City, UT",
                    "United States of America/Seattle, WA",
                    "Canada/Waterloo",
                    "United States of America/Madison, WI",
                    "Switzerland/Zurich",
                    "Belgium/Louvain",
                    "Belgium/Brussels",
                    "France/Strasbourg",
                    "France/Orsay",
                    "France/Paris",
                    "France/Strasbourg",
                    "Sweden/Uppsala",
                    "Netherlands/Utrecht",
                    "United States of America/Nashville, TN",
                    "United States of America/New Orleans, LA",
                    "United States of America/New York, NY",
                    "United Kingdom/Manchester",
                    "Austria/Vienna",
                    "United States of America/Richmond, VA",
                    "Australia/Melbourne",
                    "United States of America/St. Louis, MO",
                    "Israel/Rehovot",
                    "United States of America/Research Triangle Park, NC",
                    "United States of America/Cleveland, OH",
                    "France/Paris",
                    "Germany/Würzburg",
                    "United States of America/New Haven, CT",
                    "France/Paris",
                    "France/Paris",
                    "France/Palaiseau",
                    "France/Paris",
                    "France/Paris",
                    "France/Paris",
                    "Denmark",
                    "Austria",
                    "Netherlands",
                    "United States of America",
                    "United States of America",
                    "United States of America",
                    "United States of America",
                    "United States of America",
                    "Switzerland",
                    "United States of America",
                    "United Kingdom",
                    "China",
                    "United States of America",
                    "Germany",
                    "Germany",
                    "Switzerland",
                    "United States of America",
                    "United States of America",
                    "United Kingdom",
                    "United States of America",
                    "United Kingdom",
                    "Germany",
                    "United States of America",
                    "United States of America",
                    "Germany",
                    "United Kingdom",
                    "United Kingdom",
                    "Belgium",
                    "United Kingdom",
                    "Argentina",
                    "United States of America",
                    "India",
                    "United Kingdom",
                    "United States of America",
                    "Australia",
                    "United Kingdom",
                    "United States of America",
                    "United States of America",
                    "United States of America",
                    "United States of America",
                    "United States of America",
                    "United States of America",
                    "Germany",
                    "United States of America",
                    "Denmark",
                    "United States of America",
                    "Ireland",
                    "United States of America",
                    "United Kingdom",
                    "Canada",
                    "United States of America",
                    "United States of America",
                    "Germany",
                    "United States of America",
                    "Germany",
                    "Switzerland",
                    "Belgium",
                    "Sweden",
                    "Austria",
                    "United States of America",
                    "United States of America",
                    "Germany",
                    "France",
                    "Netherlands",
                    "Germany",
                    "Israel",
                    "Germany",
                    "Canada",
                    "United Kingdom",
                    "United Kingdom",
                    "Germany",
                    "Finland",
                    "United Kingdom",
                    "United States of America",
                    "United States of America",
                    "Austria",
                    "United States of America",
                    "United States of America",
                    "Germany",
                    "Israel",
                    "Japan",
                    "Germany",
                    "Canada",
                    "Japan",
                    "United States of America",
                    "Switzerland",
                    "Netherlands",
                    "Germany",
                    "Sweden",
                    "Portugal",
                    "United Kingdom",
                    "United Kingdom",
                    "United States of America",
                    "Belgium",
                    "United States of America",
                    "United States of America",
                    "Spain",
                    "United States of America",
                    "Germany",
                    "United Kingdom",
                    "Germany",
                    "Germany",
                    "United States of America",
                    "Australia",
                    "United States of America",
                    "Italy",
                    "United States of America",
                    "Russia",
                    "United States of America",
                    "Germany",
                    "Germany",
                    "United States of America",
                    "Germany",
                    "Japan",
                    "France",
                    "United States of America",
                    "Australia",
                    "United States of America",
                    "United States of America",
                    "United States of America",
                    "United States of America",
                    "United Kingdom",
                    "France",
                    "Norway",
                    "Canada",
                    "United Kingdom",
                    "France",
                    "France",
                    "United States of America",
                    "Italy",
                    "United States of America",
                    "United States of America",
                    "Czech Republic",
                    "United States of America",
                    "United States of America",
                    "Israel",
                    "United States of America",
                    "United States of America",
                    "United States of America",
                    "United States of America",
                    "Italy",
                    "Netherlands",
                    "France",
                    "Switzerland",
                    "United States of America",
                    "United States of America",
                    "United States of America",
                    "United States of America",
                    "Japan",
                    "United States of America",
                    "United States of America",
                    "United Kingdom",
                    "United States of America",
                    "Russia",
                    "United States of America",
                    "Sweden",
                    "France",
                    "Germany",
                    "Hungary",
                    "France",
                    "United States of America",
                    "Japan",
                    "Canada",
                    "France",
                    "Italy",
                    "Norway",
                    "Japan",
                    "Tunisia",
                    "Germany",
                    "Sweden",
                    "United States of America",
                    "Netherlands",
                    "Canada",
                    "Austria",
                    "United States of America",
                    "United States of America",
                    "Canada",
                    "United States of America",
                    "Australia",
                    "United States of America",
                    "United States of America",
                    "United States of America",
                    "Germany",
                    "United States of America",
                    "Switzerland",
                    "",
                    "",
                    "",
                    "",
                    "",
                    "",
                    "",
                    "",
                    "",
                    "",
                    "",
                    "",
                    "",
                    "",
                    "",
                    "",
                    "",
                    "",
                    "",
                    "",
                    "",
                    "",
                    "",
                    "",
                    "",
                    "",
                    ""
                  ],
                  "type": "sunburst",
                  "values": [
                    1,
                    1,
                    3,
                    2,
                    1,
                    1,
                    1,
                    1,
                    1,
                    1,
                    1,
                    2,
                    1,
                    3,
                    4,
                    1,
                    6,
                    1,
                    1,
                    1,
                    1,
                    1,
                    1,
                    1,
                    2,
                    1,
                    1,
                    3,
                    1,
                    17,
                    1,
                    1,
                    3,
                    1,
                    1,
                    1,
                    1,
                    1,
                    1,
                    3,
                    1,
                    17,
                    3,
                    8,
                    1,
                    1,
                    1,
                    1,
                    2,
                    4,
                    1,
                    1,
                    1,
                    1,
                    1,
                    3,
                    1,
                    2,
                    2,
                    1,
                    1,
                    1,
                    1,
                    5,
                    2,
                    1,
                    1,
                    1,
                    1,
                    1,
                    7,
                    29,
                    1,
                    1,
                    1,
                    1,
                    1,
                    4,
                    3,
                    3,
                    2,
                    1,
                    1,
                    6,
                    1,
                    2,
                    2,
                    1,
                    1,
                    1,
                    1,
                    1,
                    1,
                    1,
                    1,
                    1,
                    1,
                    1,
                    6,
                    5,
                    3,
                    1,
                    1,
                    1,
                    4,
                    1,
                    1,
                    1,
                    1,
                    3,
                    2,
                    1,
                    1,
                    7,
                    1,
                    10,
                    1,
                    1,
                    1,
                    1,
                    1,
                    21,
                    1,
                    3,
                    1,
                    1,
                    1,
                    1,
                    3,
                    1,
                    1,
                    1,
                    1,
                    1,
                    1,
                    1,
                    2,
                    1,
                    1,
                    1,
                    5,
                    1,
                    1,
                    1,
                    2,
                    1,
                    2,
                    1,
                    1,
                    1,
                    5,
                    1,
                    1,
                    4,
                    1,
                    1,
                    3,
                    2,
                    4,
                    1,
                    1,
                    1,
                    1,
                    15,
                    2,
                    1,
                    1,
                    2,
                    4,
                    2,
                    13,
                    1,
                    1,
                    1,
                    2,
                    1,
                    1,
                    1,
                    1,
                    1,
                    1,
                    7,
                    1,
                    1,
                    1,
                    23,
                    1,
                    3,
                    1,
                    1,
                    1,
                    2,
                    3,
                    1,
                    1,
                    1,
                    1,
                    1,
                    1,
                    1,
                    1,
                    1,
                    1,
                    1,
                    1,
                    1,
                    1,
                    1,
                    1,
                    1,
                    1,
                    6,
                    1,
                    1,
                    1,
                    19,
                    3,
                    6,
                    3,
                    4,
                    5,
                    18,
                    20,
                    4,
                    1,
                    2,
                    2,
                    1,
                    1,
                    6,
                    1,
                    4,
                    1,
                    1,
                    1,
                    1,
                    2,
                    1,
                    1,
                    1,
                    1,
                    2,
                    2,
                    1,
                    3,
                    12,
                    4,
                    1,
                    2,
                    2,
                    2,
                    1,
                    1,
                    5,
                    1,
                    1,
                    3,
                    1,
                    1,
                    4,
                    1,
                    3,
                    4,
                    1,
                    2,
                    1,
                    1,
                    1,
                    1,
                    5,
                    2,
                    2,
                    1,
                    1,
                    3,
                    2,
                    1,
                    1,
                    4,
                    1,
                    2,
                    1,
                    1,
                    1,
                    9,
                    1,
                    1,
                    1,
                    1,
                    1,
                    1,
                    1,
                    1,
                    2,
                    1,
                    1,
                    1,
                    6,
                    1,
                    5,
                    1,
                    1,
                    1,
                    21,
                    12,
                    4,
                    1,
                    5,
                    1,
                    1,
                    2,
                    1,
                    2,
                    9,
                    5,
                    2,
                    2,
                    1,
                    3,
                    1,
                    2,
                    1,
                    1,
                    31,
                    50,
                    1,
                    1,
                    2,
                    1,
                    20,
                    1,
                    1,
                    1,
                    1,
                    1,
                    7,
                    6,
                    1,
                    1,
                    3,
                    1,
                    3,
                    2,
                    2,
                    1,
                    1,
                    5,
                    1,
                    1,
                    2,
                    1,
                    1,
                    1,
                    1,
                    2,
                    8,
                    3,
                    1,
                    1,
                    1,
                    1,
                    9,
                    1,
                    1,
                    3,
                    3,
                    1,
                    3,
                    8,
                    1,
                    1,
                    1,
                    3,
                    1,
                    6,
                    1,
                    1,
                    3,
                    2,
                    1,
                    1,
                    2,
                    27,
                    8,
                    1,
                    1,
                    3,
                    1,
                    1,
                    2,
                    5,
                    1,
                    1,
                    1,
                    1,
                    1,
                    1,
                    1,
                    10,
                    2,
                    9,
                    1,
                    4,
                    1,
                    3,
                    1,
                    2,
                    1,
                    1,
                    9,
                    1,
                    45,
                    1,
                    1,
                    3,
                    1,
                    12,
                    1,
                    25,
                    17,
                    1,
                    5,
                    3,
                    1,
                    19,
                    2,
                    1,
                    3,
                    1,
                    2,
                    1,
                    3,
                    1,
                    1,
                    4,
                    1,
                    4,
                    5,
                    5,
                    1,
                    2,
                    7,
                    1,
                    5,
                    2,
                    24,
                    10,
                    5,
                    1,
                    1,
                    1,
                    1,
                    6,
                    3,
                    2,
                    1,
                    2,
                    1,
                    1,
                    1,
                    5,
                    4,
                    2,
                    1,
                    2,
                    1,
                    2,
                    1,
                    2,
                    1,
                    1,
                    1,
                    1,
                    1,
                    1,
                    8,
                    2,
                    4,
                    6,
                    5,
                    9,
                    1,
                    1,
                    8,
                    1,
                    38,
                    67,
                    1,
                    1,
                    1,
                    5,
                    6,
                    18,
                    10,
                    5,
                    1,
                    12,
                    1,
                    17,
                    24,
                    1,
                    93,
                    365
                  ]
                }
              ],
              "layout": {
                "legend": {
                  "tracegroupgap": 0
                },
                "margin": {
                  "t": 60
                },
                "template": {
                  "data": {
                    "bar": [
                      {
                        "error_x": {
                          "color": "#2a3f5f"
                        },
                        "error_y": {
                          "color": "#2a3f5f"
                        },
                        "marker": {
                          "line": {
                            "color": "#E5ECF6",
                            "width": 0.5
                          },
                          "pattern": {
                            "fillmode": "overlay",
                            "size": 10,
                            "solidity": 0.2
                          }
                        },
                        "type": "bar"
                      }
                    ],
                    "barpolar": [
                      {
                        "marker": {
                          "line": {
                            "color": "#E5ECF6",
                            "width": 0.5
                          },
                          "pattern": {
                            "fillmode": "overlay",
                            "size": 10,
                            "solidity": 0.2
                          }
                        },
                        "type": "barpolar"
                      }
                    ],
                    "carpet": [
                      {
                        "aaxis": {
                          "endlinecolor": "#2a3f5f",
                          "gridcolor": "white",
                          "linecolor": "white",
                          "minorgridcolor": "white",
                          "startlinecolor": "#2a3f5f"
                        },
                        "baxis": {
                          "endlinecolor": "#2a3f5f",
                          "gridcolor": "white",
                          "linecolor": "white",
                          "minorgridcolor": "white",
                          "startlinecolor": "#2a3f5f"
                        },
                        "type": "carpet"
                      }
                    ],
                    "choropleth": [
                      {
                        "colorbar": {
                          "outlinewidth": 0,
                          "ticks": ""
                        },
                        "type": "choropleth"
                      }
                    ],
                    "contour": [
                      {
                        "colorbar": {
                          "outlinewidth": 0,
                          "ticks": ""
                        },
                        "colorscale": [
                          [
                            0,
                            "#0d0887"
                          ],
                          [
                            0.1111111111111111,
                            "#46039f"
                          ],
                          [
                            0.2222222222222222,
                            "#7201a8"
                          ],
                          [
                            0.3333333333333333,
                            "#9c179e"
                          ],
                          [
                            0.4444444444444444,
                            "#bd3786"
                          ],
                          [
                            0.5555555555555556,
                            "#d8576b"
                          ],
                          [
                            0.6666666666666666,
                            "#ed7953"
                          ],
                          [
                            0.7777777777777778,
                            "#fb9f3a"
                          ],
                          [
                            0.8888888888888888,
                            "#fdca26"
                          ],
                          [
                            1,
                            "#f0f921"
                          ]
                        ],
                        "type": "contour"
                      }
                    ],
                    "contourcarpet": [
                      {
                        "colorbar": {
                          "outlinewidth": 0,
                          "ticks": ""
                        },
                        "type": "contourcarpet"
                      }
                    ],
                    "heatmap": [
                      {
                        "colorbar": {
                          "outlinewidth": 0,
                          "ticks": ""
                        },
                        "colorscale": [
                          [
                            0,
                            "#0d0887"
                          ],
                          [
                            0.1111111111111111,
                            "#46039f"
                          ],
                          [
                            0.2222222222222222,
                            "#7201a8"
                          ],
                          [
                            0.3333333333333333,
                            "#9c179e"
                          ],
                          [
                            0.4444444444444444,
                            "#bd3786"
                          ],
                          [
                            0.5555555555555556,
                            "#d8576b"
                          ],
                          [
                            0.6666666666666666,
                            "#ed7953"
                          ],
                          [
                            0.7777777777777778,
                            "#fb9f3a"
                          ],
                          [
                            0.8888888888888888,
                            "#fdca26"
                          ],
                          [
                            1,
                            "#f0f921"
                          ]
                        ],
                        "type": "heatmap"
                      }
                    ],
                    "heatmapgl": [
                      {
                        "colorbar": {
                          "outlinewidth": 0,
                          "ticks": ""
                        },
                        "colorscale": [
                          [
                            0,
                            "#0d0887"
                          ],
                          [
                            0.1111111111111111,
                            "#46039f"
                          ],
                          [
                            0.2222222222222222,
                            "#7201a8"
                          ],
                          [
                            0.3333333333333333,
                            "#9c179e"
                          ],
                          [
                            0.4444444444444444,
                            "#bd3786"
                          ],
                          [
                            0.5555555555555556,
                            "#d8576b"
                          ],
                          [
                            0.6666666666666666,
                            "#ed7953"
                          ],
                          [
                            0.7777777777777778,
                            "#fb9f3a"
                          ],
                          [
                            0.8888888888888888,
                            "#fdca26"
                          ],
                          [
                            1,
                            "#f0f921"
                          ]
                        ],
                        "type": "heatmapgl"
                      }
                    ],
                    "histogram": [
                      {
                        "marker": {
                          "pattern": {
                            "fillmode": "overlay",
                            "size": 10,
                            "solidity": 0.2
                          }
                        },
                        "type": "histogram"
                      }
                    ],
                    "histogram2d": [
                      {
                        "colorbar": {
                          "outlinewidth": 0,
                          "ticks": ""
                        },
                        "colorscale": [
                          [
                            0,
                            "#0d0887"
                          ],
                          [
                            0.1111111111111111,
                            "#46039f"
                          ],
                          [
                            0.2222222222222222,
                            "#7201a8"
                          ],
                          [
                            0.3333333333333333,
                            "#9c179e"
                          ],
                          [
                            0.4444444444444444,
                            "#bd3786"
                          ],
                          [
                            0.5555555555555556,
                            "#d8576b"
                          ],
                          [
                            0.6666666666666666,
                            "#ed7953"
                          ],
                          [
                            0.7777777777777778,
                            "#fb9f3a"
                          ],
                          [
                            0.8888888888888888,
                            "#fdca26"
                          ],
                          [
                            1,
                            "#f0f921"
                          ]
                        ],
                        "type": "histogram2d"
                      }
                    ],
                    "histogram2dcontour": [
                      {
                        "colorbar": {
                          "outlinewidth": 0,
                          "ticks": ""
                        },
                        "colorscale": [
                          [
                            0,
                            "#0d0887"
                          ],
                          [
                            0.1111111111111111,
                            "#46039f"
                          ],
                          [
                            0.2222222222222222,
                            "#7201a8"
                          ],
                          [
                            0.3333333333333333,
                            "#9c179e"
                          ],
                          [
                            0.4444444444444444,
                            "#bd3786"
                          ],
                          [
                            0.5555555555555556,
                            "#d8576b"
                          ],
                          [
                            0.6666666666666666,
                            "#ed7953"
                          ],
                          [
                            0.7777777777777778,
                            "#fb9f3a"
                          ],
                          [
                            0.8888888888888888,
                            "#fdca26"
                          ],
                          [
                            1,
                            "#f0f921"
                          ]
                        ],
                        "type": "histogram2dcontour"
                      }
                    ],
                    "mesh3d": [
                      {
                        "colorbar": {
                          "outlinewidth": 0,
                          "ticks": ""
                        },
                        "type": "mesh3d"
                      }
                    ],
                    "parcoords": [
                      {
                        "line": {
                          "colorbar": {
                            "outlinewidth": 0,
                            "ticks": ""
                          }
                        },
                        "type": "parcoords"
                      }
                    ],
                    "pie": [
                      {
                        "automargin": true,
                        "type": "pie"
                      }
                    ],
                    "scatter": [
                      {
                        "fillpattern": {
                          "fillmode": "overlay",
                          "size": 10,
                          "solidity": 0.2
                        },
                        "type": "scatter"
                      }
                    ],
                    "scatter3d": [
                      {
                        "line": {
                          "colorbar": {
                            "outlinewidth": 0,
                            "ticks": ""
                          }
                        },
                        "marker": {
                          "colorbar": {
                            "outlinewidth": 0,
                            "ticks": ""
                          }
                        },
                        "type": "scatter3d"
                      }
                    ],
                    "scattercarpet": [
                      {
                        "marker": {
                          "colorbar": {
                            "outlinewidth": 0,
                            "ticks": ""
                          }
                        },
                        "type": "scattercarpet"
                      }
                    ],
                    "scattergeo": [
                      {
                        "marker": {
                          "colorbar": {
                            "outlinewidth": 0,
                            "ticks": ""
                          }
                        },
                        "type": "scattergeo"
                      }
                    ],
                    "scattergl": [
                      {
                        "marker": {
                          "colorbar": {
                            "outlinewidth": 0,
                            "ticks": ""
                          }
                        },
                        "type": "scattergl"
                      }
                    ],
                    "scattermapbox": [
                      {
                        "marker": {
                          "colorbar": {
                            "outlinewidth": 0,
                            "ticks": ""
                          }
                        },
                        "type": "scattermapbox"
                      }
                    ],
                    "scatterpolar": [
                      {
                        "marker": {
                          "colorbar": {
                            "outlinewidth": 0,
                            "ticks": ""
                          }
                        },
                        "type": "scatterpolar"
                      }
                    ],
                    "scatterpolargl": [
                      {
                        "marker": {
                          "colorbar": {
                            "outlinewidth": 0,
                            "ticks": ""
                          }
                        },
                        "type": "scatterpolargl"
                      }
                    ],
                    "scatterternary": [
                      {
                        "marker": {
                          "colorbar": {
                            "outlinewidth": 0,
                            "ticks": ""
                          }
                        },
                        "type": "scatterternary"
                      }
                    ],
                    "surface": [
                      {
                        "colorbar": {
                          "outlinewidth": 0,
                          "ticks": ""
                        },
                        "colorscale": [
                          [
                            0,
                            "#0d0887"
                          ],
                          [
                            0.1111111111111111,
                            "#46039f"
                          ],
                          [
                            0.2222222222222222,
                            "#7201a8"
                          ],
                          [
                            0.3333333333333333,
                            "#9c179e"
                          ],
                          [
                            0.4444444444444444,
                            "#bd3786"
                          ],
                          [
                            0.5555555555555556,
                            "#d8576b"
                          ],
                          [
                            0.6666666666666666,
                            "#ed7953"
                          ],
                          [
                            0.7777777777777778,
                            "#fb9f3a"
                          ],
                          [
                            0.8888888888888888,
                            "#fdca26"
                          ],
                          [
                            1,
                            "#f0f921"
                          ]
                        ],
                        "type": "surface"
                      }
                    ],
                    "table": [
                      {
                        "cells": {
                          "fill": {
                            "color": "#EBF0F8"
                          },
                          "line": {
                            "color": "white"
                          }
                        },
                        "header": {
                          "fill": {
                            "color": "#C8D4E3"
                          },
                          "line": {
                            "color": "white"
                          }
                        },
                        "type": "table"
                      }
                    ]
                  },
                  "layout": {
                    "annotationdefaults": {
                      "arrowcolor": "#2a3f5f",
                      "arrowhead": 0,
                      "arrowwidth": 1
                    },
                    "autotypenumbers": "strict",
                    "coloraxis": {
                      "colorbar": {
                        "outlinewidth": 0,
                        "ticks": ""
                      }
                    },
                    "colorscale": {
                      "diverging": [
                        [
                          0,
                          "#8e0152"
                        ],
                        [
                          0.1,
                          "#c51b7d"
                        ],
                        [
                          0.2,
                          "#de77ae"
                        ],
                        [
                          0.3,
                          "#f1b6da"
                        ],
                        [
                          0.4,
                          "#fde0ef"
                        ],
                        [
                          0.5,
                          "#f7f7f7"
                        ],
                        [
                          0.6,
                          "#e6f5d0"
                        ],
                        [
                          0.7,
                          "#b8e186"
                        ],
                        [
                          0.8,
                          "#7fbc41"
                        ],
                        [
                          0.9,
                          "#4d9221"
                        ],
                        [
                          1,
                          "#276419"
                        ]
                      ],
                      "sequential": [
                        [
                          0,
                          "#0d0887"
                        ],
                        [
                          0.1111111111111111,
                          "#46039f"
                        ],
                        [
                          0.2222222222222222,
                          "#7201a8"
                        ],
                        [
                          0.3333333333333333,
                          "#9c179e"
                        ],
                        [
                          0.4444444444444444,
                          "#bd3786"
                        ],
                        [
                          0.5555555555555556,
                          "#d8576b"
                        ],
                        [
                          0.6666666666666666,
                          "#ed7953"
                        ],
                        [
                          0.7777777777777778,
                          "#fb9f3a"
                        ],
                        [
                          0.8888888888888888,
                          "#fdca26"
                        ],
                        [
                          1,
                          "#f0f921"
                        ]
                      ],
                      "sequentialminus": [
                        [
                          0,
                          "#0d0887"
                        ],
                        [
                          0.1111111111111111,
                          "#46039f"
                        ],
                        [
                          0.2222222222222222,
                          "#7201a8"
                        ],
                        [
                          0.3333333333333333,
                          "#9c179e"
                        ],
                        [
                          0.4444444444444444,
                          "#bd3786"
                        ],
                        [
                          0.5555555555555556,
                          "#d8576b"
                        ],
                        [
                          0.6666666666666666,
                          "#ed7953"
                        ],
                        [
                          0.7777777777777778,
                          "#fb9f3a"
                        ],
                        [
                          0.8888888888888888,
                          "#fdca26"
                        ],
                        [
                          1,
                          "#f0f921"
                        ]
                      ]
                    },
                    "colorway": [
                      "#636efa",
                      "#EF553B",
                      "#00cc96",
                      "#ab63fa",
                      "#FFA15A",
                      "#19d3f3",
                      "#FF6692",
                      "#B6E880",
                      "#FF97FF",
                      "#FECB52"
                    ],
                    "font": {
                      "color": "#2a3f5f"
                    },
                    "geo": {
                      "bgcolor": "white",
                      "lakecolor": "white",
                      "landcolor": "#E5ECF6",
                      "showlakes": true,
                      "showland": true,
                      "subunitcolor": "white"
                    },
                    "hoverlabel": {
                      "align": "left"
                    },
                    "hovermode": "closest",
                    "mapbox": {
                      "style": "light"
                    },
                    "paper_bgcolor": "white",
                    "plot_bgcolor": "#E5ECF6",
                    "polar": {
                      "angularaxis": {
                        "gridcolor": "white",
                        "linecolor": "white",
                        "ticks": ""
                      },
                      "bgcolor": "#E5ECF6",
                      "radialaxis": {
                        "gridcolor": "white",
                        "linecolor": "white",
                        "ticks": ""
                      }
                    },
                    "scene": {
                      "xaxis": {
                        "backgroundcolor": "#E5ECF6",
                        "gridcolor": "white",
                        "gridwidth": 2,
                        "linecolor": "white",
                        "showbackground": true,
                        "ticks": "",
                        "zerolinecolor": "white"
                      },
                      "yaxis": {
                        "backgroundcolor": "#E5ECF6",
                        "gridcolor": "white",
                        "gridwidth": 2,
                        "linecolor": "white",
                        "showbackground": true,
                        "ticks": "",
                        "zerolinecolor": "white"
                      },
                      "zaxis": {
                        "backgroundcolor": "#E5ECF6",
                        "gridcolor": "white",
                        "gridwidth": 2,
                        "linecolor": "white",
                        "showbackground": true,
                        "ticks": "",
                        "zerolinecolor": "white"
                      }
                    },
                    "shapedefaults": {
                      "line": {
                        "color": "#2a3f5f"
                      }
                    },
                    "ternary": {
                      "aaxis": {
                        "gridcolor": "white",
                        "linecolor": "white",
                        "ticks": ""
                      },
                      "baxis": {
                        "gridcolor": "white",
                        "linecolor": "white",
                        "ticks": ""
                      },
                      "bgcolor": "#E5ECF6",
                      "caxis": {
                        "gridcolor": "white",
                        "linecolor": "white",
                        "ticks": ""
                      }
                    },
                    "title": {
                      "x": 0.05
                    },
                    "xaxis": {
                      "automargin": true,
                      "gridcolor": "white",
                      "linecolor": "white",
                      "ticks": "",
                      "title": {
                        "standoff": 15
                      },
                      "zerolinecolor": "white",
                      "zerolinewidth": 2
                    },
                    "yaxis": {
                      "automargin": true,
                      "gridcolor": "white",
                      "linecolor": "white",
                      "ticks": "",
                      "title": {
                        "standoff": 15
                      },
                      "zerolinecolor": "white",
                      "zerolinewidth": 2
                    }
                  }
                }
              }
            }
          },
          "metadata": {},
          "output_type": "display_data"
        }
      ],
      "source": [
        "burst = px.sunburst(sunburst, \n",
        "    path=['organization_country', 'organization_city', 'organization_name'],\n",
        "    values='prize'\n",
        ")\n",
        "\n",
        "burst.show()"
      ]
    },
    {
      "cell_type": "code",
      "execution_count": null,
      "metadata": {
        "id": "BJQoljdqGIu3"
      },
      "outputs": [],
      "source": []
    },
    {
      "cell_type": "markdown",
      "metadata": {
        "id": "PW4jvWFWo7Mv"
      },
      "source": [
        "# Patterns in the Laureate Age at the Time of the Award\n",
        "\n",
        "How Old Are the Laureates When the Win the Prize?\n",
        "\n",
        "**Challenge**: Calculate the age of the laureate in the year of the ceremony and add this as a column called `winning_age` to the `df_data` DataFrame. Hint: you can use [this](https://pandas.pydata.org/pandas-docs/stable/reference/api/pandas.Series.dt.html) to help you. \n",
        "\n"
      ]
    },
    {
      "cell_type": "code",
      "execution_count": 101,
      "metadata": {
        "id": "2f4JpfUCGLd2"
      },
      "outputs": [
        {
          "name": "stdout",
          "output_type": "stream",
          "text": [
            "<class 'pandas.core.frame.DataFrame'>\n",
            "RangeIndex: 962 entries, 0 to 961\n",
            "Data columns (total 17 columns):\n",
            " #   Column                 Non-Null Count  Dtype         \n",
            "---  ------                 --------------  -----         \n",
            " 0   year                   962 non-null    int64         \n",
            " 1   category               962 non-null    object        \n",
            " 2   prize                  962 non-null    object        \n",
            " 3   motivation             874 non-null    object        \n",
            " 4   prize_share            962 non-null    object        \n",
            " 5   laureate_type          962 non-null    object        \n",
            " 6   full_name              962 non-null    object        \n",
            " 7   birth_date             934 non-null    datetime64[ns]\n",
            " 8   birth_city             931 non-null    object        \n",
            " 9   birth_country          934 non-null    object        \n",
            " 10  birth_country_current  934 non-null    object        \n",
            " 11  sex                    934 non-null    object        \n",
            " 12  organization_name      707 non-null    object        \n",
            " 13  organization_city      707 non-null    object        \n",
            " 14  organization_country   708 non-null    object        \n",
            " 15  ISO                    934 non-null    object        \n",
            " 16  share_pct              962 non-null    float64       \n",
            "dtypes: datetime64[ns](1), float64(1), int64(1), object(14)\n",
            "memory usage: 127.9+ KB\n"
          ]
        }
      ],
      "source": [
        "df_data.info()"
      ]
    },
    {
      "cell_type": "code",
      "execution_count": 103,
      "metadata": {
        "id": "jHkFqlGnGLnf"
      },
      "outputs": [
        {
          "data": {
            "text/plain": [
              "0     1,852.00\n",
              "1     1,839.00\n",
              "2     1,854.00\n",
              "3     1,822.00\n",
              "4     1,828.00\n",
              "        ...   \n",
              "957   1,949.00\n",
              "958        NaN\n",
              "959   1,965.00\n",
              "960   1,952.00\n",
              "961   1,931.00\n",
              "Name: birth_date, Length: 962, dtype: float64"
            ]
          },
          "execution_count": 103,
          "metadata": {},
          "output_type": "execute_result"
        }
      ],
      "source": [
        "birth_years = df_data.birth_date.dt.year\n",
        "\n",
        "birth_years"
      ]
    },
    {
      "cell_type": "code",
      "execution_count": 105,
      "metadata": {
        "id": "-Ooq0xoPGLV_"
      },
      "outputs": [
        {
          "data": {
            "text/html": [
              "<div>\n",
              "<style scoped>\n",
              "    .dataframe tbody tr th:only-of-type {\n",
              "        vertical-align: middle;\n",
              "    }\n",
              "\n",
              "    .dataframe tbody tr th {\n",
              "        vertical-align: top;\n",
              "    }\n",
              "\n",
              "    .dataframe thead th {\n",
              "        text-align: right;\n",
              "    }\n",
              "</style>\n",
              "<table border=\"1\" class=\"dataframe\">\n",
              "  <thead>\n",
              "    <tr style=\"text-align: right;\">\n",
              "      <th></th>\n",
              "      <th>year</th>\n",
              "      <th>category</th>\n",
              "      <th>prize</th>\n",
              "      <th>motivation</th>\n",
              "      <th>prize_share</th>\n",
              "      <th>laureate_type</th>\n",
              "      <th>full_name</th>\n",
              "      <th>birth_date</th>\n",
              "      <th>birth_city</th>\n",
              "      <th>birth_country</th>\n",
              "      <th>birth_country_current</th>\n",
              "      <th>sex</th>\n",
              "      <th>organization_name</th>\n",
              "      <th>organization_city</th>\n",
              "      <th>organization_country</th>\n",
              "      <th>ISO</th>\n",
              "      <th>share_pct</th>\n",
              "      <th>winning_age</th>\n",
              "    </tr>\n",
              "  </thead>\n",
              "  <tbody>\n",
              "    <tr>\n",
              "      <th>0</th>\n",
              "      <td>1901</td>\n",
              "      <td>Chemistry</td>\n",
              "      <td>The Nobel Prize in Chemistry 1901</td>\n",
              "      <td>\"in recognition of the extraordinary services ...</td>\n",
              "      <td>1/1</td>\n",
              "      <td>Individual</td>\n",
              "      <td>Jacobus Henricus van 't Hoff</td>\n",
              "      <td>1852-08-30</td>\n",
              "      <td>Rotterdam</td>\n",
              "      <td>Netherlands</td>\n",
              "      <td>Netherlands</td>\n",
              "      <td>Male</td>\n",
              "      <td>Berlin University</td>\n",
              "      <td>Berlin</td>\n",
              "      <td>Germany</td>\n",
              "      <td>NLD</td>\n",
              "      <td>1.00</td>\n",
              "      <td>49.00</td>\n",
              "    </tr>\n",
              "    <tr>\n",
              "      <th>1</th>\n",
              "      <td>1901</td>\n",
              "      <td>Literature</td>\n",
              "      <td>The Nobel Prize in Literature 1901</td>\n",
              "      <td>\"in special recognition of his poetic composit...</td>\n",
              "      <td>1/1</td>\n",
              "      <td>Individual</td>\n",
              "      <td>Sully Prudhomme</td>\n",
              "      <td>1839-03-16</td>\n",
              "      <td>Paris</td>\n",
              "      <td>France</td>\n",
              "      <td>France</td>\n",
              "      <td>Male</td>\n",
              "      <td>NaN</td>\n",
              "      <td>NaN</td>\n",
              "      <td>NaN</td>\n",
              "      <td>FRA</td>\n",
              "      <td>1.00</td>\n",
              "      <td>62.00</td>\n",
              "    </tr>\n",
              "    <tr>\n",
              "      <th>2</th>\n",
              "      <td>1901</td>\n",
              "      <td>Medicine</td>\n",
              "      <td>The Nobel Prize in Physiology or Medicine 1901</td>\n",
              "      <td>\"for his work on serum therapy, especially its...</td>\n",
              "      <td>1/1</td>\n",
              "      <td>Individual</td>\n",
              "      <td>Emil Adolf von Behring</td>\n",
              "      <td>1854-03-15</td>\n",
              "      <td>Hansdorf (Lawice)</td>\n",
              "      <td>Prussia (Poland)</td>\n",
              "      <td>Poland</td>\n",
              "      <td>Male</td>\n",
              "      <td>Marburg University</td>\n",
              "      <td>Marburg</td>\n",
              "      <td>Germany</td>\n",
              "      <td>POL</td>\n",
              "      <td>1.00</td>\n",
              "      <td>47.00</td>\n",
              "    </tr>\n",
              "    <tr>\n",
              "      <th>3</th>\n",
              "      <td>1901</td>\n",
              "      <td>Peace</td>\n",
              "      <td>The Nobel Peace Prize 1901</td>\n",
              "      <td>NaN</td>\n",
              "      <td>1/2</td>\n",
              "      <td>Individual</td>\n",
              "      <td>Frédéric Passy</td>\n",
              "      <td>1822-05-20</td>\n",
              "      <td>Paris</td>\n",
              "      <td>France</td>\n",
              "      <td>France</td>\n",
              "      <td>Male</td>\n",
              "      <td>NaN</td>\n",
              "      <td>NaN</td>\n",
              "      <td>NaN</td>\n",
              "      <td>FRA</td>\n",
              "      <td>0.50</td>\n",
              "      <td>79.00</td>\n",
              "    </tr>\n",
              "    <tr>\n",
              "      <th>4</th>\n",
              "      <td>1901</td>\n",
              "      <td>Peace</td>\n",
              "      <td>The Nobel Peace Prize 1901</td>\n",
              "      <td>NaN</td>\n",
              "      <td>1/2</td>\n",
              "      <td>Individual</td>\n",
              "      <td>Jean Henry Dunant</td>\n",
              "      <td>1828-05-08</td>\n",
              "      <td>Geneva</td>\n",
              "      <td>Switzerland</td>\n",
              "      <td>Switzerland</td>\n",
              "      <td>Male</td>\n",
              "      <td>NaN</td>\n",
              "      <td>NaN</td>\n",
              "      <td>NaN</td>\n",
              "      <td>CHE</td>\n",
              "      <td>0.50</td>\n",
              "      <td>73.00</td>\n",
              "    </tr>\n",
              "  </tbody>\n",
              "</table>\n",
              "</div>"
            ],
            "text/plain": [
              "   year    category                                           prize  \\\n",
              "0  1901   Chemistry               The Nobel Prize in Chemistry 1901   \n",
              "1  1901  Literature              The Nobel Prize in Literature 1901   \n",
              "2  1901    Medicine  The Nobel Prize in Physiology or Medicine 1901   \n",
              "3  1901       Peace                      The Nobel Peace Prize 1901   \n",
              "4  1901       Peace                      The Nobel Peace Prize 1901   \n",
              "\n",
              "                                          motivation prize_share  \\\n",
              "0  \"in recognition of the extraordinary services ...         1/1   \n",
              "1  \"in special recognition of his poetic composit...         1/1   \n",
              "2  \"for his work on serum therapy, especially its...         1/1   \n",
              "3                                                NaN         1/2   \n",
              "4                                                NaN         1/2   \n",
              "\n",
              "  laureate_type                     full_name birth_date         birth_city  \\\n",
              "0    Individual  Jacobus Henricus van 't Hoff 1852-08-30          Rotterdam   \n",
              "1    Individual               Sully Prudhomme 1839-03-16              Paris   \n",
              "2    Individual        Emil Adolf von Behring 1854-03-15  Hansdorf (Lawice)   \n",
              "3    Individual                Frédéric Passy 1822-05-20              Paris   \n",
              "4    Individual             Jean Henry Dunant 1828-05-08             Geneva   \n",
              "\n",
              "      birth_country birth_country_current   sex   organization_name  \\\n",
              "0       Netherlands           Netherlands  Male   Berlin University   \n",
              "1            France                France  Male                 NaN   \n",
              "2  Prussia (Poland)                Poland  Male  Marburg University   \n",
              "3            France                France  Male                 NaN   \n",
              "4       Switzerland           Switzerland  Male                 NaN   \n",
              "\n",
              "  organization_city organization_country  ISO  share_pct  winning_age  \n",
              "0            Berlin              Germany  NLD       1.00        49.00  \n",
              "1               NaN                  NaN  FRA       1.00        62.00  \n",
              "2           Marburg              Germany  POL       1.00        47.00  \n",
              "3               NaN                  NaN  FRA       0.50        79.00  \n",
              "4               NaN                  NaN  CHE       0.50        73.00  "
            ]
          },
          "execution_count": 105,
          "metadata": {},
          "output_type": "execute_result"
        }
      ],
      "source": [
        "df_data['winning_age'] = df_data.year - birth_years\n",
        "\n",
        "df_data.head(5)"
      ]
    },
    {
      "cell_type": "markdown",
      "metadata": {
        "dc": {
          "key": "66"
        },
        "id": "09344hnCo7My",
        "run_control": {
          "frozen": true
        },
        "tags": [
          "context"
        ]
      },
      "source": [
        "### Who were the oldest and youngest winners?\n",
        "\n",
        "**Challenge**: \n",
        "* What are the names of the youngest and oldest Nobel laureate? \n",
        "* What did they win the prize for?\n",
        "* What is the average age of a winner?\n",
        "* 75% of laureates are younger than what age when they receive the prize?\n",
        "* Use Seaborn to [create histogram](https://seaborn.pydata.org/generated/seaborn.histplot.html) to visualise the distribution of laureate age at the time of winning. Experiment with the number of `bins` to see how the visualisation changes."
      ]
    },
    {
      "cell_type": "code",
      "execution_count": null,
      "metadata": {
        "id": "IzGfeUyNGNcR"
      },
      "outputs": [],
      "source": []
    },
    {
      "cell_type": "code",
      "execution_count": null,
      "metadata": {
        "id": "inN6ggCUGNUy"
      },
      "outputs": [],
      "source": []
    },
    {
      "cell_type": "markdown",
      "metadata": {
        "id": "UQxMUPddo6fo"
      },
      "source": [
        "### Descriptive Statistics for the Laureate Age at Time of Award\n",
        "\n",
        "* Calculate the descriptive statistics for the age at the time of the award. \n",
        "* Then visualise the distribution in the form of a histogram using [Seaborn's .histplot() function](https://seaborn.pydata.org/generated/seaborn.histplot.html).\n",
        "* Experiment with the `bin` size. Try 10, 20, 30, and 50.  "
      ]
    },
    {
      "cell_type": "code",
      "execution_count": null,
      "metadata": {
        "id": "6vlp5S0WGO98"
      },
      "outputs": [],
      "source": []
    },
    {
      "cell_type": "code",
      "execution_count": null,
      "metadata": {
        "id": "P6cAIrB5GO24"
      },
      "outputs": [],
      "source": []
    },
    {
      "cell_type": "markdown",
      "metadata": {
        "id": "gljdi8sxpkg7"
      },
      "source": [
        "### Age at Time of Award throughout History\n",
        "\n",
        "Are Nobel laureates being nominated later in life than before? Have the ages of laureates at the time of the award increased or decreased over time?\n",
        "\n",
        "**Challenge**\n",
        "\n",
        "* Use Seaborn to [create a .regplot](https://seaborn.pydata.org/generated/seaborn.regplot.html?highlight=regplot#seaborn.regplot) with a trendline.\n",
        "* Set the `lowess` parameter to `True` to show a moving average of the linear fit.\n",
        "* According to the best fit line, how old were Nobel laureates in the years 1900-1940 when they were awarded the prize?\n",
        "* According to the best fit line, what age would it predict for a Nobel laureate in 2020?\n"
      ]
    },
    {
      "cell_type": "code",
      "execution_count": null,
      "metadata": {
        "id": "AjUdtyB9GQ9w"
      },
      "outputs": [],
      "source": []
    },
    {
      "cell_type": "code",
      "execution_count": null,
      "metadata": {
        "id": "B_NsO6aaGQzu"
      },
      "outputs": [],
      "source": []
    },
    {
      "cell_type": "markdown",
      "metadata": {
        "dc": {
          "key": "59"
        },
        "id": "CPFMftF9o7M5",
        "run_control": {
          "frozen": true
        },
        "tags": [
          "context"
        ]
      },
      "source": [
        "### Winning Age Across the Nobel Prize Categories\n",
        "\n",
        "How does the age of laureates vary by category? \n",
        "\n",
        "* Use Seaborn's [`.boxplot()`](https://seaborn.pydata.org/generated/seaborn.boxplot.html?highlight=boxplot#seaborn.boxplot) to show how the mean, quartiles, max, and minimum values vary across categories. Which category has the longest \"whiskers\"? \n",
        "* In which prize category are the average winners the oldest?\n",
        "* In which prize category are the average winners the youngest?"
      ]
    },
    {
      "cell_type": "code",
      "execution_count": null,
      "metadata": {
        "id": "mbpG0Kj5GSxg"
      },
      "outputs": [],
      "source": []
    },
    {
      "cell_type": "code",
      "execution_count": null,
      "metadata": {
        "id": "WiGT3CmuGSqp"
      },
      "outputs": [],
      "source": []
    },
    {
      "cell_type": "markdown",
      "metadata": {
        "id": "M9qE0P4-8i5L"
      },
      "source": [
        "**Challenge**\n",
        "* Now use Seaborn's [`.lmplot()`](https://seaborn.pydata.org/generated/seaborn.lmplot.html?highlight=lmplot#seaborn.lmplot) and the `row` parameter to create 6 separate charts for each prize category. Again set `lowess` to `True`.\n",
        "* What are the winning age trends in each category? \n",
        "* Which category has the age trending up and which category has the age trending down? \n",
        "* Is this `.lmplot()` telling a different story from the `.boxplot()`?\n",
        "* Create another chart with Seaborn. This time use `.lmplot()` to put all 6 categories on the same chart using the `hue` parameter. \n"
      ]
    },
    {
      "cell_type": "code",
      "execution_count": null,
      "metadata": {
        "id": "HcdLGWC7GUb7"
      },
      "outputs": [],
      "source": []
    },
    {
      "cell_type": "code",
      "execution_count": null,
      "metadata": {
        "id": "8HwP_swVGUiq"
      },
      "outputs": [],
      "source": []
    },
    {
      "cell_type": "code",
      "execution_count": null,
      "metadata": {
        "id": "Ml9w1jFjGUTi"
      },
      "outputs": [],
      "source": []
    },
    {
      "cell_type": "code",
      "execution_count": null,
      "metadata": {
        "id": "PJD0-Opko7M_"
      },
      "outputs": [],
      "source": []
    },
    {
      "cell_type": "code",
      "execution_count": null,
      "metadata": {
        "id": "9F9f_2HZo7NA"
      },
      "outputs": [],
      "source": []
    }
  ],
  "metadata": {
    "colab": {
      "name": "Nobel Prize Analysis (start).ipynb",
      "provenance": []
    },
    "kernelspec": {
      "display_name": "Python 3",
      "language": "python",
      "name": "python3"
    },
    "language_info": {
      "codemirror_mode": {
        "name": "ipython",
        "version": 3
      },
      "file_extension": ".py",
      "mimetype": "text/x-python",
      "name": "python",
      "nbconvert_exporter": "python",
      "pygments_lexer": "ipython3",
      "version": "3.10.0"
    }
  },
  "nbformat": 4,
  "nbformat_minor": 0
}
